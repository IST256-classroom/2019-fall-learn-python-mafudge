{
 "cells": [
  {
   "cell_type": "markdown",
   "metadata": {},
   "source": [
    "\n",
    "a.\tWrite a program to input a list of numbers separated by a space and only print the numbers larger than 10.\n",
    "\tExample Input: 5 11 10 20\n",
    "\tExample Output: 11 20\n"
   ]
  },
  {
   "cell_type": "code",
   "execution_count": 1,
   "metadata": {},
   "outputs": [
    {
     "name": "stdout",
     "output_type": "stream",
     "text": [
      "11\n",
      "20\n"
     ]
    }
   ],
   "source": [
    "numbers = \"5 11 10 20\"\n",
    "for number in numbers.split():\n",
    "    if int(number) > 10:\n",
    "        print(number)"
   ]
  },
  {
   "cell_type": "markdown",
   "metadata": {},
   "source": [
    "b.\tWrite a program to input a list of words separated by a space and only print the words beginnging with the letter \"s\".\n",
    "\tExample Input: sam sips on the soup\n",
    "\tExample Output: sam sips soup\n"
   ]
  },
  {
   "cell_type": "code",
   "execution_count": 2,
   "metadata": {},
   "outputs": [
    {
     "name": "stdout",
     "output_type": "stream",
     "text": [
      "sam\n",
      "sips\n",
      "soup\n"
     ]
    }
   ],
   "source": [
    "words = \"sam sips on the soup\"\n",
    "for word in words.split():\n",
    "    if word[0]=='s': # or word.startswith('s')\n",
    "        print(word)"
   ]
  },
  {
   "cell_type": "markdown",
   "metadata": {},
   "source": [
    "c. \tWrite a program to input a list of words separated by a space and only print the words ending with \"ing\".\n",
    "\tExample Input: I am running for president\n",
    "\tExample Output: running"
   ]
  },
  {
   "cell_type": "code",
   "execution_count": 4,
   "metadata": {},
   "outputs": [
    {
     "name": "stdout",
     "output_type": "stream",
     "text": [
      "running\n"
     ]
    }
   ],
   "source": [
    "words = \"I am running for president\"\n",
    "for word in words.split():\n",
    "    if word[-3:] =='ing': # or word.endswith('ing')\n",
    "        print(word)"
   ]
  },
  {
   "cell_type": "markdown",
   "metadata": {},
   "source": [
    "\n",
    "d.\tWrite a program to input a list of words separated by a space and only print the words longer than 5 letters\n",
    "\tExample Input: I am running for president\n",
    "\tExample Output: running president\n"
   ]
  },
  {
   "cell_type": "code",
   "execution_count": null,
   "metadata": {},
   "outputs": [],
   "source": [
    "words = \"I am running for president\"\n",
    "for word in words.split():\n",
    "    if len(word) > 5:\n",
    "        print(word)"
   ]
  },
  {
   "cell_type": "markdown",
   "metadata": {},
   "source": [
    "e.\tWrite a program to input a list of numbers separated by a space and only print the negative numbers.\n",
    "\tExample Input: 15 -11 -10 0 20\n",
    "\tExample Output: -11 -10"
   ]
  },
  {
   "cell_type": "code",
   "execution_count": 6,
   "metadata": {},
   "outputs": [
    {
     "name": "stdout",
     "output_type": "stream",
     "text": [
      "-11\n",
      "-10\n"
     ]
    }
   ],
   "source": [
    "numbers = \"15 -11 -10 0 20\"\n",
    "for number in numbers.split():\n",
    "    if int(number)<0:\n",
    "        print(number)"
   ]
  },
  {
   "cell_type": "code",
   "execution_count": null,
   "metadata": {},
   "outputs": [],
   "source": []
  }
 ],
 "metadata": {
  "kernelspec": {
   "display_name": "Python 3",
   "language": "python",
   "name": "python3"
  },
  "language_info": {
   "codemirror_mode": {
    "name": "ipython",
    "version": 3
   },
   "file_extension": ".py",
   "mimetype": "text/x-python",
   "name": "python",
   "nbconvert_exporter": "python",
   "pygments_lexer": "ipython3",
   "version": "3.7.3"
  }
 },
 "nbformat": 4,
 "nbformat_minor": 2
}
