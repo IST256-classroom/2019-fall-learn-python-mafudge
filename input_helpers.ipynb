{
 "cells": [
  {
   "cell_type": "code",
   "execution_count": 15,
   "metadata": {},
   "outputs": [],
   "source": [
    "def percentage(text):\n",
    "    '''\n",
    "    Function: percentage - parses text string into a float as a percentage without the %\n",
    "    Examples: percentage('15') => 0.15, percentage('15%') => 0.15, percentage(0.15) => 0.15\n",
    "    '''    \n",
    "    number = float(text.replace('%',''))\n",
    "    if number >1:\n",
    "        number = number /100\n",
    "    return number\n",
    "\n",
    "def currency(text):\n",
    "    '''\n",
    "    Function: currency - parses text string into a float as currency, removing the \"$\" if exists.\n",
    "    Examples currency('$45') => 45.0, currency('45') => 45.0\n",
    "    '''\n",
    "    number = float(text.replace('$',''))\n",
    "    return number"
   ]
  },
  {
   "cell_type": "code",
   "execution_count": 18,
   "metadata": {},
   "outputs": [
    {
     "name": "stdout",
     "output_type": "stream",
     "text": [
      "When text='$45' expect currency(text) => 45.0 ACUTAL:  45.0\n",
      "When text='45' expect currency(text) => 45.0 ACUTAL:  45.0\n"
     ]
    }
   ],
   "source": [
    "if __name__=='__main__':\n",
    "    text = '$45'\n",
    "    print(\"When text='$45' expect currency(text) => 45.0 ACUTAL:\", currency(text))\n",
    "    text = '45'\n",
    "    print(\"When text='45' expect currency(text) => 45.0 ACUTAL:\", currency(text))\n",
    "    "
   ]
  },
  {
   "cell_type": "code",
   "execution_count": null,
   "metadata": {},
   "outputs": [],
   "source": []
  },
  {
   "cell_type": "code",
   "execution_count": null,
   "metadata": {},
   "outputs": [],
   "source": []
  }
 ],
 "metadata": {
  "kernelspec": {
   "display_name": "Python 3",
   "language": "python",
   "name": "python3"
  },
  "language_info": {
   "codemirror_mode": {
    "name": "ipython",
    "version": 3
   },
   "file_extension": ".py",
   "mimetype": "text/x-python",
   "name": "python",
   "nbconvert_exporter": "python",
   "pygments_lexer": "ipython3",
   "version": "3.7.3"
  }
 },
 "nbformat": 4,
 "nbformat_minor": 2
}
