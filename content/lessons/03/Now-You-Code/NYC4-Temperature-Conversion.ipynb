{
 "cells": [
  {
   "cell_type": "markdown",
   "metadata": {},
   "source": [
    "# Now You Code 4: Temperature Conversion\n",
    "\n",
    "Write a python program which will convert temperatures from Celcius to Fahrenheit.\n",
    "The program should take a temperature in degrees Celcius as input and output a temperature in degrees Fahrenheit.\n",
    "\n",
    "Example:\n",
    "\n",
    "```\n",
    "Enter the temperature in Celcius: 100\n",
    "100 Celcius is 212 Fahrenheit\n",
    "```\n",
    "\n",
    "HINT: Search the web to find the formula to convert from Celcius to Fahrenheit.\n"
   ]
  },
  {
   "cell_type": "markdown",
   "metadata": {},
   "source": [
    "## Step 1: Problem Analysis\n",
    "\n",
    "Inputs:\n",
    "\n",
    "Outputs:\n",
    "\n",
    "Algorithm (Steps in Program):\n",
    "\n",
    "\n"
   ]
  },
  {
   "cell_type": "code",
   "execution_count": 1,
   "metadata": {},
   "outputs": [],
   "source": [
    "# Step 2: write code here\n",
    "\n"
   ]
  },
  {
   "cell_type": "markdown",
   "metadata": {},
   "source": [
    "## Step 3: Questions\n",
    "\n",
    "1. Why does the program still run when you enter a negative number for temperature? Is this an error?\n",
    "2. Would it be difficult to write a program which did the opposite (conversion F to C)? Explain.\n",
    "3. Did you store the conversion in a variable before printing it on the last line? I argue this makes your program easier to understand. Why?\n"
   ]
  },
  {
   "cell_type": "markdown",
   "metadata": {},
   "source": [
    "## Reminder of Evaluation Criteria\n",
    "\n",
    "1. Was the problem attempted (analysis, code, and answered questions) ?\n",
    "2. Was the problem analysis thought out? (does the program match the plan?)\n",
    "3. Does the code execute without syntax error?\n",
    "4. Does the code solve the intended problem?\n",
    "5. Is the code well written? (easy to understand, modular, and self-documenting, handles errors)\n"
   ]
  },
  {
   "cell_type": "code",
   "execution_count": null,
   "metadata": {
    "collapsed": true
   },
   "outputs": [],
   "source": []
  }
 ],
 "metadata": {
  "anaconda-cloud": {},
  "kernelspec": {
   "display_name": "Python 3",
   "language": "python",
   "name": "python3"
  },
  "language_info": {
   "codemirror_mode": {
    "name": "ipython",
    "version": 3
   },
   "file_extension": ".py",
   "mimetype": "text/x-python",
   "name": "python",
   "nbconvert_exporter": "python",
   "pygments_lexer": "ipython3",
   "version": "3.6.6"
  }
 },
 "nbformat": 4,
 "nbformat_minor": 1
}
