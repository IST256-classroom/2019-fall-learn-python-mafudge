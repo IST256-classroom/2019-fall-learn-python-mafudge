{
 "cells": [
  {
   "cell_type": "markdown",
   "metadata": {},
   "source": [
    "# Now You Code 3: Sentiment v2.0\n",
    "\n",
    "Let's write a better version of the basic sentiment analyzer in Python. Instead of using a string of words, this example will read a list of words positive and negative words from a file.\n",
    "\n",
    "In fact, we've included two files for you so you don't have to come up with the positive and negative words! Just load the files and go! Of course if you want more positive and negative words you can always edit the files.\n",
    "\n",
    "- Positive words are in `NYC3-pos.txt`\n",
    "- Negative words are in `NYC3-neg.txt`\n",
    "\n",
    "You will have to write a function called `LoadWords(filename)` to read the words from the file and load them into a string.\n",
    "\n",
    "## Step 1: Problem Analysis for function\n",
    "\n",
    "Input (function arguments): `filename` to read.\n",
    "Output (function returns): a `text` string of words as loaded from the file.\n",
    "\n",
    "Algorithm:\n",
    "\n",
    "```\n",
    "open the filename for reading\n",
    "    read the entire file all at once, into text\n",
    "    return the text\n",
    "```\n"
   ]
  },
  {
   "cell_type": "code",
   "execution_count": null,
   "metadata": {},
   "outputs": [],
   "source": [
    "## Step 2: Write the LoadWords(filename) function\n",
    "\n",
    "    "
   ]
  },
  {
   "cell_type": "code",
   "execution_count": null,
   "metadata": {},
   "outputs": [],
   "source": [
    "## Quick test of your LoadWords() function\n",
    "pos = LoadWords(\"NYC3-pos.txt\")\n",
    "neg = LoadWords(\"NYC3-neg.txt\")\n",
    "print(\"POSITIVE WORD LIST:\",pos)\n",
    "print(\"NEGATIVE WORD LIST\", neg)"
   ]
  },
  {
   "cell_type": "markdown",
   "metadata": {},
   "source": [
    "## Step 3: The Final Program\n",
    "  \n",
    "Now write a program which allows you to enter text and then analyzes the sentiment of the text by printing a score. The program should keep analyzing text input until you enter \"quit\".\n",
    "\n",
    "Sample Run\n",
    "\n",
    "```\n",
    "Sentiment Analyzer 1.0\n",
    "Type 'quit' to exit.\n",
    "Enter Text: i love a good book from amazon\n",
    "2 positive.\n",
    "Enter Text: i hate amazon their service makes me angry\n",
    "-2 negative.\n",
    "Enter Text: i love to hate amazon\n",
    "0 neutral.\n",
    "Enter Text: quit\n",
    "```\n",
    "\n",
    "### 3.a Problem Analysis\n",
    "\n",
    "Input:\n",
    "\n",
    "Output:\n",
    "\n",
    "Algorithm:\n",
    "\n",
    "\n",
    "\n"
   ]
  },
  {
   "cell_type": "code",
   "execution_count": null,
   "metadata": {},
   "outputs": [],
   "source": [
    "## 3.b Write solution here, use Load Words to help you read in the pos and neg words.\n",
    "\n"
   ]
  },
  {
   "cell_type": "markdown",
   "metadata": {},
   "source": [
    "## Step 4: Questions\n",
    "\n",
    "1. This is a better solution than sentiment 1.0. Why?\n",
    "2. Execute the program and enter the following input: `i love! a GOOD book` What is the score and why? how can this issue be fixed?\n",
    "3. Re-write your final solution to address the issues discovered in step 2."
   ]
  },
  {
   "cell_type": "markdown",
   "metadata": {},
   "source": [
    "## Reminder of Evaluation Criteria\n",
    "\n",
    "1. Was the problem attempted (analysis, code, and answered questions) ?\n",
    "2. Was the problem analysis thought out? (does the program match the plan?)\n",
    "3. Does the code execute without syntax error?\n",
    "4. Does the code solve the intended problem?\n",
    "5. Is the code well written? (easy to understand, modular, and self-documenting, handles errors)\n"
   ]
  },
  {
   "cell_type": "code",
   "execution_count": null,
   "metadata": {},
   "outputs": [],
   "source": []
  }
 ],
 "metadata": {
  "anaconda-cloud": {},
  "kernelspec": {
   "display_name": "Python 3",
   "language": "python",
   "name": "python3"
  },
  "language_info": {
   "codemirror_mode": {
    "name": "ipython",
    "version": 3
   },
   "file_extension": ".py",
   "mimetype": "text/x-python",
   "name": "python",
   "nbconvert_exporter": "python",
   "pygments_lexer": "ipython3",
   "version": "3.6.6"
  }
 },
 "nbformat": 4,
 "nbformat_minor": 1
}
