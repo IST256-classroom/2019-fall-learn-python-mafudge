{
 "cells": [
  {
   "cell_type": "markdown",
   "metadata": {},
   "source": [
    "# End-To-End Example: Get Calories For Popular Beers\n",
    "\n",
    "This example uses a data file `\"ETEE-beer-calories.txt\"` which contains calorie information for 254 popular beers. The calories are per 12 fluid ounces.\n",
    "\n",
    "The data file looks like this:\n",
    "```\n",
    "...\n",
    "Abita Purple Haze,128\n",
    "Abita Restoration,167\n",
    "Abita Turbodog,168\n",
    "Amstel Light,99\n",
    "Anchor Porter,209\n",
    "...\n",
    "```\n",
    "\n",
    "Let's write a program to search for a beer by name and retrieve the number of calories in 12 ounces.\n",
    "\n",
    "Example Run:\n",
    "\n",
    "```\n",
    "Enter a beer name: Stella\n",
    "Searching for Stella...\n",
    "Stella Artois has 154 calories per 12oz.\n",
    "```"
   ]
  },
  {
   "cell_type": "code",
   "execution_count": 2,
   "metadata": {
    "collapsed": false
   },
   "outputs": [
    {
     "name": "stdout",
     "output_type": "stream",
     "text": [
      "Could not find data file 'ETEE-beer-calories2.txt'\n"
     ]
    }
   ],
   "source": [
    "filename = \"ETEE-beer-calories.txt\"\n",
    "try:\n",
    "    with open (filename,\"r\") as f:\n",
    "        beer = input(\"Enter a beer name: \").title()\n",
    "        print(\"Searching for %s...\" % (beer))\n",
    "        for line in f.readlines():\n",
    "            if beer in line:\n",
    "                beer_name = line.split(',')[0]\n",
    "                calories = int(line.split(',')[1])\n",
    "                print(\"%s has %d calories per 12oz.\" % (beer_name, calories))\n",
    "                break\n",
    "        else:\n",
    "            print(\"I could not find %s\" % (beer))\n",
    "except FileNotFoundError:\n",
    "    print(\"Could not find data file '%s'\" % (filename))"
   ]
  },
  {
   "cell_type": "code",
   "execution_count": null,
   "metadata": {
    "collapsed": true
   },
   "outputs": [],
   "source": [
    "\n",
    "\n",
    "\n",
    "\n"
   ]
  }
 ],
 "metadata": {
  "anaconda-cloud": {},
  "kernelspec": {
   "display_name": "Python 3",
   "language": "python",
   "name": "python3"
  },
  "language_info": {
   "codemirror_mode": {
    "name": "ipython",
    "version": 3
   },
   "file_extension": ".py",
   "mimetype": "text/x-python",
   "name": "python",
   "nbconvert_exporter": "python",
   "pygments_lexer": "ipython3",
   "version": "3.5.2"
  }
 },
 "nbformat": 4,
 "nbformat_minor": 0
}
