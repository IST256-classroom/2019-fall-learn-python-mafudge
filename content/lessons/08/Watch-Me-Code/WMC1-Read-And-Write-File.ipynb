{
 "cells": [
  {
   "cell_type": "markdown",
   "metadata": {
    "collapsed": false
   },
   "source": [
    "# Watch Me Code 1: Read and Write Message\n",
    "\n",
    "A simple example of reading and writing to a file.\n"
   ]
  },
  {
   "cell_type": "code",
   "execution_count": 4,
   "metadata": {
    "collapsed": true
   },
   "outputs": [],
   "source": [
    "filename = \"WMC1-Message.txt\""
   ]
  },
  {
   "cell_type": "code",
   "execution_count": 5,
   "metadata": {
    "collapsed": false
   },
   "outputs": [
    {
     "name": "stdout",
     "output_type": "stream",
     "text": [
      "Type a message and I'll write it to WMC1-Message.txt:demo\n",
      "Done!\n"
     ]
    }
   ],
   "source": [
    "# Let's write to the file!\n",
    "message = input(\"Type a message and I'll write it to %s:\" % filename)\n",
    "with open (filename,'w') as file_out:\n",
    "    file_out.write(message)\n",
    "    \n",
    "print(\"Done!\")"
   ]
  },
  {
   "cell_type": "code",
   "execution_count": 6,
   "metadata": {
    "collapsed": false
   },
   "outputs": [
    {
     "name": "stdout",
     "output_type": "stream",
     "text": [
      "Here's the message in WMC1-Message.txt:  demo\n"
     ]
    }
   ],
   "source": [
    "with open(filename, 'r') as file_in:\n",
    "    message = file_in.read()\n",
    "    \n",
    "print(\"Here's the message in %s:  %s\" % (filename, message))"
   ]
  },
  {
   "cell_type": "markdown",
   "metadata": {},
   "source": [
    "NOTE: Show this is really persistent. \n",
    "\n",
    "- open wmc1.txt from outside Jupyter.\n",
    "- edit the message. Re-run the 2nd example. "
   ]
  },
  {
   "cell_type": "code",
   "execution_count": 8,
   "metadata": {
    "collapsed": false
   },
   "outputs": [
    {
     "name": "stdout",
     "output_type": "stream",
     "text": [
      "Please enter a message (Enter to view all messages)hello\n",
      "Please enter a message (Enter to view all messages)your are cool\n",
      "Please enter a message (Enter to view all messages)this is a great program!!\n",
      "Please enter a message (Enter to view all messages)\n",
      "This is a messageThis is a messageThis is a message, This is a message, , This is a message, hello, your are cool, this is a great program!!\n"
     ]
    }
   ],
   "source": [
    "\n",
    "def put_text_in_file(text):\n",
    "    with open(\"test-messages.txt\", 'a', encoding='utf-8') as dog:\n",
    "        dog.write(text + \"\\n\")\n",
    "    \n",
    "def get_text_out_file():\n",
    "    with open(\"test-messages.txt\", 'r') as file:\n",
    "        contents = []\n",
    "        for line in file:\n",
    "            contents.append(line.strip())\n",
    "    return contents\n",
    "\n",
    "while True:\n",
    "    user_input = input(\"Please enter a message (Enter to view all messages)\")\n",
    "    if user_input == '':\n",
    "        break\n",
    "    put_text_in_file(user_input)\n",
    "\n",
    "messages = get_text_out_file()\n",
    "print(\", \".join(messages))\n",
    "\n",
    "    \n",
    "    \n"
   ]
  },
  {
   "cell_type": "code",
   "execution_count": null,
   "metadata": {
    "collapsed": true
   },
   "outputs": [],
   "source": []
  }
 ],
 "metadata": {
  "anaconda-cloud": {},
  "kernelspec": {
   "display_name": "Python 3",
   "language": "python",
   "name": "python3"
  },
  "language_info": {
   "codemirror_mode": {
    "name": "ipython",
    "version": 3
   },
   "file_extension": ".py",
   "mimetype": "text/x-python",
   "name": "python",
   "nbconvert_exporter": "python",
   "pygments_lexer": "ipython3",
   "version": "3.5.2"
  }
 },
 "nbformat": 4,
 "nbformat_minor": 0
}
