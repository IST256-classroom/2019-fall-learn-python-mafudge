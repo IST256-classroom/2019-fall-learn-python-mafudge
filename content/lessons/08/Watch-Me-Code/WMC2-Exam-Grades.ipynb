{
 "cells": [
  {
   "cell_type": "markdown",
   "metadata": {
    "collapsed": false
   },
   "source": [
    "# Watch Me Code 2: Exam Grades\n",
    "\n",
    "A simple example of reading and writing multiple lines of data to a file.\n"
   ]
  },
  {
   "cell_type": "code",
   "execution_count": null,
   "metadata": {
    "collapsed": false
   },
   "outputs": [
    {
     "name": "stdout",
     "output_type": "stream",
     "text": [
      "relativefolder\\WMC2-Grades.txt\n"
     ]
    }
   ],
   "source": [
    "from os import path\n",
    "\n",
    "filename = path.join(\"relativefolder\", \"WMC2-Grades.txt\")\n",
    "print(filename)\n",
    "# Let's input a bunch of grades and write them to a file:\n",
    "count = 0\n",
    "\n",
    "with open(filename, 'w', encoding=\"utf-8\") as in_file:\n",
    "    while True:\n",
    "        grade = input(\"Please enter a grade or type 'q' to quit: \")\n",
    "        if grade == 'q':\n",
    "            break\n",
    "        in_file.write(grade + \"\\n\")\n",
    "        count = count + 1\n",
    "    \n",
    "print(\"%d grades entered\" % count)\n",
    "\n",
    "with open(filename, 'r', encoding=\"utf-8\") as out_file:\n",
    "    grades = []\n",
    "    for line in out_file:\n",
    "        grades.append(int(line))\n",
    "    average = sum(grades)/len(grades)\n",
    "    print(\"Average is %d\" % average)\n",
    "    \n",
    "\n",
    "        \n",
    "\n",
    "    \n"
   ]
  },
  {
   "cell_type": "code",
   "execution_count": 16,
   "metadata": {
    "collapsed": false
   },
   "outputs": [
    {
     "name": "stdout",
     "output_type": "stream",
     "text": [
      "Read in 5 grades. Average is 84.00\n"
     ]
    }
   ],
   "source": [
    "# read them in\n",
    "count = 0\n",
    "total = 0\n",
    "with open(filename,'r') as inf:\n",
    "    for line in inf.readlines():\n",
    "        grade = float(line)\n",
    "        total = total + grade\n",
    "        count = count + 1\n",
    "print(\"Read in %s grades. Average is %.2f\" % (count, total/count))"
   ]
  },
  {
   "cell_type": "markdown",
   "metadata": {},
   "source": [
    "NOTE: Show this is really persistent. \n",
    "\n",
    "- open wmc1.txt from outside Jupyter.\n",
    "- edit the message. Re-run the 2nd example. "
   ]
  },
  {
   "cell_type": "code",
   "execution_count": null,
   "metadata": {
    "collapsed": true
   },
   "outputs": [],
   "source": []
  }
 ],
 "metadata": {
  "anaconda-cloud": {},
  "kernelspec": {
   "display_name": "Python 3",
   "language": "python",
   "name": "python3"
  },
  "language_info": {
   "codemirror_mode": {
    "name": "ipython",
    "version": 3
   },
   "file_extension": ".py",
   "mimetype": "text/x-python",
   "name": "python",
   "nbconvert_exporter": "python",
   "pygments_lexer": "ipython3",
   "version": "3.5.2"
  }
 },
 "nbformat": 4,
 "nbformat_minor": 0
}
