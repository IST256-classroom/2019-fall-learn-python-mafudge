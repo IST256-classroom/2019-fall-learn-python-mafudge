{
 "cells": [
  {
   "cell_type": "markdown",
   "metadata": {},
   "source": [
    "# Now You Code 3: Limerick Generator\n",
    "\n",
    "We will write code in this example to create the first two lines of a [Limerick](https://en.wikipedia.org/wiki/Limerick_(poetry). We're going to keep it really simple, and ask for 4 inputs:\n",
    "- a woman's name  \n",
    "- a place\n",
    "- an item\n",
    "- a material \n",
    "\n",
    "The place and material must rhyme. The Python program will then output the first two lines of the limerick, substituting the values you've entered. \n",
    "\n",
    "**Example 1:**\n",
    "\n",
    "INPUT:\n",
    "\n",
    "- Enter a woman's name: Jane\n",
    "- Enter a place: New York\n",
    "- Enter an item: hat\n",
    "- Enter a material, which rhymes with 'New York': cork.\n",
    "\n",
    "OUTPUT:\n",
    "I once knew Jane from New York. Her hat was constructed of cork.\n",
    "\n",
    "**Example 2:**\n",
    "\n",
    "INPUT:\n",
    "\n",
    "- Enter a woman's name: Agatha\n",
    "- Enter a place: my car\n",
    "- Enter an item: bike\n",
    "- Enter a material, which rhymes with 'my car': tar\n",
    "\n",
    "OUTPUT: \n",
    "I once knew Agatha from my car. Her bike was constructed of tar.\n"
   ]
  },
  {
   "cell_type": "markdown",
   "metadata": {
    "collapsed": true
   },
   "source": [
    "## Step 1: Problem Analysis\n",
    "\n",
    "Inputs:\n",
    "\n",
    "Outputs:\n",
    "\n",
    "Algorithm (Steps in Program):"
   ]
  },
  {
   "cell_type": "code",
   "execution_count": 4,
   "metadata": {},
   "outputs": [],
   "source": [
    "# Step 2: Write code here\n"
   ]
  },
  {
   "cell_type": "markdown",
   "metadata": {},
   "source": [
    "## Step 3: Questions\n",
    "\n",
    "1. What happens when neglect to follow the instructions and enter any inputs we desire? Does the code still run? Why?\n",
    "2. What type of error occurs when the program runs but does not handle bad input?\n",
    "3. Is there anything you can do in code to correct this type of error? Why or why not?"
   ]
  },
  {
   "cell_type": "markdown",
   "metadata": {},
   "source": [
    "## Reminder of Evaluation Criteria\n",
    "\n",
    "1. Was the problem attempted (analysis, code, and answered questions) ?\n",
    "2. Was the problem analysis thought out? (does the program match the plan?)\n",
    "3. Does the code execute without syntax error?\n",
    "4. Does the code solve the intended problem?\n",
    "5. Is the code well written? (easy to understand, modular, and self-documenting, handles errors)\n"
   ]
  },
  {
   "cell_type": "code",
   "execution_count": null,
   "metadata": {
    "collapsed": true
   },
   "outputs": [],
   "source": []
  }
 ],
 "metadata": {
  "anaconda-cloud": {},
  "kernelspec": {
   "display_name": "Python 3",
   "language": "python",
   "name": "python3"
  },
  "language_info": {
   "codemirror_mode": {
    "name": "ipython",
    "version": 3
   },
   "file_extension": ".py",
   "mimetype": "text/x-python",
   "name": "python",
   "nbconvert_exporter": "python",
   "pygments_lexer": "ipython3",
   "version": "3.6.6"
  }
 },
 "nbformat": 4,
 "nbformat_minor": 1
}
