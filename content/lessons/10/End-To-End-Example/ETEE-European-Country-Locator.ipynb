{
 "cells": [
  {
   "cell_type": "markdown",
   "metadata": {},
   "source": [
    "# End-To-End Example: European Country Locator\n",
    "\n",
    "In this example, we will load in json data for European countries. We will write a program to prompt to input a country then tell the user which part of Europe the country is located in and what are the neighboring European countries.\n"
   ]
  },
  {
   "cell_type": "code",
   "execution_count": null,
   "metadata": {
    "collapsed": true
   },
   "outputs": [],
   "source": [
    "## todo list\n",
    "# load europe data into Python\n",
    "# loop\n",
    "#   input a country name\n",
    "#   if country name is quit, exit loop\n",
    "#   for each country in europe\n",
    "#        if input name equals country name\n",
    "#              get info on country (region and neighbors)\n",
    "#              print country info"
   ]
  },
  {
   "cell_type": "code",
   "execution_count": 1,
   "metadata": {},
   "outputs": [
    {
     "ename": "SyntaxError",
     "evalue": "EOL while scanning string literal (<ipython-input-1-9f0f2ea01927>, line 34)",
     "output_type": "error",
     "traceback": [
      "\u001b[0;36m  File \u001b[0;32m\"<ipython-input-1-9f0f2ea01927>\"\u001b[0;36m, line \u001b[0;32m34\u001b[0m\n\u001b[0;31m    print(f\"{info['name']} is in {info['subregion']}.\\nBordering countries are {info['borders']}.))\u001b[0m\n\u001b[0m                                                                                                   ^\u001b[0m\n\u001b[0;31mSyntaxError\u001b[0m\u001b[0;31m:\u001b[0m EOL while scanning string literal\n"
     ]
    }
   ],
   "source": [
    "import json\n",
    "\n",
    "# input: none\n",
    "# output: Python object of data in JSON file\n",
    "def load_europe_data():    \n",
    "    with open('ETEE-europe.json', encoding='utf8') as f:\n",
    "        data = f.read()\n",
    "        europe = json.loads(data)\n",
    "        return europe\n",
    "\n",
    "# input: country and europe data\n",
    "# output: dictionary of country info (name, region and neighbors)\n",
    "def extract_country_info(country, europe):\n",
    "    info = {}\n",
    "    info['name'] = country['name']\n",
    "    info['subregion'] = country['subregion']\n",
    "    info['borders'] = []\n",
    "    for country_code in country['borders']:\n",
    "        for country in europe: \n",
    "            if country['alpha3Code'] == country_code:\n",
    "                info['borders'].append(country['name'])\n",
    "    return info\n",
    "\n",
    "# main program \n",
    "europe = load_europe_data()\n",
    "print(\"EUROPEAN COUNTRY LOCATOR\")\n",
    "while True:\n",
    "    name = input(\"Enter a country name, or type 'quit': \").title()\n",
    "    if name == 'Quit':\n",
    "        break\n",
    "    for country in europe:\n",
    "        if name == country['name']:\n",
    "            info = extract_country_info(country, europe)\n",
    "            print(f\"{info['name']} is in {info['subregion']}.\\nBordering countries are {info['borders']}.)\n",
    "            print(f\"https://maps.google.com?q={info['name']}\")\n",
    "        "
   ]
  },
  {
   "cell_type": "code",
   "execution_count": null,
   "metadata": {},
   "outputs": [],
   "source": []
  }
 ],
 "metadata": {
  "anaconda-cloud": {},
  "kernelspec": {
   "display_name": "Python 3",
   "language": "python",
   "name": "python3"
  },
  "language_info": {
   "codemirror_mode": {
    "name": "ipython",
    "version": 3
   },
   "file_extension": ".py",
   "mimetype": "text/x-python",
   "name": "python",
   "nbconvert_exporter": "python",
   "pygments_lexer": "ipython3",
   "version": "3.7.3"
  }
 },
 "nbformat": 4,
 "nbformat_minor": 1
}
