{
 "cells": [
  {
   "cell_type": "markdown",
   "metadata": {},
   "source": [
    "# Now You Code 1: Vote or Retire?\n",
    "\n",
    "# Part 1\n",
    "\n",
    "Write a program to ask for your age as input, then output 1) whether or not you can vote and 2) whether your not you can retire. Let's assume the voting age is 18 or higher, and the retirement age is 65 or higher.\n",
    "\n",
    "**NOTE:** This program is making two seprate decisions, and thus should have two separate if else statements.\n",
    "\n",
    "Example Run:\n",
    "\n",
    "```\n",
    "Enter your age: 45\n",
    "You can vote.\n",
    "You cannot retire.\n",
    "```\n"
   ]
  },
  {
   "cell_type": "markdown",
   "metadata": {
    "collapsed": true
   },
   "source": [
    "## Step 1: Problem Analysis\n",
    "\n",
    "Inputs:\n",
    "\n",
    "Outputs:\n",
    "\n",
    "Algorithm (Steps in Program):\n",
    "\n",
    "\n"
   ]
  },
  {
   "cell_type": "code",
   "execution_count": 1,
   "metadata": {},
   "outputs": [],
   "source": [
    "#Step 2: write code here\n",
    "\n"
   ]
  },
  {
   "cell_type": "markdown",
   "metadata": {},
   "source": [
    "# Part 2\n",
    "\n",
    "Now that you have it working,  re-write your code to handle bad input using Python's `try... except` statement:\n",
    "\n",
    "Example run:\n",
    "\n",
    "```\n",
    "Enter your age: threve\n",
    "That's not an age!\n",
    "```\n",
    "\n",
    "**Note:** Exception handling is not part of our algorithm. It's a programming concern, not a problem-solving concern!"
   ]
  },
  {
   "cell_type": "code",
   "execution_count": 2,
   "metadata": {
    "collapsed": true
   },
   "outputs": [],
   "source": [
    "## Step 2 (again): write code again but handle errors with try...except\n"
   ]
  },
  {
   "cell_type": "markdown",
   "metadata": {},
   "source": [
    "## Step 3: Questions\n",
    "\n",
    "1. What specific Python Error are we handling (please provide the name of it)?\n",
    "2. What happens when you enter an age of `-50`? Does the program still run? Fix your program so that it says `That's not an age` when a value less than zero is entered.\n",
    "3. How many times (at minimum) must we execute this program and check the results before we can be reasonably assured it is correct?\n"
   ]
  },
  {
   "cell_type": "markdown",
   "metadata": {},
   "source": [
    "## Reminder of Evaluation Criteria\n",
    "\n",
    "1. Was the problem attempted (analysis, code, and answered questions) ?\n",
    "2. Was the problem analysis thought out? (does the program match the plan?)\n",
    "3. Does the code execute without syntax error?\n",
    "4. Does the code solve the intended problem?\n",
    "5. Is the code well written? (easy to understand, modular, and self-documenting, handles errors)\n"
   ]
  },
  {
   "cell_type": "code",
   "execution_count": null,
   "metadata": {
    "collapsed": true
   },
   "outputs": [],
   "source": []
  }
 ],
 "metadata": {
  "anaconda-cloud": {},
  "kernelspec": {
   "display_name": "Python 3",
   "language": "python",
   "name": "python3"
  },
  "language_info": {
   "codemirror_mode": {
    "name": "ipython",
    "version": 3
   },
   "file_extension": ".py",
   "mimetype": "text/x-python",
   "name": "python",
   "nbconvert_exporter": "python",
   "pygments_lexer": "ipython3",
   "version": "3.6.6"
  }
 },
 "nbformat": 4,
 "nbformat_minor": 1
}
