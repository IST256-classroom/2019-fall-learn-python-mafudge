{
 "cells": [
  {
   "cell_type": "markdown",
   "metadata": {},
   "source": [
    "# Now You Code 2: Paint Pricing\n",
    "\n",
    "House Depot, a big-box hardware retailer, has contracted you to create an app to calculate paint prices. \n",
    "\n",
    "The price of paint is determined by the following factors:\n",
    "- Everyday quality paint is `$19.99` per gallon.\n",
    "- Select quality paint is `$24.99` per gallon.\n",
    "- Premium quality paint is `$32.99` per gallon.\n",
    "\n",
    "In addition if the customer wants computerized color-matching that incurs an additional fee of `$4.99` per gallon. \n",
    "\n",
    "Write a program to ask the user to select a paint quality: 'everyday', 'select' or 'premium', prompt for color matching, and then outputs the price per gallon of the paint.\n",
    "\n",
    "Example Run 1:\n",
    "\n",
    "```\n",
    "Which paint quality do you require ['everyday', 'select', 'premium'] ?select\n",
    "Do you require color matching [y/n] ?y\n",
    "Total price of select paint with color matching is $29.98\n",
    "```\n",
    "\n",
    "Example Run 2:\n",
    "\n",
    "```\n",
    "Which paint quality do you require ['everyday', 'select', 'premium'] ?premium\n",
    "Do you require color matching [y/n] ?n\n",
    "Total price of premium paint without color matching is $32.99\n",
    "```"
   ]
  },
  {
   "cell_type": "markdown",
   "metadata": {
    "collapsed": true
   },
   "source": [
    "## Step 1: Problem Analysis\n",
    "\n",
    "Inputs:\n",
    "\n",
    "Outputs:\n",
    "\n",
    "Algorithm (Steps in Program):\n",
    "\n"
   ]
  },
  {
   "cell_type": "code",
   "execution_count": 1,
   "metadata": {},
   "outputs": [],
   "source": [
    "# Step 2: Write code here\n",
    "\n"
   ]
  },
  {
   "cell_type": "markdown",
   "metadata": {},
   "source": [
    "## Step 3: Questions\n",
    "\n",
    "1. When you enter something other than `'everyday', 'select',` or  `'premium'` what happens? Modify the program to print `that is not a paint quality` and then exit in those cases.\n",
    "2. What happens when you enter something other than `'y'` or `'n'` for color matching? Re-write the program to print `you must enter y or n` whenever you enter something other than those two values.\n",
    "3. Why can't we use Python's `try...except` in this example?\n",
    "4. How many times (at minimum) must we execute this program and check the results before we can be reasonably assured it is correct?\n"
   ]
  },
  {
   "cell_type": "markdown",
   "metadata": {},
   "source": [
    "## Reminder of Evaluation Criteria\n",
    "\n",
    "1. Was the problem attempted (analysis, code, and answered questions) ?\n",
    "2. Was the problem analysis thought out? (does the program match the plan?)\n",
    "3. Does the code execute without syntax error?\n",
    "4. Does the code solve the intended problem?\n",
    "5. Is the code well written? (easy to understand, modular, and self-documenting, handles errors)\n"
   ]
  },
  {
   "cell_type": "code",
   "execution_count": null,
   "metadata": {
    "collapsed": true
   },
   "outputs": [],
   "source": []
  }
 ],
 "metadata": {
  "anaconda-cloud": {},
  "kernelspec": {
   "display_name": "Python 3",
   "language": "python",
   "name": "python3"
  },
  "language_info": {
   "codemirror_mode": {
    "name": "ipython",
    "version": 3
   },
   "file_extension": ".py",
   "mimetype": "text/x-python",
   "name": "python",
   "nbconvert_exporter": "python",
   "pygments_lexer": "ipython3",
   "version": "3.6.6"
  }
 },
 "nbformat": 4,
 "nbformat_minor": 1
}
