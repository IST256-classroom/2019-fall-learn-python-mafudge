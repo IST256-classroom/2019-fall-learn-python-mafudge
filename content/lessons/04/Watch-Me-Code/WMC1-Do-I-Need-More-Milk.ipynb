{
 "cells": [
  {
   "cell_type": "markdown",
   "metadata": {},
   "source": [
    "# Watch Me Code 1: Do I need more milk?\n",
    "My family requires a gallon of milk at all times!"
   ]
  },
  {
   "cell_type": "code",
   "execution_count": 5,
   "metadata": {
    "collapsed": false
   },
   "outputs": [
    {
     "name": "stdout",
     "output_type": "stream",
     "text": [
      "How many gallons of milk do you have? 0.75\n",
      "Buy more milk!\n"
     ]
    }
   ],
   "source": [
    "milk = float(input(\"How many gallons of milk do you have? \"))\n",
    "if milk < 1:\n",
    "    print(\"Buy more milk!\")\n",
    "else:\n",
    "    print(\"You're good for now!\")"
   ]
  },
  {
   "cell_type": "markdown",
   "metadata": {
    "collapsed": true
   },
   "source": [
    "## Another example. \n",
    "I only go to the store when I need both diapers and beer!"
   ]
  },
  {
   "cell_type": "code",
   "execution_count": 2,
   "metadata": {
    "collapsed": false
   },
   "outputs": [
    {
     "name": "stdout",
     "output_type": "stream",
     "text": [
      "do you need diapers? yes\n",
      "do you need beer? yes\n",
      "You'd better get to the store, ASAP!\n"
     ]
    }
   ],
   "source": [
    "diapers = input(\"do you need diapers? \")\n",
    "beer = input(\"do you need beer? \")\n",
    "if diapers == 'yes' and beer=='yes':\n",
    "    print(\"You'd better get to the store, ASAP!\")\n",
    "else:\n",
    "    print(\"No need to go to the store yet!\")"
   ]
  },
  {
   "cell_type": "code",
   "execution_count": null,
   "metadata": {
    "collapsed": true
   },
   "outputs": [],
   "source": []
  }
 ],
 "metadata": {
  "anaconda-cloud": {},
  "kernelspec": {
   "display_name": "Python [default]",
   "language": "python",
   "name": "python3"
  },
  "language_info": {
   "codemirror_mode": {
    "name": "ipython",
    "version": 3
   },
   "file_extension": ".py",
   "mimetype": "text/x-python",
   "name": "python",
   "nbconvert_exporter": "python",
   "pygments_lexer": "ipython3",
   "version": "3.5.2"
  }
 },
 "nbformat": 4,
 "nbformat_minor": 1
}
