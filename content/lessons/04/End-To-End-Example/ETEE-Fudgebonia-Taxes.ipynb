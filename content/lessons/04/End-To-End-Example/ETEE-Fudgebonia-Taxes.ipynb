{
 "cells": [
  {
   "cell_type": "markdown",
   "metadata": {},
   "source": [
    "# End-To-End-Example: Fudgebonia Taxes\n",
    "\n",
    "The country of “Fudgebonia” determines your tax rate from the number of dependents:\n",
    "\n",
    "- 0 is 30%\n",
    "- 1 is 25% \n",
    "- 2 is 18% \n",
    "- 3 or more is 10%  \n",
    "\n",
    "Write a program to prompt for number of dependents (0-3) and annual income.\n",
    "\n",
    "It should then calculate your tax rate and tax bill. Format numbers properly! Handle bad input!\n"
   ]
  },
  {
   "cell_type": "code",
   "execution_count": 1,
   "metadata": {
    "collapsed": true
   },
   "outputs": [],
   "source": [
    "## TODO list\n",
    "\n",
    "# 1. input dependents\n",
    "# 2. input annual income\n",
    "# 3. if dependents equals 0 then \n",
    "# 3.1   rate is 30%\n",
    "# 4. else if dependents equals 1 then\n",
    "# 4.1   rate is 25%\n",
    "# 5. else if dependents equlas 2 then \n",
    "# 5.1   rate is 18%\n",
    "# 6. else\n",
    "# 6.1   rate is 10%\n",
    "# 7. print tax rate\n",
    "# 8. bill = rate times income\n",
    "# 8. print tax bill\n"
   ]
  },
  {
   "cell_type": "code",
   "execution_count": 2,
   "metadata": {},
   "outputs": [
    {
     "name": "stdout",
     "output_type": "stream",
     "text": [
      "Fudgebonia tax calculator\n",
      "Enter number of dependents:2\n",
      "Enter annual income: 50000\n",
      "Tax rate 0.18 %\n",
      "Tax Bill $9000.00\n"
     ]
    }
   ],
   "source": [
    "print(\"Fudgebonia tax calculator\")\n",
    "dependents = int(input(\"Enter number of dependents:\"))\n",
    "income = float(input(\"Enter annual income: \"))\n",
    "if dependents == 0:\n",
    "    rate = .3\n",
    "elif dependents == 1:\n",
    "    rate = .25\n",
    "elif dependents == 2:\n",
    "    rate = .18\n",
    "else:\n",
    "    rate = .10\n",
    "print(\"Tax rate %.2f %%\" % (rate))\n",
    "bill = rate * income\n",
    "print(\"Tax Bill $%.2f\" %(bill))"
   ]
  },
  {
   "cell_type": "code",
   "execution_count": 4,
   "metadata": {},
   "outputs": [
    {
     "name": "stdout",
     "output_type": "stream",
     "text": [
      "Fudgebonia tax calculator\n",
      "Enter number of dependents:fsdg\n",
      "You entered a bad value... quitting.\n"
     ]
    }
   ],
   "source": [
    "## Re-write to handle bad input. this should always be a re-write and never attempt in one try.\n",
    "print(\"Fudgebonia tax calculator\")\n",
    "try:\n",
    "    dependents = int(input(\"Enter number of dependents:\"))\n",
    "    income = float(input(\"Enter annual income: \"))\n",
    "    if dependents == 0:\n",
    "        rate = .3\n",
    "    elif dependents == 1:\n",
    "        rate = .25\n",
    "    elif dependents == 2:\n",
    "        rate = .18\n",
    "    else:\n",
    "        rate = .10\n",
    "    print(\"Tax rate %.2f %%\" % (rate))\n",
    "    bill = rate * income\n",
    "    print(\"Tax Bill $%.2f\" %(bill))\n",
    "except:\n",
    "    print(\"You entered a bad value... quitting.\")"
   ]
  },
  {
   "cell_type": "code",
   "execution_count": null,
   "metadata": {
    "collapsed": true
   },
   "outputs": [],
   "source": [
    "## Re-write to handle dependents < 0\n",
    "try:\n",
    "    dependents = int(input(\"Enter number of dependents: \"))\n",
    "    income = float(input(\"Enter your annual income: \"))\n",
    "    if dependents >=0:\n",
    "        if dependents == 0:\n",
    "            rate = .3\n",
    "        elif dependents == 1:\n",
    "            rate = .25\n",
    "        elif dependents == 2:\n",
    "            rate = .18\n",
    "        else: # >=3...\n",
    "            rate = .10\n",
    "        print(\"Tax rate %.2f %%\" % (rate))\n",
    "        bill = rate * income\n",
    "        print(\"Tax Bill $%.2f\" %(bill))\n",
    "    else: # dependents < 0 \n",
    "        print(\"Invalid number of dependents.\")\n",
    "except ValueError:\n",
    "    print(\"Invalid input. Program quitting.\")\n"
   ]
  }
 ],
 "metadata": {
  "anaconda-cloud": {},
  "kernelspec": {
   "display_name": "Python 3",
   "language": "python",
   "name": "python3"
  },
  "language_info": {
   "codemirror_mode": {
    "name": "ipython",
    "version": 3
   },
   "file_extension": ".py",
   "mimetype": "text/x-python",
   "name": "python",
   "nbconvert_exporter": "python",
   "pygments_lexer": "ipython3",
   "version": "3.6.6"
  }
 },
 "nbformat": 4,
 "nbformat_minor": 1
}
