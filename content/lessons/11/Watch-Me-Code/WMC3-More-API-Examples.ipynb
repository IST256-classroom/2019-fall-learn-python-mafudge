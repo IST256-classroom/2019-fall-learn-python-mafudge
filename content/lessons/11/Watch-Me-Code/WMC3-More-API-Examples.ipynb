{
 "cells": [
  {
   "cell_type": "markdown",
   "metadata": {},
   "source": [
    "# More API Examples\n",
    "\n",
    "This notebook contains EVEN MORE API examples so you can get an idea of the types of services available. There's a world of API's out there for the taking, and we cannot teach them all to you. We can only teach you how they work in general... the details are 100% up to you!\n"
   ]
  },
  {
   "cell_type": "markdown",
   "metadata": {},
   "source": [
    "# Caller Id/ Get a location for a Phone number\n",
    "\n",
    "This uses the cosmin phone number lookup API as found on https://market.mashape.com/explore \n",
    "\n",
    "This api requires `headers` to be passed into the `get()` request. The API key and the requested output of `json` are sent into the header.\n",
    "\n",
    "Enter a phone number as input like `3154432911` and then the API will output JSON data consisting of caller ID data and GPS coordinates."
   ]
  },
  {
   "cell_type": "code",
   "execution_count": 1,
   "metadata": {},
   "outputs": [
    {
     "name": "stdout",
     "output_type": "stream",
     "text": [
      "Enter your phone number: 3154439686\n"
     ]
    },
    {
     "data": {
      "text/plain": [
       "{'phone_number': {'npa': '315', 'nxx': '443', 'xxx': '9686'},\n",
       " 'opencnam': 'Please use \"opencnam-sid\" and \"opencnam-auth-token\" to see OpenCNAM results.',\n",
       " 'type': 'Landline',\n",
       " 'city': 'Syracuse',\n",
       " 'state': 'New York',\n",
       " 'latitude': 43.051,\n",
       " 'county': 'Onondaga',\n",
       " 'longitude': -76.1481,\n",
       " 'time_zone': 'Eastern (GMT -05:00)',\n",
       " 'cbsa_code': '45060',\n",
       " 'carrier': 'Verizon New York Inc.'}"
      ]
     },
     "execution_count": 1,
     "metadata": {},
     "output_type": "execute_result"
    }
   ],
   "source": [
    "import requests\n",
    "\n",
    "phone = input(\"Enter your phone number: \")\n",
    "params = { 'phone' : phone }\n",
    "headers={ \"X-Mashape-Key\": \"sNi0LJs3rBmshZL7KQOrRWXZqIsBp1XUjhnjsnYUsE6iKo14Nc\",\n",
    "    \"Accept\": \"application/json\" }\n",
    "response = requests.get(\"https://cosmin-us-phone-number-lookup.p.mashape.com/get.php\", params=params, headers=headers )\n",
    "\n",
    "phone_data = response.json()\n",
    "phone_data"
   ]
  },
  {
   "cell_type": "markdown",
   "metadata": {},
   "source": [
    "# Get current exchange rates\n",
    "\n",
    "This example uses http://fixer.io to get the current currency exchange rates.\n"
   ]
  },
  {
   "cell_type": "code",
   "execution_count": 2,
   "metadata": {},
   "outputs": [
    {
     "data": {
      "text/plain": [
       "{'success': True,\n",
       " 'timestamp': 1573501745,\n",
       " 'base': 'EUR',\n",
       " 'date': '2019-11-11',\n",
       " 'rates': {'AED': 4.052983,\n",
       "  'AFN': 86.423433,\n",
       "  'ALL': 123.154391,\n",
       "  'AMD': 526.618169,\n",
       "  'ANG': 1.912738,\n",
       "  'AOA': 508.846278,\n",
       "  'ARS': 65.764761,\n",
       "  'AUD': 1.609756,\n",
       "  'AWG': 1.986321,\n",
       "  'AZN': 1.871286,\n",
       "  'BAM': 1.955478,\n",
       "  'BBD': 2.225879,\n",
       "  'BDT': 93.425549,\n",
       "  'BGN': 1.955445,\n",
       "  'BHD': 0.416087,\n",
       "  'BIF': 2064.670095,\n",
       "  'BMD': 1.103512,\n",
       "  'BND': 1.500803,\n",
       "  'BOB': 7.623291,\n",
       "  'BRL': 4.566217,\n",
       "  'BSD': 1.102412,\n",
       "  'BTC': 0.000126,\n",
       "  'BTN': 78.8862,\n",
       "  'BWP': 12.04906,\n",
       "  'BYN': 2.258025,\n",
       "  'BYR': 21628.826221,\n",
       "  'BZD': 2.22222,\n",
       "  'CAD': 1.458956,\n",
       "  'CDF': 1837.346733,\n",
       "  'CHF': 1.09587,\n",
       "  'CLF': 0.030374,\n",
       "  'CLP': 838.118189,\n",
       "  'CNY': 7.736171,\n",
       "  'COP': 3662.554808,\n",
       "  'CRC': 645.569746,\n",
       "  'CUC': 1.103512,\n",
       "  'CUP': 29.243056,\n",
       "  'CVE': 110.797145,\n",
       "  'CZK': 25.512527,\n",
       "  'DJF': 196.116424,\n",
       "  'DKK': 7.471501,\n",
       "  'DOP': 58.254107,\n",
       "  'DZD': 132.334198,\n",
       "  'EGP': 17.823146,\n",
       "  'ERN': 16.552297,\n",
       "  'ETB': 32.992357,\n",
       "  'EUR': 1,\n",
       "  'FJD': 2.414481,\n",
       "  'FKP': 0.897022,\n",
       "  'GBP': 0.858637,\n",
       "  'GEL': 3.271923,\n",
       "  'GGP': 0.858624,\n",
       "  'GHS': 6.096892,\n",
       "  'GIP': 0.897023,\n",
       "  'GMD': 56.554605,\n",
       "  'GNF': 10196.44717,\n",
       "  'GTQ': 8.491804,\n",
       "  'GYD': 230.646426,\n",
       "  'HKD': 8.635474,\n",
       "  'HNL': 27.255445,\n",
       "  'HRK': 7.433067,\n",
       "  'HTG': 107.501589,\n",
       "  'HUF': 333.894943,\n",
       "  'IDR': 15527.952311,\n",
       "  'ILS': 3.864376,\n",
       "  'IMP': 0.858624,\n",
       "  'INR': 78.989063,\n",
       "  'IQD': 1314.282246,\n",
       "  'IRR': 46463.353481,\n",
       "  'ISK': 137.674479,\n",
       "  'JEP': 0.858624,\n",
       "  'JMD': 154.524202,\n",
       "  'JOD': 0.782355,\n",
       "  'JPY': 120.308103,\n",
       "  'KES': 112.988508,\n",
       "  'KGS': 77.072113,\n",
       "  'KHR': 4486.877723,\n",
       "  'KMF': 492.44187,\n",
       "  'KPW': 993.226,\n",
       "  'KRW': 1286.076285,\n",
       "  'KWD': 0.335158,\n",
       "  'KYD': 0.918635,\n",
       "  'KZT': 428.872864,\n",
       "  'LAK': 9777.112284,\n",
       "  'LBP': 1669.123338,\n",
       "  'LKR': 199.071596,\n",
       "  'LRD': 233.227085,\n",
       "  'LSL': 16.398257,\n",
       "  'LTL': 3.258383,\n",
       "  'LVL': 0.667503,\n",
       "  'LYD': 1.550454,\n",
       "  'MAD': 10.675923,\n",
       "  'MDL': 19.232402,\n",
       "  'MGA': 4102.302984,\n",
       "  'MKD': 61.504036,\n",
       "  'MMK': 1672.940271,\n",
       "  'MNT': 2988.590773,\n",
       "  'MOP': 8.88942,\n",
       "  'MRO': 393.954002,\n",
       "  'MUR': 40.280566,\n",
       "  'MVR': 17.049476,\n",
       "  'MWK': 807.770048,\n",
       "  'MXN': 21.100145,\n",
       "  'MYR': 4.572397,\n",
       "  'MZN': 69.697533,\n",
       "  'NAD': 16.398411,\n",
       "  'NGN': 398.916229,\n",
       "  'NIO': 37.249061,\n",
       "  'NOK': 10.078757,\n",
       "  'NPR': 126.21815,\n",
       "  'NZD': 1.732248,\n",
       "  'OMR': 0.424865,\n",
       "  'PAB': 1.102412,\n",
       "  'PEN': 3.711141,\n",
       "  'PGK': 3.729523,\n",
       "  'PHP': 56.058697,\n",
       "  'PKR': 171.733997,\n",
       "  'PLN': 4.273371,\n",
       "  'PYG': 7118.690718,\n",
       "  'QAR': 4.01793,\n",
       "  'RON': 4.762749,\n",
       "  'RSD': 117.651237,\n",
       "  'RUB': 70.502355,\n",
       "  'RWF': 1029.024513,\n",
       "  'SAR': 4.137287,\n",
       "  'SBD': 9.123825,\n",
       "  'SCR': 15.11891,\n",
       "  'SDG': 49.734982,\n",
       "  'SEK': 10.701347,\n",
       "  'SGD': 1.501443,\n",
       "  'SHP': 1.457626,\n",
       "  'SLL': 10654.403605,\n",
       "  'SOS': 641.140366,\n",
       "  'SRD': 8.230006,\n",
       "  'STD': 23792.580618,\n",
       "  'SVC': 9.646352,\n",
       "  'SYP': 568.308106,\n",
       "  'SZL': 16.398125,\n",
       "  'THB': 33.500225,\n",
       "  'TJS': 10.682678,\n",
       "  'TMT': 3.873326,\n",
       "  'TND': 3.14556,\n",
       "  'TOP': 2.560423,\n",
       "  'TRY': 6.378716,\n",
       "  'TTD': 7.470789,\n",
       "  'TWD': 33.56218,\n",
       "  'TZS': 2538.946331,\n",
       "  'UAH': 27.024739,\n",
       "  'UGX': 4079.140369,\n",
       "  'USD': 1.103512,\n",
       "  'UYU': 41.279828,\n",
       "  'UZS': 10483.359256,\n",
       "  'VEF': 11.021319,\n",
       "  'VND': 25610.84762,\n",
       "  'VUV': 129.39258,\n",
       "  'WST': 2.942984,\n",
       "  'XAF': 655.827171,\n",
       "  'XAG': 0.065494,\n",
       "  'XAU': 0.000758,\n",
       "  'XCD': 2.982295,\n",
       "  'XDR': 0.803087,\n",
       "  'XOF': 656.589693,\n",
       "  'XPF': 119.635335,\n",
       "  'YER': 276.264588,\n",
       "  'ZAR': 16.440943,\n",
       "  'ZMK': 9932.951734,\n",
       "  'ZMW': 15.191873,\n",
       "  'ZWL': 355.330718}}"
      ]
     },
     "execution_count": 2,
     "metadata": {},
     "output_type": "execute_result"
    }
   ],
   "source": [
    "import requests\n",
    "apikey = '159f1a48ad7a3d6f4dbe5d5a71c2135c' # get your own at fixer.io\n",
    "params = { 'access_key': apikey } # US Dollars\n",
    "response = requests.get(\"http://data.fixer.io/api/latest\", params=params )\n",
    "rates = response.json()\n",
    "rates"
   ]
  },
  {
   "cell_type": "markdown",
   "metadata": {},
   "source": [
    "# GeoIP lookup: Find the lat/lng of an IP Address\n",
    "\n",
    "Every computer on the internet has a unique IP Address. This service when given an IP address will return back where that IP Address is located. Pretty handy API which is commonly used with mobile devices to determine approximate location when the GPS is turned off. "
   ]
  },
  {
   "cell_type": "code",
   "execution_count": 8,
   "metadata": {},
   "outputs": [
    {
     "data": {
      "text/plain": [
       "{'ip': '128.230.182.17',\n",
       " 'type': 'ipv4',\n",
       " 'continent_code': 'NA',\n",
       " 'continent_name': 'North America',\n",
       " 'country_code': 'US',\n",
       " 'country_name': 'United States',\n",
       " 'region_code': 'NY',\n",
       " 'region_name': 'New York',\n",
       " 'city': 'Syracuse',\n",
       " 'zip': '13244',\n",
       " 'latitude': 43.0377,\n",
       " 'longitude': -76.1396,\n",
       " 'location': {'geoname_id': 5140405,\n",
       "  'capital': 'Washington D.C.',\n",
       "  'languages': [{'code': 'en', 'name': 'English', 'native': 'English'}],\n",
       "  'country_flag': 'http://assets.ipstack.com/flags/us.svg',\n",
       "  'country_flag_emoji': '🇺🇸',\n",
       "  'country_flag_emoji_unicode': 'U+1F1FA U+1F1F8',\n",
       "  'calling_code': '1',\n",
       "  'is_eu': False}}"
      ]
     },
     "execution_count": 8,
     "metadata": {},
     "output_type": "execute_result"
    }
   ],
   "source": [
    "import requests\n",
    "ip = \"128.230.182.17\"\n",
    "apikey = 'f9117fcd34312f9083a020af5836e337' # get your own at ipstack.com\n",
    "params = { 'access_key': apikey } # US Dollars\n",
    "response = requests.get(\"http://api.ipstack.com/%s?access_key=f9117fcd34312f9083a020af5836e337\" % ip, params=params )\n",
    "rates = response.json()\n",
    "rates"
   ]
  },
  {
   "cell_type": "markdown",
   "metadata": {},
   "source": [
    "## An API for sentiment analysis...\n",
    "\n",
    "Process some text and more here: http://text-processing.com\n"
   ]
  },
  {
   "cell_type": "code",
   "execution_count": 9,
   "metadata": {},
   "outputs": [
    {
     "name": "stdout",
     "output_type": "stream",
     "text": [
      "How are you feeling today? I am very angry\n",
      "{'probability': {'neg': 0.6482250277738113, 'neutral': 0.019262524295232536, 'pos': 0.35177497222618875}, 'label': 'neg'}\n"
     ]
    }
   ],
   "source": [
    "# sentiment\n",
    "message = input(\"How are you feeling today? \")\n",
    "url = 'http://text-processing.com/api/sentiment/'\n",
    "options = { 'text' : message}\n",
    "response = requests.post(url, data = options)\n",
    "sentiment = response.json()\n",
    "print(sentiment)"
   ]
  },
  {
   "cell_type": "markdown",
   "metadata": {},
   "source": [
    "## Searching iTunes\n",
    "\n",
    "Here's an example of the iTunes search API. I'm searching for \"Mandatory fun\" and printing out the track names."
   ]
  },
  {
   "cell_type": "code",
   "execution_count": 10,
   "metadata": {},
   "outputs": [
    {
     "name": "stdout",
     "output_type": "stream",
     "text": [
      "Word Crimes\n",
      "NOW That's What I Call Polka!\n",
      "Tacky\n",
      "Foil\n",
      "Inactive\n",
      "Lame Claim to Fame\n",
      "Handy\n",
      "Mission Statement\n",
      "Sports Song\n",
      "Jackson Park Express\n",
      "First World Problems\n",
      "My Own Eyes\n",
      "Mandatory Fun\n",
      "Mandatory Fun\n",
      "Mandatory Fun\n",
      "Cash\n",
      "Fool's Gold\n",
      "Good as Gone\n",
      "Believe\n",
      "Take Me Home\n",
      "Down\n",
      "The Truth\n",
      "Spinning Round\n",
      "Heaven Help Me\n",
      "Country Soul\n",
      "Air Traffic Control\n",
      "Koala\n",
      "On the Hillside\n",
      "Spib\n",
      "Waterfall\n",
      "On a Rock\n",
      "Drinks In the Air (feat. Mack)\n"
     ]
    }
   ],
   "source": [
    "term = 'Mandatory Fun'\n",
    "params = { 'term' : term }\n",
    "response = requests.get('https://itunes.apple.com/search', params = params)\n",
    "search = response.json()\n",
    "for r in search['results']:\n",
    "    print(r['trackName'])"
   ]
  },
  {
   "cell_type": "markdown",
   "metadata": {},
   "source": [
    "# Earthquakes anyone?\n",
    "\n",
    "Here's an example of the significant earthquakes from the past week. Information on this API can be found here:\n",
    "\n",
    "http://earthquake.usgs.gov/earthquakes/feed/v1.0/geojson.php \n"
   ]
  },
  {
   "cell_type": "code",
   "execution_count": 3,
   "metadata": {},
   "outputs": [
    {
     "name": "stdout",
     "output_type": "stream",
     "text": [
      "M 4.9 - 26km W of Pepeekeo, Hawaii\n",
      "M 6.5 - 167km SSW of Ndoi Island, Fiji\n",
      "M 5.9 - 57km NE of Hashtrud, Iran\n",
      "M 3.4 - 6km W of Ventura, CA\n",
      "M 6.3 - East of the South Sandwich Islands\n",
      "M 6.6 - 136km W of Neiafu, Tonga\n",
      "M 6.1 - 28km SW of Illapel, Chile\n"
     ]
    }
   ],
   "source": [
    "response = requests.get('https://earthquake.usgs.gov/earthquakes/feed/v1.0/summary/significant_week.geojson')\n",
    "quakes = response.json()\n",
    "for q in quakes['features']:\n",
    "    print(q['properties']['title'])"
   ]
  },
  {
   "cell_type": "code",
   "execution_count": null,
   "metadata": {
    "collapsed": true
   },
   "outputs": [],
   "source": []
  }
 ],
 "metadata": {
  "anaconda-cloud": {},
  "kernelspec": {
   "display_name": "Python 3",
   "language": "python",
   "name": "python3"
  },
  "language_info": {
   "codemirror_mode": {
    "name": "ipython",
    "version": 3
   },
   "file_extension": ".py",
   "mimetype": "text/x-python",
   "name": "python",
   "nbconvert_exporter": "python",
   "pygments_lexer": "ipython3",
   "version": "3.7.3"
  }
 },
 "nbformat": 4,
 "nbformat_minor": 1
}
