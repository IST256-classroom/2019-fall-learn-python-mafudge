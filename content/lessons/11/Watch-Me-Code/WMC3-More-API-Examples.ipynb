{
 "cells": [
  {
   "cell_type": "markdown",
   "metadata": {},
   "source": [
    "# More API Examples\n",
    "\n",
    "This notebook contains EVEN MORE API examples so you can get an idea of the types of services available. There's a world of API's out there for the taking, and we cannot teach them all to you. We can only teach you how they work in general... the details are 100% up to you!\n"
   ]
  },
  {
   "cell_type": "markdown",
   "metadata": {},
   "source": [
    "# Caller Id/ Get a location for a Phone number\n",
    "\n",
    "This uses the cosmin phone number lookup API as found on https://market.mashape.com/explore \n",
    "\n",
    "This api requires `headers` to be passed into the `get()` request. The API key and the requested output of `json` are sent into the header.\n",
    "\n",
    "Enter a phone number as input like `3154432911` and then the API will output JSON data consisting of caller ID data and GPS coordinates."
   ]
  },
  {
   "cell_type": "code",
   "execution_count": 1,
   "metadata": {},
   "outputs": [
    {
     "name": "stdout",
     "output_type": "stream",
     "text": [
      "Enter your phone number: 3154439686\n"
     ]
    },
    {
     "data": {
      "text/plain": [
       "{'phone_number': {'npa': '315', 'nxx': '443', 'xxx': '9686'},\n",
       " 'opencnam': 'Please use \"opencnam-sid\" and \"opencnam-auth-token\" to see OpenCNAM results.',\n",
       " 'type': 'Landline',\n",
       " 'city': 'Syracuse',\n",
       " 'state': 'New York',\n",
       " 'latitude': 43.051,\n",
       " 'county': 'Onondaga',\n",
       " 'longitude': -76.1481,\n",
       " 'time_zone': 'Eastern (GMT -05:00)',\n",
       " 'cbsa_code': '45060',\n",
       " 'carrier': 'Verizon New York Inc.'}"
      ]
     },
     "execution_count": 1,
     "metadata": {},
     "output_type": "execute_result"
    }
   ],
   "source": [
    "import requests\n",
    "\n",
    "phone = input(\"Enter your phone number: \")\n",
    "params = { 'phone' : phone }\n",
    "headers={ \"X-Mashape-Key\": \"sNi0LJs3rBmshZL7KQOrRWXZqIsBp1XUjhnjsnYUsE6iKo14Nc\",\n",
    "    \"Accept\": \"application/json\" }\n",
    "response = requests.get(\"https://cosmin-us-phone-number-lookup.p.mashape.com/get.php\", params=params, headers=headers )\n",
    "\n",
    "phone_data = response.json()\n",
    "phone_data"
   ]
  },
  {
   "cell_type": "markdown",
   "metadata": {},
   "source": [
    "# Get current exchange rates\n",
    "\n",
    "This example uses http://fixer.io to get the current currency exchange rates.\n"
   ]
  },
  {
   "cell_type": "code",
   "execution_count": 6,
   "metadata": {},
   "outputs": [
    {
     "data": {
      "text/plain": [
       "{'success': True,\n",
       " 'timestamp': 1540601648,\n",
       " 'base': 'EUR',\n",
       " 'date': '2018-10-27',\n",
       " 'rates': {'AED': 4.196251,\n",
       "  'AFN': 86.083757,\n",
       "  'ALL': 124.897941,\n",
       "  'AMD': 555.160603,\n",
       "  'ANG': 2.028532,\n",
       "  'AOA': 350.521246,\n",
       "  'ARS': 42.006639,\n",
       "  'AUD': 1.61131,\n",
       "  'AWG': 2.056403,\n",
       "  'AZN': 1.945019,\n",
       "  'BAM': 1.821178,\n",
       "  'BBD': 2.287519,\n",
       "  'BDT': 95.76027,\n",
       "  'BGN': 1.959756,\n",
       "  'BHD': 0.430543,\n",
       "  'BIF': 2073.53924,\n",
       "  'BMD': 1.142446,\n",
       "  'BND': 1.611021,\n",
       "  'BOB': 7.896301,\n",
       "  'BRL': 4.161707,\n",
       "  'BSD': 1.130964,\n",
       "  'BTC': 0.000178,\n",
       "  'BTN': 83.534009,\n",
       "  'BWP': 12.157956,\n",
       "  'BYN': 2.414336,\n",
       "  'BYR': 22391.938902,\n",
       "  'BZD': 2.297174,\n",
       "  'CAD': 1.500774,\n",
       "  'CDF': 1840.480698,\n",
       "  'CHF': 1.139065,\n",
       "  'CLF': 0.028615,\n",
       "  'CLP': 785.550244,\n",
       "  'CNY': 7.932578,\n",
       "  'COP': 3634.120288,\n",
       "  'CRC': 680.921034,\n",
       "  'CUC': 1.142446,\n",
       "  'CUP': 30.274815,\n",
       "  'CVE': 111.237102,\n",
       "  'CZK': 25.866921,\n",
       "  'DJF': 203.035928,\n",
       "  'DKK': 7.475142,\n",
       "  'DOP': 55.928483,\n",
       "  'DZD': 136.183984,\n",
       "  'EGP': 20.421266,\n",
       "  'ERN': 17.137097,\n",
       "  'ETB': 32.107157,\n",
       "  'EUR': 1,\n",
       "  'FJD': 2.462017,\n",
       "  'FKP': 0.89112,\n",
       "  'GBP': 0.89024,\n",
       "  'GEL': 3.078937,\n",
       "  'GGP': 0.89053,\n",
       "  'GHS': 5.541308,\n",
       "  'GIP': 0.89112,\n",
       "  'GMD': 56.556828,\n",
       "  'GNF': 10424.8189,\n",
       "  'GTQ': 8.854417,\n",
       "  'GYD': 238.879763,\n",
       "  'HKD': 8.961631,\n",
       "  'HNL': 27.544814,\n",
       "  'HRK': 7.447152,\n",
       "  'HTG': 81.824833,\n",
       "  'HUF': 324.889197,\n",
       "  'IDR': 17354.495239,\n",
       "  'ILS': 4.232745,\n",
       "  'IMP': 0.89053,\n",
       "  'INR': 83.541399,\n",
       "  'IQD': 1359.510576,\n",
       "  'IRR': 48102.683437,\n",
       "  'ISK': 137.562347,\n",
       "  'JEP': 0.89053,\n",
       "  'JMD': 153.727956,\n",
       "  'JOD': 0.810684,\n",
       "  'JPY': 127.83631,\n",
       "  'KES': 115.734111,\n",
       "  'KGS': 79.422384,\n",
       "  'KHR': 4650.897506,\n",
       "  'KMF': 493.936907,\n",
       "  'KPW': 1027.807973,\n",
       "  'KRW': 1302.788577,\n",
       "  'KWD': 0.346984,\n",
       "  'KYD': 0.952394,\n",
       "  'KZT': 420.786097,\n",
       "  'LAK': 9756.488063,\n",
       "  'LBP': 1729.720595,\n",
       "  'LKR': 197.540751,\n",
       "  'LRD': 178.878506,\n",
       "  'LSL': 16.628344,\n",
       "  'LTL': 3.373346,\n",
       "  'LVL': 0.691055,\n",
       "  'LYD': 1.57701,\n",
       "  'MAD': 10.880545,\n",
       "  'MDL': 19.600377,\n",
       "  'MGA': 3998.560914,\n",
       "  'MKD': 61.865773,\n",
       "  'MMK': 1810.834248,\n",
       "  'MNT': 2910.783317,\n",
       "  'MOP': 9.229939,\n",
       "  'MRO': 407.853568,\n",
       "  'MUR': 39.750837,\n",
       "  'MVR': 17.662645,\n",
       "  'MWK': 830.723841,\n",
       "  'MXN': 22.119356,\n",
       "  'MYR': 4.769756,\n",
       "  'MZN': 69.237976,\n",
       "  'NAD': 16.604352,\n",
       "  'NGN': 414.708241,\n",
       "  'NIO': 36.791012,\n",
       "  'NOK': 9.539884,\n",
       "  'NPR': 134.169272,\n",
       "  'NZD': 1.754344,\n",
       "  'OMR': 0.439847,\n",
       "  'PAB': 1.142617,\n",
       "  'PEN': 3.819772,\n",
       "  'PGK': 3.715406,\n",
       "  'PHP': 61.132706,\n",
       "  'PKR': 152.528375,\n",
       "  'PLN': 4.320674,\n",
       "  'PYG': 6862.6156,\n",
       "  'QAR': 4.159764,\n",
       "  'RON': 4.669066,\n",
       "  'RSD': 118.666278,\n",
       "  'RUB': 75.047695,\n",
       "  'RWF': 999.64013,\n",
       "  'SAR': 4.285433,\n",
       "  'SBD': 9.374397,\n",
       "  'SCR': 15.583387,\n",
       "  'SDG': 53.83034,\n",
       "  'SEK': 10.43362,\n",
       "  'SGD': 1.577,\n",
       "  'SHP': 1.509061,\n",
       "  'SLL': 9653.667924,\n",
       "  'SOS': 663.761433,\n",
       "  'SRD': 8.520405,\n",
       "  'STD': 24049.170424,\n",
       "  'SVC': 10.000176,\n",
       "  'SYP': 588.360005,\n",
       "  'SZL': 16.628343,\n",
       "  'THB': 37.697862,\n",
       "  'TJS': 10.771494,\n",
       "  'TMT': 3.998561,\n",
       "  'TND': 3.268885,\n",
       "  'TOP': 2.617972,\n",
       "  'TRY': 6.38959,\n",
       "  'TTD': 7.702085,\n",
       "  'TWD': 35.390121,\n",
       "  'TZS': 2618.26158,\n",
       "  'UAH': 32.308789,\n",
       "  'UGX': 4300.566502,\n",
       "  'USD': 1.142446,\n",
       "  'UYU': 37.598312,\n",
       "  'UZS': 9385.193141,\n",
       "  'VEF': 283920.589007,\n",
       "  'VND': 26682.965561,\n",
       "  'VUV': 128.874814,\n",
       "  'WST': 3.047564,\n",
       "  'XAF': 660.539766,\n",
       "  'XAG': 0.077709,\n",
       "  'XAU': 0.000926,\n",
       "  'XCD': 3.087518,\n",
       "  'XDR': 0.825639,\n",
       "  'XOF': 667.188763,\n",
       "  'XPF': 120.242843,\n",
       "  'YER': 286.011737,\n",
       "  'ZAR': 16.682113,\n",
       "  'ZMK': 10283.387801,\n",
       "  'ZMW': 13.211287,\n",
       "  'ZWL': 368.273149}}"
      ]
     },
     "execution_count": 6,
     "metadata": {},
     "output_type": "execute_result"
    }
   ],
   "source": [
    "import requests\n",
    "apikey = '159f1a48ad7a3d6f4dbe5d5a71c2135c' # get your own at fixer.io\n",
    "params = { 'access_key': apikey } # US Dollars\n",
    "response = requests.get(\"http://data.fixer.io/api/latest\", params=params )\n",
    "rates = response.json()\n",
    "rates"
   ]
  },
  {
   "cell_type": "markdown",
   "metadata": {},
   "source": [
    "# GeoIP lookup: Find the lat/lng of an IP Address\n",
    "\n",
    "Every computer on the internet has a unique IP Address. This service when given an IP address will return back where that IP Address is located. Pretty handy API which is commonly used with mobile devices to determine approximate location when the GPS is turned off. "
   ]
  },
  {
   "cell_type": "code",
   "execution_count": 8,
   "metadata": {},
   "outputs": [
    {
     "data": {
      "text/plain": [
       "{'ip': '128.230.182.17',\n",
       " 'type': 'ipv4',\n",
       " 'continent_code': 'NA',\n",
       " 'continent_name': 'North America',\n",
       " 'country_code': 'US',\n",
       " 'country_name': 'United States',\n",
       " 'region_code': 'NY',\n",
       " 'region_name': 'New York',\n",
       " 'city': 'Syracuse',\n",
       " 'zip': '13244',\n",
       " 'latitude': 43.0377,\n",
       " 'longitude': -76.1396,\n",
       " 'location': {'geoname_id': 5140405,\n",
       "  'capital': 'Washington D.C.',\n",
       "  'languages': [{'code': 'en', 'name': 'English', 'native': 'English'}],\n",
       "  'country_flag': 'http://assets.ipstack.com/flags/us.svg',\n",
       "  'country_flag_emoji': '🇺🇸',\n",
       "  'country_flag_emoji_unicode': 'U+1F1FA U+1F1F8',\n",
       "  'calling_code': '1',\n",
       "  'is_eu': False}}"
      ]
     },
     "execution_count": 8,
     "metadata": {},
     "output_type": "execute_result"
    }
   ],
   "source": [
    "import requests\n",
    "ip = \"128.230.182.17\"\n",
    "apikey = 'f9117fcd34312f9083a020af5836e337' # get your own at ipstack.com\n",
    "params = { 'access_key': apikey } # US Dollars\n",
    "response = requests.get(\"http://api.ipstack.com/%s?access_key=f9117fcd34312f9083a020af5836e337\" % ip, params=params )\n",
    "rates = response.json()\n",
    "rates"
   ]
  },
  {
   "cell_type": "markdown",
   "metadata": {},
   "source": [
    "## An API for sentiment analysis...\n",
    "\n",
    "Process some text and more here: http://text-processing.com\n"
   ]
  },
  {
   "cell_type": "code",
   "execution_count": 9,
   "metadata": {},
   "outputs": [
    {
     "name": "stdout",
     "output_type": "stream",
     "text": [
      "How are you feeling today? I am very angry\n",
      "{'probability': {'neg': 0.6482250277738113, 'neutral': 0.019262524295232536, 'pos': 0.35177497222618875}, 'label': 'neg'}\n"
     ]
    }
   ],
   "source": [
    "# sentiment\n",
    "message = input(\"How are you feeling today? \")\n",
    "url = 'http://text-processing.com/api/sentiment/'\n",
    "options = { 'text' : message}\n",
    "response = requests.post(url, data = options)\n",
    "sentiment = response.json()\n",
    "print(sentiment)"
   ]
  },
  {
   "cell_type": "markdown",
   "metadata": {},
   "source": [
    "## Searching iTunes\n",
    "\n",
    "Here's an example of the iTunes search API. I'm searching for \"Mandatory fun\" and printing out the track names."
   ]
  },
  {
   "cell_type": "code",
   "execution_count": 10,
   "metadata": {},
   "outputs": [
    {
     "name": "stdout",
     "output_type": "stream",
     "text": [
      "Word Crimes\n",
      "NOW That's What I Call Polka!\n",
      "Tacky\n",
      "Foil\n",
      "Inactive\n",
      "Lame Claim to Fame\n",
      "Handy\n",
      "Mission Statement\n",
      "Sports Song\n",
      "Jackson Park Express\n",
      "First World Problems\n",
      "My Own Eyes\n",
      "Mandatory Fun\n",
      "Mandatory Fun\n",
      "Mandatory Fun\n",
      "Cash\n",
      "Fool's Gold\n",
      "Good as Gone\n",
      "Believe\n",
      "Take Me Home\n",
      "Down\n",
      "The Truth\n",
      "Spinning Round\n",
      "Heaven Help Me\n",
      "Country Soul\n",
      "Air Traffic Control\n",
      "Koala\n",
      "On the Hillside\n",
      "Spib\n",
      "Waterfall\n",
      "On a Rock\n",
      "Drinks In the Air (feat. Mack)\n"
     ]
    }
   ],
   "source": [
    "term = 'Mandatory Fun'\n",
    "params = { 'term' : term }\n",
    "response = requests.get('https://itunes.apple.com/search', params = params)\n",
    "search = response.json()\n",
    "for r in search['results']:\n",
    "    print(r['trackName'])"
   ]
  },
  {
   "cell_type": "markdown",
   "metadata": {},
   "source": [
    "# Earthquakes anyone?\n",
    "\n",
    "Here's an example of the significant earthquakes from the past week. Information on this API can be found here:\n",
    "\n",
    "http://earthquake.usgs.gov/earthquakes/feed/v1.0/geojson.php \n"
   ]
  },
  {
   "cell_type": "code",
   "execution_count": 11,
   "metadata": {},
   "outputs": [
    {
     "name": "stdout",
     "output_type": "stream",
     "text": [
      "M 6.8 - 33km SW of Mouzaki, Greece\n",
      "M 6.5 - 223km SW of Port Hardy, Canada\n",
      "M 6.8 - 197km SW of Port Hardy, Canada\n",
      "M 6.6 - 218km SW of Port Hardy, Canada\n",
      "M 4.0 - 15km NNE of Amarillo, Texas\n"
     ]
    }
   ],
   "source": [
    "response = requests.get('https://earthquake.usgs.gov/earthquakes/feed/v1.0/summary/significant_week.geojson')\n",
    "quakes = response.json()\n",
    "for q in quakes['features']:\n",
    "    print(q['properties']['title'])"
   ]
  },
  {
   "cell_type": "code",
   "execution_count": null,
   "metadata": {
    "collapsed": true
   },
   "outputs": [],
   "source": []
  }
 ],
 "metadata": {
  "anaconda-cloud": {},
  "kernelspec": {
   "display_name": "Python 3",
   "language": "python",
   "name": "python3"
  },
  "language_info": {
   "codemirror_mode": {
    "name": "ipython",
    "version": 3
   },
   "file_extension": ".py",
   "mimetype": "text/x-python",
   "name": "python",
   "nbconvert_exporter": "python",
   "pygments_lexer": "ipython3",
   "version": "3.6.5"
  }
 },
 "nbformat": 4,
 "nbformat_minor": 1
}
