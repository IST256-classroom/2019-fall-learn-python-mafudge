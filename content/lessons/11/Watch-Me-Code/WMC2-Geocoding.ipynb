{
 "cells": [
  {
   "cell_type": "markdown",
   "metadata": {},
   "source": [
    "# Watch Me Code 2: Geocoding \n",
    "\n",
    "- Get Lat/Long for address\n",
    "- Get city / state for zipcode\n",
    "\n",
    "We will use the OpenStreetMaps API:\n",
    "\n",
    "https://nominatim.openstreetmap.org/search\n"
   ]
  },
  {
   "cell_type": "code",
   "execution_count": 3,
   "metadata": {},
   "outputs": [
    {
     "data": {
      "text/plain": [
       "[{'place_id': '111878987',\n",
       "  'licence': 'Data © OpenStreetMap contributors, ODbL 1.0. https://osm.org/copyright',\n",
       "  'osm_type': 'way',\n",
       "  'osm_id': '157309115',\n",
       "  'boundingbox': ['43.103859', '43.1244225', '-76.1413199', '-76.0880625'],\n",
       "  'lat': '43.1141752',\n",
       "  'lon': '-76.1191445114361',\n",
       "  'display_name': 'Syracuse Hancock International Airport, Colonel Eileen Collins Boulevard, Hinsdale, Town of Salina, Onondaga County, New York, 13211, USA',\n",
       "  'class': 'aeroway',\n",
       "  'type': 'aerodrome',\n",
       "  'importance': 0.7489572928996011,\n",
       "  'icon': 'https://nominatim.openstreetmap.org/images/mapicons/transport_airport2.p.20.png'},\n",
       " {'place_id': '113624545',\n",
       "  'licence': 'Data © OpenStreetMap contributors, ODbL 1.0. https://osm.org/copyright',\n",
       "  'osm_type': 'way',\n",
       "  'osm_id': '159452639',\n",
       "  'boundingbox': ['43.1129398', '43.1147662', '-76.1120426', '-76.110914'],\n",
       "  'lat': '43.1138409',\n",
       "  'lon': '-76.1114685894623',\n",
       "  'display_name': 'Syracuse Hancock International Airport - Main Concourse, Hancock International Airport, Town of DeWitt, Onondaga County, New York, 13211, USA',\n",
       "  'class': 'aeroway',\n",
       "  'type': 'terminal',\n",
       "  'importance': 0.30100000000000005}]"
      ]
     },
     "execution_count": 3,
     "metadata": {},
     "output_type": "execute_result"
    }
   ],
   "source": [
    "import requests\n",
    "\n",
    "text = 'Syracuse Hancock Airport'\n",
    "data =  { 'q' : text, 'format' : 'json'}\n",
    "url='https://nominatim.openstreetmap.org/search' \n",
    "response = requests.get(url, params=data)\n",
    "geodata = response.json()\n",
    "geodata"
   ]
  },
  {
   "cell_type": "code",
   "execution_count": 8,
   "metadata": {},
   "outputs": [
    {
     "data": {
      "text/plain": [
       "[{'place_id': '78764052',\n",
       "  'licence': 'Data © OpenStreetMap contributors, ODbL 1.0. https://osm.org/copyright',\n",
       "  'osm_type': 'way',\n",
       "  'osm_id': '20149345',\n",
       "  'boundingbox': ['43.0348516', '43.0354208', '-76.1344986', '-76.1341443'],\n",
       "  'lat': '43.0350996',\n",
       "  'lon': '-76.1341474',\n",
       "  'display_name': 'Syracuse, Onondaga County, New York, 13244, USA',\n",
       "  'class': 'place',\n",
       "  'type': 'postcode',\n",
       "  'importance': 0.44500000000000006},\n",
       " {'place_id': '200373302',\n",
       "  'licence': 'Data © OpenStreetMap contributors, ODbL 1.0. https://osm.org/copyright',\n",
       "  'boundingbox': ['43.036452557967',\n",
       "   '43.036552557967',\n",
       "   '-76.13685887663',\n",
       "   '-76.13675887663'],\n",
       "  'lat': '43.0365025579672',\n",
       "  'lon': '-76.1368088766295',\n",
       "  'display_name': 'Syracuse, New York, 13244, USA',\n",
       "  'class': 'place',\n",
       "  'type': 'postcode',\n",
       "  'importance': 0.44500000000000006}]"
      ]
     },
     "execution_count": 8,
     "metadata": {},
     "output_type": "execute_result"
    }
   ],
   "source": [
    "def geocode(text):\n",
    "    data =  { 'q' : text, 'format' : 'json'}\n",
    "    url='https://nominatim.openstreetmap.org/search' \n",
    "    response = requests.get(url, params=data)\n",
    "    geodata = response.json()\n",
    "    return geodata\n",
    "\n",
    "geocode('13244 USA')"
   ]
  },
  {
   "cell_type": "code",
   "execution_count": 11,
   "metadata": {},
   "outputs": [
    {
     "name": "stdout",
     "output_type": "stream",
     "text": [
      "13244 Syracuse, Onondaga County, New York, 13244, USA\n",
      "60601 Chicago, Illinois, 60601, USA\n",
      "10001 Chelsea, NYC, New York, 10001, USA\n",
      "90210 LA, California, 90210, USA\n",
      "77030 Houston, Harris County, Texas, 77030, USA\n"
     ]
    }
   ],
   "source": [
    "usa_zips = ['13244', '60601', '10001', '90210', '77030']\n",
    "for zipcode in usa_zips:\n",
    "    data = geocode(zipcode + ' USA')\n",
    "    print(zipcode, data[0]['display_name'])"
   ]
  },
  {
   "cell_type": "code",
   "execution_count": null,
   "metadata": {
    "collapsed": true
   },
   "outputs": [],
   "source": []
  }
 ],
 "metadata": {
  "anaconda-cloud": {},
  "kernelspec": {
   "display_name": "Python 3",
   "language": "python",
   "name": "python3"
  },
  "language_info": {
   "codemirror_mode": {
    "name": "ipython",
    "version": 3
   },
   "file_extension": ".py",
   "mimetype": "text/x-python",
   "name": "python",
   "nbconvert_exporter": "python",
   "pygments_lexer": "ipython3",
   "version": "3.6.5"
  }
 },
 "nbformat": 4,
 "nbformat_minor": 1
}
