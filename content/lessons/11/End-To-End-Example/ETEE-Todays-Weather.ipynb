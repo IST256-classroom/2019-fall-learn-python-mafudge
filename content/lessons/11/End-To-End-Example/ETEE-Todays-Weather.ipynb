{
 "cells": [
  {
   "cell_type": "markdown",
   "metadata": {},
   "source": [
    "# End-To-End Example: Today's Weather\n",
    "\n",
    "This example will input a location and then output today's current weather conditions at that location. \n",
    "\n",
    "To complete this example we will use the following API's \n",
    "\n",
    "- OpenStreetMaps Geocode api to get GPS coordinates for a location eg. Syracuse, NY\n",
    "- Darksky.net forecast api to get the currnt weather conditions for those GPS coordinates\n"
   ]
  },
  {
   "cell_type": "code",
   "execution_count": 29,
   "metadata": {},
   "outputs": [],
   "source": [
    "# Todo list\n",
    "# input a location eg. Syracuse, ny\n",
    "# use the google geocode api to get a lat/lng\n",
    "# use the darksky api and lat/lng to get current weather conditions\n",
    "# output current weather conditions (temperature and summary (rain, snow, etc...))\n"
   ]
  },
  {
   "cell_type": "code",
   "execution_count": 30,
   "metadata": {},
   "outputs": [],
   "source": [
    "import requests"
   ]
  },
  {
   "cell_type": "code",
   "execution_count": 31,
   "metadata": {},
   "outputs": [],
   "source": [
    "def geocode(location):\n",
    "    params = {'q' : location, 'format': 'json'}\n",
    "    url='https://nominatim.openstreetmap.org/search' \n",
    "    response = requests.get(url, params = params)\n",
    "    if response.ok:\n",
    "        geodata = response.json()\n",
    "        return geodata\n",
    "    else:\n",
    "        print(\"Error calling api!!!\")\n",
    "        print(response.text)\n",
    "        \n",
    "# Testing with syracuse, NY \n",
    "# geocode('Syracuse, NY')"
   ]
  },
  {
   "cell_type": "code",
   "execution_count": 32,
   "metadata": {},
   "outputs": [],
   "source": [
    "def darksky_weather(coords):\n",
    "    key = '3428d875996cccbf7b713a175d3fd7a5' # sign up for your own key at https://darksky.net/dev \n",
    "    url='https://api.darksky.net/forecast/%s/%f,%f' % (key, coords['lat'], coords['lng'])\n",
    "    #print(url)\n",
    "    response = requests.get(url)\n",
    "    weather = response.json()\n",
    "    return weather\n",
    "\n",
    "# Testing with syracuse, NY coordinates\n",
    "# darksky_weather( {'lat' : 43.0481221, 'lng' : -76.1474244})"
   ]
  },
  {
   "cell_type": "code",
   "execution_count": 33,
   "metadata": {},
   "outputs": [
    {
     "data": {
      "text/plain": [
       "40.2"
      ]
     },
     "execution_count": 33,
     "metadata": {},
     "output_type": "execute_result"
    }
   ],
   "source": [
    "# then test them here to figue out how to extract from the dictionary\n",
    "geodata = geocode('Syracuse, NY')\n",
    "coords = { 'lat' : float(geodata[0]['lat']), 'lng' : float(geodata[0]['lon']) }\n",
    "coords\n",
    "weather = darksky_weather(coords)\n",
    "weather['currently']['temperature']\n",
    "    "
   ]
  },
  {
   "cell_type": "code",
   "execution_count": 34,
   "metadata": {},
   "outputs": [
    {
     "name": "stdout",
     "output_type": "stream",
     "text": [
      "Where are you? (eg. Syracuse, NY) : Ottawa, ON\n",
      "Current conditions in Ottawa, ON are Partly Cloudy with a temperature of 31 degrees.\n"
     ]
    }
   ],
   "source": [
    "import requests\n",
    "# Now I can write the entire program...\n",
    "location = input(\"Where are you? (eg. Syracuse, NY) : \")\n",
    "geodata = geocode(location)\n",
    "coords = { 'lat' : float(geodata[0]['lat']), 'lng' : float(geodata[0]['lon']) }\n",
    "weather = darksky_weather(coords)\n",
    "current = weather['currently']\n",
    "print(\"Current conditions in %s are %s with a temperature of %.0f degrees.\" % \n",
    "      (location, current['summary'], current['temperature']))\n"
   ]
  },
  {
   "cell_type": "code",
   "execution_count": null,
   "metadata": {},
   "outputs": [],
   "source": []
  }
 ],
 "metadata": {
  "anaconda-cloud": {},
  "kernelspec": {
   "display_name": "Python 3",
   "language": "python",
   "name": "python3"
  },
  "language_info": {
   "codemirror_mode": {
    "name": "ipython",
    "version": 3
   },
   "file_extension": ".py",
   "mimetype": "text/x-python",
   "name": "python",
   "nbconvert_exporter": "python",
   "pygments_lexer": "ipython3",
   "version": "3.6.5"
  }
 },
 "nbformat": 4,
 "nbformat_minor": 1
}
