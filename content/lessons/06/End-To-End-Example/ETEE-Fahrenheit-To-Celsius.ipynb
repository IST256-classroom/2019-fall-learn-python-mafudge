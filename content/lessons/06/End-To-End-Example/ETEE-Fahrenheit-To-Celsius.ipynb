{
 "cells": [
  {
   "cell_type": "markdown",
   "metadata": {},
   "source": [
    "# End-To-End Example: Temperature Conversions \n",
    "\n",
    "First we will write two conversion functions:\n",
    "\n",
    "- f2c convert Fahrenheit temperature to Celsius\n",
    "- c2f convert Celsius temperature to Fahrenheit\n",
    "\n",
    "Next, we'll test the functions by calling them. Once they're correct we will write our program to input a temperature and units, then convert to the other unit. "
   ]
  },
  {
   "cell_type": "code",
   "execution_count": 1,
   "metadata": {
    "collapsed": true
   },
   "outputs": [],
   "source": [
    "## function f2c\n",
    "# argument: temp in F\n",
    "# return temp in C\n",
    "\n",
    "def f2c(temp_in_f):\n",
    "    return (temp_in_f-32) * (5/9)"
   ]
  },
  {
   "cell_type": "code",
   "execution_count": 2,
   "metadata": {
    "collapsed": true
   },
   "outputs": [],
   "source": [
    "## function c2f\n",
    "# argument : temp in C\n",
    "# return: temp in F\n",
    "\n",
    "def c2f(temp_in_c):\n",
    "    return (9/5)*temp_in_c + 32"
   ]
  },
  {
   "cell_type": "code",
   "execution_count": 4,
   "metadata": {
    "collapsed": false
   },
   "outputs": [
    {
     "name": "stdout",
     "output_type": "stream",
     "text": [
      "100.0\n",
      "32.0\n"
     ]
    }
   ],
   "source": [
    "## Let's test our functions\n",
    "\n",
    "#should be 100 C\n",
    "print (f2c(212))\n",
    "\n",
    "#shouod be 32 F\n",
    "print(c2f(0))"
   ]
  },
  {
   "cell_type": "code",
   "execution_count": 11,
   "metadata": {
    "collapsed": false
   },
   "outputs": [
    {
     "name": "stdout",
     "output_type": "stream",
     "text": [
      "Enter temperature: 25\n",
      "In which unit [F/C] ?C\n",
      "25.0 in C is 77.0 in F\n"
     ]
    }
   ],
   "source": [
    "## Main program here\n",
    "temp = float(input(\"Enter temperature: \"))\n",
    "unit = input(\"In which unit [F/C] ?\")\n",
    "if unit == 'F':\n",
    "    tempc = f2c(temp)\n",
    "    print(\"%.1f in F is %.1f in C\" % (temp,tempc))\n",
    "elif unit =='C':\n",
    "    tempf = c2f(temp)\n",
    "    print(\"%.1f in C is %.1f in F\" % (temp,tempf))\n",
    "else:\n",
    "    print(\"I don't understand unit %s\" % (unit))\n",
    "    "
   ]
  },
  {
   "cell_type": "code",
   "execution_count": null,
   "metadata": {
    "collapsed": true
   },
   "outputs": [],
   "source": []
  }
 ],
 "metadata": {
  "anaconda-cloud": {},
  "kernelspec": {
   "display_name": "Python [default]",
   "language": "python",
   "name": "python3"
  },
  "language_info": {
   "codemirror_mode": {
    "name": "ipython",
    "version": 3
   },
   "file_extension": ".py",
   "mimetype": "text/x-python",
   "name": "python",
   "nbconvert_exporter": "python",
   "pygments_lexer": "ipython3",
   "version": "3.5.2"
  }
 },
 "nbformat": 4,
 "nbformat_minor": 0
}
