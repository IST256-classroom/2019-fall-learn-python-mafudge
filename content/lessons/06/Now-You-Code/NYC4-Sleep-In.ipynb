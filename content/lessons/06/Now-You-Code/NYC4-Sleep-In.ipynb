{
 "cells": [
  {
   "cell_type": "markdown",
   "metadata": {},
   "source": [
    "# Now You Code 4: Should I Sleep In?\n",
    "\n",
    "Always. :-) \n",
    "\n",
    "Actually we'd like to write a program which will suggest whether or not we can sleep in. Our criteria will be as follows.\n",
    "\n",
    "- Is it the weekend? Then sleep in.\n",
    "- Is it a holiday? Then sleep in.\n",
    "- Otherwise you need to get up!\n",
    "\n",
    "Let's write a program to input the day of the week and ask whether or not its a holiday, then make the appropriate decision as to whether or not we should sleep in.\n",
    "\n",
    "We will use the **Write - Refactor - Test - Rewrite** approach to complete the final solution which will refactor the day of the week logic into a function."
   ]
  },
  {
   "cell_type": "markdown",
   "metadata": {},
   "source": [
    "## Step 1: Write\n",
    "\n",
    "Here's the algorithm of this program. Write the solution in Python.\n",
    "\n",
    "```\n",
    "    input day of the week\n",
    "    input is it a holiday\n",
    "    if day of the week is a weekend\n",
    "        print go back to bed its the weekend\n",
    "    else\n",
    "        if its a holiday\n",
    "            print go back to bed. its a holiday\n",
    "        else\n",
    "            print you need to get up\n",
    "```\n",
    "\n",
    "Example Run 1:\n",
    "\n",
    "```\n",
    "What day of the week is it? Monday\n",
    "Is it a holiday? No\n",
    "You need to get up!\n",
    "```\n",
    "\n",
    "Example Run 2:\n",
    "\n",
    "```\n",
    "What day of the week is it? Saturday\n",
    "Is it a holiday? No\n",
    "Go back to bed! It's the weekend.\n",
    "```\n",
    "\n",
    "Example Run 3:\n",
    "\n",
    "```\n",
    "What day of the week is it? Monday\n",
    "Is it a holiday? Yes\n",
    "Go back to bed! It's a Holiday.\n",
    "```\n"
   ]
  },
  {
   "cell_type": "code",
   "execution_count": 6,
   "metadata": {},
   "outputs": [
    {
     "name": "stdout",
     "output_type": "stream",
     "text": [
      "Enter Radius: 1\n",
      "A circle with radius 1.000000 has area 3.141593 and circumfrence 6.283185\n"
     ]
    }
   ],
   "source": [
    "## TODO: Write the solution here\n",
    "\n"
   ]
  },
  {
   "cell_type": "markdown",
   "metadata": {},
   "source": [
    "## Step 2: Refactor\n",
    "\n",
    "Next we need to refactor the part of this program which checks to see if the day of the week is a weekend. The function:\n",
    "\n",
    "- `IsWeekend()` has one input a `day_of_week` and returns `True` when it's a `Saturday` or `Sunday`, `False` for all other days.\n"
   ]
  },
  {
   "cell_type": "code",
   "execution_count": 7,
   "metadata": {},
   "outputs": [],
   "source": [
    "## Step 2: Refactor into function IsWeekend(day_of_week)\n",
    "\n"
   ]
  },
  {
   "cell_type": "markdown",
   "metadata": {},
   "source": [
    "## Step 3: Test \n",
    "\n",
    "Time to test. Write 7 tests, once for each day of the week.\n",
    "```\n",
    "WHEN day_of_week='Monday' We EXPECT IsWeekend(day_of_week) to return False\n",
    "WHEN day_of_week='Tuesday' We EXPECT IsWeekend(day_of_week) to return False\n",
    "WHEN day_of_week='Wednesday' We EXPECT IsWeekend(day_of_week) to return False\n",
    "WHEN day_of_week='Thursday' We EXPECT IsWeekend(day_of_week) to return False\n",
    "WHEN day_of_week='Friday' We EXPECT IsWeekend(day_of_week) to return False\n",
    "WHEN day_of_week='Saturday' We EXPECT IsWeekend(day_of_week) to return True\n",
    "WHEN day_of_week='Sunday' We EXPECT IsWeekend(day_of_week) to return True\n",
    "```\n"
   ]
  },
  {
   "cell_type": "code",
   "execution_count": 2,
   "metadata": {},
   "outputs": [],
   "source": [
    "# Step 3: Write tests. Similar to how we did it in the lab.\n"
   ]
  },
  {
   "cell_type": "markdown",
   "metadata": {},
   "source": [
    "## Step 4: rewrite the program to use the function\n",
    "\n",
    "Finally re-write the original program, but call the function you made in step 2: \n"
   ]
  },
  {
   "cell_type": "code",
   "execution_count": 1,
   "metadata": {},
   "outputs": [],
   "source": [
    "## Step 4: Write program here from the algorithm above\n"
   ]
  },
  {
   "cell_type": "markdown",
   "metadata": {},
   "source": [
    "## Step 6: Questions\n",
    "\n",
    "1. Provide 3 advantages for programming a user function in your code like `IsWeekend`?\n",
    "2. Why did we need to write 7 tests?\n",
    "3. Which code is easier to understand? Step 1 or step 4? Why? or Why not?\n",
    "4. What happens when you input `'sat'` for `'Saturday'` Does it work? How can the program be improved? Does improving it affect the readability of step 4? (HINT: Abstractions!!!)\n"
   ]
  },
  {
   "cell_type": "markdown",
   "metadata": {},
   "source": [
    "## Reminder of Evaluation Criteria\n",
    "\n",
    "1. Was the problem attempted (analysis, code, and answered questions) ?\n",
    "2. Was the problem analysis thought out? (does the program match the plan?)\n",
    "3. Does the code execute without syntax error?\n",
    "4. Does the code solve the intended problem?\n",
    "5. Is the code well written? (easy to understand, modular, and self-documenting, handles errors)\n"
   ]
  },
  {
   "cell_type": "code",
   "execution_count": null,
   "metadata": {
    "collapsed": true
   },
   "outputs": [],
   "source": []
  }
 ],
 "metadata": {
  "anaconda-cloud": {},
  "kernelspec": {
   "display_name": "Python 3",
   "language": "python",
   "name": "python3"
  },
  "language_info": {
   "codemirror_mode": {
    "name": "ipython",
    "version": 3
   },
   "file_extension": ".py",
   "mimetype": "text/x-python",
   "name": "python",
   "nbconvert_exporter": "python",
   "pygments_lexer": "ipython3",
   "version": "3.6.6"
  }
 },
 "nbformat": 4,
 "nbformat_minor": 1
}
