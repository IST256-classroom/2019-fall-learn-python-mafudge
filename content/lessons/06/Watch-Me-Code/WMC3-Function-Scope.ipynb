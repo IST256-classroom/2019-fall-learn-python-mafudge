{
 "cells": [
  {
   "cell_type": "markdown",
   "metadata": {
    "collapsed": false
   },
   "source": [
    "# Watch Me Code 3: Understanding Function Variable Scope\n",
    "\n"
   ]
  },
  {
   "cell_type": "code",
   "execution_count": 26,
   "metadata": {
    "collapsed": true
   },
   "outputs": [],
   "source": [
    "def area_incorrect():\n",
    "    area = length * width # these are in the global scope!!!!\n",
    "    return area\n"
   ]
  },
  {
   "cell_type": "code",
   "execution_count": 27,
   "metadata": {
    "collapsed": false,
    "scrolled": true
   },
   "outputs": [
    {
     "name": "stdout",
     "output_type": "stream",
     "text": [
      "length= 10 width= 5 area= 50\n"
     ]
    }
   ],
   "source": [
    "## This is a bad idea\n",
    "\n",
    "length = 10\n",
    "width = 5\n",
    "area = area_incorrect()\n",
    "print (\"length=\",length, \"width=\",width, \"area=\",area)"
   ]
  },
  {
   "cell_type": "code",
   "execution_count": 28,
   "metadata": {
    "collapsed": true
   },
   "outputs": [],
   "source": [
    "## Always pass in arguments from the global scope!\n",
    "\n",
    "def area_correct(length, width):\n",
    "    area = length * width # these are local copies from the global scope...\n",
    "    length = 0 \n",
    "    width = 0 # what happens here, stays here!\n",
    "    return area"
   ]
  },
  {
   "cell_type": "code",
   "execution_count": 29,
   "metadata": {
    "collapsed": false
   },
   "outputs": [
    {
     "name": "stdout",
     "output_type": "stream",
     "text": [
      "length= 5 width= 10 area= 50\n"
     ]
    }
   ],
   "source": [
    "# in the global scope\n",
    "length = 5\n",
    "width = 10\n",
    "area = area_correct(length,width)\n",
    "print (\"length=\",length, \"width=\",width, \"area=\",area)"
   ]
  },
  {
   "cell_type": "code",
   "execution_count": null,
   "metadata": {
    "collapsed": true
   },
   "outputs": [],
   "source": []
  }
 ],
 "metadata": {
  "anaconda-cloud": {},
  "kernelspec": {
   "display_name": "Python 3",
   "language": "python",
   "name": "python3"
  },
  "language_info": {
   "codemirror_mode": {
    "name": "ipython",
    "version": 3
   },
   "file_extension": ".py",
   "mimetype": "text/x-python",
   "name": "python",
   "nbconvert_exporter": "python",
   "pygments_lexer": "ipython3",
   "version": "3.5.2"
  }
 },
 "nbformat": 4,
 "nbformat_minor": 0
}
