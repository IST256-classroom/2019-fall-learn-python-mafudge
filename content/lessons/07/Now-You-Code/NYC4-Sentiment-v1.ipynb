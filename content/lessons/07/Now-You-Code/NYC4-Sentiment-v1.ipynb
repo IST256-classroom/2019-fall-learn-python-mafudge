{
 "cells": [
  {
   "cell_type": "markdown",
   "metadata": {},
   "source": [
    "# Now You Code 4: Sentiment v1.0\n",
    "\n",
    "Let's write a basic sentiment analyzer in Python. Sentiment analysis is the act of extracting mood from text. It has practical applications in analyzing reactions in social media, product opinions, movie reviews and much more.\n",
    "\n",
    "The 1.0 version of our sentiment analyzer will start with a string of positive and negative words. For any input text and the sentiment score will be calculated by simply adding up the frequency of the positive words, then subtracting out the negative words.\n",
    "\n",
    "So for example, if:\n",
    "\n",
    "```\n",
    "    positive_text = \"happy glad like\"\n",
    "    negative_text = \"angry mad hate\"\n",
    "    input_text = \"Amazon makes me like so angry and mad\"\n",
    "    score = -1 [ +1 for like, -1 for angry, -1 for mad]\n",
    "```\n",
    "\n",
    "You will complete this program by first writing the sentiment function, then writing some tests for it.\n",
    "\n",
    "You will conclude by writing the complete sentiment analyzer to score any sentence. \n",
    "\n"
   ]
  },
  {
   "cell_type": "markdown",
   "metadata": {},
   "source": [
    "## Problem Analysis For Sentiment Function\n",
    "\n",
    "\n",
    "You want to write `ScoreSentiment()` as a function:\n",
    "\n",
    "- Function: `ScoreSentiment()`\n",
    "- Arguments (input): `postive_text, negative_text, input_text`\n",
    "- Returns (output): `score (int)`\n",
    "\n",
    "Algorithm (Steps in Program):\n",
    "\n",
    "```\n",
    "for each word in our tokenized input_text\n",
    "    if word in positive_text then\n",
    "        increment seniment score\n",
    "    else if word in negative_text then\n",
    "        decrement sentiment score\n",
    "```\n",
    "\n",
    "## Step 1: Write the function\n"
   ]
  },
  {
   "cell_type": "code",
   "execution_count": null,
   "metadata": {},
   "outputs": [],
   "source": [
    "def ScoreSentiment(positive_text, negative_text, input_text):\n",
    "    #TODO write code here\n",
    "    \n",
    "    return score"
   ]
  },
  {
   "cell_type": "markdown",
   "metadata": {},
   "source": [
    "## Step 2: Write tests for the function\n",
    "\n",
    "With the function complete, we need to test our function. The simplest way to do that is call the function with inputs we expect and verify the output. For example:\n",
    "\n",
    "```\n",
    "pos_text='happy joy good'\n",
    "neg_text ='sad pain bad'\n",
    "\n",
    "WHEN input_text='I am sad with joy' We EXPECT ScoreSentiment(input_text) to return 0\n",
    "WHEN input_text='I am sad and in pain' We EXPECT ScoreSentiment(input_text) to return -2\n",
    "WHEN input_text='I am happy with joy' We EXPECT ScoreSentiment(input_text) to return 2\n",
    "```\n"
   ]
  },
  {
   "cell_type": "code",
   "execution_count": null,
   "metadata": {},
   "outputs": [],
   "source": [
    "## TODO write tests here."
   ]
  },
  {
   "cell_type": "markdown",
   "metadata": {},
   "source": [
    "## Step 3: Write final program \n",
    "\n",
    "Then write a main program that executes like this:\n",
    "\n",
    "Sample Run\n",
    "\n",
    "```\n",
    "Sentiment Analyzer 1.0\n",
    "Type 'quit' to exit.\n",
    "Enter Text: i love a good book from amazon\n",
    "2 positive.\n",
    "Enter Text: i hate amazon their service makes me angry\n",
    "-2 negative.\n",
    "Enter Text: i love to hate amazon\n",
    "0 neutral.\n",
    "Enter Text: quit\n",
    "```\n",
    "\n",
    "NOTE: make up your own strings of positive and negative words to make the sentiment more accurate. "
   ]
  },
  {
   "cell_type": "markdown",
   "metadata": {},
   "source": [
    "###  3.a : Problem Analysis\n",
    "\n",
    "Inputs:\n",
    "\n",
    "\n",
    "Outputs:\n",
    "\n",
    "\n",
    "Algorithm:\n",
    "\n"
   ]
  },
  {
   "cell_type": "code",
   "execution_count": null,
   "metadata": {},
   "outputs": [],
   "source": [
    "## TODO: 3b write program\n",
    "\n"
   ]
  },
  {
   "cell_type": "markdown",
   "metadata": {},
   "source": [
    "## Step 4: Questions\n",
    "\n",
    "1. What can be done to make the sentiment more accurate?\n",
    "2. Do you see a problem with the method of scoring?\n",
    "3. Does the function improve readability of the final program in 3.b? Why or why not?\n"
   ]
  },
  {
   "cell_type": "markdown",
   "metadata": {},
   "source": [
    "## Reminder of Evaluation Criteria\n",
    "\n",
    "1. Was the problem attempted (analysis, code, and answered questions) ?\n",
    "2. Was the problem analysis thought out? (does the program match the plan?)\n",
    "3. Does the code execute without syntax error?\n",
    "4. Does the code solve the intended problem?\n",
    "5. Is the code well written? (easy to understand, modular, and self-documenting, handles errors)\n"
   ]
  },
  {
   "cell_type": "code",
   "execution_count": null,
   "metadata": {},
   "outputs": [],
   "source": []
  }
 ],
 "metadata": {
  "anaconda-cloud": {},
  "kernelspec": {
   "display_name": "Python 3",
   "language": "python",
   "name": "python3"
  },
  "language_info": {
   "codemirror_mode": {
    "name": "ipython",
    "version": 3
   },
   "file_extension": ".py",
   "mimetype": "text/x-python",
   "name": "python",
   "nbconvert_exporter": "python",
   "pygments_lexer": "ipython3",
   "version": "3.6.6"
  }
 },
 "nbformat": 4,
 "nbformat_minor": 1
}
