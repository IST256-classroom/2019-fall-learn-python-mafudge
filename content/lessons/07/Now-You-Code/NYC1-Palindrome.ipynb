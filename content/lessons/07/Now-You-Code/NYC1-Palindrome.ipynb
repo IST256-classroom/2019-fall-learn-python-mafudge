{
 "cells": [
  {
   "cell_type": "markdown",
   "metadata": {},
   "source": [
    "# Now You Code 1: Palindrome Detector\n",
    "\n",
    "Write a program to detect palindromes [https://en.wikipedia.org/wiki/Palindrome]. A palindrome is defined as a word or phrase which is the same in reverse. Here's some example's of one word palindromes:\n",
    "\n",
    "```\n",
    "dad\n",
    "wow\n",
    "pop\n",
    "abba\n",
    "noon\n",
    "kayak\n",
    "madam\n",
    "solos\n",
    "racecar\n",
    "```\n",
    "\n",
    "There's several ways you accomplish this but we'd recommend using Python's extended slice notation as covered in the readings. It's by far the simplest method. \n",
    "\n",
    "The final program should take input and return whether the text is or is not a palindrome until you enter `quit`.\n",
    "\n",
    "Sample run of complete program:\n",
    "\n",
    "```\n",
    "Enter text or type `quit`: dad\n",
    "'dad' is a palindrome.\n",
    "Enter text or type `quit`: pappa\n",
    "'pappa' is not a palindrome.\n",
    "Enter text or type `quit`: quit\n",
    "```\n",
    "\n",
    "Once again we will use the problem simplification technique to writing this program.\n",
    "\n",
    "First we will write the `isPalindrome(text)` function, then we will write the main program.\n"
   ]
  },
  {
   "cell_type": "markdown",
   "metadata": {},
   "source": [
    "## Step 1: Problem Analysis for isPalindrome function only\n",
    "\n",
    "Inputs: \n",
    "\n",
    "Outputs: \n",
    "\n",
    "Algorithm (Steps in Program):\n",
    "\n"
   ]
  },
  {
   "cell_type": "code",
   "execution_count": null,
   "metadata": {},
   "outputs": [],
   "source": [
    "## Step 2: todo write function definition here\n"
   ]
  },
  {
   "cell_type": "code",
   "execution_count": null,
   "metadata": {},
   "outputs": [],
   "source": [
    "## step 3: test the isPalindrome function to make sure it works:\n",
    "print(\"Input:\", \"kayak\", \"Should be True, Actual Value:\", isPalindrome(\"kayak\") )\n",
    "print(\"Input:\", \"mike\", \"Should be False, Actual Value:\", isPalindrome(\"mike\") )"
   ]
  },
  {
   "cell_type": "markdown",
   "metadata": {},
   "source": [
    "## Step 4: Problem Analysis for full Program\n",
    "\n",
    "Inputs:\n",
    "\n",
    "Outputs:\n",
    "\n",
    "Algorithm (Steps in Program):\n",
    "\n"
   ]
  },
  {
   "cell_type": "code",
   "execution_count": null,
   "metadata": {
    "collapsed": true
   },
   "outputs": [],
   "source": [
    "## Step 5: todo write code for full problem, using the isPalindrome function to help you solve the problem\n"
   ]
  },
  {
   "cell_type": "markdown",
   "metadata": {},
   "source": [
    "## Step 6: Questions\n",
    "\n",
    "1. Did you use a loop inside your `isPalindrome` function? Can you think of a way to re-factor it without a loop?\n",
    "2. How many tests are required in step 3?\n",
    "3. What is the exit condition of the loop in the full program?\n"
   ]
  },
  {
   "cell_type": "markdown",
   "metadata": {},
   "source": [
    "## Reminder of Evaluation Criteria\n",
    "\n",
    "1. Was the problem attempted (analysis, code, and answered questions) ?\n",
    "2. Was the problem analysis thought out? (does the program match the plan?)\n",
    "3. Does the code execute without syntax error?\n",
    "4. Does the code solve the intended problem?\n",
    "5. Is the code well written? (easy to understand, modular, and self-documenting, handles errors)\n"
   ]
  },
  {
   "cell_type": "code",
   "execution_count": null,
   "metadata": {
    "collapsed": true
   },
   "outputs": [],
   "source": []
  }
 ],
 "metadata": {
  "anaconda-cloud": {},
  "kernelspec": {
   "display_name": "Python 3",
   "language": "python",
   "name": "python3"
  },
  "language_info": {
   "codemirror_mode": {
    "name": "ipython",
    "version": 3
   },
   "file_extension": ".py",
   "mimetype": "text/x-python",
   "name": "python",
   "nbconvert_exporter": "python",
   "pygments_lexer": "ipython3",
   "version": "3.6.6"
  }
 },
 "nbformat": 4,
 "nbformat_minor": 1
}
