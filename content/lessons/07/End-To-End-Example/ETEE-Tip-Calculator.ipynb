{
 "cells": [
  {
   "cell_type": "markdown",
   "metadata": {},
   "source": [
    "# End-To-End Example: Tip Calculator\n",
    "\n",
    "The following code calculates the amount of tip you should leave based on the amount of the check and percentage you would like to tip.\n",
    "\n"
   ]
  },
  {
   "cell_type": "code",
   "execution_count": 1,
   "metadata": {},
   "outputs": [
    {
     "name": "stdout",
     "output_type": "stream",
     "text": [
      "Enter Amount of Check: 100\n",
      "Enter the Tip Percentage: 15\n",
      "You should leave this amount for a tip $1500.00\n"
     ]
    }
   ],
   "source": [
    "total = float(input(\"Enter Amount of Check: \"))\n",
    "tip = float(input(\"Enter the Tip Percentage: \"))\n",
    "tip_amount = total * tip\n",
    "print (\"You should leave this amount for a tip $%.2f\" % (tip_amount))"
   ]
  },
  {
   "cell_type": "markdown",
   "metadata": {},
   "source": [
    "## The Issues\n",
    "\n",
    "The issue with this program is that its not smart with the tip percentage. When I enter 15 is assumes 1500% not 15%. \n",
    "\n",
    "With our knowledge of strings and parsing we can make this program more intelligent:\n",
    "\n",
    "- When you enter `0.15` it uses `0.15`\n",
    "- When you enter `15` it assumes you meant `0.15` (divides by 100)\n",
    "- When you enter `15%` it assumes you meant `0.15` (removes the %, then divides by 100)\n",
    "\n",
    "\n",
    "Likewise we should do the same for currency input. Assuming the user might enter a $"
   ]
  },
  {
   "cell_type": "code",
   "execution_count": 3,
   "metadata": {},
   "outputs": [
    {
     "data": {
      "text/plain": [
       "0.15"
      ]
     },
     "execution_count": 3,
     "metadata": {},
     "output_type": "execute_result"
    }
   ],
   "source": [
    "# exploring how to parse percentages\n",
    "x = \"15 %\"\n",
    "y  = float(x.replace('%',''))\n",
    "if y >=1:\n",
    "    y = y/100\n",
    "print(y)"
   ]
  },
  {
   "cell_type": "code",
   "execution_count": 4,
   "metadata": {},
   "outputs": [],
   "source": [
    "## Function: percentage - parses string input into a float as a percentage\n",
    "## Arguments: text\n",
    "## Returns float\n",
    "def percentage(text):\n",
    "    number = float(text.replace('%',''))\n",
    "    if number >1:\n",
    "        number = number /100\n",
    "    return number\n",
    "\n",
    "## Function: currency - parses string input into a float as currency\n",
    "## Arguments: text\n",
    "## Returns float\n",
    "def currency(text):\n",
    "    number = float(text.replace('$',''))\n",
    "    return number"
   ]
  },
  {
   "cell_type": "code",
   "execution_count": 7,
   "metadata": {},
   "outputs": [
    {
     "name": "stdout",
     "output_type": "stream",
     "text": [
      "Enter Amount of Check: 100\n",
      "Enter the Tip Percentage: .15\n",
      "You should leave this amount for a tip $15.00\n"
     ]
    }
   ],
   "source": [
    "total = currency(input(\"Enter Amount of Check: \"))\n",
    "tip = percentage(input(\"Enter the Tip Percentage: \"))\n",
    "tip_amount = total * tip\n",
    "print (\"You should leave this amount for a tip $%.2f\" % (tip_amount))"
   ]
  },
  {
   "cell_type": "code",
   "execution_count": null,
   "metadata": {
    "collapsed": true
   },
   "outputs": [],
   "source": []
  }
 ],
 "metadata": {
  "anaconda-cloud": {},
  "kernelspec": {
   "display_name": "Python 3",
   "language": "python",
   "name": "python3"
  },
  "language_info": {
   "codemirror_mode": {
    "name": "ipython",
    "version": 3
   },
   "file_extension": ".py",
   "mimetype": "text/x-python",
   "name": "python",
   "nbconvert_exporter": "python",
   "pygments_lexer": "ipython3",
   "version": "3.6.6"
  }
 },
 "nbformat": 4,
 "nbformat_minor": 1
}
