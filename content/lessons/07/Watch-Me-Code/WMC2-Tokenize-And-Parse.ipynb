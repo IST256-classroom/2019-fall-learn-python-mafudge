{
 "cells": [
  {
   "cell_type": "markdown",
   "metadata": {
    "collapsed": false
   },
   "source": [
    "# Watch Me Code 2: Tokenize and Parse\n",
    "\n",
    "Our end-game is a program which reads in a list of numbers separated by a space and then outputs the sum of those numbers."
   ]
  },
  {
   "cell_type": "code",
   "execution_count": 8,
   "metadata": {
    "collapsed": false
   },
   "outputs": [
    {
     "name": "stdout",
     "output_type": "stream",
     "text": [
      "You total is: \n",
      "147\n"
     ]
    }
   ],
   "source": [
    "# what exactly is the type of a space-separated list of numbers?\n",
    "raw = \"12 45 90\"\n",
    "type(raw)\n",
    "\n",
    "tokens = raw.split(\" \")\n",
    "total = 0\n",
    "for token in tokens:\n",
    "    total = total + int(token)\n",
    "\n",
    "print(\"You total is: \")\n",
    "print(total)\n"
   ]
  },
  {
   "cell_type": "code",
   "execution_count": null,
   "metadata": {
    "collapsed": true
   },
   "outputs": [],
   "source": []
  }
 ],
 "metadata": {
  "anaconda-cloud": {},
  "kernelspec": {
   "display_name": "Python 3",
   "language": "python",
   "name": "python3"
  },
  "language_info": {
   "codemirror_mode": {
    "name": "ipython",
    "version": 3
   },
   "file_extension": ".py",
   "mimetype": "text/x-python",
   "name": "python",
   "nbconvert_exporter": "python",
   "pygments_lexer": "ipython3",
   "version": "3.5.2"
  }
 },
 "nbformat": 4,
 "nbformat_minor": 0
}
