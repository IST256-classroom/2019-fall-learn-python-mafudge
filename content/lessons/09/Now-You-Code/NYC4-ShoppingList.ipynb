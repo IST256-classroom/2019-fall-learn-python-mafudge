{
 "cells": [
  {
   "cell_type": "markdown",
   "metadata": {},
   "source": [
    "# Now You Code 4: Shopping List\n",
    "\n",
    "Write a simple shopping list program. Use a Python `list` as a shopping list. Function definitions have been written for you, so all you need to do is complete the code inside the function. \n",
    "\n",
    "The main program loop has a menu allowing you to 1) add to the list 2) remove an item from the list or 3) print the list\n",
    "\n",
    "Example Run\n",
    "\n",
    "```\n",
    "A - Add Item to Shopping List\n",
    "P - Print Shopping List\n",
    "R - Remove Item from Shopping List\n",
    "Q - Quit Shopping List Program\n",
    "Enter choice: a\n",
    "Enter Item to Add: eggs\n",
    "A - Add Item to Shopping List\n",
    "P - Print Shopping List\n",
    "R - Remove Item from Shopping List\n",
    "Q - Quit Shopping List Program\n",
    "Enter choice: a\n",
    "Enter Item to Add: eggs\n",
    "eggs is already in the list!\n",
    "A - Add Item to Shopping List\n",
    "P - Print Shopping List\n",
    "R - Remove Item from Shopping List\n",
    "Q - Quit Shopping List Program\n",
    "Enter choice: p\n",
    "Your List: ['eggs']\n",
    "A - Add Item to Shopping List\n",
    "P - Print Shopping List\n",
    "R - Remove Item from Shopping List\n",
    "Q - Quit Shopping List Program\n",
    "Enter choice: r\n",
    "Enter Item to Remove from List: peas\n",
    "peas is not in the list!\n",
    "A - Add Item to Shopping List\n",
    "P - Print Shopping List\n",
    "R - Remove Item from Shopping List\n",
    "Q - Quit Shopping List Program\n",
    "Enter choice: r\n",
    "Enter Item to Remove from List: eggs\n",
    "A - Add Item to Shopping List\n",
    "P - Print Shopping List\n",
    "R - Remove Item from Shopping List\n",
    "Q - Quit Shopping List Program\n",
    "Enter choice: p\n",
    "Your List: []\n",
    "A - Add Item to Shopping List\n",
    "P - Print Shopping List\n",
    "R - Remove Item from Shopping List\n",
    "Q - Quit Shopping List Program\n",
    "Enter choice: q\n",
    "```\n",
    "\n",
    "Most of the code has been written for you fill in the areas below.\n"
   ]
  },
  {
   "cell_type": "code",
   "execution_count": null,
   "metadata": {
    "collapsed": true
   },
   "outputs": [],
   "source": [
    "# TODO: Write Todo lists for\n",
    "# #1 Add item to list if it does not exist\n",
    "# #2 Remove item from list when it does not exist\n",
    "\n"
   ]
  },
  {
   "cell_type": "code",
   "execution_count": null,
   "metadata": {
    "collapsed": true
   },
   "outputs": [],
   "source": [
    "# Write code here\n",
    "def print_menu():\n",
    "    print(\"A - Add Item to Shopping List\")\n",
    "    print(\"P - Print Shopping List\")\n",
    "    print(\"R - Remove Item from Shopping List\")\n",
    "    print(\"Q - Quit Shopping List Program\")\n",
    "    return\n",
    "\n",
    "# prompts for a new item using input() then adds it to the shopping list\n",
    "# only when it does not exist\n",
    "# input: shopping list\n",
    "# output: shopping list\n",
    "def add_item(shopping_list):\n",
    "    #todo write code here\n",
    "\n",
    "    return shopping_list\n",
    "\n",
    "# sorts then prints the shopping list\n",
    "# input: shopping list\n",
    "# output: shopping list\n",
    "def print_list(shopping_list):\n",
    "    #todo write code here\n",
    "\n",
    "    return shopping_list\n",
    "\n",
    "# prompts for an item then removes it from the shopping list\n",
    "# only when it exists\n",
    "# input: shopping list\n",
    "# output: shopping list\n",
    "def remove_item(shopping_list):\n",
    "    #todo write code here\n",
    "\n",
    "    return shopping_list        \n",
    "\n",
    "\n",
    "## Main Program Written For You\n",
    "shopping_list = []\n",
    "while True:\n",
    "    print_menu()\n",
    "    choice = input(\"Enter choice: \").upper()\n",
    "    if choice == 'A':\n",
    "        shopping_list = add_item(shopping_list)\n",
    "    elif choice == 'P':\n",
    "        shopping_list = print_list(shopping_list)\n",
    "    elif choice == 'R':\n",
    "        shopping_list = remove_item(shopping_list)\n",
    "    elif choice == \"Q\":\n",
    "        break\n",
    "    else:\n",
    "        print('ERROR:', choice,'is not a menu option')\n"
   ]
  },
  {
   "cell_type": "markdown",
   "metadata": {},
   "source": [
    "## Step 3: Questions\n",
    "\n",
    "1. When we write functions we usually don't have `input()` or `print()` Python functions in them, but in this solution we do. What is the advantage of doing it in this example?\n",
    "2. Explain a strategy you can employ to save the list to a file and load it back. How would that work?\n",
    "3. What does the `.upper()` method function accomplish in the main program?"
   ]
  },
  {
   "cell_type": "markdown",
   "metadata": {},
   "source": [
    "## Reminder of Evaluation Criteria\n",
    "\n",
    "1. Was the problem attempted (analysis, code, and answered questions) ?\n",
    "2. Was the problem analysis thought out? (does the program match the plan?)\n",
    "3. Does the code execute without syntax error?\n",
    "4. Does the code solve the intended problem?\n",
    "5. Is the code well written? (easy to understand, modular, and self-documenting, handles errors)"
   ]
  },
  {
   "cell_type": "code",
   "execution_count": null,
   "metadata": {},
   "outputs": [],
   "source": []
  }
 ],
 "metadata": {
  "anaconda-cloud": {},
  "kernelspec": {
   "display_name": "Python 3",
   "language": "python",
   "name": "python3"
  },
  "language_info": {
   "codemirror_mode": {
    "name": "ipython",
    "version": 3
   },
   "file_extension": ".py",
   "mimetype": "text/x-python",
   "name": "python",
   "nbconvert_exporter": "python",
   "pygments_lexer": "ipython3",
   "version": "3.6.6"
  }
 },
 "nbformat": 4,
 "nbformat_minor": 1
}
