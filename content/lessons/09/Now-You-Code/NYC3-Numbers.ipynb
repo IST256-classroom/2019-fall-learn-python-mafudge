{
 "cells": [
  {
   "cell_type": "markdown",
   "metadata": {},
   "source": [
    "# Now You Code 3: List of numbers\n",
    "\n",
    "This example will demonstrate how to parse an input string into\n",
    "a list of numbers. You will then demonstrate it's a list of\n",
    "numbers by calculating the count, sum(), min(), max() and average\n",
    "of the numbers using Python's len(), sum(), min(), and max() functions.\n",
    "\n",
    "Example Run #1:\n",
    "```\n",
    "    Enter numbers separated by a space: 10 5 0\n",
    "\n",
    "    Numbers: [10.0, 5.0, 0.0]\n",
    "    Count: 3\n",
    "    Min: 0.0\n",
    "    Max: 10.0\n",
    "    Sum: 15.0\n",
    "    Average: 5.0\n",
    "```\n",
    "\n",
    "As usual, devise your plan, write the program, THEN figure out how to handle bad input in Example run #2.\n",
    "\n",
    "HINT: Use split() to make a list from the input, use a loop to convert\n",
    "each item in the list to a float\n",
    "\n",
    "Start out your program by writing your TODO list of steps\n",
    "you'll need to solve the problem!"
   ]
  },
  {
   "cell_type": "markdown",
   "metadata": {
    "collapsed": true
   },
   "source": [
    "## Step 1: Problem Analysis\n",
    "\n",
    "Inputs: a string of numbers separated by a space eg. `10 5 1`\n",
    "\n",
    "Outputs: the count, sum, min, max and average of the numbers\n",
    "\n",
    "Algorithm (Steps in Program):\n",
    "\n",
    "```\n",
    "TODO: Write algorithm here\n",
    "```\n",
    "\n"
   ]
  },
  {
   "cell_type": "code",
   "execution_count": 1,
   "metadata": {},
   "outputs": [],
   "source": [
    "# Step 2: Write solution\n",
    "numbers = [] # start with an empty list\n",
    "\n"
   ]
  },
  {
   "cell_type": "markdown",
   "metadata": {},
   "source": [
    "## Step 3: Questions\n",
    "\n",
    "1. Re-write the solution so that it handles bad input:\n",
    "\n",
    "Example Run #2: (Handles bad input)\n",
    "```\n",
    "    Enter numbers separated by a space: 5 mike 3\n",
    "\n",
    "    Error: mike is not a number!\n",
    "```\n",
    "\n",
    "2. Explain which part of the solution could be refactored into a function? What would be be the input(s) and output of that function?\n"
   ]
  },
  {
   "cell_type": "markdown",
   "metadata": {},
   "source": [
    "## Reminder of Evaluation Criteria\n",
    "\n",
    "1. Was the problem attempted (analysis, code, and answered questions) ?\n",
    "2. Was the problem analysis thought out? (does the program match the plan?)\n",
    "3. Does the code execute without syntax error?\n",
    "4. Does the code solve the intended problem?\n",
    "5. Is the code well written? (easy to understand, modular, and self-documenting, handles errors)"
   ]
  },
  {
   "cell_type": "code",
   "execution_count": null,
   "metadata": {},
   "outputs": [],
   "source": []
  }
 ],
 "metadata": {
  "anaconda-cloud": {},
  "kernelspec": {
   "display_name": "Python 3",
   "language": "python",
   "name": "python3"
  },
  "language_info": {
   "codemirror_mode": {
    "name": "ipython",
    "version": 3
   },
   "file_extension": ".py",
   "mimetype": "text/x-python",
   "name": "python",
   "nbconvert_exporter": "python",
   "pygments_lexer": "ipython3",
   "version": "3.6.6"
  }
 },
 "nbformat": 4,
 "nbformat_minor": 1
}
