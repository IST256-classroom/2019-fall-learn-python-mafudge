{
 "cells": [
  {
   "cell_type": "markdown",
   "metadata": {},
   "source": [
    "# End-To-End Example: Bad Password Checker\n",
    "\n",
    "- Read in list of bad passwords from file `bad-passwords.txt`\n",
    "- Main program loop which:\n",
    "  - inputs a password \n",
    "  - checks whether the password  is \"good\" or \"bad\" by checking against the list\n",
    "  - repeats this until you enter no password. \n",
    "\n"
   ]
  },
  {
   "cell_type": "code",
   "execution_count": 1,
   "metadata": {
    "collapsed": false
   },
   "outputs": [
    {
     "name": "stdout",
     "output_type": "stream",
     "text": [
      "This program will check for quality passwords against a list of known bad passwords.\n",
      "Enter a password or ENTER to quit: 123456\n",
      "123456 is a bad password. It is on the list.\n",
      "Enter a password or ENTER to quit: fjdskafjoda;shv\n",
      "fjdskafjoda;shv seems like an ok password. It is not on the list.\n",
      "Enter a password or ENTER to quit: test\n",
      "test is a bad password. It is on the list.\n",
      "Enter a password or ENTER to quit: pasword\n",
      "pasword seems like an ok password. It is not on the list.\n",
      "Enter a password or ENTER to quit: password\n",
      "password is a bad password. It is on the list.\n",
      "Enter a password or ENTER to quit: \n"
     ]
    }
   ],
   "source": [
    "# read passwords into list\n",
    "#todo:\n",
    "#input: none, output: list of bad passwords\n",
    "# for each line in bad-passwords.txt\n",
    "# add to list\n",
    "\n",
    "def read_passwords():\n",
    "    bad_password_list = []\n",
    "    filename = \"ETEE-bad-passwords.txt\"\n",
    "    with open(filename) as f:\n",
    "        for line in f:\n",
    "            bad_password_list.append(line.strip())\n",
    "    return bad_password_list\n",
    "\n",
    "# password in list?\n",
    "#input: password list and a password to check, output: True or False\n",
    "#todo\n",
    "# get index of password in list\n",
    "# return true\n",
    "# when ValueError return false\n",
    "\n",
    "def password_in_list(password, bad_password_list):\n",
    "    try:\n",
    "        index = bad_password_list.index(password)\n",
    "        return True\n",
    "    except ValueError:\n",
    "        return False\n",
    "\n",
    "# main program \n",
    "bad_password_list = read_passwords()\n",
    "print(\"This program will check for quality passwords against a list of known bad passwords.\")\n",
    "while True:\n",
    "    password = input(\"Enter a password or ENTER to quit: \")\n",
    "    if password == \"\":\n",
    "        break\n",
    "    if password_in_list(password, bad_password_list):\n",
    "        print(\"%s is a bad password. It is on the list.\" % (password))\n",
    "    else:\n",
    "        print(\"%s seems like an ok password. It is not on the list.\" % (password))\n"
   ]
  },
  {
   "cell_type": "code",
   "execution_count": null,
   "metadata": {
    "collapsed": true
   },
   "outputs": [],
   "source": []
  }
 ],
 "metadata": {
  "anaconda-cloud": {},
  "kernelspec": {
   "display_name": "Python 3",
   "language": "python",
   "name": "python3"
  },
  "language_info": {
   "codemirror_mode": {
    "name": "ipython",
    "version": 3
   },
   "file_extension": ".py",
   "mimetype": "text/x-python",
   "name": "python",
   "nbconvert_exporter": "python",
   "pygments_lexer": "ipython3",
   "version": "3.5.2"
  }
 },
 "nbformat": 4,
 "nbformat_minor": 0
}
