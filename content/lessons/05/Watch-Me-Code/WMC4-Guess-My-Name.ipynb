{
 "cells": [
  {
   "cell_type": "markdown",
   "metadata": {
    "collapsed": false
   },
   "source": [
    "# Watch Me Code 4: Guess My Name\n",
    "\n",
    "This program will execute until you guess my name.\n"
   ]
  },
  {
   "cell_type": "code",
   "execution_count": 1,
   "metadata": {
    "collapsed": false
   },
   "outputs": [
    {
     "name": "stdout",
     "output_type": "stream",
     "text": [
      "Guess my name? tony\n",
      "Nope!\n",
      "Guess my name? Steve\n",
      "Nope!\n",
      "Guess my name? Mike\n",
      "You guessed it, finally!\n"
     ]
    }
   ],
   "source": [
    "name = \"Mike\"\n",
    "guess = \"\"\n",
    "while True:\n",
    "    guess = input(\"Guess my name? \")\n",
    "    if guess== name:               \n",
    "        print(\"You guessed it, finally!\")\n",
    "        break\n",
    "    print(\"Nope...not it!\")"
   ]
  },
  {
   "cell_type": "code",
   "execution_count": null,
   "metadata": {
    "collapsed": true
   },
   "outputs": [],
   "source": []
  }
 ],
 "metadata": {
  "anaconda-cloud": {},
  "kernelspec": {
   "display_name": "Python [default]",
   "language": "python",
   "name": "python3"
  },
  "language_info": {
   "codemirror_mode": {
    "name": "ipython",
    "version": 3
   },
   "file_extension": ".py",
   "mimetype": "text/x-python",
   "name": "python",
   "nbconvert_exporter": "python",
   "pygments_lexer": "ipython3",
   "version": "3.5.2"
  }
 },
 "nbformat": 4,
 "nbformat_minor": 0
}
