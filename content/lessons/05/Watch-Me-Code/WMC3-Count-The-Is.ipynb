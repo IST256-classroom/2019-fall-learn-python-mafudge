{
 "cells": [
  {
   "cell_type": "markdown",
   "metadata": {
    "collapsed": false
   },
   "source": [
    "# Watch Me Code 3: Count The I's\n",
    "\n",
    "This program will count the number of i's in the input word.\n"
   ]
  },
  {
   "cell_type": "code",
   "execution_count": 1,
   "metadata": {
    "collapsed": false
   },
   "outputs": [
    {
     "name": "stdout",
     "output_type": "stream",
     "text": [
      "Enter a word: mississippi\n",
      "There are 4 i's in the word mississippi\n"
     ]
    }
   ],
   "source": [
    "word = input(\"Enter a word: \")\n",
    "count = 0\n",
    "for letter in word:\n",
    "    if letter== 'i':\n",
    "        count = count + 1\n",
    "\n",
    "print(\"There are %d i's in the word %s\" % (count,word))"
   ]
  },
  {
   "cell_type": "code",
   "execution_count": null,
   "metadata": {
    "collapsed": true
   },
   "outputs": [],
   "source": []
  }
 ],
 "metadata": {
  "anaconda-cloud": {},
  "kernelspec": {
   "display_name": "Python [default]",
   "language": "python",
   "name": "python3"
  },
  "language_info": {
   "codemirror_mode": {
    "name": "ipython",
    "version": 3
   },
   "file_extension": ".py",
   "mimetype": "text/x-python",
   "name": "python",
   "nbconvert_exporter": "python",
   "pygments_lexer": "ipython3",
   "version": "3.5.2"
  }
 },
 "nbformat": 4,
 "nbformat_minor": 0
}
