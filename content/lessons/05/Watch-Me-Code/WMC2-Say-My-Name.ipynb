{
 "cells": [
  {
   "cell_type": "markdown",
   "metadata": {
    "collapsed": false
   },
   "source": [
    "# Watch Me Code 2: Say My Name\n",
    "\n",
    "Same program as WMC 1, but with a for loop.\n"
   ]
  },
  {
   "cell_type": "code",
   "execution_count": 1,
   "metadata": {
    "collapsed": false
   },
   "outputs": [
    {
     "name": "stdout",
     "output_type": "stream",
     "text": [
      "What is your name? bob\n",
      "How many times would you like me to say your name bob? 3\n",
      "bob\n",
      "bob\n",
      "bob\n"
     ]
    }
   ],
   "source": [
    "name = input(\"What is your name? \")\n",
    "times = int(input(\"How many times would you like me to say your name %s? \" % name))\n",
    "for i in range(times):\n",
    "    print(name)"
   ]
  },
  {
   "cell_type": "code",
   "execution_count": null,
   "metadata": {
    "collapsed": true
   },
   "outputs": [],
   "source": []
  }
 ],
 "metadata": {
  "anaconda-cloud": {},
  "kernelspec": {
   "display_name": "Python [default]",
   "language": "python",
   "name": "python3"
  },
  "language_info": {
   "codemirror_mode": {
    "name": "ipython",
    "version": 3
   },
   "file_extension": ".py",
   "mimetype": "text/x-python",
   "name": "python",
   "nbconvert_exporter": "python",
   "pygments_lexer": "ipython3",
   "version": "3.5.2"
  }
 },
 "nbformat": 4,
 "nbformat_minor": 0
}
