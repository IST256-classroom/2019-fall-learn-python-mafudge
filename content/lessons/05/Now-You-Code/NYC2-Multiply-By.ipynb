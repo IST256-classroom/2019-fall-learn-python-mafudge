{
 "cells": [
  {
   "cell_type": "markdown",
   "metadata": {},
   "source": [
    "# Now You Code 2: Multiply By\n",
    "\n",
    "Write a program to ask for a number to multiply by and then lists the multiplication table for that number from 1 to 10. This process will repeat until you enter quit as which point the program will exit.\n",
    "\n",
    "Wow. Seems complicated! We'll use the technique called **problem simplification** to make this problem a little easier to solve.\n",
    "\n",
    "First we'll write a complete program to solve *part* of the problem, then we will take our new level of understanding to solve the *entire* problem.\n",
    "\n",
    "## Start with Sub-Problem 1\n",
    "\n",
    "Let's write a program to simply input a number and then uses a loop to print out the multiplication table up to 10  for that number. \n",
    "\n",
    "For example, when you input `5`:\n",
    "\n",
    "```\n",
    "Enter number to multiply by: 5\n",
    "1 x 5 = 5\n",
    "2 x 5 = 10\n",
    "3 x 5 = 15\n",
    "4 x 5 = 20\n",
    "5 x 5 = 25\n",
    "6 x 5 = 30\n",
    "7 x 5 = 35\n",
    "8 x 5 = 40\n",
    "9 x 5 = 45\n",
    "10 x 5 = 50\n",
    "```\n"
   ]
  },
  {
   "cell_type": "markdown",
   "metadata": {
    "collapsed": true
   },
   "source": [
    "## Step 1: Problem Analysis for Sub-Problem 1\n",
    "\n",
    "Inputs:\n",
    "\n",
    "Outputs:\n",
    "\n",
    "Algorithm (Steps in Program):\n",
    "\n",
    "\n"
   ]
  },
  {
   "cell_type": "code",
   "execution_count": 1,
   "metadata": {},
   "outputs": [],
   "source": [
    "# Step 2: write code for sub-problem 1\n"
   ]
  },
  {
   "cell_type": "markdown",
   "metadata": {},
   "source": [
    "# Full Problem \n",
    "\n",
    "Now that you have part of the problem figured out, try to solve the entire problem. The program should keep asking for numbers and then print out multiplcation tables until you enter `quit`. Here's an example:\n",
    "\n",
    "Example Run:\n",
    "\n",
    "```\n",
    "Enter number to multiply by or type 'quit': 10\n",
    "1 x 10 = 10\n",
    "2 x 10 = 20\n",
    "3 x 10 = 30\n",
    "4 x 10 = 40\n",
    "5 x 10 = 50\n",
    "6 x 10 = 60\n",
    "7 x 10 = 70\n",
    "8 x 10 = 80\n",
    "9 x 10 = 90\n",
    "10 x 10 = 100\n",
    "Enter number to multiply by or type 'quit': 5\n",
    "1 x 5 = 5\n",
    "2 x 5 = 10\n",
    "3 x 5 = 15\n",
    "4 x 5 = 20\n",
    "5 x 5 = 25\n",
    "6 x 5 = 30\n",
    "7 x 5 = 35\n",
    "8 x 5 = 40\n",
    "9 x 5 = 45\n",
    "10 x 5 = 50\n",
    "Enter number to multiply by or type 'quit': quit\n",
    "```\n",
    "\n",
    "**NOTE:** you need another loop to complete this program. Take the code you wrote in the first part and repeat it in a second  loop until you type quit. "
   ]
  },
  {
   "cell_type": "markdown",
   "metadata": {
    "collapsed": true
   },
   "source": [
    "## Step 3: Problem Analysis for Full Problem\n",
    "\n",
    "Inputs:\n",
    "\n",
    "Outputs:\n",
    "\n",
    "Algorithm (Steps in Program):"
   ]
  },
  {
   "cell_type": "code",
   "execution_count": 2,
   "metadata": {
    "collapsed": true
   },
   "outputs": [],
   "source": [
    "# Step 4: Write code for full problem\n"
   ]
  },
  {
   "cell_type": "markdown",
   "metadata": {},
   "source": [
    "## Step 3: Questions\n",
    "\n",
    "1. What is the loop control variable for the first (outer) loop?\n",
    "2. What is the loop control variable for the second (inner) loop?\n",
    "3. Provide at least one way this program can be improved, or make more flexible by introducing more inputs?\n"
   ]
  },
  {
   "cell_type": "markdown",
   "metadata": {},
   "source": [
    "## Reminder of Evaluation Criteria\n",
    "\n",
    "1. Was the problem attempted (analysis, code, and answered questions) ?\n",
    "2. Was the problem analysis thought out? (does the program match the plan?)\n",
    "3. Does the code execute without syntax error?\n",
    "4. Does the code solve the intended problem?\n",
    "5. Is the code well written? (easy to understand, modular, and self-documenting, handles errors)\n"
   ]
  },
  {
   "cell_type": "code",
   "execution_count": null,
   "metadata": {
    "collapsed": true
   },
   "outputs": [],
   "source": []
  }
 ],
 "metadata": {
  "anaconda-cloud": {},
  "kernelspec": {
   "display_name": "Python 3",
   "language": "python",
   "name": "python3"
  },
  "language_info": {
   "codemirror_mode": {
    "name": "ipython",
    "version": 3
   },
   "file_extension": ".py",
   "mimetype": "text/x-python",
   "name": "python",
   "nbconvert_exporter": "python",
   "pygments_lexer": "ipython3",
   "version": "3.6.6"
  }
 },
 "nbformat": 4,
 "nbformat_minor": 1
}
