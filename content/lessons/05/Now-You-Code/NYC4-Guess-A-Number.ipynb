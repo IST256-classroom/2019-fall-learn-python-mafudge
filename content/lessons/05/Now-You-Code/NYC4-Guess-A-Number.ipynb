{
 "cells": [
  {
   "cell_type": "markdown",
   "metadata": {},
   "source": [
    "# Now You Code 4: Guess A Number\n",
    "\n",
    "Write a program to play the classic \"Guess a number\" game.\n",
    "\n",
    "In this game the computer selects a random number between 1 and 10.\n",
    "It's your job to guess the number. Whenever you guess, the computer will\n",
    "give you a hint of higher or lower. This process repeats until you guess\n",
    "the number, after which the computer reports the number of guesses it took you.\n",
    "\n",
    "For Example:\n",
    "\n",
    "I'm thinking of a number between 1 and 10...\n",
    "Your guess: 5\n",
    "Too low. Guess higher.\n",
    "Your guess: 7\n",
    "Too high. Guess lower.\n",
    "Your guess: 6\n",
    "You guessed it in 3 tries.\n",
    "\n",
    "Your loop should continue until your input guess equals the\n",
    "computer generated random number.\n",
    "\n",
    "### How do you make Python generate a random number? "
   ]
  },
  {
   "cell_type": "code",
   "execution_count": 20,
   "metadata": {},
   "outputs": [
    {
     "name": "stdout",
     "output_type": "stream",
     "text": [
      "4\n"
     ]
    }
   ],
   "source": [
    "# Sample code which demostrates how to generate a number between 1 and 10\n",
    "import random \n",
    "number = random.randint(1,10)\n",
    "print(number)"
   ]
  },
  {
   "cell_type": "markdown",
   "metadata": {},
   "source": [
    "Run the cell above a couple of times. Notice how each time you execute the code, it comes up with a different number. \n",
    "\n",
    "Here's a breakdown of the code\n",
    "\n",
    "```\n",
    "line 1 imports the random module\n",
    "line 2 randomly selects an integer between 1 and 10\n",
    "line 3 prints the number\n",
    "```\n",
    "\n",
    "Now that you understand how to generate a random number, try to design then write code for the program. The first step in your program should be to generate the random number."
   ]
  },
  {
   "cell_type": "markdown",
   "metadata": {
    "collapsed": true
   },
   "source": [
    "## Step 1: Problem Analysis \n",
    "\n",
    "Inputs:\n",
    "\n",
    "Outputs:\n",
    "\n",
    "Algorithm (Steps in Program):\n",
    "\n",
    "\n"
   ]
  },
  {
   "cell_type": "code",
   "execution_count": 1,
   "metadata": {},
   "outputs": [],
   "source": [
    "import random\n",
    "# Step 2: write code for program\n",
    "\n"
   ]
  },
  {
   "cell_type": "markdown",
   "metadata": {},
   "source": [
    "## Step 3: Questions\n",
    "\n",
    "1. Which loop did you use to solve the problem? Was it a definite or indefinite loop?\n",
    "2. Modify this program to allow you to guess a number between 1 and 100. How much of your code did you need to change to make this work? \n",
    "3. This program is a good example of a difficult problem to conceptualize which has a simple solution when you look at actual lines of code. I assume you did not write this in a single try, so explain where you got stuck and describe your approach to overcoming it.\n"
   ]
  },
  {
   "cell_type": "markdown",
   "metadata": {},
   "source": [
    "## Reminder of Evaluation Criteria\n",
    "\n",
    "1. Was the problem attempted (analysis, code, and answered questions) ?\n",
    "2. Was the problem analysis thought out? (does the program match the plan?)\n",
    "3. Does the code execute without syntax error?\n",
    "4. Does the code solve the intended problem?\n",
    "5. Is the code well written? (easy to understand, modular, and self-documenting, handles errors)\n"
   ]
  },
  {
   "cell_type": "code",
   "execution_count": null,
   "metadata": {
    "collapsed": true
   },
   "outputs": [],
   "source": []
  }
 ],
 "metadata": {
  "anaconda-cloud": {},
  "kernelspec": {
   "display_name": "Python 3",
   "language": "python",
   "name": "python3"
  },
  "language_info": {
   "codemirror_mode": {
    "name": "ipython",
    "version": 3
   },
   "file_extension": ".py",
   "mimetype": "text/x-python",
   "name": "python",
   "nbconvert_exporter": "python",
   "pygments_lexer": "ipython3",
   "version": "3.6.6"
  }
 },
 "nbformat": 4,
 "nbformat_minor": 1
}
