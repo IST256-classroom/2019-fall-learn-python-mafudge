{
 "cells": [
  {
   "cell_type": "markdown",
   "metadata": {},
   "source": [
    "# End-To-End Example: Password Program\n",
    "\n",
    "Password Program:\n",
    "\n",
    "- 5 attempts for the password\n",
    "- On correct password, print: “Access Granted”, then end the program \n",
    "- On incorrect password “Invalid Password Attempt #” and give the user another try\n",
    "- After 5 attempts, print “You are locked out”. Then end the program.\n"
   ]
  },
  {
   "cell_type": "code",
   "execution_count": 3,
   "metadata": {
    "collapsed": false
   },
   "outputs": [
    {
     "name": "stdout",
     "output_type": "stream",
     "text": [
      "Enter Password: sd\n",
      "Invalid password attempt # 1\n",
      "Enter Password: fds\n",
      "Invalid password attempt # 2\n",
      "Enter Password: sd\n",
      "Invalid password attempt # 3\n",
      "Enter Password: d\n",
      "Invalid password attempt # 4\n",
      "Enter Password: d\n",
      "Invalid password attempt # 5\n",
      "You are locked out\n"
     ]
    }
   ],
   "source": [
    "secret = \"rhubarb\"\n",
    "attempts = 0\n",
    "while True:\n",
    "    password = input(\"Enter Password: \")\n",
    "    attempts= attempts + 1\n",
    "    if password == secret:\n",
    "        print(\"Access Granted!\")\n",
    "        break \n",
    "    print(\"Invalid password attempt #\",attempts)\n",
    "    if attempts == 5:\n",
    "        print(\"You are locked out\")\n",
    "        break"
   ]
  },
  {
   "cell_type": "code",
   "execution_count": null,
   "metadata": {
    "collapsed": true
   },
   "outputs": [],
   "source": []
  },
  {
   "cell_type": "code",
   "execution_count": null,
   "metadata": {
    "collapsed": true
   },
   "outputs": [],
   "source": []
  }
 ],
 "metadata": {
  "anaconda-cloud": {},
  "kernelspec": {
   "display_name": "Python 3",
   "language": "python",
   "name": "python3"
  },
  "language_info": {
   "codemirror_mode": {
    "name": "ipython",
    "version": 3
   },
   "file_extension": ".py",
   "mimetype": "text/x-python",
   "name": "python",
   "nbconvert_exporter": "python",
   "pygments_lexer": "ipython3",
   "version": "3.5.2"
  }
 },
 "nbformat": 4,
 "nbformat_minor": 0
}
