{
 "cells": [
  {
   "cell_type": "markdown",
   "metadata": {},
   "source": [
    "# Now You Code 4: Movie Goers Zipcode Lookup\n",
    "\n",
    "A movie company has hired you to help them enhance their data set. They would like to know which **US State** each of the respondents in their movie goers survey comes from, and ask you to produce a list of states and a count of movie goers from that state.\n",
    "\n",
    "The movie goers dataset `'NYC1-moviegoers.csv'` from NYC1 contains `'zip_code'` but not city and state.\n",
    "\n",
    "We will load another pandas dataset, **the Zipcode Database** here: \n",
    "`'https://raw.githubusercontent.com/mafudge/datasets/master/zipcodes/free-zipcode-database-Primary.csv'` This data set contains Zip codes with primary city, state and approximate location.\n",
    "\n",
    "Your goal is to figure out how to use the `DataFrame.merge()` method to combine these two data sets on matching zip code values.\n",
    "http://pandas.pydata.org/pandas-docs/stable/generated/pandas.DataFrame.merge.html \n",
    "\n",
    "After you merge the dataset, then you can complete the task and provide a count of movie goers by state.\n"
   ]
  },
  {
   "cell_type": "code",
   "execution_count": 35,
   "metadata": {
    "collapsed": true
   },
   "outputs": [],
   "source": [
    "# import pandas\n",
    "import pandas as pd\n",
    "\n",
    "# this turns off warning messages\n",
    "import warnings\n",
    "warnings.filterwarnings('ignore')"
   ]
  },
  {
   "cell_type": "markdown",
   "metadata": {},
   "source": [
    "### Part 1: Load the movie goers dataset into a Pandas DataFrame\n",
    "\n",
    "Write code to load the movie goers dataset (in csv format) into the variable `moviegoers` and then print the first few rows. "
   ]
  },
  {
   "cell_type": "code",
   "execution_count": null,
   "metadata": {},
   "outputs": [],
   "source": []
  },
  {
   "cell_type": "markdown",
   "metadata": {},
   "source": [
    "### Part 2: Load the zip code database into a Pandas DataFrame\n",
    "\n",
    "Write code to load the movie goers dataset (in csv format) into the variable `zipcodes` and then print the first few rows. \n",
    "\n",
    "The database (in csv format) can be found here: `'https://raw.githubusercontent.com/mafudge/datasets/master/zipcodes/free-zipcode-database-Primary.csv'`  \n",
    "\n",
    "**HINT:**  You must include the named argument `dtype={'Zipcode': object}` to the `read_csv()` method to force the `Zipcode` series to be the same type as in the `moviegoers` dataframe."
   ]
  },
  {
   "cell_type": "code",
   "execution_count": null,
   "metadata": {},
   "outputs": [],
   "source": []
  },
  {
   "cell_type": "markdown",
   "metadata": {},
   "source": [
    "### Part 3: Merge both data sets into a single combined DataFrame\n",
    "\n",
    "Next we must merge the `moviegoers` DataFrame with the `zipcodes` DataFrame. To do this you must specify which zip code column from `moviegoers` matches the zip cod column from `zipcodes` (as you can see they have different names).\n",
    "\n",
    "```\n",
    "Help on method merge in module pandas.core.frame:\n",
    "\n",
    "merge(right, how='inner', on=None, left_on=None, right_on=None, left_index=False, right_index=False, sort=False, suffixes=('_x', '_y'), copy=True, indicator=False) method of pandas.core.frame.DataFrame instance\n",
    "    Merge DataFrame objects by performing a database-style join operation by\n",
    "    columns or indexes.\n",
    "```\n",
    "\n",
    "The type of merge we will do is an `inner`, because we only want rows when the zip codes match. This is called an *intersection*.\n",
    "\n",
    "To complete a merge we must specify the column names from the left and right DataFrames.  Most of the code has been written for you. Your task is to complete the columns for the merge, replacing `????` with the appropriate column names."
   ]
  },
  {
   "cell_type": "code",
   "execution_count": null,
   "metadata": {},
   "outputs": [],
   "source": []
  },
  {
   "cell_type": "markdown",
   "metadata": {},
   "source": [
    "### Part 4: Merge both data sets into a single combined DataFrame\n",
    "\n",
    "Finally, produce the desired output a list of states and counts of movie goers from the survey in each state.\n",
    "\n",
    "Here's the top 5 for reference:\n",
    "\n",
    "```\n",
    "CA    116\n",
    "MN     78\n",
    "NY     60\n",
    "TX     51\n",
    "IL     50\n",
    "```"
   ]
  },
  {
   "cell_type": "markdown",
   "metadata": {
    "collapsed": true
   },
   "source": [
    "## Step 5: Questions\n",
    "\n",
    "1. Pandas programs are different than typical Python programs. Explain the process you followed to achieve the solution?\n",
    "2. What was the most difficult aspect of this assignment? "
   ]
  },
  {
   "cell_type": "markdown",
   "metadata": {},
   "source": []
  },
  {
   "cell_type": "markdown",
   "metadata": {},
   "source": [
    "## Reminder of Evaluation Criteria\n",
    "\n",
    "1. Was the problem attempted (analysis, code, and answered questions) ?\n",
    "2. Was the problem analysis thought out? (does the program match the plan?)\n",
    "3. Does the code execute without syntax error?\n",
    "4. Does the code solve the intended problem?\n",
    "5. Is the code well written? (easy to understand, modular, and self-documenting, handles errors)\n"
   ]
  },
  {
   "cell_type": "code",
   "execution_count": null,
   "metadata": {},
   "outputs": [],
   "source": []
  }
 ],
 "metadata": {
  "anaconda-cloud": {},
  "kernelspec": {
   "display_name": "Python 3",
   "language": "python",
   "name": "python3"
  },
  "language_info": {
   "codemirror_mode": {
    "name": "ipython",
    "version": 3
   },
   "file_extension": ".py",
   "mimetype": "text/x-python",
   "name": "python",
   "nbconvert_exporter": "python",
   "pygments_lexer": "ipython3",
   "version": "3.6.6"
  }
 },
 "nbformat": 4,
 "nbformat_minor": 1
}
