{
 "cells": [
  {
   "cell_type": "markdown",
   "metadata": {},
   "source": [
    "## Load the 7 day forecast from DarkSky.Net into Pandas!\n",
    "\n",
    "In this example you will go back to https://api.darksky.net and use your API key to get the current weather forecast for:\n",
    "\n",
    "Syrcause, NY `(lat=43.0481221, lng=-76.1474244)`\n",
    "\n",
    "In the forecast output, find the daily 7 day forecast (it's the current conditions + 7 days out == 8 days total)\n",
    "\n",
    "Extract the forecast data and load it into Pandas, then display the Time of the forecast, and high and low temperatures:\n",
    "\n",
    "**HINT**: To get the times to show up in a human-readable format, you must convert the DarkSky API time (which is in unix timestamp format) to a Pandas Timestamp date/time format. The `pd.to_datetime()` function can help you:\n",
    "\n",
    "```\n",
    "time = 1489402800 # this the time format Darksky returns\n",
    "readable_time = pd.to_datetime(time, unit='s') ## s stands for unix timestamp format\n",
    "readable_time\n",
    "\n",
    "Timestamp('2017-03-13 11:00:00')\n",
    "```\n",
    "\n",
    "Just replace the `['time']` column in the `DataFrame` with the new version."
   ]
  },
  {
   "cell_type": "markdown",
   "metadata": {},
   "source": [
    "## Step 1: Problem Analysis for entire program\n",
    "\n",
    "Inputs: \n",
    "\n",
    "Outputs:\n",
    "\n",
    "Algorithm (Steps in Program):\n"
   ]
  },
  {
   "cell_type": "code",
   "execution_count": null,
   "metadata": {
    "collapsed": true
   },
   "outputs": [],
   "source": [
    "# STEP 2: Todo write code here\n"
   ]
  },
  {
   "cell_type": "code",
   "execution_count": null,
   "metadata": {
    "collapsed": true
   },
   "outputs": [],
   "source": []
  },
  {
   "cell_type": "code",
   "execution_count": 19,
   "metadata": {},
   "outputs": [
    {
     "data": {
      "text/html": [
       "<div>\n",
       "<table border=\"1\" class=\"dataframe\">\n",
       "  <thead>\n",
       "    <tr style=\"text-align: right;\">\n",
       "      <th></th>\n",
       "      <th>time</th>\n",
       "      <th>temperatureMin</th>\n",
       "      <th>temperatureMax</th>\n",
       "    </tr>\n",
       "  </thead>\n",
       "  <tbody>\n",
       "    <tr>\n",
       "      <th>0</th>\n",
       "      <td>2017-03-13 04:00:00</td>\n",
       "      <td>8.74</td>\n",
       "      <td>25.01</td>\n",
       "    </tr>\n",
       "    <tr>\n",
       "      <th>1</th>\n",
       "      <td>2017-03-14 04:00:00</td>\n",
       "      <td>17.85</td>\n",
       "      <td>25.42</td>\n",
       "    </tr>\n",
       "    <tr>\n",
       "      <th>2</th>\n",
       "      <td>2017-03-15 04:00:00</td>\n",
       "      <td>15.93</td>\n",
       "      <td>22.90</td>\n",
       "    </tr>\n",
       "    <tr>\n",
       "      <th>3</th>\n",
       "      <td>2017-03-16 04:00:00</td>\n",
       "      <td>17.23</td>\n",
       "      <td>29.19</td>\n",
       "    </tr>\n",
       "    <tr>\n",
       "      <th>4</th>\n",
       "      <td>2017-03-17 04:00:00</td>\n",
       "      <td>17.25</td>\n",
       "      <td>36.15</td>\n",
       "    </tr>\n",
       "    <tr>\n",
       "      <th>5</th>\n",
       "      <td>2017-03-18 04:00:00</td>\n",
       "      <td>26.74</td>\n",
       "      <td>38.07</td>\n",
       "    </tr>\n",
       "    <tr>\n",
       "      <th>6</th>\n",
       "      <td>2017-03-19 04:00:00</td>\n",
       "      <td>25.69</td>\n",
       "      <td>32.82</td>\n",
       "    </tr>\n",
       "    <tr>\n",
       "      <th>7</th>\n",
       "      <td>2017-03-20 04:00:00</td>\n",
       "      <td>13.76</td>\n",
       "      <td>37.08</td>\n",
       "    </tr>\n",
       "  </tbody>\n",
       "</table>\n",
       "</div>"
      ],
      "text/plain": [
       "                 time  temperatureMin  temperatureMax\n",
       "0 2017-03-13 04:00:00            8.74           25.01\n",
       "1 2017-03-14 04:00:00           17.85           25.42\n",
       "2 2017-03-15 04:00:00           15.93           22.90\n",
       "3 2017-03-16 04:00:00           17.23           29.19\n",
       "4 2017-03-17 04:00:00           17.25           36.15\n",
       "5 2017-03-18 04:00:00           26.74           38.07\n",
       "6 2017-03-19 04:00:00           25.69           32.82\n",
       "7 2017-03-20 04:00:00           13.76           37.08"
      ]
     },
     "execution_count": 19,
     "metadata": {},
     "output_type": "execute_result"
    }
   ],
   "source": [
    "# Here's my output from when I ran the solution, to give you an example of what I expect"
   ]
  },
  {
   "cell_type": "markdown",
   "metadata": {},
   "source": [
    "## Step 3: Questions\n",
    "\n",
    "1. Pandas programs are different than typical Python programs. Explain the process you followed to achieve the solution?\n",
    "2. What was the most difficult aspect of this assignment? "
   ]
  },
  {
   "cell_type": "markdown",
   "metadata": {},
   "source": [
    "## Reminder of Evaluation Criteria\n",
    "\n",
    "1. Was the problem attempted (analysis, code, and answered questions) ?\n",
    "2. Was the problem analysis thought out? (does the program match the plan?)\n",
    "3. Does the code execute without syntax error?\n",
    "4. Does the code solve the intended problem?\n",
    "5. Is the code well written? (easy to understand, modular, and self-documenting, handles errors)"
   ]
  },
  {
   "cell_type": "code",
   "execution_count": null,
   "metadata": {},
   "outputs": [],
   "source": []
  }
 ],
 "metadata": {
  "anaconda-cloud": {},
  "kernelspec": {
   "display_name": "Python 3",
   "language": "python",
   "name": "python3"
  },
  "language_info": {
   "codemirror_mode": {
    "name": "ipython",
    "version": 3
   },
   "file_extension": ".py",
   "mimetype": "text/x-python",
   "name": "python",
   "nbconvert_exporter": "python",
   "pygments_lexer": "ipython3",
   "version": "3.6.6"
  }
 },
 "nbformat": 4,
 "nbformat_minor": 1
}
