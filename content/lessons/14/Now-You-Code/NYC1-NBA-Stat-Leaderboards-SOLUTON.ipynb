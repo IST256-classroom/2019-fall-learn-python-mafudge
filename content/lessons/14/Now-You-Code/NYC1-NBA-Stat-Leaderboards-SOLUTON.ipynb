{
 "cells": [
  {
   "cell_type": "markdown",
   "metadata": {},
   "source": [
    "# Now You Code 1: NBA Stat Leaderboards\n",
    "\n",
    "Get the current leader of each stat provided by http://www.espn.com/nba/statistics and print the stat title and the list of player in order.\n",
    "\n",
    "ex:\n",
    "```\n",
    "Offensive Leaders:\n",
    "POINTS                                            PPG\n",
    "1. Russell Westbrook, OKC                         31.4\n",
    "2. Anthony Davis, NO                              28.6\n",
    "3. DeMarcus Cousins, SAC                          28.5\n",
    "4. James Harden, HOU                              27.9\n",
    "5. Isaiah Thomas, BOS                             27.7\n",
    "-------------------------------------------------------\n",
    "ASSISTS                                           APG\n",
    "1. James Harden, HOU                              11.9\n",
    "2. Russell Westbrook, OKC                         10.3\n",
    "3. John Wall, WSH                                 10.2\n",
    "4. Chris Paul, LAC                                9.6\n",
    "5. LeBron James, CLE                              8.4\n",
    "-------------------------------------------------------\n",
    "...\n",
    "```\n",
    "\n",
    "Suggested approach:\n",
    "- Use requests to download the page html\n",
    "- Use BeautifulSoup to extract the data\n",
    "- Create a function to process each stat box.\n",
    "- Loop through each stat box and process the stat\n",
    "- Use string format functions to format the output\n"
   ]
  },
  {
   "cell_type": "code",
   "execution_count": null,
   "metadata": {
    "collapsed": true
   },
   "outputs": [],
   "source": [
    "# Todo\n",
    "1. Download the HTML\n",
    "2. Find stat boxes with BeautifulSoup\n",
    "3. Get Stat title, and list of players from each stat\n",
    "4. Print results with formatting"
   ]
  },
  {
   "cell_type": "code",
   "execution_count": 18,
   "metadata": {
    "collapsed": false
   },
   "outputs": [
    {
     "name": "stdout",
     "output_type": "stream",
     "text": [
      "POINTS                                            PPG\n",
      "1. Russell Westbrook, OKC                         31.4\n",
      "2. Anthony Davis, NO                              28.6\n",
      "3. DeMarcus Cousins, SAC                          28.5\n",
      "4. James Harden, HOU                              27.9\n",
      "5. Isaiah Thomas, BOS                             27.7\n",
      "-------------------------------------------------------\n",
      "ASSISTS                                           APG\n",
      "1. James Harden, HOU                              11.9\n",
      "2. Russell Westbrook, OKC                         10.3\n",
      "3. John Wall, WSH                                 10.2\n",
      "4. Chris Paul, LAC                                9.6\n",
      "5. LeBron James, CLE                              8.4\n",
      "-------------------------------------------------------\n",
      "FIELD GOAL %                                      FG%\n",
      "1. DeAndre Jordan, LAC                            .677\n",
      "2. Rudy Gobert, UTAH                              .665\n",
      "3. Clint Capela, HOU                              .640\n",
      "4. Dwight Howard, ATL                             .639\n",
      "5. Steven Adams, OKC                              .595\n",
      "-------------------------------------------------------\n",
      "REBOUNDS                                          RPG\n",
      "1. Hassan Whiteside, MIA                          14.3\n",
      "2. Andre Drummond, DET                            13.4\n",
      "3. DeAndre Jordan, LAC                            13.4\n",
      "4. Dwight Howard, ATL                             13.1\n",
      "5. Rudy Gobert, UTAH                              12.2\n",
      "-------------------------------------------------------\n",
      "BLOCKS                                            BLKPG\n",
      "1. Rudy Gobert, UTAH                              2.57\n",
      "2. Anthony Davis, NO                              2.54\n",
      "3. Myles Turner, IND                              2.47\n",
      "4. Joel Embiid, PHI                               2.38\n",
      "5. Hassan Whiteside, MIA                          2.24\n",
      "-------------------------------------------------------\n",
      "STEALS                                            STPG\n",
      "1. John Wall, WSH                                 2.30\n",
      "2. Chris Paul, LAC                                2.25\n",
      "3. Draymond Green, GS                             2.11\n",
      "4. Trevor Ariza, HOU                              2.08\n",
      "5. Giannis Antetokounmpo, MIL                     1.91\n",
      "-------------------------------------------------------\n"
     ]
    }
   ],
   "source": [
    "import requests\n",
    "from bs4 import BeautifulSoup\n",
    "\n",
    "html = requests.get('http://www.espn.com/nba/statistics').text\n",
    "soup = BeautifulSoup(html, 'lxml')\n",
    "boxes = soup.select('#my-players-table .span-2 .mod-container')\n",
    "for box in boxes:\n",
    "    for row in box.select('table tr'):\n",
    "        items = row.find_all('td')\n",
    "        if len(items) > 2:\n",
    "            items = items[1:]\n",
    "        if len(items) > 1:\n",
    "            print('{:50}{}'.format(items[0].get_text(), items[1].get_text()))\n",
    "    print('-' * 55)"
   ]
  },
  {
   "cell_type": "code",
   "execution_count": null,
   "metadata": {
    "collapsed": true
   },
   "outputs": [],
   "source": []
  }
 ],
 "metadata": {
  "kernelspec": {
   "display_name": "Python 3",
   "language": "python",
   "name": "python3"
  },
  "language_info": {
   "codemirror_mode": {
    "name": "ipython",
    "version": 3
   },
   "file_extension": ".py",
   "mimetype": "text/x-python",
   "name": "python",
   "nbconvert_exporter": "python",
   "pygments_lexer": "ipython3",
   "version": "3.5.2"
  }
 },
 "nbformat": 4,
 "nbformat_minor": 0
}
