{
 "cells": [
  {
   "cell_type": "markdown",
   "metadata": {},
   "source": [
    "# Now You Code 1: NBA Stat Leaderboards\n",
    "\n",
    "Get the current leader of each stat provided by http://www.espn.com/nba/statistics and print the stat title and the list of player in order.\n",
    "\n",
    "ex:\n",
    "```\n",
    "Offensive Leaders:\n",
    "Name                              ppg\n",
    "1. Russell Westbrook, OKC\t     31.4\n",
    "2. Anthony Davis, NO\t          28.6\n",
    "3. DeMarcus Cousins, SAC\t      28.5\n",
    "4. James Harden, HOU\t          27.9\n",
    "5. Isaiah Thomas, BOS\t         27.7\n",
    "```\n",
    "\n",
    "Suggested approach:\n",
    "- Use requests to download the page html\n",
    "- Use BeautifulSoup to extract the data\n",
    "- Create a function to process each stat box.\n",
    "- Loop through each stat box and process the stat\n",
    "- Use string format functions to format the output\n"
   ]
  },
  {
   "cell_type": "code",
   "execution_count": null,
   "metadata": {
    "collapsed": true
   },
   "outputs": [],
   "source": []
  }
 ],
 "metadata": {
  "kernelspec": {
   "display_name": "Python 3",
   "language": "python",
   "name": "python3"
  },
  "language_info": {
   "codemirror_mode": {
    "name": "ipython",
    "version": 3
   },
   "file_extension": ".py",
   "mimetype": "text/x-python",
   "name": "python",
   "nbconvert_exporter": "python",
   "pygments_lexer": "ipython3",
   "version": "3.5.2"
  }
 },
 "nbformat": 4,
 "nbformat_minor": 0
}
