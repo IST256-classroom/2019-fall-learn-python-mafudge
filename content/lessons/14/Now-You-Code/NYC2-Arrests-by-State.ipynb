{
 "cells": [
  {
   "cell_type": "markdown",
   "metadata": {},
   "source": [
    "# Now You Code 2: Arrests by State\n",
    "\n",
    "You are now finished with college and doing some research on where to apply for a job. Workng in a safe state would be a great start.\n",
    "\n",
    "Scrape the FBI arrest by state table provided on ucr.fbi.gov. The table is available at the link below.\n",
    "\n",
    "https://ucr.fbi.gov/crime-in-the-u.s/2015/crime-in-the-u.s.-2015/tables/table-69\n",
    "\n",
    "Suggested Approach:\n",
    "- Download the html using the requests library.\n",
    "- Extract the data using BeautifulSoup from the table using. Make sure you use functions that extract each part of the data.\n",
    "- Build a pandas dataframe containing the data. To make things a little easier, use Total all ages for each state.\n",
    "- Create a bar chart displaying the state and total arrests.\n",
    "\n",
    "Sample Output:\n",
    "\n",
    "![NYC2-screenshot.png](NYC2-screenshot.png)\n"
   ]
  },
  {
   "cell_type": "code",
   "execution_count": null,
   "metadata": {
    "collapsed": true
   },
   "outputs": [],
   "source": [
    "import requests\n",
    "from bs4 import BeautifulSoup\n",
    "import matplotlib.pyplot as plt\n",
    "import pandas as pd\n",
    "%matplotlib notebook\n",
    "plt.rcParams[\"figure.figsize\"] = [12, 6]"
   ]
  },
  {
   "cell_type": "code",
   "execution_count": null,
   "metadata": {
    "collapsed": true
   },
   "outputs": [],
   "source": []
  }
 ],
 "metadata": {
  "anaconda-cloud": {},
  "kernelspec": {
   "display_name": "Python [default]",
   "language": "python",
   "name": "python3"
  },
  "language_info": {
   "codemirror_mode": {
    "name": "ipython",
    "version": 3
   },
   "file_extension": ".py",
   "mimetype": "text/x-python",
   "name": "python",
   "nbconvert_exporter": "python",
   "pygments_lexer": "ipython3",
   "version": "3.5.2"
  }
 },
 "nbformat": 4,
 "nbformat_minor": 0
}
