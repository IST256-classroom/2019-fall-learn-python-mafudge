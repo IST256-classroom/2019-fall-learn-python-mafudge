{
 "cells": [
  {
   "cell_type": "markdown",
   "metadata": {},
   "source": [
    "# In-Class Coding Lab: Scrape NASDAQ Stock Quotes \n",
    "\n",
    "For this lab we will walk you through scraping stock data from the NASDAQ website: http://www.nasdaq.com/ \n",
    "\n",
    "We will walk you through the process and when you're done you'll be tasked with creating a program which when given an NASDAQ symbol will retrieve the name of the stock, price, and percent change.\n",
    "\n",
    "While we work through the example, we will use Amazon.com's stock symbol:`amzn` \n",
    "\n",
    "For a list of NASDAQ stocks to try with the completed program, see here: http://www.cnbc.com/nasdaq-100/ \n",
    "\n",
    "\n",
    "## Our plan\n",
    "\n",
    "Here's our plan for a given stock symbol, for example `amzn` :\n",
    "\n",
    "1. use Requests to get HTML from this page http://www.nasdaq.com/symbol/amzn\n",
    "2. use BeautifulSoup4 to extract data from the site. save the data we extract into a dict\n",
    "3. print the stock info from the dict\n",
    "\n",
    "We will write each step as its own function below\n",
    "\n"
   ]
  },
  {
   "cell_type": "code",
   "execution_count": null,
   "metadata": {},
   "outputs": [],
   "source": [
    "import requests\n",
    "from bs4 import BeautifulSoup\n",
    "import time"
   ]
  },
  {
   "cell_type": "markdown",
   "metadata": {},
   "source": [
    "## Use Requests to get HTML\n",
    "\n",
    "Here's the code:"
   ]
  },
  {
   "cell_type": "code",
   "execution_count": null,
   "metadata": {},
   "outputs": [],
   "source": [
    "symbol = \"amzn\"\n",
    "url = 'http://www.nasdaq.com/symbol/' + symbol\n",
    "response = requests.get(url)\n",
    "if response.ok:\n",
    "    print (response.text)\n",
    "else:\n",
    "    print (\"Error retrieving \" + url)"
   ]
  },
  {
   "cell_type": "markdown",
   "metadata": {},
   "source": [
    "It looks like it works, so we should refactor it into a function and then test again. we pass in the `symbol` as input and return what we would print as output."
   ]
  },
  {
   "cell_type": "code",
   "execution_count": null,
   "metadata": {},
   "outputs": [],
   "source": [
    "def get_html_from_nasdaq(symbol):\n",
    "    url = 'http://www.nasdaq.com/symbol/' + symbol\n",
    "    response = requests.get(url)\n",
    "    if response.ok:\n",
    "        return response.text\n",
    "    else:\n",
    "        return \"Error retrieving \" + url\n",
    "    "
   ]
  },
  {
   "cell_type": "markdown",
   "metadata": {},
   "source": [
    "Let's try it out... should work"
   ]
  },
  {
   "cell_type": "code",
   "execution_count": null,
   "metadata": {},
   "outputs": [],
   "source": [
    "html = get_html_from_nasdaq('amzn')\n",
    "html"
   ]
  },
  {
   "cell_type": "markdown",
   "metadata": {},
   "source": [
    "## use BeautifulSoup4 to extract data from the site\n",
    "\n",
    "Next we want to take `html` and extract out the meaningful bits. This is the part that requires time and patience. You'll need to use a browser's developer tools to find the important CSS selectors so you can retrieve the data.\n",
    "\n",
    "For simplicity's sake, we've done this for you. Feel free to open http://www.nasdaq.com/symbol/amzn in your browser's developer tools and locate each of these three selectors:"
   ]
  },
  {
   "cell_type": "code",
   "execution_count": null,
   "metadata": {},
   "outputs": [],
   "source": [
    "soup = BeautifulSoup(html, \"lxml\")\n",
    "name = soup.select(\"div#qwidget_pageheader h1\")[0].text\n",
    "price = soup.select(\"div#qwidget_lastsale\")[0].text\n",
    "change = soup.select(\"div#qwidget_percent\")[0].text\n",
    "print(name,price,change)"
   ]
  },
  {
   "cell_type": "markdown",
   "metadata": {},
   "source": [
    "We can't easily return 3 values from a function (actually you can in python, but we don't like to teach you that) so instead we will create a dictionary of these values first:"
   ]
  },
  {
   "cell_type": "code",
   "execution_count": null,
   "metadata": {},
   "outputs": [],
   "source": [
    "soup = BeautifulSoup(html, \"lxml\")\n",
    "name = soup.select(\"div#qwidget_pageheader h1\")[0].text\n",
    "price = soup.select(\"div#qwidget_lastsale\")[0].text\n",
    "change = soup.select(\"div#qwidget_percent\")[0].text\n",
    "stock= { 'Name' : name,\n",
    "        \"Price\" : price,\n",
    "        \"Change\" : change\n",
    "}\n",
    "\n",
    "print(stock)"
   ]
  },
  {
   "cell_type": "markdown",
   "metadata": {},
   "source": [
    "Once again, its time to refactor this into a function we take `html` as input (its the one thing we require to make this code work) and `stock` as output (since it is what we print."
   ]
  },
  {
   "cell_type": "code",
   "execution_count": null,
   "metadata": {},
   "outputs": [],
   "source": [
    "def extract_stock_data(html):\n",
    "    soup = BeautifulSoup(html, \"lxml\")\n",
    "    name = soup.select(\"div#qwidget_pageheader h1\")[0].text\n",
    "    price = soup.select(\"div#qwidget_lastsale\")[0].text\n",
    "    change = soup.select(\"div#qwidget_percent\")[0].text\n",
    "    stock= { 'Name' : name,\n",
    "            \"Price\" : price,\n",
    "            \"Change\" : change\n",
    "    }\n",
    "\n",
    "    return stock\n"
   ]
  },
  {
   "cell_type": "markdown",
   "metadata": {},
   "source": [
    "And we should test out our new function:"
   ]
  },
  {
   "cell_type": "code",
   "execution_count": null,
   "metadata": {},
   "outputs": [],
   "source": [
    "stock = extract_stock_data(html)\n",
    "print(stock)"
   ]
  },
  {
   "cell_type": "markdown",
   "metadata": {},
   "source": [
    "## Putting it all together\n",
    "\n",
    "Now you need to put it all together. Write a program to:\n",
    "\n",
    "1. input a stock symbol on the NASDAQ exchange\n",
    "2. get the html from the stock symbol on the NASDAQ website\n",
    "3. extract the stock data from the html\n",
    "4. print out the stock informtiom\n",
    "\n",
    "The program should work like this:\n",
    "\n",
    "```\n",
    "Enter a stock symbol on the NASDAQ Exchange: amzn\n",
    "Name: Amazon.com, Inc. Common Stock Quote & Summary Data\n",
    "Price: $852.53\n",
    "Change: 0.24%\n",
    "```"
   ]
  },
  {
   "cell_type": "code",
   "execution_count": null,
   "metadata": {},
   "outputs": [],
   "source": [
    "# todo write code here:\n"
   ]
  }
 ],
 "metadata": {
  "anaconda-cloud": {},
  "kernelspec": {
   "display_name": "Python 3",
   "language": "python",
   "name": "python3"
  },
  "language_info": {
   "codemirror_mode": {
    "name": "ipython",
    "version": 3
   },
   "file_extension": ".py",
   "mimetype": "text/x-python",
   "name": "python",
   "nbconvert_exporter": "python",
   "pygments_lexer": "ipython3",
   "version": "3.6.6"
  }
 },
 "nbformat": 4,
 "nbformat_minor": 1
}
