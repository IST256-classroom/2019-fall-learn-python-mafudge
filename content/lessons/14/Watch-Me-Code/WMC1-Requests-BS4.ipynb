{
 "cells": [
  {
   "cell_type": "markdown",
   "metadata": {},
   "source": [
    "# Watch Me Code 1: Beautiful Soup 4\n",
    "\n",
    "Your boss wants to market a new product to the iSchool Faculty.\n",
    "You have been tasked with creating a contact list containing names, jobs and emails for the marketing department\n"
   ]
  },
  {
   "cell_type": "code",
   "execution_count": 1,
   "metadata": {
    "collapsed": false
   },
   "outputs": [
    {
     "name": "stdout",
     "output_type": "stream",
     "text": [
      "File faculty.csv written to disk\n"
     ]
    }
   ],
   "source": [
    "# Todo:\n",
    "\n",
    "# 1. Get html from ischool faculty directory\n",
    "# 2. Parse html extract faculty contact info\n",
    "# 3. Write to a csv file for marketing\n",
    "\n",
    "import requests\n",
    "from bs4 import BeautifulSoup\n",
    "import csv\n",
    "\n",
    "def get_html(url):\n",
    "    # Get html from url\n",
    "    response = requests.get(url)\n",
    "    return response.text\n",
    "\n",
    "def extract_info(html):\n",
    "    # take html extract faculty info return list of dictionaries\n",
    "    soup = BeautifulSoup(html, \"lxml\")\n",
    "    faculty = []\n",
    "    for item in soup.select(\".faculty-list\")[0].select('.media'):\n",
    "        fac = {\n",
    "            \"name\": item.find(\"h4\").text,\n",
    "            \"title\": item.find(\"h5\").text,\n",
    "            \"email\": \"\"\n",
    "        }\n",
    "        for link in item.find_all(\"a\"):\n",
    "            if \"mailto:\" in link[\"href\"]:\n",
    "                fac[\"email\"] = link.text\n",
    "        faculty.append(fac)\n",
    "    return faculty   \n",
    "    \n",
    "def write_csv(filename, facultylist):\n",
    "    # take dictionaries and create a csv\n",
    "    with open(filename, 'w', newline='') as csvfile:\n",
    "        fieldnames = ['name', 'title', 'email']\n",
    "        writer = csv.DictWriter(csvfile, fieldnames=fieldnames)\n",
    "        writer.writeheader()\n",
    "        for faculty in facultylist:\n",
    "            writer.writerow(faculty)\n",
    "    return \"success\"\n",
    "\n",
    "# Follow our steps\n",
    "webpage = get_html('https://ischool.syr.edu/people/directories/faculty/')\n",
    "faculty = extract_info(webpage)\n",
    "filename = \"faculty.csv\"\n",
    "result = write_csv(filename, faculty)\n",
    "if result == \"success\":\n",
    "    print(\"File %s written to disk\" % (filename))"
   ]
  },
  {
   "cell_type": "code",
   "execution_count": null,
   "metadata": {
    "collapsed": true
   },
   "outputs": [],
   "source": []
  }
 ],
 "metadata": {
  "anaconda-cloud": {},
  "kernelspec": {
   "display_name": "Python [default]",
   "language": "python",
   "name": "python3"
  },
  "language_info": {
   "codemirror_mode": {
    "name": "ipython",
    "version": 3
   },
   "file_extension": ".py",
   "mimetype": "text/x-python",
   "name": "python",
   "nbconvert_exporter": "python",
   "pygments_lexer": "ipython3",
   "version": "3.5.2"
  }
 },
 "nbformat": 4,
 "nbformat_minor": 1
}
