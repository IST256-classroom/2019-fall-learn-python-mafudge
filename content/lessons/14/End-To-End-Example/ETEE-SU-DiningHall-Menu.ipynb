{
 "cells": [
  {
   "cell_type": "markdown",
   "metadata": {},
   "source": [
    "# End-To-End Example: SU Dining Hall Menu\n",
    "\n",
    "Let's scrape the SU Dining Hall menu and get a list of items on the menu!\n"
   ]
  },
  {
   "cell_type": "code",
   "execution_count": 65,
   "metadata": {
    "collapsed": false
   },
   "outputs": [
    {
     "name": "stdout",
     "output_type": "stream",
     "text": [
      "Enter Date For Which You'd like to see the menu: MM/DD/YYYY: 3/21/2017\n",
      "Do you want the menu for breafast, lunch or dinner?: dinner\n",
      "\n",
      "\n",
      "Here's what's on the dinner menu for 3/21/2017\n",
      "* Beef Barley Soup\n",
      "* Cream of Broccoli Soup (Vegetarian)\n",
      "* Macaroni Salad (Vegetarian)\n",
      "* Potato Salad (Vegetarian)\n",
      "* Quinoa, Garbanzo and Spinach Salad (Vegetarian)\n",
      "* Tomato & Cucumber Salad (Vegan)\n",
      "* Tomato and Dill Lentil Salad (Vegan)\n",
      "* Tortellini Salad (Vegetarian)\n",
      "* Apricot Glazed Chicken Drumsticks\n",
      "* Charbroiled Steak\n",
      "* Pasta Caprese (Vegetarian)\n",
      "* Onions Rings (Vegetarian)\n",
      "* Sweet Potato Souffle (Vegetarian)\n",
      "* Mushroom and Red Bell Pepper Saute (Vegan)\n",
      "* Zucchini & Yellow Squash Gratin (Vegetarian)\n",
      "* Lemon Cheese Bar (Vegetarian)\n",
      "* Cimbotta (Vegan)\n",
      "* Great Aunt Lillian's Curried Couscous (Vegan)\n",
      "* Mushroom and Red Bell Pepper Saute (Vegan)\n",
      "* Root Vegetable Brown Rice Pilaf (Vegan)\n",
      "* Asian Stir Fry Bar (various ingredients) (sesame)\n",
      "* Beef and Snow Pea (sesame)\n",
      "* Braised Vegetables with Tofu (Vegan)\n",
      "* Chicken and Vegetable Dumpling (sesame)\n",
      "* Jasmine Rice (Vegan)\n",
      "* Vegetable Spring Roll (sesame)\n",
      "* White Cake (Vegan)\n"
     ]
    }
   ],
   "source": [
    "from bs4 import BeautifulSoup\n",
    "import requests\n",
    "\n",
    "\n",
    "def getHtml(date):\n",
    "    url = \"http://foodmenu.syr.edu/FoodPro/shortmenu.asp\"\n",
    "    params = { \"sName\" :\"Syracuse University Food Services\", \n",
    "              \"locationNum\" : 18, \n",
    "              \"locationName\" : \"Dining Center Menu\", \n",
    "              \"Flag\" : 1, \n",
    "              \"WeeksMenus\" : \"This Week's Menus\",\n",
    "              \"myaction\" : \"read\",\n",
    "              \"dtdate\" : date}\n",
    "    response = requests.get(url, params = params)\n",
    "    return response.text\n",
    "\n",
    "def extractData(html, menu_selection):\n",
    "    menu_items = []\n",
    "    bld = soup.select(\"table[bordercolorlight=black] > tr  > td\")\n",
    "    for i in range(len(bld)):\n",
    "        meal = bld[i]\n",
    "        meal_name = meal.select(\"div.shortmenumeals\")[0].text.lower()\n",
    "        if meal_name == menu_selection:\n",
    "            for item in meal.select(\"a[name=Recipe_Desc]\"):\n",
    "                menu_items.append (item.text)\n",
    "    return menu_items\n",
    "\n",
    "def printMenu(menu_items):\n",
    "    print(\"\\n\\nHere's what's on the %s menu for %s\" % (menu_selection, date))\n",
    "    for item in menu_items:\n",
    "        print(\"*\",item)\n",
    "\n",
    "\n",
    "date = input(\"Enter Date For Which You'd like to see the menu: MM/DD/YYYY: \")\n",
    "menu_selection = input(\"Do you want the menu for breafast, lunch or dinner?: \")\n",
    "html = getHtml(date)\n",
    "menu_items = extractData(html, menu_selection) \n",
    "printMenu(menu_items)\n",
    "\n"
   ]
  },
  {
   "cell_type": "code",
   "execution_count": 62,
   "metadata": {
    "collapsed": false,
    "scrolled": false
   },
   "outputs": [
    {
     "name": "stdout",
     "output_type": "stream",
     "text": [
      "Beef Barley Soup\n",
      "Cream of Broccoli Soup (Vegetarian)\n",
      "Quinoa, Garbanzo and Spinach Salad (Vegetarian)\n",
      "Tomato & Cucumber Salad (Vegan)\n",
      "Tomato and Dill Lentil Salad (Vegan)\n",
      "Tortellini Salad (Vegetarian)\n",
      "Chicken Paprikash\n",
      "Pork Loin W/ Horseradish Sauce\n",
      "Savory Beef Tortellini\n",
      "Roasted Potatoes w/Vegetables\n",
      "Mixed Vegetables (Vegan)\n",
      "Squash and Pepper Melange (Vegan)\n",
      "Chocolate Chip Cookies (Vegetarian)\n",
      "Chocolate Mousse Pie (Vegetarian)\n",
      "Basmati Rice with Peas and Carrots (Vegan)\n",
      "Herbed Barley (Vegan)\n",
      "Matter Paneer (Vegetarian)\n",
      "Squash and Pepper Melange (Vegan)\n",
      "Asian Stir Fry Bar (various ingredients) (sesame)\n",
      "Beef and Snow Pea (sesame)\n",
      "Braised Vegetables with Tofu (Vegan)\n",
      "Chicken and Vegetable Dumpling (sesame)\n",
      "Jasmine Rice (Vegan)\n",
      "Vegetable Spring Roll (sesame)\n"
     ]
    }
   ],
   "source": [
    "\n",
    "        \n",
    "\n",
    "    \n"
   ]
  },
  {
   "cell_type": "code",
   "execution_count": 60,
   "metadata": {
    "collapsed": false
   },
   "outputs": [
    {
     "data": {
      "text/plain": [
       "3"
      ]
     },
     "execution_count": 60,
     "metadata": {},
     "output_type": "execute_result"
    }
   ],
   "source": [
    "len(bld)"
   ]
  },
  {
   "cell_type": "code",
   "execution_count": null,
   "metadata": {
    "collapsed": true
   },
   "outputs": [],
   "source": []
  }
 ],
 "metadata": {
  "anaconda-cloud": {},
  "kernelspec": {
   "display_name": "Python [default]",
   "language": "python",
   "name": "python3"
  },
  "language_info": {
   "codemirror_mode": {
    "name": "ipython",
    "version": 3
   },
   "file_extension": ".py",
   "mimetype": "text/x-python",
   "name": "python",
   "nbconvert_exporter": "python",
   "pygments_lexer": "ipython3",
   "version": "3.5.2"
  }
 },
 "nbformat": 4,
 "nbformat_minor": 0
}
