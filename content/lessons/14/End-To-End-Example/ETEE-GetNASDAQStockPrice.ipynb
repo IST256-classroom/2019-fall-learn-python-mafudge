{
 "cells": [
  {
   "cell_type": "markdown",
   "metadata": {},
   "source": [
    "# Get the current price of Apple inc. Stock\n",
    "\n",
    "Google NASDAQ:AAPL, scrape the current trading price and the percent change for today from www.nasdaq.com"
   ]
  },
  {
   "cell_type": "code",
   "execution_count": 3,
   "metadata": {
    "collapsed": false
   },
   "outputs": [
    {
     "name": "stdout",
     "output_type": "stream",
     "text": [
      "Enter Stock Symbol: AMZN\n",
      "Name: Amazon.com, Inc. Common Stock Quote & Summary Data\n",
      "Price: $899.8076\n",
      "Change: 0.25%\n"
     ]
    }
   ],
   "source": [
    "# Todo:\n",
    "\n",
    "# 1. Get html from https://www.google.com/finance?q=NASDAQ:AAPL\n",
    "# 2. Parse html extract the stock price and percent change\n",
    "# 3. print the results to the user\n",
    "\n",
    "from bs4 import BeautifulSoup\n",
    "import requests\n",
    "\n",
    "def get_html(url):\n",
    "    # Get html from url\n",
    "    response = requests.get(url)\n",
    "    return response.text\n",
    "\n",
    "def extract_info(html):\n",
    "    # take html extract faculty info return list of dictionaries\n",
    "    soup = BeautifulSoup(html, \"lxml\")\n",
    "    stock = {\n",
    "        \"name\": soup.select(\"div#qwidget_pageheader h1\")[0].text,\n",
    "        \"price\": soup.select(\"div#qwidget_lastsale\")[0].text,\n",
    "        \"change\": soup.select(\"div#qwidget_percent\")[0].text,\n",
    "    }\n",
    "    return stock   \n",
    "    \n",
    "\n",
    "# Follow our steps\n",
    "symbol = input(\"Enter Stock Symbol: \")\n",
    "url = 'http://www.nasdaq.com/symbol/' + symbol\n",
    "html = get_html(url)\n",
    "result = extract_info(html)\n",
    "print(\"Name: %s\" % result[\"name\"])\n",
    "print(\"Price: %s\" % result[\"price\"])\n",
    "print(\"Change: %s\" % result[\"change\"])"
   ]
  },
  {
   "cell_type": "code",
   "execution_count": null,
   "metadata": {
    "collapsed": true
   },
   "outputs": [],
   "source": []
  }
 ],
 "metadata": {
  "anaconda-cloud": {},
  "kernelspec": {
   "display_name": "Python [default]",
   "language": "python",
   "name": "python3"
  },
  "language_info": {
   "codemirror_mode": {
    "name": "ipython",
    "version": 3
   },
   "file_extension": ".py",
   "mimetype": "text/x-python",
   "name": "python",
   "nbconvert_exporter": "python",
   "pygments_lexer": "ipython3",
   "version": "3.5.2"
  }
 },
 "nbformat": 4,
 "nbformat_minor": 1
}
