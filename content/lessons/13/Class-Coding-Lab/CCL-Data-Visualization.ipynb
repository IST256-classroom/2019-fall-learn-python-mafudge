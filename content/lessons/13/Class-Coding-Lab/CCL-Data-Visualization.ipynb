{
 "cells": [
  {
   "cell_type": "markdown",
   "metadata": {},
   "source": [
    "# In-Class Coding Lab: Data Visualization\n",
    "\n",
    "The goals of this lab are to help you understand:\n",
    "\n",
    " - The value of visualization: A picture is worth 1,000 words!\n",
    " - The various ways to visualize information\n",
    " - The basic requirements for any visualization\n",
    " - How to plot complex visualizations such as multi-series charts and maps\n",
    " - Visualization Tools:\n",
    "     - Matplolib\n",
    "     - Plot.ly\n",
    "     - Folium Maps\n",
    "     "
   ]
  },
  {
   "cell_type": "code",
   "execution_count": null,
   "metadata": {},
   "outputs": [],
   "source": [
    "%matplotlib inline \n",
    "\n",
    "import matplotlib\n",
    "import matplotlib.pyplot as plt\n",
    "import plotly \n",
    "import plotly.plotly as py     \n",
    "import plotly.graph_objs as go  \n",
    "import cufflinks as cf\n",
    "import pandas as pd\n",
    "import folium\n",
    "import warnings\n",
    "#matplotlib.rcParams['figure.figsize'] = (20.0, 10.0) # larger figure size\n",
    "warnings.filterwarnings('ignore')"
   ]
  },
  {
   "cell_type": "markdown",
   "metadata": {},
   "source": [
    "## Back to the movie goers data set\n",
    "\n",
    "For this lab, we will once again use the movie goers dataset. As you may recall this data set is a survey demographic survey of people who go to the movies. Let's reload the data and setup our `age_group` feature again."
   ]
  },
  {
   "cell_type": "code",
   "execution_count": null,
   "metadata": {},
   "outputs": [],
   "source": [
    "goers = pd.read_csv('CCL-moviegoers.csv')\n",
    "goers['age_group'] = ''\n",
    "goers['age_group'][goers['age'] <=18] = 'Youth'\n",
    "goers['age_group'][(goers['age'] >=19) & (goers['age'] <=55)] = 'Adult'\n",
    "goers['age_group'][goers['age'] >=56] = 'Senior'\n",
    "\n",
    "goers.sample(5)"
   ]
  },
  {
   "cell_type": "markdown",
   "metadata": {},
   "source": [
    "## Visualizing Data\n",
    "\n",
    "There are many ways your can visualize information. Which one is the most appropriate? It depends on the data, of course. \n",
    "\n",
    "- **Counting Categorial data** belongs in *charts like pie charts and bar charts*.\n",
    "- **Counting Numerical data** is best suited for *histograms*.\n",
    "- **Timeseries data and continuous data** belongs in *line charts*.\n",
    "- **A comparision of two continuous values** is best suited for a *scatter plot*. \n",
    "- **Geographical data** is best displauyed on *maps*.\n",
    "\n",
    "Let's use this knowledge to plot some data in the `goers` `DataFrame`!\n",
    "\n",
    "## Males or Females?\n",
    "\n",
    "The first thing we might want to visualize is a count of gender in the dataset. A **pie** chart is well suited for this task as it displays data as a portion of a whole. To create a pie chart we need the data to count and the labels for the counts.\n",
    "\n",
    "Let's try it.\n",
    "\n",
    "First we get the value counts as a series `gender`:"
   ]
  },
  {
   "cell_type": "code",
   "execution_count": null,
   "metadata": {},
   "outputs": [],
   "source": [
    "gender = goers['gender'].value_counts()\n",
    "gender"
   ]
  },
  {
   "cell_type": "markdown",
   "metadata": {},
   "source": [
    "Then we make it into a dataframe:"
   ]
  },
  {
   "cell_type": "code",
   "execution_count": null,
   "metadata": {},
   "outputs": [],
   "source": [
    "gender_df = pd.DataFrame( { 'Gender' : gender.index,  \"Counts\" : gender })\n",
    "gender_df"
   ]
  },
  {
   "cell_type": "markdown",
   "metadata": {},
   "source": [
    "Then we plot! The index has the labels, and the value at the index is what we want to plot:"
   ]
  },
  {
   "cell_type": "code",
   "execution_count": null,
   "metadata": {},
   "outputs": [],
   "source": [
    "gender_df.plot.pie( y = 'Counts') # y are the values we are plotting"
   ]
  },
  {
   "cell_type": "markdown",
   "metadata": {},
   "source": [
    "### Now You Try it!\n",
    "\n",
    "Create a pie chart based on `age_group` first create a series of the `value_counts()` second, create the `DataFrame` with two columns `AgeGroup` and `Counts` then plot with `.plot.pie()`. \n",
    "\n",
    "Follow the steps we did in the previous three cells, but comvine into one cell!"
   ]
  },
  {
   "cell_type": "code",
   "execution_count": null,
   "metadata": {},
   "outputs": [],
   "source": [
    "#todo write code here\n"
   ]
  },
  {
   "cell_type": "markdown",
   "metadata": {},
   "source": [
    "## Too many pieces of the pie?\n",
    "\n",
    "Pie charts are nice, but they are only useful when you have a small number of labels. More that 5-7 labels and the pie becomes messy. For example take a look at this pie chart of `occupation`:"
   ]
  },
  {
   "cell_type": "code",
   "execution_count": null,
   "metadata": {},
   "outputs": [],
   "source": [
    "occ = goers['occupation'].value_counts()\n",
    "occ_df = pd.DataFrame( { 'occupation' : occ.index,  \"counts\" : occ })\n",
    "occ_df.plot.pie(y = 'counts')\n"
   ]
  },
  {
   "cell_type": "markdown",
   "metadata": {},
   "source": [
    "That's crazy... and difficult to comprehend. Also pie charts visualize data as part of the whole. We have no idea how many students there are. Sometimes we want to know actual counts. This is where the **bar chart** comes in handy!\n",
    "\n",
    "## Raising the bar!\n",
    "\n",
    "Let's reproduce the same plot as a bar:"
   ]
  },
  {
   "cell_type": "code",
   "execution_count": null,
   "metadata": {},
   "outputs": [],
   "source": [
    "occ_df.plot.bar()"
   ]
  },
  {
   "cell_type": "markdown",
   "metadata": {},
   "source": [
    "Ahh. that's much better. So much easier to understand!\n",
    "\n",
    "### Now you try it!\n",
    "\n",
    "Write a one-liner to plot `groups_df` as a Bar!"
   ]
  },
  {
   "cell_type": "code",
   "execution_count": null,
   "metadata": {},
   "outputs": [],
   "source": [
    "# todo write code here\n"
   ]
  },
  {
   "cell_type": "markdown",
   "metadata": {},
   "source": [
    "## When bar charts fail... \n",
    "\n",
    "Bar charts have the same problem as pie charts. Too many categories overcomplicate the chart, or show the data in a meaningless way. For example, let's create a bart chart for ages: "
   ]
  },
  {
   "cell_type": "code",
   "execution_count": null,
   "metadata": {},
   "outputs": [],
   "source": [
    "ages = goers['age'].value_counts()\n",
    "ages_df = pd.DataFrame( { 'age' : ages.index,  \"counts\" : ages })\n",
    "ages_df.plot.bar(y = 'counts')"
   ]
  },
  {
   "cell_type": "markdown",
   "metadata": {},
   "source": [
    "Meaningless. For two key reasons:\n",
    "\n",
    "1. too many categories\n",
    "2. age is a continuous variable not a categorical variable. In plain English, this means there's a relationship between one age and the next.  20 < 21 < 22. This is not represented in a bar chart.\n",
    "\n",
    "## ...Call in the Histogram!\n",
    "\n",
    "What we want is a **historgram**, which takes a continuous variable and loads counts into \"buckets\".  Notice how we didn't have to lump data with `value_counts()`. Histograms can do that automatically because the `age` variable is continuous. Let's try it:"
   ]
  },
  {
   "cell_type": "code",
   "execution_count": null,
   "metadata": {},
   "outputs": [],
   "source": [
    "goers.hist(column ='age')"
   ]
  },
  {
   "cell_type": "markdown",
   "metadata": {},
   "source": [
    "## Plot.ly\n",
    "\n",
    "[Plot.ly](https://plot.ly) is data visualization as a service. You give it data, it gives you back a web-based plot. Plot.ly is free and works with a variety of environments and programming languages, including Python. \n",
    "\n",
    "For Python is has bindings so that you can use it just like `matplotlib`! No need to manually invoke the web service call.\n",
    "\n",
    "To get started with plot.ly you must sign up for an account and get a set of credentials:\n",
    "\n",
    "- Visit [https://plot.ly/settings/api](https://plot.ly/settings/api)\n",
    "- Create an account or sign-in with Google or GitHub\n",
    "- Generate your API key and paste your username and key in the code below:"
   ]
  },
  {
   "cell_type": "code",
   "execution_count": null,
   "metadata": {},
   "outputs": [],
   "source": [
    "# todo: setup the credentials replace ??? and ??? with your Plot.ly username and api_key\n",
    "plotly.tools.set_credentials_file(username='???', api_key='???')"
   ]
  },
  {
   "cell_type": "markdown",
   "metadata": {},
   "source": [
    "Using plot.ly is as easy as, or sometimes easier than `matplotlib`. In most cases all you need to do is call `iplot()` on the data frame. For example, here's out first pie chart, plotly style:"
   ]
  },
  {
   "cell_type": "code",
   "execution_count": null,
   "metadata": {},
   "outputs": [],
   "source": [
    "gender_df.iplot(kind=\"pie\", labels = 'Gender', values='Counts') "
   ]
  },
  {
   "cell_type": "markdown",
   "metadata": {},
   "source": [
    "Notice that plot.ly is a bit more interactive. You can hover over the part of the pie chart and see counts!\n",
    "\n",
    "### Now You Try it!\n",
    "\n",
    "Use plotly's `iplot()` method to create a bar chart on the `occ_df` Data Frame:\n"
   ]
  },
  {
   "cell_type": "code",
   "execution_count": null,
   "metadata": {},
   "outputs": [],
   "source": [
    "# todo: write code here\n"
   ]
  },
  {
   "cell_type": "markdown",
   "metadata": {},
   "source": [
    "## Folium with Leaflet.js\n",
    "\n",
    "Folium is a Python module wrapper for [Leaflet.js](http://leafletjs.com/), which uses [Open Street Maps](https://www.openstreetmap.us/). These are two, popular open source mapping libraries. Unlike Google maps API, its 100% free!\n",
    "\n",
    "You can use Folium to render maps in Python and put data on the maps. Here's how easy it is to bring up a map:\n"
   ]
  },
  {
   "cell_type": "code",
   "execution_count": null,
   "metadata": {
    "scrolled": true
   },
   "outputs": [],
   "source": [
    "CENTER_US = (39.8333333,-98.585522)\n",
    "london = (51.5074, -0.1278)\n",
    "map = folium.Map(location=CENTER_US, zoom_start=4)\n",
    "map"
   ]
  },
  {
   "cell_type": "markdown",
   "metadata": {},
   "source": [
    "You can zoom right down to the street level and get a amazing detail. There are different maps you can use, as was covered in this week's reading. \n",
    "\n",
    "## Mapping the students.\n",
    "\n",
    "Let's take the largest category of movie goers and map their whereabouts. We will first need to import a data set to give us a lat/lng for the `zip_code` we have in the dataframe. We could look this up with Google's geolookup API, but that's too slow as we will be making 100's of requests. It's better to have them stored already and merge them with `goers`!\n",
    "\n",
    "Let's import the zipcode database into a Pandas DataFrame, then merge it with the `goers` DataFrame:"
   ]
  },
  {
   "cell_type": "code",
   "execution_count": null,
   "metadata": {},
   "outputs": [],
   "source": [
    "zipcodes = pd.read_csv('https://raw.githubusercontent.com/mafudge/datasets/master/zipcodes/free-zipcode-database-Primary.csv', dtype = {'Zipcode' :object})\n",
    "data = goers.merge(zipcodes,  how ='inner', left_on='zip_code', right_on='Zipcode')\n",
    "students = data[ data['occupation'] == 'student']\n",
    "students.sample()"
   ]
  },
  {
   "cell_type": "markdown",
   "metadata": {},
   "source": [
    "Let's explain the code, as a Pandas refresher course:\n",
    "\n",
    "1. in the first line I added `dtype = {'Zipcode' :object}` to force the `Zipcode` column to be of type `object` without that, it imports as type `int` and cannot match with the `goers` DataFrame.\n",
    "1. the next line merges the two dataframes together where the `zip_code` in `goers` (on_left) matches `Zipcode` in `zipcodes` (on_right)\n",
    "1. the result `data` is a combined DataFrame, which we then filter to only `student` occupations, sorting that in the `students` DataFrame\n",
    "\n",
    "\n",
    "## Slapping those students on a map!\n",
    "\n",
    "We're ready to place the students on a map. It's easy:\n",
    "\n",
    "1. For each row in the students dataframe:\n",
    "1.   get the coordinates (lat /lng )\n",
    "1.   make a `marker` with the coordinates\n",
    "1.   add the marker to the map with `add_children()`\n",
    "\n",
    "Here we go!\n"
   ]
  },
  {
   "cell_type": "code",
   "execution_count": null,
   "metadata": {
    "scrolled": true
   },
   "outputs": [],
   "source": [
    "for row in students.to_records():\n",
    "    pos = (row['Lat'],row['Long'])\n",
    "    message = \"%d year old %s  from %s, %s\" % (row['age'],row['gender'], row['City'], row['State'])\n",
    "    marker = folium.Marker(location=pos, \n",
    "                    popup=message\n",
    "                          )\n",
    "    map.add_children(marker)\n",
    "map"
   ]
  },
  {
   "cell_type": "markdown",
   "metadata": {},
   "source": [
    "### Now you try it!\n",
    "\n",
    "\n",
    "1. use the `data` DataFrame to retrieve only the occupation `programmer`\n",
    "1. create another map `map2` plot the programmers on that map!"
   ]
  },
  {
   "cell_type": "code",
   "execution_count": null,
   "metadata": {},
   "outputs": [],
   "source": [
    "## todo write code here!\n"
   ]
  }
 ],
 "metadata": {
  "anaconda-cloud": {},
  "kernelspec": {
   "display_name": "Python 3",
   "language": "python",
   "name": "python3"
  },
  "language_info": {
   "codemirror_mode": {
    "name": "ipython",
    "version": 3
   },
   "file_extension": ".py",
   "mimetype": "text/x-python",
   "name": "python",
   "nbconvert_exporter": "python",
   "pygments_lexer": "ipython3",
   "version": "3.6.6"
  }
 },
 "nbformat": 4,
 "nbformat_minor": 1
}
