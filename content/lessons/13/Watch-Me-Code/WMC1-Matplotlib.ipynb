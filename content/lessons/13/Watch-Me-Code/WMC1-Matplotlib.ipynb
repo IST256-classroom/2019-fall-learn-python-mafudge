{
 "cells": [
  {
   "cell_type": "markdown",
   "metadata": {},
   "source": [
    "# Watch Me Code 1: Matplotlib\n",
    "\n",
    "We will demonstrate Pythons data visualization library Matplotlib using it two ways\n",
    "\n",
    "- Standalone\n",
    "- With Pandas\n"
   ]
  },
  {
   "cell_type": "code",
   "execution_count": 5,
   "metadata": {
    "collapsed": false
   },
   "outputs": [],
   "source": [
    "# Jupyter Directive\n",
    "%matplotlib inline \n",
    "\n",
    "# imports\n",
    "import matplotlib\n",
    "import pandas as pd\n",
    "import numpy as np\n",
    "import matplotlib.pyplot as plt\n",
    "\n",
    "matplotlib.rcParams['figure.figsize'] = (20.0, 10.0) # larger figure size"
   ]
  },
  {
   "cell_type": "markdown",
   "metadata": {},
   "source": [
    "## Manual Plotting in Matplotlib"
   ]
  },
  {
   "cell_type": "code",
   "execution_count": 6,
   "metadata": {
    "collapsed": false
   },
   "outputs": [
    {
     "data": {
      "text/plain": [
       "[<matplotlib.lines.Line2D at 0x223d95b1da0>]"
      ]
     },
     "execution_count": 6,
     "metadata": {},
     "output_type": "execute_result"
    },
    {
     "data": {
      "image/png": "[encoded data removed]",
      "text/plain": [
       "<matplotlib.figure.Figure at 0x223d95563c8>"
      ]
     },
     "metadata": {},
     "output_type": "display_data"
    }
   ],
   "source": [
    "# Matplotlib requires lists to plot\n",
    "x = [1,2,3,4,5]\n",
    "xsquared = [1,4,9,16,25]\n",
    "plt.plot(x,xsquared) # default is a blue line"
   ]
  },
  {
   "cell_type": "code",
   "execution_count": null,
   "metadata": {
    "collapsed": false
   },
   "outputs": [],
   "source": [
    "# this can be overridden. consult help(plt.plot) for details\n",
    "plt.plot(x, xsquared, 'ro') # red dots"
   ]
  },
  {
   "cell_type": "code",
   "execution_count": null,
   "metadata": {
    "collapsed": false
   },
   "outputs": [],
   "source": [
    "# we can manipulate the axis too, rather than auto scale. In this case we must call plt.show() to display the plot\n",
    "plt.plot(x, xsquared, 'ro') # red dots\n",
    "plt.axis([0,6,0,26]) # a list in the form [xmin, xmax, ymin, ymax]\n",
    "plt.show()"
   ]
  },
  {
   "cell_type": "code",
   "execution_count": null,
   "metadata": {
    "collapsed": false
   },
   "outputs": [],
   "source": [
    "# Labels are simple\n",
    "plt.plot(x, xsquared,'r--') # red dashes\n",
    "plt.axis([0,6,0,26]) # a list in the form [xmin, xmax, ymin, ymax]\n",
    "plt.xlabel(\"Value of X\", fontsize=14)\n",
    "plt.ylabel(\"Value of X Squared\", fontsize=14)\n",
    "plt.title(\"Plot of X versus X Squared\", fontsize=20)\n",
    "plt.grid(True)\n",
    "plt.show()"
   ]
  },
  {
   "cell_type": "markdown",
   "metadata": {},
   "source": [
    "## Plotting chart types"
   ]
  },
  {
   "cell_type": "code",
   "execution_count": null,
   "metadata": {
    "collapsed": false
   },
   "outputs": [],
   "source": [
    "plt.bar(x,xsquared)"
   ]
  },
  {
   "cell_type": "code",
   "execution_count": null,
   "metadata": {
    "collapsed": false
   },
   "outputs": [],
   "source": [
    "plt.pie(x)"
   ]
  },
  {
   "cell_type": "code",
   "execution_count": null,
   "metadata": {
    "collapsed": false
   },
   "outputs": [],
   "source": [
    "plt.scatter(x, xsquared)"
   ]
  },
  {
   "cell_type": "markdown",
   "metadata": {},
   "source": [
    "## Plotting with Pandas"
   ]
  },
  {
   "cell_type": "code",
   "execution_count": null,
   "metadata": {
    "collapsed": false
   },
   "outputs": [],
   "source": [
    "scores = pd.read_csv(\"https://raw.githubusercontent.com/mafudge/datasets/master/exam-scores/exam-scores.csv\")\n",
    "scores.sample(10)"
   ]
  },
  {
   "cell_type": "code",
   "execution_count": null,
   "metadata": {
    "collapsed": false
   },
   "outputs": [],
   "source": [
    "# Plotting with Pandas is a bit more expressive\n",
    "scores.plot.scatter(x ='Completion Time', y ='Student Score' )"
   ]
  },
  {
   "cell_type": "code",
   "execution_count": null,
   "metadata": {
    "collapsed": false
   },
   "outputs": [],
   "source": [
    "## Labels too small, we can fall back to Matplot lib!\n",
    "p = scores.plot.scatter(x ='Completion Time', y ='Student Score', fontsize=20)\n",
    "p.set_xlabel('Completetion Time', fontsize=20)\n",
    "p.set_ylabel('Student Score', fontsize=20)\n",
    "p"
   ]
  },
  {
   "cell_type": "raw",
   "metadata": {},
   "source": []
  },
  {
   "cell_type": "code",
   "execution_count": null,
   "metadata": {
    "collapsed": false
   },
   "outputs": [],
   "source": [
    "# Take the value counts of letter grade and create a data frame\n",
    "letter_grades = pd.DataFrame( { 'Letter' : scores['Letter Grade'].value_counts() } ).sort_index()\n",
    "letter_grades.plot.bar(sort_columns=True)"
   ]
  },
  {
   "cell_type": "code",
   "execution_count": null,
   "metadata": {
    "collapsed": false
   },
   "outputs": [],
   "source": [
    "letter_grades.plot.pie( y = 'Letter', fontsize = 20)"
   ]
  }
 ],
 "metadata": {
  "anaconda-cloud": {},
  "kernelspec": {
   "display_name": "Python [default]",
   "language": "python",
   "name": "python3"
  },
  "language_info": {
   "codemirror_mode": {
    "name": "ipython",
    "version": 3
   },
   "file_extension": ".py",
   "mimetype": "text/x-python",
   "name": "python",
   "nbconvert_exporter": "python",
   "pygments_lexer": "ipython3",
   "version": "3.5.2"
  }
 },
 "nbformat": 4,
 "nbformat_minor": 0
}
