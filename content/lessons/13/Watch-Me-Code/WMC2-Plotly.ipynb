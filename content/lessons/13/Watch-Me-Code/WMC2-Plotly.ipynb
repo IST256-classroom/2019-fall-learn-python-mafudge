{
 "cells": [
  {
   "cell_type": "markdown",
   "metadata": {},
   "source": [
    "# Watch Me Code 2: Plotly and Cufflinks\n",
    "\n",
    "- Plotly is a cloud based plotting service. It uses the popular JavaScript library D3.js.\n",
    "- Plotly is simple to use "
   ]
  },
  {
   "cell_type": "code",
   "execution_count": null,
   "metadata": {},
   "outputs": [],
   "source": [
    "!pip install chart-studio"
   ]
  },
  {
   "cell_type": "code",
   "execution_count": null,
   "metadata": {},
   "outputs": [],
   "source": [
    "import chart_studio as plotly\n",
    "import chart_studio.plotly as py\n",
    "import plotly.express as px\n",
    "import plotly.graph_objects as go\n",
    "import pandas as pd"
   ]
  },
  {
   "cell_type": "markdown",
   "metadata": {},
   "source": [
    "To use plot.ly you need to sign up for a free account then get API credentials. https://chart-studio.plot.ly/settings/api"
   ]
  },
  {
   "cell_type": "code",
   "execution_count": null,
   "metadata": {},
   "outputs": [],
   "source": [
    "# setup the credentials\n",
    "plotly.tools.set_credentials_file(username='mafudge73fc', api_key='xq1nCPgiHZNrU9je0VaW')"
   ]
  },
  {
   "cell_type": "code",
   "execution_count": null,
   "metadata": {},
   "outputs": [],
   "source": [
    "# Start with a Simple Pandas DataFrame\n",
    "grades = { 'subjects' : ['Mathematics', 'English', 'History', 'Science', 'Arts'],\n",
    "           'grades' : [67, 60, 36, 61, 58]\n",
    "         }\n",
    "grades_df = pd.DataFrame(grades)\n",
    "grades_df"
   ]
  },
  {
   "cell_type": "markdown",
   "metadata": {},
   "source": [
    "To plot with plotly, we need:\n",
    "\n",
    "- Data: this is a list of subplots, \n",
    "- A Python Dictionary of information to put on the plot"
   ]
  },
  {
   "cell_type": "code",
   "execution_count": null,
   "metadata": {},
   "outputs": [],
   "source": [
    "grade_data = [go.Bar(x=grades_df['subjects'], y=grades_df['grades'])] # Bar Plot, note this is a list\n",
    "\n",
    "py.iplot({ 'data': grade_data,\n",
    "            'layout': {\n",
    "               'title': 'My Grades R Asum',\n",
    "               'xaxis': {\n",
    "                 'title': 'Subjects Are Bad'},\n",
    "               'yaxis': {\n",
    "                'title': 'Grades'}\n",
    "        }})"
   ]
  },
  {
   "cell_type": "markdown",
   "metadata": {},
   "source": [
    "Plotly express makes it easy to plot a dataframe"
   ]
  },
  {
   "cell_type": "code",
   "execution_count": null,
   "metadata": {},
   "outputs": [],
   "source": [
    "# Same plot as a one-liner using plotly.express\n",
    "px.bar(grades_df, x='subjects', y='grades', title='My Grades R Awesum')"
   ]
  },
  {
   "cell_type": "markdown",
   "metadata": {},
   "source": [
    "How about an example with multiple series? For that we need to pull in another dataset"
   ]
  },
  {
   "cell_type": "code",
   "execution_count": null,
   "metadata": {},
   "outputs": [],
   "source": [
    "cuse_weather_df = pd.read_csv('https://raw.githubusercontent.com/mafudge/datasets/master/weather/syracuse-ny.csv')\n",
    "cuse_weather_df = cuse_weather_df[ cuse_weather_df['EST'].str.startswith('2015-')] \n",
    "cuse_weather_df.head(5)"
   ]
  },
  {
   "cell_type": "code",
   "execution_count": null,
   "metadata": {},
   "outputs": [],
   "source": [
    "r = dict(color='red')\n",
    "g = dict(color='green')\n",
    "b = dict(color='blue')\n",
    "grade_data = [\n",
    "    go.Scatter(x=cuse_weather_df['EST'], y=cuse_weather_df['Max TemperatureF'], mode=\"lines\", name=\"Max Temp\", marker=r),\n",
    "    go.Scatter(x=cuse_weather_df['EST'], y=cuse_weather_df['Mean TemperatureF'], mode=\"lines+markers\", name=\"Mean Temp\", marker=g),\n",
    "    go.Scatter(x=cuse_weather_df['EST'], y=cuse_weather_df['Min TemperatureF'], mode=\"lines\", name=\"Min Temp\", marker=b)\n",
    "]\n",
    "\n",
    "py.iplot({ 'data': grade_data,\n",
    "            'layout': {\n",
    "               'title': 'Syracuse Weather 2015',\n",
    "               'xaxis': {\n",
    "                 'title': 'Day of the Year'},\n",
    "               'yaxis': {\n",
    "                'title': 'Temperature Deg F'}\n",
    "        }})"
   ]
  },
  {
   "cell_type": "markdown",
   "metadata": {},
   "source": [
    "Here's another example with the Exam Scores Dataset. Shows you how much more expressive plot.ly can be."
   ]
  },
  {
   "cell_type": "code",
   "execution_count": null,
   "metadata": {},
   "outputs": [],
   "source": [
    "scores_df = pd.read_csv('https://raw.githubusercontent.com/mafudge/datasets/master/exam-scores/exam-scores.csv')\n",
    "scores_df = scores_df.sort_values(by='Student_Score')\n",
    "scores_df[0:6]"
   ]
  },
  {
   "cell_type": "code",
   "execution_count": null,
   "metadata": {
    "scrolled": false
   },
   "outputs": [],
   "source": [
    "grade_data = [\n",
    "    go.Scatter(x=scores_df['Letter_Grade'], y=scores_df['Completion_Time'], mode=\"markers\", \n",
    "               marker= { 'size': scores_df['Student_Score'], 'sizemode' : 'diameter', 'sizeref' : 1.0})\n",
    "]\n",
    "\n",
    "py.iplot({ 'data': grade_data,\n",
    "            'layout': {\n",
    "               'title': 'Exam Grades',\n",
    "               'xaxis': {\n",
    "                 'title': 'Letter Grade'},\n",
    "               'yaxis': {\n",
    "                'title': 'Time To Complete Exam'}\n",
    "        }})"
   ]
  },
  {
   "cell_type": "code",
   "execution_count": null,
   "metadata": {},
   "outputs": [],
   "source": [
    "grade_data = [\n",
    "    go.Heatmap(x=scores_df['Exam_Version'], y=scores_df['Completion_Time'], z=scores_df['Student_Score'])\n",
    "]\n",
    "\n",
    "py.iplot({ 'data': grade_data,\n",
    "            'layout': {\n",
    "               'title': 'Exam Grades Heat Map',\n",
    "               'xaxis': {\n",
    "                 'title': 'Exam Version'},\n",
    "               'yaxis': {\n",
    "                 'title': 'Time To Complete Exam'}           \n",
    "        }})"
   ]
  },
  {
   "cell_type": "code",
   "execution_count": null,
   "metadata": {},
   "outputs": [],
   "source": [
    "# A manual sample, showing you don't need to use Pandas at all.\n",
    "\n",
    "trace0 = go.Scatter(\n",
    "    x=[1,2,3,4,5,6,7,8],\n",
    "    y=[10, 15, 13, 17, 15, 12, 10, 18],\n",
    "    mode = \"markers\",\n",
    "    name = \"series 2\"\n",
    ")\n",
    "trace1 = go.Scatter(\n",
    "    x=[1,2,3,4,5,6,7,8],\n",
    "    y=[16, 5, 11, 9, 16, 10, 14, 12],\n",
    "    mode=\"lines\",\n",
    "    name = \"series 1\"\n",
    ")\n",
    "data = [trace0, trace1]\n",
    "\n",
    "py.iplot({ 'data': data,\n",
    "            'layout': {\n",
    "               'title': 'Sample Chart',\n",
    "               'xaxis': {\n",
    "                 'title': 'X Axis'},\n",
    "               'yaxis': {\n",
    "                 'title': 'Y Axis'}            \n",
    "        }})"
   ]
  },
  {
   "cell_type": "code",
   "execution_count": null,
   "metadata": {},
   "outputs": [],
   "source": [
    "df = pd.read_csv('https://raw.githubusercontent.com/plotly/datasets/master/gapminder2007.csv')\n",
    "\n",
    "# make the drawing figure\n",
    "fig = go.Figure(go.Scatter(x=df.gdpPercap, y=df.lifeExp, text=df.country, mode='markers', name='2007'))\n",
    "fig.update_xaxes(title_text='GDP per Capita', type='log')\n",
    "fig.update_yaxes(title_text='Life Expectancy')\n",
    "\n",
    "#save it under a specific name\n",
    "py.plot(fig, filename='pandas-multiple-scatter')\n",
    "#show it\n",
    "fig.show()"
   ]
  },
  {
   "cell_type": "code",
   "execution_count": null,
   "metadata": {},
   "outputs": [],
   "source": [
    "# example using px also using ipython display\n",
    "from IPython.display import display\n",
    "\n",
    "display(px.scatter(df, x='gdpPercap', y='lifeExp', text='country'))\n",
    "display(px.scatter(df, x='gdpPercap', y='lifeExp', text=None))\n"
   ]
  },
  {
   "cell_type": "code",
   "execution_count": null,
   "metadata": {},
   "outputs": [],
   "source": []
  }
 ],
 "metadata": {
  "anaconda-cloud": {},
  "kernelspec": {
   "display_name": "Python 3",
   "language": "python",
   "name": "python3"
  },
  "language_info": {
   "codemirror_mode": {
    "name": "ipython",
    "version": 3
   },
   "file_extension": ".py",
   "mimetype": "text/x-python",
   "name": "python",
   "nbconvert_exporter": "python",
   "pygments_lexer": "ipython3",
   "version": "3.7.3"
  }
 },
 "nbformat": 4,
 "nbformat_minor": 1
}
