{
 "cells": [
  {
   "cell_type": "markdown",
   "metadata": {},
   "source": [
    "## Now You Code 4: Mapping US Population Change\n",
    "\n",
    "Your objective is to produce a map of population change from 2010 to 2016 as a choropleth which includes a pin to display the change.\n",
    "\n",
    "![NYC4-screenshot.png](NYC4-screenshot.png)\n",
    "\n",
    "Recommended procedure:\n",
    "\n",
    "1. Load the following US Population data into a Pandas DataFrame \n",
    "  https://raw.githubusercontent.com/mafudge/datasets/master/usa/us-pop-estimates-2010-2016.csv\n",
    "1. Load the following Geographic Center data into a Pandas DataFrame\n",
    "  https://raw.githubusercontent.com/mafudge/datasets/master/usa/geographic-centers.csv\n",
    "1. `merge()` the two datasets with an `inner` join on the `Code` column.\n",
    "1. Calculate the percentage change in population from 2010 to 2016. The formula should be 100 * (2016pop - 2010pop) / 2010pop\n",
    "1. Create a choropleth of population change by state. Use a `fill_color='YlOrRd'`.\n",
    "1. Add push pins to the map in the geographic center of each state, and include a data label of the percentage population change.\n",
    "\n"
   ]
  },
  {
   "cell_type": "markdown",
   "metadata": {
    "collapsed": true
   },
   "source": [
    "## Step 1: Problem Analysis\n",
    "\n",
    "Inputs:\n",
    "\n",
    "Outputs:\n",
    "\n",
    "Algorithm (Steps in Program):\n",
    "\n",
    "\n"
   ]
  },
  {
   "cell_type": "code",
   "execution_count": null,
   "metadata": {
    "collapsed": true
   },
   "outputs": [],
   "source": [
    "# Step 2: Write your code here\n"
   ]
  },
  {
   "cell_type": "markdown",
   "metadata": {},
   "source": [
    "## Reminder of Evaluation Criteria\n",
    "\n",
    "1. Was the problem attempted (analysis, code, and answered questions) ?\n",
    "2. Was the problem analysis thought out? (does the program match the plan?)\n",
    "3. Does the code execute without syntax error?\n",
    "4. Does the code solve the intended problem?\n",
    "5. Is the code well written? (easy to understand, modular, and self-documenting, handles errors)"
   ]
  },
  {
   "cell_type": "code",
   "execution_count": null,
   "metadata": {},
   "outputs": [],
   "source": []
  }
 ],
 "metadata": {
  "anaconda-cloud": {},
  "kernelspec": {
   "display_name": "Python 3",
   "language": "python",
   "name": "python3"
  },
  "language_info": {
   "codemirror_mode": {
    "name": "ipython",
    "version": 3
   },
   "file_extension": ".py",
   "mimetype": "text/x-python",
   "name": "python",
   "nbconvert_exporter": "python",
   "pygments_lexer": "ipython3",
   "version": "3.6.6"
  }
 },
 "nbformat": 4,
 "nbformat_minor": 1
}
