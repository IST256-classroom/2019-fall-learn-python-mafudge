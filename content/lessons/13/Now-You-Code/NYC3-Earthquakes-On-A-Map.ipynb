{
 "cells": [
  {
   "cell_type": "markdown",
   "metadata": {},
   "source": [
    "## Now You Code 3: Mapping Earthquakes\n",
    "\n",
    "Let's plot a live map of earthquakes from the USGS earthquake data feed. \n",
    "\n",
    "Here's a sample of the output, zoomed in over California\n",
    "\n",
    "![NYC3-screenshot.png](NYC3-screenshot.png)\n",
    "\n",
    "How to do it:\n",
    "\n",
    "- Read the earthquake data from http://earthquake.usgs.gov/earthquakes/feed/v1.0/summary/1.0_week.geojson  \n",
    "- Then plot it on a folium map using CircleMarkers (no need to use Pandas). \n",
    "- Make the size of the marker correlate to the magnitude of the earthquake (bigger circle for bigger magnitude) also when you click on the marker you should see the title of the earthquake.\n",
    "\n",
    "Here's a formula for making your markers more noticeable:\n",
    "`radius = ( 75 * earthquake_magnitude) ** 2` Feel free to tweak the formula."
   ]
  },
  {
   "cell_type": "markdown",
   "metadata": {
    "collapsed": true
   },
   "source": [
    "## Step 1: Problem Analysis\n",
    "\n",
    "Inputs:\n",
    "\n",
    "Outputs:\n",
    "\n",
    "Algorithm (Steps in Program):\n",
    "\n",
    "\n"
   ]
  },
  {
   "cell_type": "code",
   "execution_count": null,
   "metadata": {
    "collapsed": true
   },
   "outputs": [],
   "source": [
    "# Step 2: Write your code here\n"
   ]
  },
  {
   "cell_type": "markdown",
   "metadata": {},
   "source": [
    "## Reminder of Evaluation Criteria\n",
    "\n",
    "1. Was the problem attempted (analysis, code, and answered questions) ?\n",
    "2. Was the problem analysis thought out? (does the program match the plan?)\n",
    "3. Does the code execute without syntax error?\n",
    "4. Does the code solve the intended problem?\n",
    "5. Is the code well written? (easy to understand, modular, and self-documenting, handles errors)"
   ]
  },
  {
   "cell_type": "code",
   "execution_count": null,
   "metadata": {},
   "outputs": [],
   "source": []
  }
 ],
 "metadata": {
  "anaconda-cloud": {},
  "kernelspec": {
   "display_name": "Python 3",
   "language": "python",
   "name": "python3"
  },
  "language_info": {
   "codemirror_mode": {
    "name": "ipython",
    "version": 3
   },
   "file_extension": ".py",
   "mimetype": "text/x-python",
   "name": "python",
   "nbconvert_exporter": "python",
   "pygments_lexer": "ipython3",
   "version": "3.6.6"
  }
 },
 "nbformat": 4,
 "nbformat_minor": 1
}
