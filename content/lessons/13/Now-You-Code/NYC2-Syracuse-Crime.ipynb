{
 "cells": [
  {
   "cell_type": "markdown",
   "metadata": {},
   "source": [
    "## Now You Code 2: Syracuse Crime Data\n",
    "\n",
    "In this second now you code you will explore the plot.ly engine in detail using Syracuse, NY FBI crime data."
   ]
  },
  {
   "cell_type": "code",
   "execution_count": null,
   "metadata": {
    "collapsed": true
   },
   "outputs": [],
   "source": [
    "import plotly.plotly as py    \n",
    "import plotly.graph_objs as go  \n",
    "import cufflinks as cf\n",
    "import pandas as pd"
   ]
  },
  {
   "cell_type": "code",
   "execution_count": null,
   "metadata": {},
   "outputs": [],
   "source": [
    "crime = pd.read_csv('https://raw.githubusercontent.com/mafudge/datasets/master/crime/syracuse-crime-data-1985-2012.csv')\n",
    "crime.sample(10)"
   ]
  },
  {
   "cell_type": "code",
   "execution_count": null,
   "metadata": {},
   "outputs": [],
   "source": [
    "# Make a line plot of population over the years, using cufflinks crime.iplot()\n",
    "# set the titles on x \"Year, Y \"Population\" and cart title \" Syracuse Population\" \n",
    "# TODO: replace the ???? with appropriate values to render the chart\n",
    "crime.iplot(kind = 'scatter', x = '????', y = '????', title='????',xTitle='????',yTitle='????')"
   ]
  },
  {
   "cell_type": "code",
   "execution_count": null,
   "metadata": {},
   "outputs": [],
   "source": [
    "# Step 1:\n",
    "# Now plot the same thing using plot.ly without cufflinks, again filling in the templates. Using plot.ly takes more effort but\n",
    "# you have more control / flexibility over how the plots are rendered.\n",
    "plot_data = [\n",
    "    go.Scatter(x=crime['????'], y=crime['????'], mode=\"lines+markers\", name=\"????\", marker=dict(color='red')),\n",
    "]\n",
    "\n",
    "py.iplot({ 'data': plot_data,\n",
    "            'layout': {\n",
    "               'title': '?????',\n",
    "               'xaxis': {\n",
    "                 'title': '???'},\n",
    "               'yaxis': {\n",
    "                'title': '???'}\n",
    "        }})"
   ]
  },
  {
   "cell_type": "code",
   "execution_count": null,
   "metadata": {},
   "outputs": [],
   "source": [
    "# Step 2:\n",
    "# Now create a line plot of \"Robbery rate\" versus \"Motor vehicle theft rate\" over time.\n",
    "# NOTE: you will need two series in your plot_data \n"
   ]
  },
  {
   "cell_type": "markdown",
   "metadata": {},
   "source": [
    "# Interactive Plots\n",
    "\n",
    "Finally write a program to ask for a crime metric like \"Robbery\" / \"Burglary\" / \"Manslaughter\" etc as input, \n",
    "then renders a plot of that metric over time as output !\n",
    "\n",
    "Note: check to make sure the entered crime metric is in the list of Pandas columns before you attempt to plot. \n",
    "It might be a good idea to print the column names before you plot.\n",
    "if it is not a valid metric, you should print \"That is not a crime metric\"\n",
    "\n"
   ]
  },
  {
   "cell_type": "markdown",
   "metadata": {},
   "source": [
    "## Step 3: Problem Analysis\n",
    "\n",
    "Inputs:\n",
    "\n",
    "Outputs:\n",
    "\n",
    "Algorithm (Steps in Program):\n"
   ]
  },
  {
   "cell_type": "code",
   "execution_count": null,
   "metadata": {},
   "outputs": [],
   "source": [
    "## Step 4: Write code here\n",
    "\n"
   ]
  },
  {
   "cell_type": "markdown",
   "metadata": {},
   "source": [
    "## Reminder of Evaluation Criteria\n",
    "\n",
    "1. Was the problem attempted (analysis, code, and answered questions) ?\n",
    "2. Was the problem analysis thought out? (does the program match the plan?)\n",
    "3. Does the code execute without syntax error?\n",
    "4. Does the code solve the intended problem?\n",
    "5. Is the code well written? (easy to understand, modular, and self-documenting, handles errors)\n"
   ]
  },
  {
   "cell_type": "code",
   "execution_count": null,
   "metadata": {
    "collapsed": true
   },
   "outputs": [],
   "source": []
  }
 ],
 "metadata": {
  "anaconda-cloud": {},
  "kernelspec": {
   "display_name": "Python 3",
   "language": "python",
   "name": "python3"
  },
  "language_info": {
   "codemirror_mode": {
    "name": "ipython",
    "version": 3
   },
   "file_extension": ".py",
   "mimetype": "text/x-python",
   "name": "python",
   "nbconvert_exporter": "python",
   "pygments_lexer": "ipython3",
   "version": "3.6.6"
  }
 },
 "nbformat": 4,
 "nbformat_minor": 1
}
