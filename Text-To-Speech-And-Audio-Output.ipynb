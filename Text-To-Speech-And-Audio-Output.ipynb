{
 "cells": [
  {
   "cell_type": "code",
   "execution_count": 2,
   "metadata": {},
   "outputs": [
    {
     "name": "stdout",
     "output_type": "stream",
     "text": [
      "Collecting gtts\n",
      "  Downloading https://files.pythonhosted.org/packages/02/0b/e19dd65623e34954fb6793765ad1c6185a669a33e6a6245939e97abeaaca/gTTS-2.0.4-py3-none-any.whl\n",
      "Collecting beautifulsoup4 (from gtts)\n",
      "\u001b[?25l  Downloading https://files.pythonhosted.org/packages/3b/c8/a55eb6ea11cd7e5ac4bacdf92bac4693b90d3ba79268be16527555e186f0/beautifulsoup4-4.8.1-py3-none-any.whl (101kB)\n",
      "\u001b[K     |████████████████████████████████| 102kB 11.6MB/s ta 0:00:01\n",
      "\u001b[?25hRequirement already satisfied: six in /opt/conda/lib/python3.7/site-packages (from gtts) (1.12.0)\n",
      "Collecting gtts-token>=1.1.3 (from gtts)\n",
      "  Downloading https://files.pythonhosted.org/packages/e7/25/ca6e9cd3275bfc3097fe6b06cc31db6d3dfaf32e032e0f73fead9c9a03ce/gTTS-token-1.1.3.tar.gz\n",
      "Requirement already satisfied: requests in /opt/conda/lib/python3.7/site-packages (from gtts) (2.22.0)\n",
      "Requirement already satisfied: click in /opt/conda/lib/python3.7/site-packages (from gtts) (7.0)\n",
      "Collecting soupsieve>=1.2 (from beautifulsoup4->gtts)\n",
      "  Downloading https://files.pythonhosted.org/packages/5d/42/d821581cf568e9b7dfc5b415aa61952b0f5e3dede4f3cbd650e3a1082992/soupsieve-1.9.4-py2.py3-none-any.whl\n",
      "Requirement already satisfied: urllib3!=1.25.0,!=1.25.1,<1.26,>=1.21.1 in /opt/conda/lib/python3.7/site-packages (from requests->gtts) (1.24.2)\n",
      "Requirement already satisfied: certifi>=2017.4.17 in /opt/conda/lib/python3.7/site-packages (from requests->gtts) (2019.6.16)\n",
      "Requirement already satisfied: chardet<3.1.0,>=3.0.2 in /opt/conda/lib/python3.7/site-packages (from requests->gtts) (3.0.4)\n",
      "Requirement already satisfied: idna<2.9,>=2.5 in /opt/conda/lib/python3.7/site-packages (from requests->gtts) (2.8)\n",
      "Building wheels for collected packages: gtts-token\n",
      "  Building wheel for gtts-token (setup.py) ... \u001b[?25ldone\n",
      "\u001b[?25h  Stored in directory: /home/jovyan/.cache/pip/wheels/dd/11/61/33f7e51bf545e910552b2255eead2a7cd8ef54064b46dceb34\n",
      "Successfully built gtts-token\n",
      "Installing collected packages: soupsieve, beautifulsoup4, gtts-token, gtts\n",
      "Successfully installed beautifulsoup4-4.8.1 gtts-2.0.4 gtts-token-1.1.3 soupsieve-1.9.4\n"
     ]
    }
   ],
   "source": [
    "!pip install gtts"
   ]
  },
  {
   "cell_type": "code",
   "execution_count": 3,
   "metadata": {},
   "outputs": [],
   "source": [
    "from gtts import gTTS\n",
    "import time\n",
    "import os\n",
    "import IPython.display as ipd\n",
    "\n",
    "def SpeakIt(text):\n",
    "\n",
    "    filename = 'demo.mp3'\n",
    "    if os.path.exists(filename):\n",
    "        os.remove(filename)\n",
    "    tts = gTTS(text, 'en-us')\n",
    "    tts.save(filename)\n",
    "    return ipd.Audio(filename=filename, autoplay=True)"
   ]
  },
  {
   "cell_type": "code",
   "execution_count": 4,
   "metadata": {},
   "outputs": [
    {
     "name": "stdout",
     "output_type": "stream",
     "text": [
      "Enter your name: mike\n"
     ]
    },
    {
     "data": {
      "text/html": [
       "\n",
       "                <audio  controls=\"controls\" autoplay=\"autoplay\">\n",
       "                    <source src=\"data:audio/mpeg;base64,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\" type=\"audio/mpeg\" />\n",
       "                    Your browser does not support the audio element.\n",
       "                </audio>\n",
       "              "
      ],
      "text/plain": [
       "<IPython.lib.display.Audio object>"
      ]
     },
     "metadata": {},
     "output_type": "display_data"
    },
    {
     "name": "stdout",
     "output_type": "stream",
     "text": [
      "Enter your Age: 99\n"
     ]
    },
    {
     "data": {
      "text/html": [
       "\n",
       "                <audio  controls=\"controls\" autoplay=\"autoplay\">\n",
       "                    <source src=\"data:audio/mpeg;base64,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\" type=\"audio/mpeg\" />\n",
       "                    Your browser does not support the audio element.\n",
       "                </audio>\n",
       "              "
      ],
      "text/plain": [
       "<IPython.lib.display.Audio object>"
      ]
     },
     "metadata": {},
     "output_type": "display_data"
    },
    {
     "data": {
      "text/html": [
       "\n",
       "                <audio  controls=\"controls\" autoplay=\"autoplay\">\n",
       "                    <source src=\"data:audio/mpeg;base64,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\" type=\"audio/mpeg\" />\n",
       "                    Your browser does not support the audio element.\n",
       "                </audio>\n",
       "              "
      ],
      "text/plain": [
       "<IPython.lib.display.Audio object>"
      ]
     },
     "metadata": {},
     "output_type": "display_data"
    }
   ],
   "source": [
    "name = input(\"Enter your name: \")\n",
    "ipd.display(SpeakIt(\"Hello, \" + name))\n",
    "age = input(\"Enter your Age: \")\n",
    "ipd.display(SpeakIt(f\"You are {age} years old.\"))\n",
    "time.sleep(2)\n",
    "ipd.display(SpeakIt(\"Bye Now\"))\n"
   ]
  },
  {
   "cell_type": "code",
   "execution_count": 7,
   "metadata": {},
   "outputs": [
    {
     "name": "stdout",
     "output_type": "stream",
     "text": [
      "Help on class gTTS in module gtts.tts:\n",
      "\n",
      "class gTTS(builtins.object)\n",
      " |  gTTS(text, lang='en', slow=False, lang_check=True, pre_processor_funcs=[<function tone_marks at 0x7f8c68df3158>, <function end_of_line at 0x7f8c68df3d90>, <function abbreviations at 0x7f8c68df3e18>, <function word_sub at 0x7f8c68df3ea0>], tokenizer_func=<bound method Tokenizer.run of re.compile('(?<=\\\\?).|(?<=!).|(?<=？).|(?<=！).|(?<!\\\\.[a-z])\\\\. |(?<!\\\\.[a-z]), |(?<!\\\\d):|\\\\(|;|¡|،|：|，|。|\\\\]|\\\\[|\\\\)|、|—|‥|¿|\\\\\\n|…', re.IGNORECASE) from: [<function tone_marks at 0x7f8c68df3f28>, <function period_comma at 0x7f8c68e19048>, <function colon at 0x7f8c68e190d0>, <function other_punctuation at 0x7f8c68e19158>]>)\n",
      " |  \n",
      " |  gTTS -- Google Text-to-Speech.\n",
      " |  \n",
      " |  An interface to Google Translate's Text-to-Speech API.\n",
      " |  \n",
      " |  Args:\n",
      " |      text (string): The text to be read.\n",
      " |      lang (string, optional): The language (IETF language tag) to\n",
      " |          read the text in. Defaults to 'en'.\n",
      " |      slow (bool, optional): Reads text more slowly. Defaults to ``False``.\n",
      " |      lang_check (bool, optional): Strictly enforce an existing ``lang``,\n",
      " |          to catch a language error early. If set to ``True``,\n",
      " |          a ``ValueError`` is raised if ``lang`` doesn't exist.\n",
      " |          Default is ``True``.\n",
      " |      pre_processor_funcs (list): A list of zero or more functions that are\n",
      " |          called to transform (pre-process) text before tokenizing. Those\n",
      " |          functions must take a string and return a string. Defaults to::\n",
      " |  \n",
      " |              [\n",
      " |                  pre_processors.tone_marks,\n",
      " |                  pre_processors.end_of_line,\n",
      " |                  pre_processors.abbreviations,\n",
      " |                  pre_processors.word_sub\n",
      " |              ]\n",
      " |  \n",
      " |      tokenizer_func (callable): A function that takes in a string and\n",
      " |          returns a list of string (tokens). Defaults to::\n",
      " |  \n",
      " |              Tokenizer([\n",
      " |                  tokenizer_cases.tone_marks,\n",
      " |                  tokenizer_cases.period_comma,\n",
      " |                  tokenizer_cases.colon,\n",
      " |                  tokenizer_cases.other_punctuation\n",
      " |              ]).run\n",
      " |  \n",
      " |  See Also:\n",
      " |      :doc:`Pre-processing and tokenizing <tokenizer>`\n",
      " |  \n",
      " |  Raises:\n",
      " |      AssertionError: When ``text`` is ``None`` or empty; when there's nothing\n",
      " |          left to speak after pre-precessing, tokenizing and cleaning.\n",
      " |      ValueError: When ``lang_check`` is ``True`` and ``lang`` is not supported.\n",
      " |      RuntimeError: When ``lang_check`` is ``True`` but there's an error loading\n",
      " |          the languages dictionnary.\n",
      " |  \n",
      " |  Methods defined here:\n",
      " |  \n",
      " |  __init__(self, text, lang='en', slow=False, lang_check=True, pre_processor_funcs=[<function tone_marks at 0x7f8c68df3158>, <function end_of_line at 0x7f8c68df3d90>, <function abbreviations at 0x7f8c68df3e18>, <function word_sub at 0x7f8c68df3ea0>], tokenizer_func=<bound method Tokenizer.run of re.compile('(?<=\\\\?).|(?<=!).|(?<=？).|(?<=！).|(?<!\\\\.[a-z])\\\\. |(?<!\\\\.[a-z]), |(?<!\\\\d):|\\\\(|;|¡|،|：|，|。|\\\\]|\\\\[|\\\\)|、|—|‥|¿|\\\\\\n|…', re.IGNORECASE) from: [<function tone_marks at 0x7f8c68df3f28>, <function period_comma at 0x7f8c68e19048>, <function colon at 0x7f8c68e190d0>, <function other_punctuation at 0x7f8c68e19158>]>)\n",
      " |      Initialize self.  See help(type(self)) for accurate signature.\n",
      " |  \n",
      " |  save(self, savefile)\n",
      " |      Do the TTS API request and write result to file.\n",
      " |      \n",
      " |      Args:\n",
      " |          savefile (string): The path and file name to save the ``mp3`` to.\n",
      " |      \n",
      " |      Raises:\n",
      " |          :class:`gTTSError`: When there's an error with the API request.\n",
      " |  \n",
      " |  write_to_fp(self, fp)\n",
      " |      Do the TTS API request and write bytes to a file-like object.\n",
      " |      \n",
      " |      Args:\n",
      " |          fp (file object): Any file-like object to write the ``mp3`` to.\n",
      " |      \n",
      " |      Raises:\n",
      " |          :class:`gTTSError`: When there's an error with the API request.\n",
      " |          TypeError: When ``fp`` is not a file-like object that takes bytes.\n",
      " |  \n",
      " |  ----------------------------------------------------------------------\n",
      " |  Data descriptors defined here:\n",
      " |  \n",
      " |  __dict__\n",
      " |      dictionary for instance variables (if defined)\n",
      " |  \n",
      " |  __weakref__\n",
      " |      list of weak references to the object (if defined)\n",
      " |  \n",
      " |  ----------------------------------------------------------------------\n",
      " |  Data and other attributes defined here:\n",
      " |  \n",
      " |  GOOGLE_TTS_HEADERS = {'Referer': 'http://translate.google.com/', 'User...\n",
      " |  \n",
      " |  GOOGLE_TTS_MAX_CHARS = 100\n",
      " |  \n",
      " |  GOOGLE_TTS_URL = 'https://translate.google.com/translate_tts'\n",
      "\n"
     ]
    }
   ],
   "source": [
    "help(gTTS)"
   ]
  },
  {
   "cell_type": "code",
   "execution_count": null,
   "metadata": {},
   "outputs": [],
   "source": []
  }
 ],
 "metadata": {
  "kernelspec": {
   "display_name": "Python 3",
   "language": "python",
   "name": "python3"
  },
  "language_info": {
   "codemirror_mode": {
    "name": "ipython",
    "version": 3
   },
   "file_extension": ".py",
   "mimetype": "text/x-python",
   "name": "python",
   "nbconvert_exporter": "python",
   "pygments_lexer": "ipython3",
   "version": "3.7.3"
  }
 },
 "nbformat": 4,
 "nbformat_minor": 2
}
