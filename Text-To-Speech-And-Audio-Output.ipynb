{
 "cells": [
  {
   "cell_type": "code",
   "execution_count": 41,
   "metadata": {},
   "outputs": [
    {
     "name": "stdout",
     "output_type": "stream",
     "text": [
      "Requirement already satisfied: gtts in /opt/conda/lib/python3.7/site-packages (2.0.4)\n",
      "Requirement already satisfied: click in /opt/conda/lib/python3.7/site-packages (from gtts) (7.0)\n",
      "Requirement already satisfied: gtts-token>=1.1.3 in /opt/conda/lib/python3.7/site-packages (from gtts) (1.1.3)\n",
      "Requirement already satisfied: requests in /opt/conda/lib/python3.7/site-packages (from gtts) (2.22.0)\n",
      "Requirement already satisfied: six in /opt/conda/lib/python3.7/site-packages (from gtts) (1.12.0)\n",
      "Requirement already satisfied: beautifulsoup4 in /opt/conda/lib/python3.7/site-packages (from gtts) (4.8.0)\n",
      "Requirement already satisfied: certifi>=2017.4.17 in /opt/conda/lib/python3.7/site-packages (from requests->gtts) (2019.6.16)\n",
      "Requirement already satisfied: idna<2.9,>=2.5 in /opt/conda/lib/python3.7/site-packages (from requests->gtts) (2.8)\n",
      "Requirement already satisfied: urllib3!=1.25.0,!=1.25.1,<1.26,>=1.21.1 in /opt/conda/lib/python3.7/site-packages (from requests->gtts) (1.24.2)\n",
      "Requirement already satisfied: chardet<3.1.0,>=3.0.2 in /opt/conda/lib/python3.7/site-packages (from requests->gtts) (3.0.4)\n",
      "Requirement already satisfied: soupsieve>=1.2 in /opt/conda/lib/python3.7/site-packages (from beautifulsoup4->gtts) (1.9.3)\n"
     ]
    }
   ],
   "source": [
    "!pip install gtts"
   ]
  },
  {
   "cell_type": "code",
   "execution_count": 74,
   "metadata": {},
   "outputs": [],
   "source": [
    "from gtts import gTTS\n",
    "import time\n",
    "import os\n",
    "import IPython.display as ipd\n",
    "\n",
    "def SpeakIt(text):\n",
    "\n",
    "    file = 'demo.mp3'\n",
    "    if os.path.exists(file):\n",
    "        os.remove(file)\n",
    "    tts = gTTS(text, 'en')\n",
    "    tts.save('demo.mp3')\n",
    "    return ipd.Audio(filename='demo.mp3', autoplay=True)"
   ]
  },
  {
   "cell_type": "code",
   "execution_count": 75,
   "metadata": {},
   "outputs": [
    {
     "name": "stdout",
     "output_type": "stream",
     "text": [
      "Enter your name: Mike\n"
     ]
    },
    {
     "data": {
      "text/html": [
       "\n",
       "                <audio  controls=\"controls\" autoplay=\"autoplay\">\n",
       "                    <source src=\"data:audio/mpeg;base64,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\" type=\"audio/mpeg\" />\n",
       "                    Your browser does not support the audio element.\n",
       "                </audio>\n",
       "              "
      ],
      "text/plain": [
       "<IPython.lib.display.Audio object>"
      ]
     },
     "metadata": {},
     "output_type": "display_data"
    },
    {
     "name": "stdout",
     "output_type": "stream",
     "text": [
      "Enter your Age: 30\n"
     ]
    },
    {
     "data": {
      "text/html": [
       "\n",
       "                <audio  controls=\"controls\" autoplay=\"autoplay\">\n",
       "                    <source src=\"data:audio/mpeg;base64,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\" type=\"audio/mpeg\" />\n",
       "                    Your browser does not support the audio element.\n",
       "                </audio>\n",
       "              "
      ],
      "text/plain": [
       "<IPython.lib.display.Audio object>"
      ]
     },
     "metadata": {},
     "output_type": "display_data"
    },
    {
     "data": {
      "text/html": [
       "\n",
       "                <audio  controls=\"controls\" autoplay=\"autoplay\">\n",
       "                    <source src=\"data:audio/mpeg;base64,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\" type=\"audio/mpeg\" />\n",
       "                    Your browser does not support the audio element.\n",
       "                </audio>\n",
       "              "
      ],
      "text/plain": [
       "<IPython.lib.display.Audio object>"
      ]
     },
     "metadata": {},
     "output_type": "display_data"
    }
   ],
   "source": [
    "name = input(\"Enter your name: \")\n",
    "ipd.display(SpeakIt(\"Hello, \" + name))\n",
    "age = input(\"Enter your Age: \")\n",
    "ipd.display(SpeakIt(f\"You are {age} years old.\"))\n",
    "time.sleep(2)\n",
    "ipd.display(SpeakIt(\"Bye Now\"))\n"
   ]
  },
  {
   "cell_type": "code",
   "execution_count": null,
   "metadata": {},
   "outputs": [],
   "source": []
  }
 ],
 "metadata": {
  "kernelspec": {
   "display_name": "Python 3",
   "language": "python",
   "name": "python3"
  },
  "language_info": {
   "codemirror_mode": {
    "name": "ipython",
    "version": 3
   },
   "file_extension": ".py",
   "mimetype": "text/x-python",
   "name": "python",
   "nbconvert_exporter": "python",
   "pygments_lexer": "ipython3",
   "version": "3.7.3"
  }
 },
 "nbformat": 4,
 "nbformat_minor": 2
}
