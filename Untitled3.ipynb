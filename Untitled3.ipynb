{
 "cells": [
  {
   "cell_type": "code",
   "execution_count": 1,
   "metadata": {},
   "outputs": [
    {
     "name": "stdout",
     "output_type": "stream",
     "text": [
      "Collecting readtime\n",
      "  Downloading https://files.pythonhosted.org/packages/d5/d9/2a9c9c7c0bc848d4a03a49fc8807c09453b34fd250d8c39e1dd84fa644b4/readtime-1.1.1.tar.gz\n",
      "Collecting beautifulsoup4>=4.0.1 (from readtime)\n",
      "\u001b[?25l  Downloading https://files.pythonhosted.org/packages/3b/c8/a55eb6ea11cd7e5ac4bacdf92bac4693b90d3ba79268be16527555e186f0/beautifulsoup4-4.8.1-py3-none-any.whl (101kB)\n",
      "\u001b[K     |████████████████████████████████| 102kB 6.4MB/s ta 0:00:011\n",
      "\u001b[?25hCollecting markdown2>=1.4.0 (from readtime)\n",
      "  Downloading https://files.pythonhosted.org/packages/89/d2/6aef45472f7956646fdc4cc5284e6f9d00476497a8d167c30b0f78bb75a5/markdown2-2.3.8-py2.py3-none-any.whl\n",
      "Collecting pyquery>=1.2 (from readtime)\n",
      "  Downloading https://files.pythonhosted.org/packages/09/c7/ce8c9c37ab8ff8337faad3335c088d60bed4a35a4bed33a64f0e64fbcf29/pyquery-1.4.0-py2.py3-none-any.whl\n",
      "Collecting soupsieve>=1.2 (from beautifulsoup4>=4.0.1->readtime)\n",
      "  Downloading https://files.pythonhosted.org/packages/5d/42/d821581cf568e9b7dfc5b415aa61952b0f5e3dede4f3cbd650e3a1082992/soupsieve-1.9.4-py2.py3-none-any.whl\n",
      "Collecting cssselect>0.7.9 (from pyquery>=1.2->readtime)\n",
      "  Downloading https://files.pythonhosted.org/packages/3b/d4/3b5c17f00cce85b9a1e6f91096e1cc8e8ede2e1be8e96b87ce1ed09e92c5/cssselect-1.1.0-py2.py3-none-any.whl\n",
      "Requirement already satisfied: lxml>=2.1 in /opt/conda/lib/python3.7/site-packages (from pyquery>=1.2->readtime) (4.4.1)\n",
      "Building wheels for collected packages: readtime\n",
      "  Building wheel for readtime (setup.py) ... \u001b[?25ldone\n",
      "\u001b[?25h  Stored in directory: /home/jovyan/.cache/pip/wheels/08/2e/e5/71a8f4be2b11456184c7e7570b702abffe6e7d4f19ee8ece89\n",
      "Successfully built readtime\n",
      "Installing collected packages: soupsieve, beautifulsoup4, markdown2, cssselect, pyquery, readtime\n",
      "Successfully installed beautifulsoup4-4.8.1 cssselect-1.1.0 markdown2-2.3.8 pyquery-1.4.0 readtime-1.1.1 soupsieve-1.9.4\n"
     ]
    }
   ],
   "source": [
    "!pip install readtime"
   ]
  },
  {
   "cell_type": "code",
   "execution_count": null,
   "metadata": {},
   "outputs": [],
   "source": []
  }
 ],
 "metadata": {
  "kernelspec": {
   "display_name": "Python 3",
   "language": "python",
   "name": "python3"
  },
  "language_info": {
   "codemirror_mode": {
    "name": "ipython",
    "version": 3
   },
   "file_extension": ".py",
   "mimetype": "text/x-python",
   "name": "python",
   "nbconvert_exporter": "python",
   "pygments_lexer": "ipython3",
   "version": "3.7.3"
  }
 },
 "nbformat": 4,
 "nbformat_minor": 2
}
