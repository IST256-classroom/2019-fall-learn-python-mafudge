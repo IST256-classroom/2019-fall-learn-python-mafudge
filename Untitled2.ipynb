{
 "cells": [
  {
   "cell_type": "code",
   "execution_count": 2,
   "metadata": {},
   "outputs": [
    {
     "name": "stdout",
     "output_type": "stream",
     "text": [
      "Collecting torch\n",
      "\u001b[?25l  Downloading https://files.pythonhosted.org/packages/b4/0b/9d33aef363b6728ad937643d98be713c6c25d50ce338678ad57cee6e6fd5/torch-1.3.0-cp37-cp37m-manylinux1_x86_64.whl (773.1MB)\n",
      "\u001b[K     |████████████████████████████████| 773.1MB 4.8kB/s  eta 0:00:01  |▍                               | 8.4MB 4.4MB/s eta 0:02:54     |▍                               | 9.1MB 4.4MB/s eta 0:02:53     |▌                               | 12.0MB 4.4MB/s eta 0:02:53     |██                              | 49.6MB 43.4MB/s eta 0:00:17     |██▏                             | 51.7MB 43.4MB/s eta 0:00:17     |██▋                             | 63.5MB 43.6MB/s eta 0:00:17     |██▋                             | 64.3MB 43.6MB/s eta 0:00:17     |██▊                             | 66.6MB 43.6MB/s eta 0:00:17     |███▎                            | 79.0MB 43.6MB/s eta 0:00:16     |███▌                            | 84.2MB 43.6MB/s eta 0:00:16     |████                            | 98.6MB 44.3MB/s eta 0:00:16     |████▏                           | 100.9MB 44.3MB/s eta 0:00:16     |████▎                           | 103.6MB 44.3MB/s eta 0:00:16     |█████▌                          | 132.5MB 43.0MB/s eta 0:00:15     |█████▋                          | 134.8MB 43.0MB/s eta 0:00:15     |██████▎                         | 152.7MB 45.4MB/s eta 0:00:14     |███████▎                        | 175.3MB 45.9MB/s eta 0:00:14��████▊                       | 211.6MB 44.1MB/s eta 0:00:13     |████████▉                       | 213.8MB 44.1MB/s eta 0:00:13     |███████████▋                    | 281.0MB 37.8MB/s eta 0:00:14     |███████████▊                    | 284.2MB 37.8MB/s eta 0:00:13     |████████████▋                   | 304.7MB 42.2MB/s eta 0:00:12     |████████████████▎               | 392.7MB 47.4MB/s eta 0:00:09     |███████████████████             | 458.7MB 48.5MB/s eta 0:00:07     |███████████████████▋            | 474.9MB 25.4MB/s eta 0:00:12MB/s eta 0:00:12████████████████████▎           | 489.7MB 25.4MB/s eta 0:00:12█████████████████████           | 508.9MB 43.5MB/s eta 0:00:07��█████▎          | 514.3MB 43.5MB/s eta 0:00:06��█████▋          | 522.5MB 43.5MB/s eta 0:00:06:00:05 eta 0:00:05 eta 0:00:05█████████████▎        | 562.5MB 47.9MB/s eta 0:00:05█████████████▌        | 567.6MB 47.9MB/s eta 0:00:05��        | 580.9MB 47.9MB/s eta 0:00:056.3MB 38.3MB/s eta 0:00:059.3MB 38.3MB/s eta 0:00:057.3MB 38.3MB/s eta 0:00:052.5MB 38.3MB/s eta 0:00:05��█████████████████▏      | 607.9MB 38.3MB/s eta 0:00:05��█████████████████▍      | 613.4MB 47.0MB/s eta 0:00:04��█████████████████▌      | 616.5MB 47.0MB/s eta 0:00:04��██████████████████      | 627.0MB 47.0MB/s eta 0:00:04��██████████████████      | 630.2MB 47.0MB/s eta 0:00:04  | 635.3MB 47.0MB/s eta 0:00:03  | 641.0MB 48.4MB/s eta 0:00:03MB/s eta 0:00:03  | 652.3MB 48.4MB/s eta 0:00:03��███████████████████▏    | 657.4MB 48.4MB/s eta 0:00:03��███████████████████▌    | 664.4MB 38.0MB/s eta 0:00:03��███████████████████▊    | 668.7MB 38.0MB/s eta 0:00:03��████████████████████    | 676.9MB 38.0MB/s eta 0:00:03��████████████████████████▎   | 682.0MB 38.0MB/s eta 0:00:03| 687.2MB 38.0MB/s eta 0:00:03| 692.6MB 47.8MB/s eta 0:00:02��██████████████▉   | 695.3MB 47.8MB/s eta 0:00:02| 698.1MB 47.8MB/s eta 0:00:02| 703.2MB 47.8MB/s eta 0:00:02███████████████████▎  | 708.5MB 47.8MB/s eta 0:00:02███████████████████▌  | 713.8MB 47.8MB/s eta 0:00:02███████████████████▊  | 719.1MB 47.2MB/s eta 0:00:02��█████████████████████████▉  | 721.8MB 47.2MB/s eta 0:00:02████████████████████  | 724.6MB 47.2MB/s eta 0:00:0247.2MB/s eta 0:00:0147.2MB/s eta 0:00:0149.3MB/s eta 0:00:0149.3MB/s eta 0:00:01��███████████████▏| 752.9MB 49.3MB/s eta 0:00:01��███████████████▍| 757.9MB 49.3MB/s eta 0:00:01��███████████████▋| 763.1MB 49.3MB/s eta 0:00:01��███████████████▉| 768.2MB 46.3MB/s eta 0:00:01\n",
      "\u001b[?25hRequirement already satisfied: numpy in /opt/conda/lib/python3.7/site-packages (from torch) (1.17.1)\n",
      "Installing collected packages: torch\n",
      "Successfully installed torch-1.3.0\n"
     ]
    }
   ],
   "source": [
    "! pip install torch"
   ]
  },
  {
   "cell_type": "code",
   "execution_count": null,
   "metadata": {},
   "outputs": [],
   "source": []
  }
 ],
 "metadata": {
  "kernelspec": {
   "display_name": "Python 3",
   "language": "python",
   "name": "python3"
  },
  "language_info": {
   "codemirror_mode": {
    "name": "ipython",
    "version": 3
   },
   "file_extension": ".py",
   "mimetype": "text/x-python",
   "name": "python",
   "nbconvert_exporter": "python",
   "pygments_lexer": "ipython3",
   "version": "3.7.3"
  }
 },
 "nbformat": 4,
 "nbformat_minor": 2
}
