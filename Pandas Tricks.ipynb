{
 "cells": [
  {
   "cell_type": "code",
   "execution_count": 1,
   "metadata": {},
   "outputs": [],
   "source": [
    "data = {\n",
    "  \"_links\": [\n",
    "    {\n",
    "      \"href\": \"/products/barcodes/{barcode}?api-version=2018-10-18&subscription-key=0123456789abcdef0123456789abcdef\",\n",
    "      \"rel\": \"barcode\",\n",
    "      \"type\": \"GET\"\n",
    "    },\n",
    "    {\n",
    "      \"href\": \"/products/categories?api-version=2018-10-18&subscription-key=0123456789abcdef0123456789abcdef\",\n",
    "      \"rel\": \"categories\",\n",
    "      \"type\": \"GET\"\n",
    "    },\n",
    "    {\n",
    "      \"href\": \"/products/search?query={query}&api-version=2018-10-18&subscription-key=0123456789abcdef0123456789abcdef\",\n",
    "      \"rel\": \"search\",\n",
    "      \"type\": \"GET\"\n",
    "    }\n",
    "  ]\n",
    "}\n"
   ]
  },
  {
   "cell_type": "code",
   "execution_count": 2,
   "metadata": {},
   "outputs": [
    {
     "data": {
      "text/plain": [
       "dict"
      ]
     },
     "execution_count": 2,
     "metadata": {},
     "output_type": "execute_result"
    }
   ],
   "source": [
    "type(data)"
   ]
  },
  {
   "cell_type": "code",
   "execution_count": 6,
   "metadata": {},
   "outputs": [
    {
     "data": {
      "text/html": [
       "<div>\n",
       "<style scoped>\n",
       "    .dataframe tbody tr th:only-of-type {\n",
       "        vertical-align: middle;\n",
       "    }\n",
       "\n",
       "    .dataframe tbody tr th {\n",
       "        vertical-align: top;\n",
       "    }\n",
       "\n",
       "    .dataframe thead th {\n",
       "        text-align: right;\n",
       "    }\n",
       "</style>\n",
       "<table border=\"1\" class=\"dataframe\">\n",
       "  <thead>\n",
       "    <tr style=\"text-align: right;\">\n",
       "      <th></th>\n",
       "      <th>href</th>\n",
       "      <th>rel</th>\n",
       "      <th>type</th>\n",
       "    </tr>\n",
       "  </thead>\n",
       "  <tbody>\n",
       "    <tr>\n",
       "      <td>0</td>\n",
       "      <td>/products/barcodes/{barcode}?api-version=2018-...</td>\n",
       "      <td>barcode</td>\n",
       "      <td>GET</td>\n",
       "    </tr>\n",
       "    <tr>\n",
       "      <td>1</td>\n",
       "      <td>/products/categories?api-version=2018-10-18&amp;su...</td>\n",
       "      <td>categories</td>\n",
       "      <td>GET</td>\n",
       "    </tr>\n",
       "    <tr>\n",
       "      <td>2</td>\n",
       "      <td>/products/search?query={query}&amp;api-version=201...</td>\n",
       "      <td>search</td>\n",
       "      <td>GET</td>\n",
       "    </tr>\n",
       "  </tbody>\n",
       "</table>\n",
       "</div>"
      ],
      "text/plain": [
       "                                                href         rel type\n",
       "0  /products/barcodes/{barcode}?api-version=2018-...     barcode  GET\n",
       "1  /products/categories?api-version=2018-10-18&su...  categories  GET\n",
       "2  /products/search?query={query}&api-version=201...      search  GET"
      ]
     },
     "execution_count": 6,
     "metadata": {},
     "output_type": "execute_result"
    }
   ],
   "source": [
    "import pandas as pd\n",
    "x = pd.DataFrame(data[\"_links\"])\n",
    "x"
   ]
  },
  {
   "cell_type": "code",
   "execution_count": null,
   "metadata": {},
   "outputs": [],
   "source": [
    "web_api_url = 'https://api.wegmans.io/products/?api-version=2018-10-18'\n",
    "custom_headers = {'Subscription-Key' : '123'}\n",
    "response = requests.get(web_api_url, headers = custom_headers)\n",
    "data = response.json()\n",
    "\n"
   ]
  },
  {
   "cell_type": "code",
   "execution_count": 12,
   "metadata": {},
   "outputs": [
    {
     "data": {
      "text/html": [
       "<div>\n",
       "<style scoped>\n",
       "    .dataframe tbody tr th:only-of-type {\n",
       "        vertical-align: middle;\n",
       "    }\n",
       "\n",
       "    .dataframe tbody tr th {\n",
       "        vertical-align: top;\n",
       "    }\n",
       "\n",
       "    .dataframe thead th {\n",
       "        text-align: right;\n",
       "    }\n",
       "</style>\n",
       "<table border=\"1\" class=\"dataframe\">\n",
       "  <thead>\n",
       "    <tr style=\"text-align: right;\">\n",
       "      <th></th>\n",
       "      <th>followers</th>\n",
       "      <th>user.full_name</th>\n",
       "      <th>user.uid</th>\n",
       "    </tr>\n",
       "  </thead>\n",
       "  <tbody>\n",
       "    <tr>\n",
       "      <td>0</td>\n",
       "      <td>1</td>\n",
       "      <td>Alice</td>\n",
       "      <td>123</td>\n",
       "    </tr>\n",
       "    <tr>\n",
       "      <td>1</td>\n",
       "      <td>2</td>\n",
       "      <td>Bob</td>\n",
       "      <td>456</td>\n",
       "    </tr>\n",
       "  </tbody>\n",
       "</table>\n",
       "</div>"
      ],
      "text/plain": [
       "   followers user.full_name  user.uid\n",
       "0          1          Alice       123\n",
       "1          2            Bob       456"
      ]
     },
     "execution_count": 12,
     "metadata": {},
     "output_type": "execute_result"
    }
   ],
   "source": [
    "# Flatten Nested Data\n",
    "import pandas as pd\n",
    "from pandas.io.json import json_normalize\n",
    "    \n",
    "json_data = [{'followers': 1, 'user': {'full_name': 'Alice', 'uid': 123}},\n",
    " {'followers': 2, 'user': {'full_name': 'Bob', 'uid': 456}}]\n",
    "\n",
    "df = pd.DataFrame(json_normalize(json_data))\n",
    "\n",
    "df\n"
   ]
  },
  {
   "cell_type": "code",
   "execution_count": 11,
   "metadata": {},
   "outputs": [
    {
     "name": "stdout",
     "output_type": "stream",
     "text": [
      "Help on function json_normalize in module pandas.io.json._normalize:\n",
      "\n",
      "json_normalize(data: Union[Dict, List[Dict]], record_path: Union[str, List, NoneType] = None, meta: Union[str, List, NoneType] = None, meta_prefix: Union[str, NoneType] = None, record_prefix: Union[str, NoneType] = None, errors: Union[str, NoneType] = 'raise', sep: str = '.', max_level: Union[int, NoneType] = None)\n",
      "    Normalize semi-structured JSON data into a flat table.\n",
      "    \n",
      "    Parameters\n",
      "    ----------\n",
      "    data : dict or list of dicts\n",
      "        Unserialized JSON objects.\n",
      "    record_path : str or list of str, default None\n",
      "        Path in each object to list of records. If not passed, data will be\n",
      "        assumed to be an array of records.\n",
      "    meta : list of paths (str or list of str), default None\n",
      "        Fields to use as metadata for each record in resulting table.\n",
      "    meta_prefix : str, default None\n",
      "        If True, prefix records with dotted (?) path, e.g. foo.bar.field if\n",
      "        meta is ['foo', 'bar'].\n",
      "    record_prefix : str, default None\n",
      "        If True, prefix records with dotted (?) path, e.g. foo.bar.field if\n",
      "        path to records is ['foo', 'bar'].\n",
      "    errors : {'raise', 'ignore'}, default 'raise'\n",
      "        Configures error handling.\n",
      "    \n",
      "        * 'ignore' : will ignore KeyError if keys listed in meta are not\n",
      "          always present.\n",
      "        * 'raise' : will raise KeyError if keys listed in meta are not\n",
      "          always present.\n",
      "    \n",
      "        .. versionadded:: 0.20.0\n",
      "    \n",
      "    sep : str, default '.'\n",
      "        Nested records will generate names separated by sep.\n",
      "        e.g., for sep='.', {'foo': {'bar': 0}} -> foo.bar.\n",
      "    \n",
      "        .. versionadded:: 0.20.0\n",
      "    \n",
      "    max_level : int, default None\n",
      "        Max number of levels(depth of dict) to normalize.\n",
      "        if None, normalizes all levels.\n",
      "    \n",
      "        .. versionadded:: 0.25.0\n",
      "    \n",
      "    Returns\n",
      "    -------\n",
      "    frame : DataFrame\n",
      "    Normalize semi-structured JSON data into a flat table.\n",
      "    \n",
      "    Examples\n",
      "    --------\n",
      "    \n",
      "    >>> from pandas.io.json import json_normalize\n",
      "    >>> data = [{'id': 1, 'name': {'first': 'Coleen', 'last': 'Volk'}},\n",
      "    ...         {'name': {'given': 'Mose', 'family': 'Regner'}},\n",
      "    ...         {'id': 2, 'name': 'Faye Raker'}]\n",
      "    >>> json_normalize(data)\n",
      "        id        name name.family name.first name.given name.last\n",
      "    0  1.0         NaN         NaN     Coleen        NaN      Volk\n",
      "    1  NaN         NaN      Regner        NaN       Mose       NaN\n",
      "    2  2.0  Faye Raker         NaN        NaN        NaN       NaN\n",
      "    \n",
      "    >>> data = [{'id': 1,\n",
      "    ...          'name': \"Cole Volk\",\n",
      "    ...          'fitness': {'height': 130, 'weight': 60}},\n",
      "    ...         {'name': \"Mose Reg\",\n",
      "    ...          'fitness': {'height': 130, 'weight': 60}},\n",
      "    ...         {'id': 2, 'name': 'Faye Raker',\n",
      "    ...          'fitness': {'height': 130, 'weight': 60}}]\n",
      "    >>> json_normalize(data, max_level=0)\n",
      "                fitness                 id        name\n",
      "    0   {'height': 130, 'weight': 60}  1.0   Cole Volk\n",
      "    1   {'height': 130, 'weight': 60}  NaN    Mose Reg\n",
      "    2   {'height': 130, 'weight': 60}  2.0  Faye Raker\n",
      "    \n",
      "    Normalizes nested data upto level 1.\n",
      "    \n",
      "    >>> data = [{'id': 1,\n",
      "    ...          'name': \"Cole Volk\",\n",
      "    ...          'fitness': {'height': 130, 'weight': 60}},\n",
      "    ...         {'name': \"Mose Reg\",\n",
      "    ...          'fitness': {'height': 130, 'weight': 60}},\n",
      "    ...         {'id': 2, 'name': 'Faye Raker',\n",
      "    ...          'fitness': {'height': 130, 'weight': 60}}]\n",
      "    >>> json_normalize(data, max_level=1)\n",
      "      fitness.height  fitness.weight   id    name\n",
      "    0   130              60          1.0    Cole Volk\n",
      "    1   130              60          NaN    Mose Reg\n",
      "    2   130              60          2.0    Faye Raker\n",
      "    \n",
      "    >>> data = [{'state': 'Florida',\n",
      "    ...          'shortname': 'FL',\n",
      "    ...          'info': {'governor': 'Rick Scott'},\n",
      "    ...          'counties': [{'name': 'Dade', 'population': 12345},\n",
      "    ...                       {'name': 'Broward', 'population': 40000},\n",
      "    ...                       {'name': 'Palm Beach', 'population': 60000}]},\n",
      "    ...         {'state': 'Ohio',\n",
      "    ...          'shortname': 'OH',\n",
      "    ...          'info': {'governor': 'John Kasich'},\n",
      "    ...          'counties': [{'name': 'Summit', 'population': 1234},\n",
      "    ...                       {'name': 'Cuyahoga', 'population': 1337}]}]\n",
      "    >>> result = json_normalize(data, 'counties', ['state', 'shortname',\n",
      "    ...                                            ['info', 'governor']])\n",
      "    >>> result\n",
      "             name  population    state shortname info.governor\n",
      "    0        Dade       12345   Florida    FL    Rick Scott\n",
      "    1     Broward       40000   Florida    FL    Rick Scott\n",
      "    2  Palm Beach       60000   Florida    FL    Rick Scott\n",
      "    3      Summit        1234   Ohio       OH    John Kasich\n",
      "    4    Cuyahoga        1337   Ohio       OH    John Kasich\n",
      "    \n",
      "    >>> data = {'A': [1, 2]}\n",
      "    >>> json_normalize(data, 'A', record_prefix='Prefix.')\n",
      "        Prefix.0\n",
      "    0          1\n",
      "    1          2\n",
      "    \n",
      "    Returns normalized data with columns prefixed with the given string.\n",
      "\n"
     ]
    }
   ],
   "source": [
    "help(json_normalize)"
   ]
  },
  {
   "cell_type": "code",
   "execution_count": null,
   "metadata": {},
   "outputs": [],
   "source": []
  }
 ],
 "metadata": {
  "kernelspec": {
   "display_name": "Python 3",
   "language": "python",
   "name": "python3"
  },
  "language_info": {
   "codemirror_mode": {
    "name": "ipython",
    "version": 3
   },
   "file_extension": ".py",
   "mimetype": "text/x-python",
   "name": "python",
   "nbconvert_exporter": "python",
   "pygments_lexer": "ipython3",
   "version": "3.7.3"
  }
 },
 "nbformat": 4,
 "nbformat_minor": 2
}
