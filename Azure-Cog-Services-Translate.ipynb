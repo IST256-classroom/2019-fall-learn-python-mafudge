{
 "cells": [
  {
   "cell_type": "code",
   "execution_count": 23,
   "metadata": {},
   "outputs": [],
   "source": [
    "import requests, os, json\n",
    "subscription_key = '5859f10220b44672b1b6214935f47972' # My Private Key Get your own!!!\n",
    "endpoint = 'https://api.cognitive.microsofttranslator.com/'\n",
    "path = '/translate?api-version=3.0'\n",
    "params =  { 'to' : 'es,fr,de,it'} \n",
    "constructed_url = endpoint + path"
   ]
  },
  {
   "cell_type": "code",
   "execution_count": 24,
   "metadata": {},
   "outputs": [
    {
     "name": "stdout",
     "output_type": "stream",
     "text": [
      "[\n",
      "    {\n",
      "        \"detectedLanguage\": {\n",
      "            \"language\": \"en\",\n",
      "            \"score\": 1.0\n",
      "        },\n",
      "        \"translations\": [\n",
      "            {\n",
      "                \"text\": \"Hola\",\n",
      "                \"to\": \"es\"\n",
      "            },\n",
      "            {\n",
      "                \"text\": \"Bonjour\",\n",
      "                \"to\": \"fr\"\n",
      "            },\n",
      "            {\n",
      "                \"text\": \"Hallo\",\n",
      "                \"to\": \"de\"\n",
      "            },\n",
      "            {\n",
      "                \"text\": \"Ciao\",\n",
      "                \"to\": \"it\"\n",
      "            }\n",
      "        ]\n",
      "    },\n",
      "    {\n",
      "        \"detectedLanguage\": {\n",
      "            \"language\": \"en\",\n",
      "            \"score\": 1.0\n",
      "        },\n",
      "        \"translations\": [\n",
      "            {\n",
      "                \"text\": \"Adiós\",\n",
      "                \"to\": \"es\"\n",
      "            },\n",
      "            {\n",
      "                \"text\": \"Au revoir\",\n",
      "                \"to\": \"fr\"\n",
      "            },\n",
      "            {\n",
      "                \"text\": \"Auf Wiedersehen\",\n",
      "                \"to\": \"de\"\n",
      "            },\n",
      "            {\n",
      "                \"text\": \"Arrivederci\",\n",
      "                \"to\": \"it\"\n",
      "            }\n",
      "        ]\n",
      "    }\n",
      "]\n"
     ]
    }
   ],
   "source": [
    "headers = {\n",
    "    'Ocp-Apim-Subscription-Key': subscription_key,\n",
    "    'Content-type': 'application/json'\n",
    "}\n",
    "body = [{'text': 'Hello'},{'text': 'Goodbye'}]\n",
    "request = requests.post(constructed_url, headers=headers, json=body, params=params)\n",
    "response = request.json()\n",
    "print(json.dumps(response, sort_keys=True, indent=4,\n",
    "                 ensure_ascii=False, separators=(',', ': ')))"
   ]
  },
  {
   "cell_type": "code",
   "execution_count": 18,
   "metadata": {},
   "outputs": [
    {
     "data": {
      "text/plain": [
       "[{'text': 'Hola', 'to': 'es'},\n",
       " {'text': 'Bonjour', 'to': 'fr'},\n",
       " {'text': 'Hallo', 'to': 'de'},\n",
       " {'text': 'Ciao', 'to': 'it'}]"
      ]
     },
     "execution_count": 18,
     "metadata": {},
     "output_type": "execute_result"
    }
   ],
   "source": [
    "response[0]['translations']"
   ]
  },
  {
   "cell_type": "code",
   "execution_count": 27,
   "metadata": {},
   "outputs": [
    {
     "name": "stdout",
     "output_type": "stream",
     "text": [
      "Enter English Text To Translate: Python programming is a dog.\n",
      "es ==> La programación de Python es un perro.\n",
      "fr ==> La programmation Python est un chien.\n",
      "de ==> Python-Programmierung ist ein Hund.\n",
      "it ==> La programmazione Python è un cane.\n"
     ]
    }
   ],
   "source": [
    "text = input(\"Enter English Text To Translate: \")\n",
    "body = [{'text' : text }]\n",
    "request = requests.post(constructed_url, headers=headers, json=body, params=params)\n",
    "response = request.json()\n",
    "for trans in response[0]['translations']:\n",
    "    print(f\"{trans['to']} ==> {trans['text']}\")"
   ]
  },
  {
   "cell_type": "code",
   "execution_count": null,
   "metadata": {},
   "outputs": [],
   "source": []
  }
 ],
 "metadata": {
  "kernelspec": {
   "display_name": "Python 3",
   "language": "python",
   "name": "python3"
  },
  "language_info": {
   "codemirror_mode": {
    "name": "ipython",
    "version": 3
   },
   "file_extension": ".py",
   "mimetype": "text/x-python",
   "name": "python",
   "nbconvert_exporter": "python",
   "pygments_lexer": "ipython3",
   "version": "3.7.3"
  }
 },
 "nbformat": 4,
 "nbformat_minor": 2
}
