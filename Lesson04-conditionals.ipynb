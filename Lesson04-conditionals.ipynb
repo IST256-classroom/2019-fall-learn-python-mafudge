{
 "cells": [
  {
   "cell_type": "code",
   "execution_count": 8,
   "metadata": {},
   "outputs": [
    {
     "name": "stdout",
     "output_type": "stream",
     "text": [
      "How many gallons of milk are left? 0.3\n",
      "Warning You are Low on Milk!!\n",
      "Would you like me to reorder milk? [y/n] n\n",
      "Ok. Get yourself to the store soon.\n"
     ]
    }
   ],
   "source": [
    "milk_left = float(input(\"How many gallons of milk are left? \"))\n",
    "crisis_mode = 0.5\n",
    "if milk_left < crisis_mode:\n",
    "    print(\"Warning You are Low on Milk!!\")\n",
    "    reorder = input(\"Would you like me to reorder milk? [y/n] \")\n",
    "    if reorder == 'y':\n",
    "        print(\"Reordering from Amazon. Will ship in 1 day via drone.\")\n",
    "    else:\n",
    "        print(\"Ok. Get yourself to the store soon.\")\n",
    "else:\n",
    "    print(\"Milk levels ok - carry on!\")\n"
   ]
  },
  {
   "cell_type": "code",
   "execution_count": 14,
   "metadata": {},
   "outputs": [
    {
     "name": "stdout",
     "output_type": "stream",
     "text": [
      "Enter your GPA: -100\n",
      "That is not a gpa\n"
     ]
    }
   ],
   "source": [
    "gpa = float(input(\"Enter your GPA: \"))\n",
    "if gpa<0 or gpa>4:\n",
    "    print(\"That is not a gpa\")\n",
    "else:\n",
    "    print(f\"Your Gpa is {gpa}\")"
   ]
  },
  {
   "cell_type": "code",
   "execution_count": 25,
   "metadata": {},
   "outputs": [
    {
     "name": "stdout",
     "output_type": "stream",
     "text": [
      "Welcome to Fudgebonia Turbo Tax 2020.\n",
      "Enter Number of Dependents: I hate the goverment\n"
     ]
    },
    {
     "ename": "ValueError",
     "evalue": "invalid literal for int() with base 10: 'I hate the goverment'",
     "output_type": "error",
     "traceback": [
      "\u001b[0;31m---------------------------------------------------------------------------\u001b[0m",
      "\u001b[0;31mValueError\u001b[0m                                Traceback (most recent call last)",
      "\u001b[0;32m<ipython-input-25-90f917f894b9>\u001b[0m in \u001b[0;36m<module>\u001b[0;34m\u001b[0m\n\u001b[1;32m      1\u001b[0m \u001b[0;31m# tax rates 30, 25, 18, 10\u001b[0m\u001b[0;34m\u001b[0m\u001b[0;34m\u001b[0m\u001b[0;34m\u001b[0m\u001b[0m\n\u001b[1;32m      2\u001b[0m \u001b[0mprint\u001b[0m\u001b[0;34m(\u001b[0m\u001b[0;34m\"Welcome to Fudgebonia Turbo Tax 2020.\"\u001b[0m\u001b[0;34m)\u001b[0m\u001b[0;34m\u001b[0m\u001b[0;34m\u001b[0m\u001b[0m\n\u001b[0;32m----> 3\u001b[0;31m \u001b[0mdeps\u001b[0m \u001b[0;34m=\u001b[0m \u001b[0mint\u001b[0m\u001b[0;34m(\u001b[0m\u001b[0minput\u001b[0m\u001b[0;34m(\u001b[0m\u001b[0;34m\"Enter Number of Dependents: \"\u001b[0m\u001b[0;34m)\u001b[0m\u001b[0;34m)\u001b[0m\u001b[0;34m\u001b[0m\u001b[0;34m\u001b[0m\u001b[0m\n\u001b[0m\u001b[1;32m      4\u001b[0m \u001b[0mtax\u001b[0m \u001b[0;34m=\u001b[0m \u001b[0;36m0\u001b[0m\u001b[0;34m\u001b[0m\u001b[0;34m\u001b[0m\u001b[0m\n\u001b[1;32m      5\u001b[0m \u001b[0;32mif\u001b[0m \u001b[0mdeps\u001b[0m \u001b[0;34m==\u001b[0m \u001b[0;36m0\u001b[0m\u001b[0;34m:\u001b[0m\u001b[0;34m\u001b[0m\u001b[0;34m\u001b[0m\u001b[0m\n",
      "\u001b[0;31mValueError\u001b[0m: invalid literal for int() with base 10: 'I hate the goverment'"
     ]
    }
   ],
   "source": [
    "# tax rates 30, 25, 18, 10\n",
    "print(\"Welcome to Fudgebonia Turbo Tax 2020.\")\n",
    "deps = int(input(\"Enter Number of Dependents: \"))\n",
    "tax = 0\n",
    "if deps == 0:\n",
    "    tax = 30\n",
    "elif deps == 1:\n",
    "    tax = 25\n",
    "elif deps == 2:\n",
    "    tax = 18\n",
    "elif deps >=3:\n",
    "    tax = 10\n",
    "else:\n",
    "    tax = 30\n",
    "print(\"For %d dependents your tax rate is %.1f %%\" % (deps, tax))"
   ]
  },
  {
   "cell_type": "code",
   "execution_count": 33,
   "metadata": {},
   "outputs": [
    {
     "name": "stdout",
     "output_type": "stream",
     "text": [
      "Enter your age: 50\n",
      "I don't know how to add that.\n"
     ]
    }
   ],
   "source": [
    "try:\n",
    "    age = int(input(\"Enter your age: \"))\n",
    "    next_year = age + \"1\"\n",
    "    \n",
    "except ValueError:\n",
    "    print(\"I expected a number, dummy.\")\n",
    "except TypeError:\n",
    "    print(\"I don't know how to add that.\")"
   ]
  },
  {
   "cell_type": "code",
   "execution_count": 34,
   "metadata": {},
   "outputs": [
    {
     "ename": "ValueError",
     "evalue": "could not convert string to float: '-45s'",
     "output_type": "error",
     "traceback": [
      "\u001b[0;31m---------------------------------------------------------------------------\u001b[0m",
      "\u001b[0;31mValueError\u001b[0m                                Traceback (most recent call last)",
      "\u001b[0;32m<ipython-input-34-2000c2e8a0cc>\u001b[0m in \u001b[0;36m<module>\u001b[0;34m\u001b[0m\n\u001b[0;32m----> 1\u001b[0;31m \u001b[0mfloat\u001b[0m\u001b[0;34m(\u001b[0m\u001b[0;34m\"-45s\"\u001b[0m\u001b[0;34m)\u001b[0m\u001b[0;34m\u001b[0m\u001b[0;34m\u001b[0m\u001b[0m\n\u001b[0m",
      "\u001b[0;31mValueError\u001b[0m: could not convert string to float: '-45s'"
     ]
    }
   ],
   "source": [
    "float(\"-45s\")"
   ]
  },
  {
   "cell_type": "code",
   "execution_count": 45,
   "metadata": {},
   "outputs": [
    {
     "name": "stdout",
     "output_type": "stream",
     "text": [
      "Welcome to Fudgebonia Turbo Tax 2020.\n",
      "Annual Gross Income (Box A): 10000\n",
      "Enter Taxes Paid (Box C): 1000\n",
      "Enter Number of Dependents: 0\n",
      "For 0 dependents your tax rate is 30.0 %\n",
      "GROSS INCOME ==>  $ 10000.00\n",
      "TAXES PAID   ==>  $ 1000.00\n",
      "TAXES DUE    ==>  $ 3000.00\n",
      "YOU OWE   ==> $ 2000.00\n"
     ]
    }
   ],
   "source": [
    "try:\n",
    "    print(\"Welcome to Fudgebonia Turbo Tax 2020.\")\n",
    "    gross_income = float(input(\"Annual Gross Income (Box A): \"))\n",
    "    taxes_paid = float(input(\"Enter Taxes Paid (Box C): \"))\n",
    "    deps = int(input(\"Enter Number of Dependents: \"))\n",
    "    tax = 0\n",
    "    if deps == 0:\n",
    "        tax = 30\n",
    "    elif deps == 1:\n",
    "        tax = 25\n",
    "    elif deps == 2:\n",
    "        tax = 18\n",
    "    elif deps >=3:\n",
    "        tax = 10\n",
    "    else:\n",
    "        tax = 30\n",
    "    print(\"For %d dependents your tax rate is %.1f %%\" % (deps, tax))\n",
    "    taxes_due = tax * gross_income /100\n",
    "    print(\"GROSS INCOME ==>  $ %.2f\" % gross_income)\n",
    "    print(\"TAXES PAID   ==>  $ %.2f\" % taxes_paid)\n",
    "    print(\"TAXES DUE    ==>  $ %.2f\" % taxes_due)\n",
    "    diff = taxes_paid - taxes_due\n",
    "    if diff >= 0:\n",
    "        print(\"REFUND    ==> $ %.2f\" % diff)\n",
    "    else:\n",
    "        print(\"YOU OWE   ==> $ %.2f\" % -diff)\n",
    "except ValueError:\n",
    "    print(\"Invalid Input! Please Try again!\")"
   ]
  },
  {
   "cell_type": "code",
   "execution_count": 41,
   "metadata": {},
   "outputs": [
    {
     "data": {
      "text/plain": [
       "100000.0"
      ]
     },
     "execution_count": 41,
     "metadata": {},
     "output_type": "execute_result"
    }
   ],
   "source": [
    "gross_income"
   ]
  },
  {
   "cell_type": "code",
   "execution_count": 37,
   "metadata": {},
   "outputs": [
    {
     "data": {
      "text/plain": [
       "10"
      ]
     },
     "execution_count": 37,
     "metadata": {},
     "output_type": "execute_result"
    }
   ],
   "source": [
    "tax"
   ]
  },
  {
   "cell_type": "code",
   "execution_count": null,
   "metadata": {},
   "outputs": [],
   "source": []
  }
 ],
 "metadata": {
  "kernelspec": {
   "display_name": "Python 3",
   "language": "python",
   "name": "python3"
  },
  "language_info": {
   "codemirror_mode": {
    "name": "ipython",
    "version": 3
   },
   "file_extension": ".py",
   "mimetype": "text/x-python",
   "name": "python",
   "nbconvert_exporter": "python",
   "pygments_lexer": "ipython3",
   "version": "3.7.3"
  }
 },
 "nbformat": 4,
 "nbformat_minor": 2
}
