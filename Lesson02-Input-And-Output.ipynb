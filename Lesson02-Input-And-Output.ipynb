{
 "cells": [
  {
   "cell_type": "code",
   "execution_count": 1,
   "metadata": {},
   "outputs": [
    {
     "name": "stdout",
     "output_type": "stream",
     "text": [
      "Hi There\n"
     ]
    }
   ],
   "source": [
    "print(\"Hi There\")"
   ]
  },
  {
   "cell_type": "code",
   "execution_count": 2,
   "metadata": {},
   "outputs": [
    {
     "name": "stdout",
     "output_type": "stream",
     "text": [
      "Mike Fudge\n",
      "314 Hinds Hall\n",
      "Syracuse, NY\n"
     ]
    }
   ],
   "source": [
    "print(\"Mike Fudge\")\n",
    "print(\"314 Hinds Hall\")\n",
    "print(\"Syracuse, NY\")"
   ]
  },
  {
   "cell_type": "code",
   "execution_count": 3,
   "metadata": {},
   "outputs": [
    {
     "name": "stdout",
     "output_type": "stream",
     "text": [
      "Mike Fudge\n",
      "314 Hinds Hall\n",
      "Syracuse, NY\n"
     ]
    }
   ],
   "source": [
    "print(\"Mike Fudge\\n314 Hinds Hall\\nSyracuse, NY\")"
   ]
  },
  {
   "cell_type": "code",
   "execution_count": 4,
   "metadata": {},
   "outputs": [
    {
     "ename": "SyntaxError",
     "evalue": "invalid syntax (<ipython-input-4-e7bc8eb5a0e5>, line 1)",
     "output_type": "error",
     "traceback": [
      "\u001b[0;36m  File \u001b[0;32m\"<ipython-input-4-e7bc8eb5a0e5>\"\u001b[0;36m, line \u001b[0;32m1\u001b[0m\n\u001b[0;31m    print(Mike Fudge)\u001b[0m\n\u001b[0m                   ^\u001b[0m\n\u001b[0;31mSyntaxError\u001b[0m\u001b[0;31m:\u001b[0m invalid syntax\n"
     ]
    }
   ],
   "source": [
    "print(Mike Fudge)"
   ]
  },
  {
   "cell_type": "code",
   "execution_count": 5,
   "metadata": {},
   "outputs": [
    {
     "ename": "NameError",
     "evalue": "name 'Mike' is not defined",
     "output_type": "error",
     "traceback": [
      "\u001b[0;31m---------------------------------------------------------------------------\u001b[0m",
      "\u001b[0;31mNameError\u001b[0m                                 Traceback (most recent call last)",
      "\u001b[0;32m<ipython-input-5-0573fa2686ab>\u001b[0m in \u001b[0;36m<module>\u001b[0;34m\u001b[0m\n\u001b[0;32m----> 1\u001b[0;31m \u001b[0mprint\u001b[0m\u001b[0;34m(\u001b[0m\u001b[0mMike\u001b[0m\u001b[0;34m)\u001b[0m\u001b[0;34m\u001b[0m\u001b[0;34m\u001b[0m\u001b[0m\n\u001b[0m",
      "\u001b[0;31mNameError\u001b[0m: name 'Mike' is not defined"
     ]
    }
   ],
   "source": [
    "print(Mike)"
   ]
  },
  {
   "cell_type": "code",
   "execution_count": 6,
   "metadata": {},
   "outputs": [
    {
     "name": "stdout",
     "output_type": "stream",
     "text": [
      "Mike\n"
     ]
    }
   ],
   "source": [
    "name = \"Mike\"\n",
    "print(name)"
   ]
  },
  {
   "cell_type": "code",
   "execution_count": 7,
   "metadata": {},
   "outputs": [
    {
     "name": "stdout",
     "output_type": "stream",
     "text": [
      "hi\n",
      "hi\n"
     ]
    }
   ],
   "source": [
    "print('hi')\n",
    "print(\"hi\")"
   ]
  },
  {
   "cell_type": "code",
   "execution_count": 8,
   "metadata": {},
   "outputs": [
    {
     "name": "stdout",
     "output_type": "stream",
     "text": [
      "Mike's house\n"
     ]
    }
   ],
   "source": [
    "print(\"Mike's house\")\n"
   ]
  },
  {
   "cell_type": "code",
   "execution_count": 9,
   "metadata": {},
   "outputs": [
    {
     "name": "stdout",
     "output_type": "stream",
     "text": [
      "He said, \"You are not ready!\"\n"
     ]
    }
   ],
   "source": [
    "print('He said, \"You are not ready!\"')"
   ]
  },
  {
   "cell_type": "code",
   "execution_count": 10,
   "metadata": {},
   "outputs": [
    {
     "name": "stdout",
     "output_type": "stream",
     "text": [
      "\n"
     ]
    }
   ],
   "source": [
    "print(\"\"\"\"\"\")"
   ]
  },
  {
   "cell_type": "code",
   "execution_count": 11,
   "metadata": {},
   "outputs": [
    {
     "name": "stdout",
     "output_type": "stream",
     "text": [
      "\"\n"
     ]
    }
   ],
   "source": [
    "print(\"\\\"\")"
   ]
  },
  {
   "cell_type": "code",
   "execution_count": 12,
   "metadata": {},
   "outputs": [
    {
     "ename": "SyntaxError",
     "evalue": "unexpected character after line continuation character (<ipython-input-12-03d6e8f0aa9b>, line 1)",
     "output_type": "error",
     "traceback": [
      "\u001b[0;36m  File \u001b[0;32m\"<ipython-input-12-03d6e8f0aa9b>\"\u001b[0;36m, line \u001b[0;32m1\u001b[0m\n\u001b[0;31m    print(\"He said, \\\"You're the one!\"\\\")\u001b[0m\n\u001b[0m                                         ^\u001b[0m\n\u001b[0;31mSyntaxError\u001b[0m\u001b[0;31m:\u001b[0m unexpected character after line continuation character\n"
     ]
    }
   ],
   "source": [
    "print(\"He said, \\\"You're the one!\"\\\")"
   ]
  },
  {
   "cell_type": "code",
   "execution_count": 13,
   "metadata": {},
   "outputs": [
    {
     "name": "stdout",
     "output_type": "stream",
     "text": [
      "this is a test\n"
     ]
    }
   ],
   "source": [
    "print(\"this is a test\")"
   ]
  },
  {
   "cell_type": "code",
   "execution_count": 14,
   "metadata": {},
   "outputs": [
    {
     "name": "stdout",
     "output_type": "stream",
     "text": [
      "\n"
     ]
    },
    {
     "data": {
      "text/plain": [
       "''"
      ]
     },
     "execution_count": 14,
     "metadata": {},
     "output_type": "execute_result"
    }
   ],
   "source": [
    "input()"
   ]
  },
  {
   "cell_type": "code",
   "execution_count": 15,
   "metadata": {},
   "outputs": [
    {
     "name": "stdout",
     "output_type": "stream",
     "text": [
      "Enter your name\n"
     ]
    },
    {
     "data": {
      "text/plain": [
       "''"
      ]
     },
     "execution_count": 15,
     "metadata": {},
     "output_type": "execute_result"
    }
   ],
   "source": [
    "input(\"Enter your name\")"
   ]
  },
  {
   "cell_type": "code",
   "execution_count": 16,
   "metadata": {},
   "outputs": [
    {
     "name": "stdout",
     "output_type": "stream",
     "text": [
      "Enter your name ==> \n"
     ]
    },
    {
     "data": {
      "text/plain": [
       "''"
      ]
     },
     "execution_count": 16,
     "metadata": {},
     "output_type": "execute_result"
    }
   ],
   "source": [
    "input(\"Enter your name ==> \")\n"
   ]
  },
  {
   "cell_type": "code",
   "execution_count": 17,
   "metadata": {},
   "outputs": [
    {
     "name": "stdout",
     "output_type": "stream",
     "text": [
      "What is your faveorite color: \n",
      "My fave is Blue!\n"
     ]
    }
   ],
   "source": [
    "input(\"What is your faveorite color: \")\n",
    "print(\"My fave is Blue!\")"
   ]
  },
  {
   "cell_type": "code",
   "execution_count": 18,
   "metadata": {},
   "outputs": [
    {
     "name": "stdout",
     "output_type": "stream",
     "text": [
      "What is your faveorite color: \n",
      "Oh You like\n",
      "\n",
      "My fave is Blue!\n"
     ]
    }
   ],
   "source": [
    "your_color = input(\"What is your faveorite color: \")\n",
    "print(\"Oh You like\")\n",
    "print(your_color)\n",
    "print(\"My fave is Blue!\")"
   ]
  },
  {
   "cell_type": "code",
   "execution_count": 19,
   "metadata": {},
   "outputs": [
    {
     "name": "stdout",
     "output_type": "stream",
     "text": [
      "What is your fave color? \n",
      "Oh, you like  . Mine is blue!\n"
     ]
    }
   ],
   "source": [
    "your_color = input(\"What is your fave color? \")\n",
    "print(\"Oh, you like\", your_color, \". Mine is blue!\")"
   ]
  },
  {
   "cell_type": "code",
   "execution_count": 20,
   "metadata": {},
   "outputs": [
    {
     "name": "stdout",
     "output_type": "stream",
     "text": [
      "What is your fave color? \n",
      "Oh, you like:-):-). Mine is blue!\n"
     ]
    }
   ],
   "source": [
    "your_color = input(\"What is your fave color? \")\n",
    "print(\"Oh, you like\", your_color, \". Mine is blue!\", sep=\":-)\")"
   ]
  },
  {
   "cell_type": "code",
   "execution_count": 21,
   "metadata": {},
   "outputs": [
    {
     "name": "stdout",
     "output_type": "stream",
     "text": [
      "What is your fave color? \n",
      "Oh, you like . Mike is blue!\n"
     ]
    }
   ],
   "source": [
    "# f-string\n",
    "your_color = input(\"What is your fave color? \")\n",
    "print(f\"Oh, you like {your_color}. Mike is blue!\")"
   ]
  },
  {
   "cell_type": "code",
   "execution_count": 22,
   "metadata": {},
   "outputs": [
    {
     "name": "stdout",
     "output_type": "stream",
     "text": [
      "this is 3\n"
     ]
    }
   ],
   "source": [
    "print(f\"this is {1+2}\")"
   ]
  },
  {
   "cell_type": "code",
   "execution_count": 23,
   "metadata": {},
   "outputs": [
    {
     "name": "stdout",
     "output_type": "stream",
     "text": [
      "Today you are 40, but next year you will be 41!!\n"
     ]
    }
   ],
   "source": [
    "age = 40\n",
    "print(f\"Today you are {age}, but next year you will be {age+1}!!\")"
   ]
  },
  {
   "cell_type": "code",
   "execution_count": 24,
   "metadata": {},
   "outputs": [
    {
     "name": "stdout",
     "output_type": "stream",
     "text": [
      "Enter your name: \n",
      "Enter your age, :\n",
      " is pretty old, dude.\n"
     ]
    }
   ],
   "source": [
    "name = input(\"Enter your name: \")\n",
    "age = input(f\"Enter your age, {name}:\")\n",
    "print(f\"{age} is pretty old, dude.\")"
   ]
  },
  {
   "cell_type": "code",
   "execution_count": 25,
   "metadata": {},
   "outputs": [
    {
     "name": "stdout",
     "output_type": "stream",
     "text": [
      "1001\n",
      "101\n"
     ]
    }
   ],
   "source": [
    "age =\"100\"\n",
    "print(age+str(1))\n",
    "print(int(age)+1)"
   ]
  },
  {
   "cell_type": "code",
   "execution_count": 26,
   "metadata": {},
   "outputs": [],
   "source": [
    "are_you_ready = \"no\"\n",
    "d8 = True"
   ]
  },
  {
   "cell_type": "code",
   "execution_count": 27,
   "metadata": {},
   "outputs": [
    {
     "name": "stdout",
     "output_type": "stream",
     "text": [
      "Enter your salary: \n",
      "Enter yoru tax bracket: \n",
      "How much tax do you want to pay: \n"
     ]
    }
   ],
   "source": [
    "x = input(\"Enter your salary: \")\n",
    "y = input(\"Enter yoru tax bracket: \")\n",
    "z = input(\"How much tax do you want to pay: \")"
   ]
  },
  {
   "cell_type": "code",
   "execution_count": 28,
   "metadata": {},
   "outputs": [
    {
     "name": "stdout",
     "output_type": "stream",
     "text": [
      "Enter your salary: \n",
      "Enter your tax bracket: \n",
      "How much tax do you want to pay: \n"
     ]
    }
   ],
   "source": [
    "your_salary = input(\"Enter your salary: \")\n",
    "your_tax_bracket = input(\"Enter your tax bracket: \")\n",
    "tax_you_want_to_pay = input(\"How much tax do you want to pay: \")"
   ]
  },
  {
   "cell_type": "code",
   "execution_count": 29,
   "metadata": {},
   "outputs": [
    {
     "name": "stdout",
     "output_type": "stream",
     "text": [
      "What is your team name? mike\n"
     ]
    }
   ],
   "source": [
    "name = input(\"What is your team name? \")"
   ]
  },
  {
   "cell_type": "code",
   "execution_count": null,
   "metadata": {},
   "outputs": [],
   "source": [
    "print(your_salary)"
   ]
  },
  {
   "cell_type": "code",
   "execution_count": 30,
   "metadata": {},
   "outputs": [
    {
     "data": {
      "text/plain": [
       "['In',\n",
       " 'Out',\n",
       " '_',\n",
       " '_14',\n",
       " '_15',\n",
       " '_16',\n",
       " '__',\n",
       " '___',\n",
       " '__builtin__',\n",
       " '__builtins__',\n",
       " '__doc__',\n",
       " '__loader__',\n",
       " '__name__',\n",
       " '__package__',\n",
       " '__spec__',\n",
       " '_dh',\n",
       " '_i',\n",
       " '_i1',\n",
       " '_i10',\n",
       " '_i11',\n",
       " '_i12',\n",
       " '_i13',\n",
       " '_i14',\n",
       " '_i15',\n",
       " '_i16',\n",
       " '_i17',\n",
       " '_i18',\n",
       " '_i19',\n",
       " '_i2',\n",
       " '_i20',\n",
       " '_i21',\n",
       " '_i22',\n",
       " '_i23',\n",
       " '_i24',\n",
       " '_i25',\n",
       " '_i26',\n",
       " '_i27',\n",
       " '_i28',\n",
       " '_i29',\n",
       " '_i3',\n",
       " '_i30',\n",
       " '_i4',\n",
       " '_i5',\n",
       " '_i6',\n",
       " '_i7',\n",
       " '_i8',\n",
       " '_i9',\n",
       " '_ih',\n",
       " '_ii',\n",
       " '_iii',\n",
       " '_oh',\n",
       " 'age',\n",
       " 'are_you_ready',\n",
       " 'd8',\n",
       " 'exit',\n",
       " 'get_ipython',\n",
       " 'name',\n",
       " 'quit',\n",
       " 'tax_you_want_to_pay',\n",
       " 'x',\n",
       " 'y',\n",
       " 'your_color',\n",
       " 'your_salary',\n",
       " 'your_tax_bracket',\n",
       " 'z']"
      ]
     },
     "execution_count": 30,
     "metadata": {},
     "output_type": "execute_result"
    }
   ],
   "source": [
    "dir()\n"
   ]
  },
  {
   "cell_type": "code",
   "execution_count": 32,
   "metadata": {},
   "outputs": [
    {
     "name": "stdout",
     "output_type": "stream",
     "text": [
      "Help on method raw_input in module ipykernel.kernelbase:\n",
      "\n",
      "raw_input(prompt='') method of ipykernel.ipkernel.IPythonKernel instance\n",
      "    Forward raw_input to frontends\n",
      "    \n",
      "    Raises\n",
      "    ------\n",
      "    StdinNotImplentedError if active frontend doesn't support stdin.\n",
      "\n"
     ]
    }
   ],
   "source": [
    "help(input)"
   ]
  },
  {
   "cell_type": "markdown",
   "metadata": {},
   "source": [
    "inputs: \n",
    "2. where are you from ?\n",
    "3. Place or thing\n",
    "4. Enter an adjective like full\n",
    "5. Enter something that rhymes with 4.\n",
    "6. A word that rhymes with 2.\n",
    "\n",
    "There once was a man from 2.nantucket\n",
    "Who used to live in a 3. bucket\n",
    "The 3.bucket got 4.full, he gave it a 5.pull\n",
    "And now he is are stuck a 6. tucket!"
   ]
  },
  {
   "cell_type": "code",
   "execution_count": 36,
   "metadata": {},
   "outputs": [
    {
     "name": "stdout",
     "output_type": "stream",
     "text": [
      "Mike's Limerick Generator 1.0\n",
      "Where are you from? cork\n",
      "Enter a place or a thing: pork\n",
      "Enter an adjective like full or empty or soft: dumb\n",
      "Enter something that rhymes with dumb: thumb\n",
      "Enter something that rhymes with cork: stork\n",
      "============\n",
      "There once was a man from cork.\n",
      "Who used to live in a pork.\n",
      "The pork got dumb, he gave it a thumb\n",
      "And now he is stuck a stork!\n"
     ]
    }
   ],
   "source": [
    "print(\"Mike's Limerick Generator 1.0\")\n",
    "you_are_from = input(\"Where are you from? \")\n",
    "place_or_thing = input(\"Enter a place or a thing: \")\n",
    "adj = input(\"Enter an adjective like full or empty or soft: \")\n",
    "rhymes_with_adj = input(f\"Enter something that rhymes with {adj}: \")\n",
    "rhymes_with_from = input(f\"Enter something that rhymes with {you_are_from}: \")\n",
    "print(\"============\")\n",
    "print(f\"There once was a man from {you_are_from}.\")\n",
    "print(f\"Who used to live in a {place_or_thing}.\")\n",
    "print(f\"The {place_or_thing} got {adj}, he gave it a {rhymes_with_adj}\")\n",
    "print(f\"And now he is stuck a {rhymes_with_from}!\")\n"
   ]
  },
  {
   "cell_type": "code",
   "execution_count": null,
   "metadata": {},
   "outputs": [],
   "source": []
  }
 ],
 "metadata": {
  "kernelspec": {
   "display_name": "Python 3",
   "language": "python",
   "name": "python3"
  },
  "language_info": {
   "codemirror_mode": {
    "name": "ipython",
    "version": 3
   },
   "file_extension": ".py",
   "mimetype": "text/x-python",
   "name": "python",
   "nbconvert_exporter": "python",
   "pygments_lexer": "ipython3",
   "version": "3.7.3"
  }
 },
 "nbformat": 4,
 "nbformat_minor": 2
}
