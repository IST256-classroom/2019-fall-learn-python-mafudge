{
 "cells": [
  {
   "cell_type": "code",
   "execution_count": 7,
   "metadata": {},
   "outputs": [
    {
     "name": "stdout",
     "output_type": "stream",
     "text": [
      "How many times should we say your name? 3\n",
      "Mike\n",
      "Count 1, times 3\n",
      "Mike\n",
      "Count 2, times 3\n",
      "Mike\n",
      "Count 3, times 3\n",
      "And the program goes on...\n"
     ]
    }
   ],
   "source": [
    "times = int(input(\"How many times should we say your name? \"))\n",
    "count = 0\n",
    "while count<times:\n",
    "    print(\"Mike\")\n",
    "    count = count + 1\n",
    "    print(f\"Count {count}, times {times}\")\n",
    "    \n",
    "print(\"And the program goes on...\")    "
   ]
  },
  {
   "cell_type": "code",
   "execution_count": 8,
   "metadata": {},
   "outputs": [
    {
     "data": {
      "text/plain": [
       "range(0, 5)"
      ]
     },
     "execution_count": 8,
     "metadata": {},
     "output_type": "execute_result"
    }
   ],
   "source": [
    "# get an iterator\n",
    "range(5)"
   ]
  },
  {
   "cell_type": "code",
   "execution_count": 10,
   "metadata": {},
   "outputs": [
    {
     "name": "stdout",
     "output_type": "stream",
     "text": [
      "Mike\n",
      "i is 0\n",
      "Mike\n",
      "i is 1\n",
      "Mike\n",
      "i is 2\n",
      "Mike\n",
      "i is 3\n",
      "Mike\n",
      "i is 4\n"
     ]
    }
   ],
   "source": [
    "for i in range(5):\n",
    "    print(\"Mike\")\n",
    "    print(f\"i is {i}\")"
   ]
  },
  {
   "cell_type": "code",
   "execution_count": 12,
   "metadata": {},
   "outputs": [
    {
     "name": "stdout",
     "output_type": "stream",
     "text": [
      "Enter some text: new york\n",
      "n\n",
      "e\n",
      "w\n",
      " \n",
      "y\n",
      "o\n",
      "r\n",
      "k\n"
     ]
    }
   ],
   "source": [
    "text = input(\"Enter some text: \")\n",
    "for character in text:\n",
    "    print(character)"
   ]
  },
  {
   "cell_type": "code",
   "execution_count": 14,
   "metadata": {},
   "outputs": [
    {
     "name": "stdout",
     "output_type": "stream",
     "text": [
      "Enter a state: Mississippi\n"
     ]
    }
   ],
   "source": [
    "state = input(\"Enter a state: \")\n",
    "for character in state:\n",
    "    if character == ' ':\n",
    "        print(\"I found a space!\")"
   ]
  },
  {
   "cell_type": "code",
   "execution_count": 15,
   "metadata": {},
   "outputs": [
    {
     "name": "stdout",
     "output_type": "stream",
     "text": [
      "rock\n",
      "paper\n",
      "scissors\n"
     ]
    }
   ],
   "source": [
    "choices = ['rock','paper','scissors']\n",
    "for choice in choices:\n",
    "    print(choice)"
   ]
  },
  {
   "cell_type": "code",
   "execution_count": 18,
   "metadata": {},
   "outputs": [
    {
     "name": "stdout",
     "output_type": "stream",
     "text": [
      "Enter a sentence: This is iterable\n",
      "This\n",
      "is\n",
      "iterable\n"
     ]
    }
   ],
   "source": [
    "sentence = input(\"Enter a sentence: \")\n",
    "words = sentence.split(' ')\n",
    "for word in words:\n",
    "    print(word)"
   ]
  },
  {
   "cell_type": "code",
   "execution_count": 19,
   "metadata": {},
   "outputs": [
    {
     "name": "stdout",
     "output_type": "stream",
     "text": [
      "Enter prof fudgeism: This is um a um test\n",
      "That was 2 'ums'... shots!\n"
     ]
    }
   ],
   "source": [
    "sentence = input(\"Enter prof fudgeism: \")\n",
    "ums = 0\n",
    "words = sentence.split(' ')\n",
    "for word in words:\n",
    "    if word=='um':\n",
    "        ums = ums + 1 \n",
    "    \n",
    "print(f\"That was {ums} 'ums'... shots!\")"
   ]
  },
  {
   "cell_type": "markdown",
   "metadata": {},
   "source": [
    "Guessing Game \n",
    "Pick a number between 1 and 10 \n",
    "3 guesses\n",
    "guess correctly \n",
    "\n",
    "\n"
   ]
  },
  {
   "cell_type": "code",
   "execution_count": 55,
   "metadata": {},
   "outputs": [
    {
     "name": "stdout",
     "output_type": "stream",
     "text": [
      "Guess a number between 1 and 3 3\n",
      "Guess number: 1, your guess was 3\n",
      "Wrong! It was 2\n",
      "Guess a number between 1 and 3 2\n",
      "Guess number: 2, your guess was 2\n",
      "The number was 2 You Win!!!!!!!!\n"
     ]
    }
   ],
   "source": [
    "import random\n",
    "minnum = 1\n",
    "maxnum = 3\n",
    "guess = random.randint(minnum,maxnum)\n",
    "number_of_guesses = 0\n",
    "while True:\n",
    "    your_guess = int(input(f\"Guess a number between {minnum} and {maxnum} \"))\n",
    "    number_of_guesses = number_of_guesses + 1\n",
    "    print(f\"Guess number: {number_of_guesses}, your guess was {your_guess}\")\n",
    "    if guess == your_guess:\n",
    "        print(f\"The number was {guess} You Win!!!!!!!!\")\n",
    "        break\n",
    "    if number_of_guesses == 3:\n",
    "        print(f\"The number was {guess} You Lose!!!!!!!\")\n",
    "        break\n",
    "    print(f\"Wrong!\")"
   ]
  },
  {
   "cell_type": "markdown",
   "metadata": {},
   "source": [
    "inputs: Password until correct or 5 attepts\n",
    "output:\n",
    "if correct password \"Password Accepted\"\n",
    "if not correct \"Invalid password Attemp #1\"\n",
    "if attempts equals 5 \"Locked Out\"\n"
   ]
  },
  {
   "cell_type": "code",
   "execution_count": 54,
   "metadata": {},
   "outputs": [
    {
     "name": "stdout",
     "output_type": "stream",
     "text": [
      "Enter Password: shdagfkjsd\n",
      "Invalid Password Attempt #1\n",
      "Enter Password: cheese45\n",
      "Password Accepted\n"
     ]
    }
   ],
   "source": [
    "password = \"cheese45\"\n",
    "attempts = 0\n",
    "maxattempts = 3\n",
    "while True:\n",
    "    pw = input(\"Enter Password: \")\n",
    "    attempts = attempts + 1\n",
    "    if pw == password:\n",
    "        print(\"Password Accepted\")\n",
    "        break\n",
    "    elif attempts == maxattempts:\n",
    "        print(f\" You have reached {maxattempts}, Locked Out!\")\n",
    "        break\n",
    "    else:\n",
    "        print(f\"Invalid Password Attempt #{attempts}\")\n"
   ]
  },
  {
   "cell_type": "code",
   "execution_count": null,
   "metadata": {},
   "outputs": [],
   "source": []
  }
 ],
 "metadata": {
  "kernelspec": {
   "display_name": "Python 3",
   "language": "python",
   "name": "python3"
  },
  "language_info": {
   "codemirror_mode": {
    "name": "ipython",
    "version": 3
   },
   "file_extension": ".py",
   "mimetype": "text/x-python",
   "name": "python",
   "nbconvert_exporter": "python",
   "pygments_lexer": "ipython3",
   "version": "3.7.3"
  }
 },
 "nbformat": 4,
 "nbformat_minor": 2
}
