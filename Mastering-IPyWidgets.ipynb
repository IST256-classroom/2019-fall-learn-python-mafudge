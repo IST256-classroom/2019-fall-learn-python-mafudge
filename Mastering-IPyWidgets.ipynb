{
 "cells": [
  {
   "cell_type": "code",
   "execution_count": null,
   "metadata": {},
   "outputs": [],
   "source": [
    "! pip install ipywidgets\n",
    "! jupyter nbextension enable --py widgetsnbextension"
   ]
  },
  {
   "cell_type": "code",
   "execution_count": null,
   "metadata": {},
   "outputs": [],
   "source": [
    "import ipywidgets as widgets\n",
    "import IPython.display as ipd"
   ]
  },
  {
   "cell_type": "code",
   "execution_count": null,
   "metadata": {},
   "outputs": [],
   "source": [
    "print(\"How we start every example.\")\n",
    "text = widgets.Text(description=\"Your name: \")\n",
    "button = widgets.Button(description=\"Click to say Hello\")\n",
    "output = widgets.Output()\n",
    "\n",
    "ipd.display(text, button, output)\n",
    "\n",
    "def on_button_clicked(b):\n",
    "    with output:\n",
    "        print(f\"Hello {text.value} !!!\")\n",
    "\n",
    "button.on_click(on_button_clicked)"
   ]
  },
  {
   "cell_type": "code",
   "execution_count": null,
   "metadata": {},
   "outputs": [],
   "source": [
    "w = widgets.IntSlider()\n",
    "print(\"Slide Me... ... Then run the next cell.\")\n",
    "ipd.display(w)\n"
   ]
  },
  {
   "cell_type": "code",
   "execution_count": null,
   "metadata": {},
   "outputs": [],
   "source": [
    "print(f\"The Value of the widget is {w.value}\")"
   ]
  },
  {
   "cell_type": "code",
   "execution_count": null,
   "metadata": {},
   "outputs": [],
   "source": [
    "# this function is called when you click the button\n",
    "def on_button_clicked(button):\n",
    "    with output:\n",
    "        print(f\"Name  {name.value}\")\n",
    "        print(f\"GPA   {gpa.value}\")\n",
    "        print(f\"DOB   {dob.value}\")\n",
    "        print(f\"Major {major.value}\")\n",
    "\n",
    "\n",
    "# this code builds the UI, and returns each of the widgets\n",
    "def build_ui():\n",
    "    name = widgets.Text(\n",
    "        value='',\n",
    "        placeholder='',\n",
    "        description='Your Name:',\n",
    "        disabled=False\n",
    "    )\n",
    "    gpa = widgets.FloatSlider(\n",
    "        value=2.0,\n",
    "        min=0.0,\n",
    "        max=4.0,\n",
    "        step=0.1,\n",
    "        description='Your GPA:',\n",
    "        disabled=False,\n",
    "        continuous_update=True,\n",
    "        orientation='horizontal',\n",
    "        readout=True,\n",
    "        readout_format='.1f'\n",
    "    )\n",
    "    dob = widgets.DatePicker(\n",
    "        description='Your DOB:',\n",
    "        disabled=False\n",
    "    )\n",
    "    major = widgets.RadioButtons(\n",
    "        options=['anthropology', 'biology', 'chemistry'],\n",
    "        value='biology',\n",
    "        description='Your Major:',\n",
    "        disabled=False\n",
    "    )\n",
    "    button = widgets.Button(description=\"Click Me!\")\n",
    "    button.on_click(on_button_clicked)\n",
    "    #return all the widgets\n",
    "    return name, gpa, dob, major, button\n",
    "\n",
    "\n",
    "# main code goes here\n",
    "\n",
    "# build the ui, return the widgets\n",
    "name, gpa, dob, major, button = build_ui()\n",
    "\n",
    "# put the widgets is a Vertical Box\n",
    "box = widgets.VBox([name,gpa,dob,major,button])\n",
    "\n",
    "#create an output widget\n",
    "output = widgets.Output()\n",
    "\n",
    "# display the box and output\n",
    "ipd.display(box, output)\n",
    "\n"
   ]
  },
  {
   "cell_type": "code",
   "execution_count": null,
   "metadata": {},
   "outputs": [],
   "source": []
  },
  {
   "cell_type": "markdown",
   "metadata": {},
   "source": [
    "Want to learn more? Check out! \n",
    "\n",
    "https://ipywidgets.readthedocs.io/en/stable/examples/Widget%20Basics.html"
   ]
  },
  {
   "cell_type": "code",
   "execution_count": null,
   "metadata": {},
   "outputs": [],
   "source": []
  }
 ],
 "metadata": {
  "kernelspec": {
   "display_name": "Python 3",
   "language": "python",
   "name": "python3"
  },
  "language_info": {
   "codemirror_mode": {
    "name": "ipython",
    "version": 3
   },
   "file_extension": ".py",
   "mimetype": "text/x-python",
   "name": "python",
   "nbconvert_exporter": "python",
   "pygments_lexer": "ipython3",
   "version": "3.7.3"
  }
 },
 "nbformat": 4,
 "nbformat_minor": 2
}
