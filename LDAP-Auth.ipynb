{
 "cells": [
  {
   "cell_type": "code",
   "execution_count": 18,
   "metadata": {},
   "outputs": [
    {
     "name": "stdout",
     "output_type": "stream",
     "text": [
      "Net ID:mafudge\n",
      "Password: ········\n",
      "authentication error\n"
     ]
    }
   ],
   "source": [
    "from getpass import getpass\n",
    "import ldap\n",
    "ldap_server = \"ldap://sudir.syr.edu\"\n",
    "netid = input(\"Net ID:\")\n",
    "password = getpass(\"Password: \")\n",
    "base_dn = \"ou=people,dc=syr,dc=edu\"\n",
    "user_dn = \"uid=\"+netid+\",\" + base_dn\n",
    "connect = ldap.initialize(ldap_server)\n",
    "search_filter = \"uid=\"+netid\n",
    "try:\n",
    "    #if authentication successful, get the full user data\n",
    "    connect.bind_s(user_dn,password)\n",
    "    result = connect.search_s(base_dn,ldap.SCOPE_SUBTREE,search_filter)\n",
    "    # return all user data results\n",
    "    connect.unbind_s()\n",
    "    print(result)\n",
    "except ldap.LDAPError:\n",
    "    connect.unbind_s()\n",
    "    print (\"authentication error\")"
   ]
  },
  {
   "cell_type": "code",
   "execution_count": 23,
   "metadata": {},
   "outputs": [
    {
     "name": "stdout",
     "output_type": "stream",
     "text": [
      "Help on method bind_s in module ldap.ldapobject:\n",
      "\n",
      "bind_s(who, cred, method=128) method of ldap.ldapobject.SimpleLDAPObject instance\n",
      "    bind_s(who, cred, method) -> None\n",
      "\n"
     ]
    }
   ],
   "source": [
    "help(connect.bind_s)"
   ]
  },
  {
   "cell_type": "code",
   "execution_count": 4,
   "metadata": {},
   "outputs": [
    {
     "data": {
      "text/plain": [
       "['GetPassWarning',\n",
       " '__all__',\n",
       " '__builtins__',\n",
       " '__cached__',\n",
       " '__doc__',\n",
       " '__file__',\n",
       " '__loader__',\n",
       " '__name__',\n",
       " '__package__',\n",
       " '__spec__',\n",
       " '_raw_input',\n",
       " 'contextlib',\n",
       " 'fallback_getpass',\n",
       " 'getpass',\n",
       " 'getuser',\n",
       " 'io',\n",
       " 'os',\n",
       " 'sys',\n",
       " 'termios',\n",
       " 'unix_getpass',\n",
       " 'warnings',\n",
       " 'win_getpass']"
      ]
     },
     "execution_count": 4,
     "metadata": {},
     "output_type": "execute_result"
    }
   ],
   "source": [
    "dir(getpass)"
   ]
  },
  {
   "cell_type": "code",
   "execution_count": 24,
   "metadata": {},
   "outputs": [
    {
     "name": "stdout",
     "output_type": "stream",
     "text": [
      "Collecting EasyAD\n",
      "  Downloading https://files.pythonhosted.org/packages/47/bb/e2d215ec5e822d38290543a7d6e78b0be6ad004a592c47cead39e39d1a80/easyad-1.0.9-py2.py3-none-any.whl\n",
      "Collecting pyldap (from EasyAD)\n",
      "  Downloading https://files.pythonhosted.org/packages/79/c9/0943bd08c671ff2cb1007c88de628464dc6e0ca0798a64f1cdc805497dd0/pyldap-3.0.0.post1-py3-none-any.whl\n",
      "Requirement already satisfied: python-ldap>=3.0.0b1 in /opt/conda/lib/python3.7/site-packages (from pyldap->EasyAD) (3.2.0)\n",
      "Requirement already satisfied: pyasn1>=0.3.7 in /opt/conda/lib/python3.7/site-packages (from python-ldap>=3.0.0b1->pyldap->EasyAD) (0.4.7)\n",
      "Requirement already satisfied: pyasn1-modules>=0.1.5 in /opt/conda/lib/python3.7/site-packages (from python-ldap>=3.0.0b1->pyldap->EasyAD) (0.2.7)\n",
      "Installing collected packages: pyldap, EasyAD\n",
      "Successfully installed EasyAD-1.0.9 pyldap-3.0.0.post1\n"
     ]
    }
   ],
   "source": [
    "!pip install EasyAD"
   ]
  },
  {
   "cell_type": "code",
   "execution_count": 36,
   "metadata": {},
   "outputs": [
    {
     "name": "stdout",
     "output_type": "stream",
     "text": [
      "Net ID:mafudge\n",
      "Password: ········\n",
      "Authenticating...\n",
      "Authenticated\n",
      "mafudge\n"
     ]
    }
   ],
   "source": [
    " %timeit\n",
    "from easyad import EasyAD\n",
    "netid = input(\"Net ID:\")\n",
    "password = getpass(\"Password: \")\n",
    "config = dict(AD_SERVER=\"sudc-01.ad.syr.edu\",\n",
    "              AD_DOMAIN=\"ad.syr.edu\")\n",
    "\n",
    "ad = EasyAD(config)\n",
    "\n",
    "print(\"Authenticating...\")\n",
    "user = ad.authenticate_user(username,password)\n",
    "if user:\n",
    "    print(\"Authenticated\")\n",
    "    print(user[\"cn\"])\n",
    "else:\n",
    "    print(\"Auth Failure\")\n",
    "    \n",
    "password = \"\""
   ]
  },
  {
   "cell_type": "code",
   "execution_count": 34,
   "metadata": {},
   "outputs": [
    {
     "data": {
      "text/plain": [
       "{'cn': 'mafudge',\n",
       " 'sn': 'Fudge Jr',\n",
       " 'title': 'Professor of Practice',\n",
       " 'description': 'STAFF Data Sys Admin',\n",
       " 'physicalDeliveryOfficeName': '343 Hinds Hall',\n",
       " 'telephoneNumber': '3154439686',\n",
       " 'givenName': 'Michael',\n",
       " 'distinguishedName': 'CN=mafudge,OU=Users,OU=IST,DC=ad,DC=syr,DC=edu',\n",
       " 'whenCreated': datetime.datetime(2006, 7, 30, 3, 16, 14),\n",
       " 'displayName': 'Michael A Fudge Jr',\n",
       " 'memberOf': ['CN=Class-1201-IST-256-M001-Instructor-PI,OU=Course Groups,OU=MGMT,OU=SU,DC=ad,DC=syr,DC=edu',\n",
       "  'CN=Class-1201-IST-659-M006-Instructor-PI,OU=Course Groups,OU=MGMT,OU=SU,DC=ad,DC=syr,DC=edu',\n",
       "  'CN=Class-1201-IST-722-M001-Instructor-PI,OU=Course Groups,OU=MGMT,OU=SU,DC=ad,DC=syr,DC=edu',\n",
       "  'CN=Class-1201-IST-722-M400-Instructor-PI,OU=Course Groups,OU=MGMT,OU=SU,DC=ad,DC=syr,DC=edu',\n",
       "  'CN=Class-1202-GET-460-M001-Instructor-PI,OU=Course Groups,OU=MGMT,OU=SU,DC=ad,DC=syr,DC=edu',\n",
       "  'CN=Class-1202-GET-660-M001-Instructor-PI,OU=Course Groups,OU=MGMT,OU=SU,DC=ad,DC=syr,DC=edu',\n",
       "  'CN=Class-1202-IST-256-M001-Instructor-PI,OU=Course Groups,OU=MGMT,OU=SU,DC=ad,DC=syr,DC=edu',\n",
       "  'CN=Class-1202-IST-769-M001-Instructor-PI,OU=Course Groups,OU=MGMT,OU=SU,DC=ad,DC=syr,DC=edu',\n",
       "  'CN=Class-1202-IST-769-M400-Instructor-PI,OU=Course Groups,OU=MGMT,OU=SU,DC=ad,DC=syr,DC=edu',\n",
       "  'CN=DEPT-Users-IST-Information Studies-Dean,OU=Departments,OU=MGMT,OU=SU,DC=ad,DC=syr,DC=edu',\n",
       "  'CN=IST-ACG-SU-AirOrangeX,OU=LC Managed,OU=MGMT,OU=SU,DC=ad,DC=syr,DC=edu',\n",
       "  'CN=IST-ACG-SU-Exchange,OU=LC Managed,OU=MGMT,OU=SU,DC=ad,DC=syr,DC=edu',\n",
       "  'CN=IST-ACG-SU-VPN,OU=LC Managed,OU=MGMT,OU=SU,DC=ad,DC=syr,DC=edu',\n",
       "  'CN=IST-AFL-Faculty-Active,OU=LC Managed,OU=MGMT,OU=SU,DC=ad,DC=syr,DC=edu',\n",
       "  'CN=IST-AFL-SU Alumnus-Active,OU=LC Managed,OU=MGMT,OU=SU,DC=ad,DC=syr,DC=edu',\n",
       "  'CN=IST-Alumnus,OU=Builtin,OU=IST,DC=ad,DC=syr,DC=edu',\n",
       "  'CN=IST-del-Admin-Owners,OU=Email Proxies,OU=Groups,OU=_Custom_,OU=IST,DC=ad,DC=syr,DC=edu',\n",
       "  'CN=IST-EmailProxy-e-mail-ijobopps-RW,OU=Email Proxies,OU=Groups,OU=_Custom_,OU=IST,DC=ad,DC=syr,DC=edu',\n",
       "  'CN=IST-EmailProxy-e-mail-ilabs-RW,OU=Email Proxies,OU=Groups,OU=_Custom_,OU=IST,DC=ad,DC=syr,DC=edu',\n",
       "  'CN=IST-Faculty,OU=Builtin,OU=IST,DC=ad,DC=syr,DC=edu',\n",
       "  'CN=IST-Faculty-Active,OU=Builtin,OU=IST,DC=ad,DC=syr,DC=edu',\n",
       "  'CN=IST-Instructors-1171,OU=AutoProvisioned,OU=Groups,OU=_Custom_,OU=IST,DC=ad,DC=syr,DC=edu',\n",
       "  'CN=IST-Instructors-1172,OU=AutoProvisioned,OU=Groups,OU=_Custom_,OU=IST,DC=ad,DC=syr,DC=edu',\n",
       "  'CN=IST-Instructors-1181,OU=AutoProvisioned,OU=Groups,OU=_Custom_,OU=IST,DC=ad,DC=syr,DC=edu',\n",
       "  'CN=IST-Instructors-1182,OU=AutoProvisioned,OU=Groups,OU=_Custom_,OU=IST,DC=ad,DC=syr,DC=edu',\n",
       "  'CN=IST-Instructors-1183,OU=AutoProvisioned,OU=Groups,OU=_Custom_,OU=IST,DC=ad,DC=syr,DC=edu',\n",
       "  'CN=IST-Instructors-1191,OU=AutoProvisioned,OU=Groups,OU=_Custom_,OU=IST,DC=ad,DC=syr,DC=edu',\n",
       "  'CN=IST-Instructors-1192,OU=AutoProvisioned,OU=Groups,OU=_Custom_,OU=IST,DC=ad,DC=syr,DC=edu',\n",
       "  'CN=IST-Instructors-1193,OU=AutoProvisioned,OU=Groups,OU=_Custom_,OU=IST,DC=ad,DC=syr,DC=edu',\n",
       "  'CN=IST-Instructors-1201,OU=AutoProvisioned,OU=Groups,OU=_Custom_,OU=IST,DC=ad,DC=syr,DC=edu',\n",
       "  'CN=IST-Instructors-1202,OU=AutoProvisioned,OU=Groups,OU=_Custom_,OU=IST,DC=ad,DC=syr,DC=edu',\n",
       "  'CN=IST-Instructors-Active,OU=AutoProvisioned,OU=Groups,OU=_Custom_,OU=IST,DC=ad,DC=syr,DC=edu',\n",
       "  'CN=IST-Instructors-Active-Future,OU=AutoProvisioned,OU=Groups,OU=_Custom_,OU=IST,DC=ad,DC=syr,DC=edu',\n",
       "  'CN=IST-Instructors-Last3Terms,OU=AutoProvisioned,OU=Groups,OU=_Custom_,OU=IST,DC=ad,DC=syr,DC=edu',\n",
       "  'CN=IST-Intranet-CalendarsAdmin,OU=Intranet,OU=Groups,OU=_Custom_,OU=IST,DC=ad,DC=syr,DC=edu',\n",
       "  'CN=IST-Intranet-ClassScheduleManager,OU=Intranet,OU=Groups,OU=_Custom_,OU=IST,DC=ad,DC=syr,DC=edu',\n",
       "  'CN=IST-MBX-datascienceclub-RW,OU=Users,OU=IST,DC=ad,DC=syr,DC=edu',\n",
       "  'CN=IST-RSC-SU-AirOrangeX,OU=LC Managed,OU=MGMT,OU=SU,DC=ad,DC=syr,DC=edu',\n",
       "  'CN=IST-RSC-SU-Exchange,OU=LC Managed,OU=MGMT,OU=SU,DC=ad,DC=syr,DC=edu',\n",
       "  'CN=IST-RSC-SU-VPN,OU=LC Managed,OU=MGMT,OU=SU,DC=ad,DC=syr,DC=edu',\n",
       "  'CN=IST-Share-Committees-Information Analyst-RW,OU=Share Groups,OU=Groups,OU=_Custom_,OU=IST,DC=ad,DC=syr,DC=edu',\n",
       "  'CN=IST-Share-Hosting-classes.ischool.syr.edu-IST256,OU=Hosting,OU=Groups,OU=_Custom_,OU=IST,DC=ad,DC=syr,DC=edu',\n",
       "  'CN=IST-Share-Hosting-immersionexperience.syr.edu,OU=Hosting,OU=Groups,OU=_Custom_,OU=IST,DC=ad,DC=syr,DC=edu',\n",
       "  'CN=IST-Share-MyGroups-njmccrac-RW,OU=Share Groups,OU=Groups,OU=_Custom_,OU=IST,DC=ad,DC=syr,DC=edu',\n",
       "  'CN=IST-Share-Reports-RW,OU=Share Groups,OU=Groups,OU=_Custom_,OU=IST,DC=ad,DC=syr,DC=edu',\n",
       "  'CN=IST-Share-StudentGroups,OU=Share Groups,OU=Groups,OU=_Custom_,OU=IST,DC=ad,DC=syr,DC=edu',\n",
       "  'CN=IST-Shared-Staff-Admissions-ReadOnly,OU=Share Groups,OU=Groups,OU=_Custom_,OU=IST,DC=ad,DC=syr,DC=edu',\n",
       "  'CN=IST-Users,OU=Builtin,OU=IST,DC=ad,DC=syr,DC=edu',\n",
       "  'CN=IST-Users-Committees-Personnel,OU=User Groups,OU=Groups,OU=_Custom_,OU=IST,DC=ad,DC=syr,DC=edu',\n",
       "  'CN=IST-Users-GitLab,OU=User Groups,OU=Groups,OU=_Custom_,OU=IST,DC=ad,DC=syr,DC=edu',\n",
       "  'CN=IST-Users-iJobs-Reviewers,OU=User Groups,OU=Groups,OU=_Custom_,OU=IST,DC=ad,DC=syr,DC=edu',\n",
       "  'CN=IST-Users-RemoteLabProd-Admins,OU=RemoteLab,OU=Groups,OU=_Custom_,OU=IST,DC=ad,DC=syr,DC=edu',\n",
       "  'CN=IST-Users-Reports-GetVet,OU=User Groups,OU=Groups,OU=_Custom_,OU=IST,DC=ad,DC=syr,DC=edu',\n",
       "  'CN=IST-Users-Staff,OU=User Groups,OU=Groups,OU=_Custom_,OU=IST,DC=ad,DC=syr,DC=edu',\n",
       "  'CN=IST-Users-WISE,OU=User Groups,OU=Groups,OU=_Custom_,OU=IST,DC=ad,DC=syr,DC=edu',\n",
       "  'CN=ITS-DistributedITStaff,OU=Users,OU=ITS,DC=ad,DC=syr,DC=edu',\n",
       "  'CN=ITS-HEA-LEARN,OU=BB Analytics,OU=Custom,OU=ITS,DC=ad,DC=syr,DC=edu',\n",
       "  'CN=ITS-HEA-SAFA-SA,OU=BB Analytics,OU=Custom,OU=ITS,DC=ad,DC=syr,DC=edu',\n",
       "  'CN=ITS-LaptopSecurity,OU=Users,OU=ITS,DC=ad,DC=syr,DC=edu',\n",
       "  'CN=ITS-SP-SiteDevelopers,OU=Users,OU=ITS,DC=ad,DC=syr,DC=edu',\n",
       "  'CN=ITS-VC-AVHE-IST-MAFUDGE Admins,OU=Admins,OU=ITS,DC=ad,DC=syr,DC=edu',\n",
       "  'CN=LE-TLCTEMP-Mediasite,OU=Groups,OU=Locations,OU=LE,DC=ad,DC=syr,DC=edu',\n",
       "  'CN=SU-ACG-AdobeCloud-NL-CC,OU=LC Managed,OU=MGMT,OU=SU,DC=ad,DC=syr,DC=edu',\n",
       "  'CN=SU-RSC-AdobeCloud,OU=LC Managed,OU=MGMT,OU=SU,DC=ad,DC=syr,DC=edu'],\n",
       " 'department': 'Information Studies-Dean',\n",
       " 'proxyAddresses': ['X500:/o=Syracuse University/ou=First Administrative Group/cn=Recipients/cn=ebec2f51-750f202e-a017acef-77a7d8d1',\n",
       "  'smtp:mafudge@ad.syr.edu',\n",
       "  'SMTP:mafudge@syr.edu',\n",
       "  'X400:c=US;a= ;p=Syracuse Univers;o=Exchange;s=Fudge Jr;g=Michael;'],\n",
       " 'mailNickname': 'mafudge',\n",
       " 'employeeNumber': '9c80ba',\n",
       " 'userAccountControl': 512,\n",
       " 'countryCode': '0',\n",
       " 'homeDirectory': '\\\\\\\\hd.ad.syr.edu\\\\03\\\\9c80ba\\\\Documents',\n",
       " 'homeDrive': 'H:',\n",
       " 'pwdLastSet': datetime.datetime(2019, 9, 19, 14, 39, 47, 901339),\n",
       " 'sAMAccountName': 'mafudge',\n",
       " 'showInAddressBook': ['CN=AL_AllFacStaff,CN=All Address Lists,CN=Address Lists Container,CN=Syracuse University,CN=Microsoft Exchange,CN=Services,CN=Configuration,DC=ad,DC=syr,DC=edu',\n",
       "  'CN=All Users,CN=All Address Lists,CN=Address Lists Container,CN=Syracuse University,CN=Microsoft Exchange,CN=Services,CN=Configuration,DC=ad,DC=syr,DC=edu',\n",
       "  'CN=Default Global Address List,CN=All Global Address Lists,CN=Address Lists Container,CN=Syracuse University,CN=Microsoft Exchange,CN=Services,CN=Configuration,DC=ad,DC=syr,DC=edu',\n",
       "  'CN=GAL_StuFacStaff,CN=All Global Address Lists,CN=Address Lists Container,CN=Syracuse University,CN=Microsoft Exchange,CN=Services,CN=Configuration,DC=ad,DC=syr,DC=edu'],\n",
       " 'userPrincipalName': 'mafudge@syr.edu',\n",
       " 'lockoutTime': None,\n",
       " 'lastLogonTimestamp': '<= 14 days',\n",
       " 'mail': 'mafudge@syr.edu',\n",
       " 'departmentNumber': '21901-5040',\n",
       " 'thumbnailPhoto': b'\\xff\\xd8\\xff\\xe0\\x00\\x10JFIF\\x00\\x01\\x01\\x01\\x00`\\x00`\\x00\\x00\\xff\\xdb\\x00C\\x00\\x08\\x06\\x06\\x07\\x06\\x05\\x08\\x07\\x07\\x07\\t\\t\\x08\\n\\x0c\\x14\\r\\x0c\\x0b\\x0b\\x0c\\x19\\x12\\x13\\x0f\\x14\\x1d\\x1a\\x1f\\x1e\\x1d\\x1a\\x1c\\x1c $.\\' \",#\\x1c\\x1c(7),01444\\x1f\\'9=82<.342\\xff\\xdb\\x00C\\x01\\t\\t\\t\\x0c\\x0b\\x0c\\x18\\r\\r\\x182!\\x1c!22222222222222222222222222222222222222222222222222\\xff\\xc0\\x00\\x11\\x08\\x00@\\x00@\\x03\\x01\"\\x00\\x02\\x11\\x01\\x03\\x11\\x01\\xff\\xc4\\x00\\x1f\\x00\\x00\\x01\\x05\\x01\\x01\\x01\\x01\\x01\\x01\\x00\\x00\\x00\\x00\\x00\\x00\\x00\\x00\\x01\\x02\\x03\\x04\\x05\\x06\\x07\\x08\\t\\n\\x0b\\xff\\xc4\\x00\\xb5\\x10\\x00\\x02\\x01\\x03\\x03\\x02\\x04\\x03\\x05\\x05\\x04\\x04\\x00\\x00\\x01}\\x01\\x02\\x03\\x00\\x04\\x11\\x05\\x12!1A\\x06\\x13Qa\\x07\"q\\x142\\x81\\x91\\xa1\\x08#B\\xb1\\xc1\\x15R\\xd1\\xf0$3br\\x82\\t\\n\\x16\\x17\\x18\\x19\\x1a%&\\'()*456789:CDEFGHIJSTUVWXYZcdefghijstuvwxyz\\x83\\x84\\x85\\x86\\x87\\x88\\x89\\x8a\\x92\\x93\\x94\\x95\\x96\\x97\\x98\\x99\\x9a\\xa2\\xa3\\xa4\\xa5\\xa6\\xa7\\xa8\\xa9\\xaa\\xb2\\xb3\\xb4\\xb5\\xb6\\xb7\\xb8\\xb9\\xba\\xc2\\xc3\\xc4\\xc5\\xc6\\xc7\\xc8\\xc9\\xca\\xd2\\xd3\\xd4\\xd5\\xd6\\xd7\\xd8\\xd9\\xda\\xe1\\xe2\\xe3\\xe4\\xe5\\xe6\\xe7\\xe8\\xe9\\xea\\xf1\\xf2\\xf3\\xf4\\xf5\\xf6\\xf7\\xf8\\xf9\\xfa\\xff\\xc4\\x00\\x1f\\x01\\x00\\x03\\x01\\x01\\x01\\x01\\x01\\x01\\x01\\x01\\x01\\x00\\x00\\x00\\x00\\x00\\x00\\x01\\x02\\x03\\x04\\x05\\x06\\x07\\x08\\t\\n\\x0b\\xff\\xc4\\x00\\xb5\\x11\\x00\\x02\\x01\\x02\\x04\\x04\\x03\\x04\\x07\\x05\\x04\\x04\\x00\\x01\\x02w\\x00\\x01\\x02\\x03\\x11\\x04\\x05!1\\x06\\x12AQ\\x07aq\\x13\"2\\x81\\x08\\x14B\\x91\\xa1\\xb1\\xc1\\t#3R\\xf0\\x15br\\xd1\\n\\x16$4\\xe1%\\xf1\\x17\\x18\\x19\\x1a&\\'()*56789:CDEFGHIJSTUVWXYZcdefghijstuvwxyz\\x82\\x83\\x84\\x85\\x86\\x87\\x88\\x89\\x8a\\x92\\x93\\x94\\x95\\x96\\x97\\x98\\x99\\x9a\\xa2\\xa3\\xa4\\xa5\\xa6\\xa7\\xa8\\xa9\\xaa\\xb2\\xb3\\xb4\\xb5\\xb6\\xb7\\xb8\\xb9\\xba\\xc2\\xc3\\xc4\\xc5\\xc6\\xc7\\xc8\\xc9\\xca\\xd2\\xd3\\xd4\\xd5\\xd6\\xd7\\xd8\\xd9\\xda\\xe2\\xe3\\xe4\\xe5\\xe6\\xe7\\xe8\\xe9\\xea\\xf2\\xf3\\xf4\\xf5\\xf6\\xf7\\xf8\\xf9\\xfa\\xff\\xda\\x00\\x0c\\x03\\x01\\x00\\x02\\x11\\x03\\x11\\x00?\\x00\\xcc\\x11\\xf3\\xf8\\n\\x99#\\xa7\\x84\\xe4}\\x05XD\\xf6\\xa0\\n\\xd2\\xbcv\\xd0\\x99em\\xa88\\xce:\\x93\\xd0\\x01\\xdc\\xfbVU\\xec\\x9a\\xf4\\xa0\\x9b\\x0bx`\\x8f\\x1c4\\xa3s\\x9f\\xc3\\xa0\\xfdkn\\xd6\\xd7\\xed\\xde$Tq\\x98\\xad!\\xde\\xa0\\xf4\\xde\\xc7\\xaf\\xe0\\x07\\xeak\\xa5\\x9a\\xca\\x05\\x8f\\x86\\x04P\\x07\\x94\\x1do\\xc4:kf\\xf2\\x1b{\\x95\\x1dWn\\xc6\\xfc\\xc7\\x1f\\xa5tz&\\xb7e\\xaeB\\xcdnY&\\x8f\\xfdd\\x0f\\xf7\\x93\\xfcG\\xbd?_\\xb4\\x8d\\xb2\\xcb\\x82@#\\x15\\xc0\\xe9m&\\x99\\xe2\\xdb;\\x94\\xf9RI\\xc4R\\x01\\xddX\\xe0\\xd0\\x07\\xa7\\x98\\xe8X\\xbeu\\xfa\\xd5\\xc3\\t\\x07\\x18\\xa4X\\xfeu\\xfa\\xd0\\x05\\x15_\\x98}\\x05Y\\x8d)\\x8a\\xbf0\\xfa\\x0f\\xe5V\\xe3Z\\x00\\xaa\\x8d5\\x95\\xe4\\xf7\\x11D\\xad\\xbc\"\\xe5\\x819\\xeb\\xd8{\\xd5\\xbb]}\\xa5\\xd1\\xaeo&\\xb3\\x8d\\x1e\\x13\\xf7v\\x95\\xcfn\\x86\\xae[y\\x0b\\xe6\\x19\\xdfj\\x84\\xdd\\x9a\\xcf\\xd7\\x19d\\xd1\\xe6X\\xb2\\x1c\\x85;@$\\x9e\\x7f\\x9d\\x00s\\xba\\xac\\x9a\\x8d\\xd1A(!e\\x1b\\x83G\\x10\\x08\\xbc\\xfd\\xd3\\xdf5\\xcb_\\xd8\\xb8\\xd4m\\xca\\x90\\xa5\\\\3\\x1e\\xb8 \\x82+\\xd0\\xb4\\xab\\xb8.4\\xf7\\xb6\\x9e6I\\x80\\xc2\\x1ccp\\xed\\xf45\\xc7\\xcb\\x04\\xd7\\x1a\\xbcv\\xca~y\\x1bb\\x93\\xdf\\xb0\\xa0\\x0e\\xfe\\xd6F\\xba\\xb2\\x86\\xe1\\x94\\x06\\x91\\x03\\x10:\\x03Rl\\xf9\\xd7\\xebR\\xc1l-\\xad\\xa2\\x81NDj\\x17>\\xb8\\xa7m\\xf9\\xd7\\xeb@\\x19(>o\\xc0U\\xc8\\xc5U_\\xbc>\\x83\\xf9S\\xa7\\xbc[h\\xc9\\xda]\\xc0\\xc8Q@\\x17\\x9a \\xe9\\xca\\xee\\x1d\\xc5\\x16\\xd1=\\xb4s\\xb0d\\xb8\\x86@\\x08\\x133\\x02\\x87\\xd8\\x83\\xd2\\xb3\\r\\xdd\\xc1\\x8d\\x9aG\\xd8\\xa0\\x80Bq\\xfa\\xd4Zf\\xb1$\\x90M\\x18\\xb7\\x12\\x18\\x88\\xce\\xe3\\xd8\\xe7\\xf9b\\x80*\\xb3\\xae\\x97y%\\xec\\xf8\\'\\x1bQ\\x06q\\xed\\xd6\\xb8\\xedJ\\xea\\xe1\\x99\\xe7\\xb5\\x91\\x92u F\\xeay\\x0f\\x9e\\xa3\\xf1\\xad\\xfdN\\xde\\xf3T\\xb9;b1\\xc4\\xbc\\xd6{\\xd9}\\x98\\x04#2v\\x1e\\x9f\\xfdz\\x00\\xf4-\\x1fP]WK\\x8a\\xe8\\x11\\xbc\\x8d\\xb2\\x81\\xd9\\xc7_\\xf1\\xfcj\\xe0\\x1f:\\xfdk\\xcf,\\x85\\xf5\\x84\\xbfi\\xb2b\\x1dp\\x19?\\x85\\xf2z\\x11]\\x96\\x9d\\xacE|\\xeb\\x14\\x88m\\xee\\xb23\\x0b\\xf7\\xff\\x00t\\xf7\\x1f\\xad\\x00U\\r\\x8eO`?\\x955c.\\x9b\\xc8\\xf9\\x98\\xf4\\xa8\\xd9\\xf0T\\x7fx\\x80*\\xeck\\x94\\\\\\x8c\\x1f\\xe5@\\x10\\xbe\\x9f\\x15\\xd1\\x8df\\xc9\\x89\\x08a\\x1f\\xf7\\x98\\x1c\\x82~\\x9e\\x9e\\xb5\\x1d\\xbd\\x92\\xdak\\xc5\\x94\\xf9qHB\\x9d\\xdft\\x86\\xe8O\\xe3\\xc5i\\xa2`z\\xd3. \\x17n u>PO\\x9d\\x81\\xc1\\xf6\\x02\\x80(j\\xf7SO4\\xfan\\x98\\xa8<\\xa6)5\\xda\\x1c\\xa8=\\xd5\\x0fs\\xefY\\xd7:<\\xb6\\xea\\xb3\\xbb\\x07-\\xc1\\xe3\\x90k\\xa6\\x86\\xde\\x18\"\\x8e8QQ\\x13\\xa2\\x81Ir\\xben\\xc8\\xfd[?\\x95\\x00s\\xb60\\xef\\x91\\xc1\\xfb\\xaa\\x9b\\xdb\\xf9\\x0f\\xeai\\xba\\x8e\\x9f\\xe6\\xc6\\xac\\xbb\\xb7\\xabn\\x0c\\x0fCZP\\xa0[{\\x99\\xd1C\\x19.\\n\"\\xfa\\xed\\xf9T~c54\\xea\\xb1F\\xa8>g\\x04\\x01\\xea\\xcch\\x03\\xff\\xd9',\n",
       " 'msExchRecipientTypeDetails': 1,\n",
       " 'disabled': False,\n",
       " 'passwordExpired': False,\n",
       " 'passwordNeverExpires': False,\n",
       " 'smartcardRequired': False,\n",
       " 'remoteExchangeMailbox': False,\n",
       " 'exchangeMailbox': True,\n",
       " 'exchangeMailboxType': 'User Mailbox'}"
      ]
     },
     "execution_count": 34,
     "metadata": {},
     "output_type": "execute_result"
    }
   ],
   "source": [
    "user"
   ]
  },
  {
   "cell_type": "code",
   "execution_count": 37,
   "metadata": {},
   "outputs": [
    {
     "data": {
      "text/html": [
       "<script>\n",
       "code_show=true; \n",
       "function code_toggle() {\n",
       " if (code_show){\n",
       " $('div.input').hide();\n",
       " } else {\n",
       " $('div.input').show();\n",
       " }\n",
       " code_show = !code_show\n",
       "} \n",
       "$( document ).ready(code_toggle);\n",
       "</script>\n",
       "<form action=\"javascript:code_toggle()\"><input type=\"submit\" value=\"Click here to toggle on/off the raw code.\"></form>"
      ],
      "text/plain": [
       "<IPython.core.display.HTML object>"
      ]
     },
     "execution_count": 37,
     "metadata": {},
     "output_type": "execute_result"
    }
   ],
   "source": [
    "from IPython.display import HTML\n",
    "\n",
    "HTML('''<script>\n",
    "code_show=true; \n",
    "function code_toggle() {\n",
    " if (code_show){\n",
    " $('div.input').hide();\n",
    " } else {\n",
    " $('div.input').show();\n",
    " }\n",
    " code_show = !code_show\n",
    "} \n",
    "$( document ).ready(code_toggle);\n",
    "</script>\n",
    "<form action=\"javascript:code_toggle()\"><input type=\"submit\" value=\"Click here to toggle on/off the raw code.\"></form>''')"
   ]
  },
  {
   "cell_type": "code",
   "execution_count": null,
   "metadata": {},
   "outputs": [],
   "source": []
  }
 ],
 "metadata": {
  "kernelspec": {
   "display_name": "Python 3",
   "language": "python",
   "name": "python3"
  },
  "language_info": {
   "codemirror_mode": {
    "name": "ipython",
    "version": 3
   },
   "file_extension": ".py",
   "mimetype": "text/x-python",
   "name": "python",
   "nbconvert_exporter": "python",
   "pygments_lexer": "ipython3",
   "version": "3.7.3"
  }
 },
 "nbformat": 4,
 "nbformat_minor": 2
}
