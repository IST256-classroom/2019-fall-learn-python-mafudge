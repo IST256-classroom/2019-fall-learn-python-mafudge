{
 "cells": [
  {
   "cell_type": "code",
   "execution_count": 32,
   "metadata": {},
   "outputs": [],
   "source": [
    "import IPython.display as ipd\n"
   ]
  },
  {
   "cell_type": "code",
   "execution_count": 33,
   "metadata": {},
   "outputs": [
    {
     "name": "stdout",
     "output_type": "stream",
     "text": [
      "Some audio. Plays back by Url. Useful for playing audio tracks etc.\n"
     ]
    },
    {
     "data": {
      "text/html": [
       "\n",
       "                <audio  controls=\"controls\" >\n",
       "                    <source src=\"https://file-examples.com/wp-content/uploads/2017/11/file_example_MP3_700KB.mp3\" type=\"audio/mpeg\" />\n",
       "                    Your browser does not support the audio element.\n",
       "                </audio>\n",
       "              "
      ],
      "text/plain": [
       "<IPython.lib.display.Audio object>"
      ]
     },
     "execution_count": 33,
     "metadata": {},
     "output_type": "execute_result"
    }
   ],
   "source": [
    "print(\"Some audio. Plays back by Url. Useful for playing audio tracks etc.\")\n",
    "ipd.Audio(url=\"https://file-examples.com/wp-content/uploads/2017/11/file_example_MP3_700KB.mp3\", autoplay=False)"
   ]
  },
  {
   "cell_type": "code",
   "execution_count": 34,
   "metadata": {},
   "outputs": [
    {
     "name": "stdout",
     "output_type": "stream",
     "text": [
      "A Youtube Video by ID. A Url to a youtube video or any video for that matter!\n"
     ]
    },
    {
     "data": {
      "image/jpeg": "[encoded data removed]",
      "text/html": [
       "\n",
       "        <iframe\n",
       "            width=\"400\"\n",
       "            height=\"300\"\n",
       "            src=\"https://www.youtube.com/embed/9aOAdyffJBU\"\n",
       "            frameborder=\"0\"\n",
       "            allowfullscreen\n",
       "        ></iframe>\n",
       "        "
      ],
      "text/plain": [
       "<IPython.lib.display.YouTubeVideo at 0x7f0371295e80>"
      ]
     },
     "execution_count": 34,
     "metadata": {},
     "output_type": "execute_result"
    }
   ],
   "source": [
    "print(\"A Youtube Video by ID. A Url to a youtube video or any video for that matter!\")\n",
    "ipd.YouTubeVideo(\"9aOAdyffJBU\")"
   ]
  },
  {
   "cell_type": "code",
   "execution_count": 35,
   "metadata": {},
   "outputs": [
    {
     "ename": "SyntaxError",
     "evalue": "EOL while scanning string literal (<ipython-input-35-07d0ba1fc0e8>, line 1)",
     "output_type": "error",
     "traceback": [
      "\u001b[0;36m  File \u001b[0;32m\"<ipython-input-35-07d0ba1fc0e8>\"\u001b[0;36m, line \u001b[0;32m1\u001b[0m\n\u001b[0;31m    print(\"An Image. The image can come from a URL or can be a local file in your notebook folder.)\u001b[0m\n\u001b[0m                                                                                                   ^\u001b[0m\n\u001b[0;31mSyntaxError\u001b[0m\u001b[0;31m:\u001b[0m EOL while scanning string literal\n"
     ]
    }
   ],
   "source": [
    "print(\"An Image. The image can come from a URL or can be a local file in your notebook folder.)\n",
    "ipd.Image(url=\"https://www.abc.net.au/news/image/10572938-3x2-940x627.jpg\", width=940//4, height=627/4)"
   ]
  },
  {
   "cell_type": "code",
   "execution_count": 36,
   "metadata": {},
   "outputs": [
    {
     "name": "stdout",
     "output_type": "stream",
     "text": [
      "Some HTML. You can get the HTML from another website or generate it yourself.\n"
     ]
    },
    {
     "data": {
      "text/html": [
       "<h3>Text!</h3><p>This is some <span style='color:blue;'>blue</span> text.<p>Anoher <b>line of text</b>"
      ],
      "text/plain": [
       "<IPython.core.display.HTML object>"
      ]
     },
     "metadata": {},
     "output_type": "display_data"
    }
   ],
   "source": [
    "print(\"Some HTML. You can get the HTML from another website or generate it yourself.\")\n",
    "html = ipd.HTML(\"<h3>Text!</h3><p>This is some <span style='color:blue;'>blue</span> text.<p>Anoher <b>line of text</b>\")\n",
    "ipd.display(html)"
   ]
  },
  {
   "cell_type": "code",
   "execution_count": 41,
   "metadata": {},
   "outputs": [
    {
     "name": "stdout",
     "output_type": "stream",
     "text": [
      "An IFRAME (embed another website). This is useful for applications with links to other sites.\n"
     ]
    },
    {
     "data": {
      "text/html": [
       "\n",
       "        <iframe\n",
       "            width=\"640\"\n",
       "            height=\"300\"\n",
       "            src=\"https://ist256.github.io/\"\n",
       "            frameborder=\"0\"\n",
       "            allowfullscreen\n",
       "        ></iframe>\n",
       "        "
      ],
      "text/plain": [
       "<IPython.lib.display.IFrame at 0x7f0370dc7be0>"
      ]
     },
     "execution_count": 41,
     "metadata": {},
     "output_type": "execute_result"
    }
   ],
   "source": [
    "print(\"An IFRAME (embed another website). This is useful for applications with links to other sites.\")\n",
    "ipd.IFrame(src=\"https://ist256.github.io/\", width=640, height=300)"
   ]
  },
  {
   "cell_type": "code",
   "execution_count": 39,
   "metadata": {},
   "outputs": [
    {
     "name": "stdout",
     "output_type": "stream",
     "text": [
      "You can combine several together, by calling the display() function !\n"
     ]
    },
    {
     "data": {
      "text/html": [
       "<h3><b>Ding!</b> Fries are done!</h3>"
      ],
      "text/plain": [
       "<IPython.core.display.HTML object>"
      ]
     },
     "metadata": {},
     "output_type": "display_data"
    },
    {
     "data": {
      "text/plain": [
       "None"
      ]
     },
     "metadata": {},
     "output_type": "display_data"
    },
    {
     "data": {
      "text/html": [
       "<img src=\"https://vignette.wikia.nocookie.net/familyguy/images/5/56/Ding_Fries_are_Done.jpg\"/>"
      ],
      "text/plain": [
       "<IPython.core.display.Image object>"
      ]
     },
     "metadata": {},
     "output_type": "display_data"
    },
    {
     "data": {
      "text/html": [
       "\n",
       "                <audio  controls=\"controls\" autoplay=\"autoplay\">\n",
       "                    <source src=\"http://www.mscs.mu.edu/~mikes/174/demos/Win98sounds/DING.WAV\" type=\"audio/x-wav\" />\n",
       "                    Your browser does not support the audio element.\n",
       "                </audio>\n",
       "              "
      ],
      "text/plain": [
       "<IPython.lib.display.Audio object>"
      ]
     },
     "metadata": {},
     "output_type": "display_data"
    }
   ],
   "source": [
    "print(\"You can combine several together, by calling the display() function !\")\n",
    "ding = \"http://www.mscs.mu.edu/~mikes/174/demos/Win98sounds/DING.WAV\"\n",
    "photo = \"https://vignette.wikia.nocookie.net/familyguy/images/5/56/Ding_Fries_are_Done.jpg\"\n",
    "html = ipd.HTML(\"<h3><b>Ding!</b> Fries are done!</h3>\")\n",
    "ipd.display(ipd.display(html))\n",
    "ipd.display(ipd.Image(url=photo))\n",
    "ipd.display(ipd.Audio(url=ding, autoplay=True))\n"
   ]
  },
  {
   "cell_type": "code",
   "execution_count": null,
   "metadata": {},
   "outputs": [],
   "source": []
  }
 ],
 "metadata": {
  "kernelspec": {
   "display_name": "Python 3",
   "language": "python",
   "name": "python3"
  },
  "language_info": {
   "codemirror_mode": {
    "name": "ipython",
    "version": 3
   },
   "file_extension": ".py",
   "mimetype": "text/x-python",
   "name": "python",
   "nbconvert_exporter": "python",
   "pygments_lexer": "ipython3",
   "version": "3.7.3"
  }
 },
 "nbformat": 4,
 "nbformat_minor": 2
}
