{
 "cells": [
  {
   "cell_type": "code",
   "execution_count": 7,
   "metadata": {},
   "outputs": [
    {
     "name": "stdout",
     "output_type": "stream",
     "text": [
      "this is unsaved\n"
     ]
    }
   ],
   "source": [
    "file = \"message.txt\"\n",
    "with open (file,'r') as inf:\n",
    "    info = inf.read()\n",
    "    \n",
    "print(info)"
   ]
  },
  {
   "cell_type": "code",
   "execution_count": 10,
   "metadata": {},
   "outputs": [
    {
     "name": "stdout",
     "output_type": "stream",
     "text": [
      "What should I write to this file? \n"
     ]
    }
   ],
   "source": [
    "file = \"message.txt\"\n",
    "with open(file, 'w') as outf:\n",
    "    text = input(\"What should I write to this file? \")\n",
    "    outf.write(text)"
   ]
  },
  {
   "cell_type": "code",
   "execution_count": 13,
   "metadata": {},
   "outputs": [
    {
     "name": "stdout",
     "output_type": "stream",
     "text": [
      "Enter name of file to save: dave\n",
      "What should I write to this file? Hi dave\n"
     ]
    }
   ],
   "source": [
    "file_to_save = input(\"Enter name of file to save: \") + \".txt\"\n",
    "with open(file_to_save, 'w') as outf:\n",
    "    text = input(\"What should I write to this file? \")\n",
    "    outf.write(text)"
   ]
  },
  {
   "cell_type": "code",
   "execution_count": 28,
   "metadata": {},
   "outputs": [
    {
     "name": "stdout",
     "output_type": "stream",
     "text": [
      "Count of Grades 20, Average is 80.65\n"
     ]
    }
   ],
   "source": [
    "filename = 'grades.txt'\n",
    "total = 0\n",
    "count = 0\n",
    "with open (filename, 'r') as inf:\n",
    "    for grade in inf:\n",
    "        total = total + int(grade)\n",
    "        count = count + 1\n",
    "        \n",
    "    print(f\"Count of Grades {count}, Average is {total/count}\")\n"
   ]
  },
  {
   "cell_type": "code",
   "execution_count": 22,
   "metadata": {},
   "outputs": [
    {
     "name": "stdout",
     "output_type": "stream",
     "text": [
      "Enter a grade to add or type QUIT to stop: 100\n",
      "Enter a grade to add or type QUIT to stop: 100\n",
      "Enter a grade to add or type QUIT to stop: 100\n",
      "Enter a grade to add or type QUIT to stop: 100\n",
      "Enter a grade to add or type QUIT to stop: quiyt\n"
     ]
    },
    {
     "ename": "ValueError",
     "evalue": "invalid literal for int() with base 10: 'quiyt'",
     "output_type": "error",
     "traceback": [
      "\u001b[0;31m---------------------------------------------------------------------------\u001b[0m",
      "\u001b[0;31mValueError\u001b[0m                                Traceback (most recent call last)",
      "\u001b[0;32m<ipython-input-22-f371445b07d6>\u001b[0m in \u001b[0;36m<module>\u001b[0;34m\u001b[0m\n\u001b[1;32m      5\u001b[0m             \u001b[0;32mbreak\u001b[0m\u001b[0;34m\u001b[0m\u001b[0;34m\u001b[0m\u001b[0m\n\u001b[1;32m      6\u001b[0m \u001b[0;34m\u001b[0m\u001b[0m\n\u001b[0;32m----> 7\u001b[0;31m         \u001b[0mgrade\u001b[0m \u001b[0;34m=\u001b[0m \u001b[0mint\u001b[0m\u001b[0;34m(\u001b[0m\u001b[0mtext\u001b[0m\u001b[0;34m)\u001b[0m\u001b[0;34m\u001b[0m\u001b[0;34m\u001b[0m\u001b[0m\n\u001b[0m\u001b[1;32m      8\u001b[0m         \u001b[0moutf\u001b[0m\u001b[0;34m.\u001b[0m\u001b[0mwrite\u001b[0m\u001b[0;34m(\u001b[0m\u001b[0;34mf\"{grade}\\n\"\u001b[0m\u001b[0;34m)\u001b[0m\u001b[0;34m\u001b[0m\u001b[0;34m\u001b[0m\u001b[0m\n\u001b[1;32m      9\u001b[0m \u001b[0;34m\u001b[0m\u001b[0m\n",
      "\u001b[0;31mValueError\u001b[0m: invalid literal for int() with base 10: 'quiyt'"
     ]
    }
   ],
   "source": [
    "with open (filename, 'a') as outf:\n",
    "    while True:\n",
    "        text = input(\"Enter a grade to add or type QUIT to stop: \")\n",
    "        if text.upper() == 'QUIT':\n",
    "            break\n",
    "            \n",
    "        grade = int(text)\n",
    "        outf.write(f\"{grade}\\n\")\n",
    "        \n",
    "            "
   ]
  },
  {
   "cell_type": "markdown",
   "metadata": {},
   "source": [
    "INPUT: A beer name for example: Blue Moon Belgin White\n",
    "OUTPUT: Number of calories, example: 164\n",
    "\n",
    "input a beer to search\n",
    "for each line in the file\n",
    "        extract beer name\n",
    "        extract calories\n",
    "        if extracted beer name == search\n",
    "            print calories"
   ]
  },
  {
   "cell_type": "code",
   "execution_count": 37,
   "metadata": {},
   "outputs": [
    {
     "name": "stdout",
     "output_type": "stream",
     "text": [
      "Blatz Beer\n",
      "153\n"
     ]
    }
   ],
   "source": [
    "text = \"Blatz Beer,153\"\n",
    "beer = text[:text.find(\",\")]\n",
    "calories = text[text.find(\",\")+1:]\n",
    "print(beer)\n",
    "print(calories)"
   ]
  },
  {
   "cell_type": "code",
   "execution_count": 50,
   "metadata": {},
   "outputs": [
    {
     "name": "stdout",
     "output_type": "stream",
     "text": [
      "Enter the beer you just drank: Friendly Tom's CBD Lager\n",
      "Could not find your beer Friendly Tom's CBD Lager\n"
     ]
    }
   ],
   "source": [
    "search = input(\"Enter the beer you just drank: \")\n",
    "with open ('beers.txt') as f:\n",
    "    for line in f:\n",
    "        comma = line.find(\",\")\n",
    "        beer = line[:comma]\n",
    "        calories = line[comma+1:].strip()\n",
    "        if beer == search:\n",
    "            print(f\"There are {calories} calories in one 12oz serving of {beer}.\")\n",
    "            break            \n",
    "    else:\n",
    "        print(f\"Could not find your beer {search}\")"
   ]
  },
  {
   "cell_type": "code",
   "execution_count": null,
   "metadata": {},
   "outputs": [],
   "source": []
  }
 ],
 "metadata": {
  "kernelspec": {
   "display_name": "Python 3",
   "language": "python",
   "name": "python3"
  },
  "language_info": {
   "codemirror_mode": {
    "name": "ipython",
    "version": 3
   },
   "file_extension": ".py",
   "mimetype": "text/x-python",
   "name": "python",
   "nbconvert_exporter": "python",
   "pygments_lexer": "ipython3",
   "version": "3.7.3"
  }
 },
 "nbformat": 4,
 "nbformat_minor": 2
}
