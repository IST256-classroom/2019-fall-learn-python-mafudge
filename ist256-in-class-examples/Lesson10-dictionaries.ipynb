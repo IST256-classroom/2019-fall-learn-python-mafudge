{
 "cells": [
  {
   "cell_type": "code",
   "execution_count": 1,
   "metadata": {},
   "outputs": [
    {
     "name": "stdout",
     "output_type": "stream",
     "text": [
      "{'Name': 'Michael', 'GPA': 3.4, 'Ischool': True}\n"
     ]
    }
   ],
   "source": [
    "student = {} # empty dictionary\n",
    "# set some values\n",
    "student['Name'] = 'Michael'\n",
    "student['GPA'] = 3.4\n",
    "student['Ischool'] = True\n",
    "\n",
    "print(student)"
   ]
  },
  {
   "cell_type": "code",
   "execution_count": 2,
   "metadata": {},
   "outputs": [
    {
     "name": "stdout",
     "output_type": "stream",
     "text": [
      "Michael 4.0\n"
     ]
    }
   ],
   "source": [
    "# mutable\n",
    "student['GPA'] = 4.0\n",
    "print(student['Name'], student['GPA'])"
   ]
  },
  {
   "cell_type": "code",
   "execution_count": 3,
   "metadata": {},
   "outputs": [
    {
     "ename": "KeyError",
     "evalue": "'nfl_team'",
     "output_type": "error",
     "traceback": [
      "\u001b[0;31m---------------------------------------------------------------------------\u001b[0m",
      "\u001b[0;31mKeyError\u001b[0m                                  Traceback (most recent call last)",
      "\u001b[0;32m<ipython-input-3-ebbbc088c87a>\u001b[0m in \u001b[0;36m<module>\u001b[0;34m\u001b[0m\n\u001b[1;32m      1\u001b[0m \u001b[0;31m# Key rrror\u001b[0m\u001b[0;34m\u001b[0m\u001b[0;34m\u001b[0m\u001b[0;34m\u001b[0m\u001b[0m\n\u001b[0;32m----> 2\u001b[0;31m \u001b[0mstudent\u001b[0m\u001b[0;34m[\u001b[0m\u001b[0;34m'nfl_team'\u001b[0m\u001b[0;34m]\u001b[0m\u001b[0;34m\u001b[0m\u001b[0;34m\u001b[0m\u001b[0m\n\u001b[0m",
      "\u001b[0;31mKeyError\u001b[0m: 'nfl_team'"
     ]
    }
   ],
   "source": [
    "# Key rrror\n",
    "student['nfl_team']"
   ]
  },
  {
   "cell_type": "code",
   "execution_count": 4,
   "metadata": {},
   "outputs": [
    {
     "ename": "KeyError",
     "evalue": "2",
     "output_type": "error",
     "traceback": [
      "\u001b[0;31m---------------------------------------------------------------------------\u001b[0m",
      "\u001b[0;31mKeyError\u001b[0m                                  Traceback (most recent call last)",
      "\u001b[0;32m<ipython-input-4-59f1f8a11a48>\u001b[0m in \u001b[0;36m<module>\u001b[0;34m\u001b[0m\n\u001b[1;32m      2\u001b[0m \u001b[0ma\u001b[0m \u001b[0;34m=\u001b[0m \u001b[0;34m{\u001b[0m\u001b[0;34m\"a\"\u001b[0m\u001b[0;34m:\u001b[0m \u001b[0;34m\"b\"\u001b[0m\u001b[0;34m,\u001b[0m \u001b[0;34m\"x\"\u001b[0m\u001b[0;34m:\u001b[0m \u001b[0;34m\"y\"\u001b[0m\u001b[0;34m,\u001b[0m \u001b[0;34m\"2\"\u001b[0m\u001b[0;34m:\u001b[0m \u001b[0;36m2\u001b[0m\u001b[0;34m}\u001b[0m\u001b[0;34m\u001b[0m\u001b[0;34m\u001b[0m\u001b[0m\n\u001b[1;32m      3\u001b[0m \u001b[0;34m\u001b[0m\u001b[0m\n\u001b[0;32m----> 4\u001b[0;31m \u001b[0mprint\u001b[0m\u001b[0;34m(\u001b[0m\u001b[0ma\u001b[0m\u001b[0;34m[\u001b[0m\u001b[0;36m2\u001b[0m\u001b[0;34m]\u001b[0m\u001b[0;34m)\u001b[0m\u001b[0;34m\u001b[0m\u001b[0;34m\u001b[0m\u001b[0m\n\u001b[0m",
      "\u001b[0;31mKeyError\u001b[0m: 2"
     ]
    }
   ],
   "source": [
    "#check yourself 1 ... keyerror\n",
    "a = {\"a\": \"b\", \"x\": \"y\", \"2\": 2}\n",
    "\n",
    "print(a[2])\n"
   ]
  },
  {
   "cell_type": "code",
   "execution_count": 8,
   "metadata": {},
   "outputs": [
    {
     "name": "stdout",
     "output_type": "stream",
     "text": [
      "4.0\n"
     ]
    },
    {
     "ename": "KeyError",
     "evalue": "'gpa'",
     "output_type": "error",
     "traceback": [
      "\u001b[0;31m---------------------------------------------------------------------------\u001b[0m",
      "\u001b[0;31mKeyError\u001b[0m                                  Traceback (most recent call last)",
      "\u001b[0;32m<ipython-input-8-47be670e0bc6>\u001b[0m in \u001b[0;36m<module>\u001b[0;34m\u001b[0m\n\u001b[1;32m      2\u001b[0m \u001b[0mprint\u001b[0m\u001b[0;34m(\u001b[0m\u001b[0mstudent\u001b[0m\u001b[0;34m[\u001b[0m\u001b[0;34m'GPA'\u001b[0m\u001b[0;34m]\u001b[0m\u001b[0;34m)\u001b[0m\u001b[0;34m\u001b[0m\u001b[0;34m\u001b[0m\u001b[0m\n\u001b[1;32m      3\u001b[0m \u001b[0;31m# key error\u001b[0m\u001b[0;34m\u001b[0m\u001b[0;34m\u001b[0m\u001b[0;34m\u001b[0m\u001b[0m\n\u001b[0;32m----> 4\u001b[0;31m \u001b[0mprint\u001b[0m\u001b[0;34m(\u001b[0m\u001b[0mstudent\u001b[0m\u001b[0;34m[\u001b[0m\u001b[0;34m'gpa'\u001b[0m\u001b[0;34m]\u001b[0m\u001b[0;34m)\u001b[0m\u001b[0;34m\u001b[0m\u001b[0;34m\u001b[0m\u001b[0m\n\u001b[0m",
      "\u001b[0;31mKeyError\u001b[0m: 'gpa'"
     ]
    }
   ],
   "source": [
    "# keys must match exactly\n",
    "print(student['GPA'])\n",
    "# key error\n",
    "print(student['gpa'])"
   ]
  },
  {
   "cell_type": "code",
   "execution_count": 9,
   "metadata": {},
   "outputs": [
    {
     "name": "stdout",
     "output_type": "stream",
     "text": [
      "The key \"Age\" does not exist.\n"
     ]
    }
   ],
   "source": [
    "# handle key error with try... except\n",
    "try:\n",
    "    print(student['Age'])\n",
    "except KeyError:\n",
    "    print('The key \"Age\" does not exist.')"
   ]
  },
  {
   "cell_type": "code",
   "execution_count": 10,
   "metadata": {},
   "outputs": [
    {
     "data": {
      "text/plain": [
       "dict_keys(['Name', 'GPA', 'Ischool'])"
      ]
     },
     "execution_count": 10,
     "metadata": {},
     "output_type": "execute_result"
    }
   ],
   "source": [
    "student.keys()"
   ]
  },
  {
   "cell_type": "code",
   "execution_count": 13,
   "metadata": {},
   "outputs": [
    {
     "name": "stdout",
     "output_type": "stream",
     "text": [
      " Name =====> Michael\n",
      " GPA =====> 4.0\n",
      " Ischool =====> True\n"
     ]
    }
   ],
   "source": [
    "for key in student.keys():\n",
    "    print(f\" {key} =====> {student[key]}\")"
   ]
  },
  {
   "cell_type": "code",
   "execution_count": 15,
   "metadata": {},
   "outputs": [
    {
     "name": "stdout",
     "output_type": "stream",
     "text": [
      "dict_keys(['Name', 'GPA', 'Ischool', 'nfl_team'])\n",
      "dict_keys(['Name', 'GPA', 'Ischool'])\n"
     ]
    }
   ],
   "source": [
    "# add a key\n",
    "student['nfl_team'] = 'Cowboys'\n",
    "print(student.keys())\n",
    "# delete key\n",
    "del student['nfl_team']\n",
    "print(student.keys())"
   ]
  },
  {
   "cell_type": "code",
   "execution_count": 16,
   "metadata": {},
   "outputs": [
    {
     "name": "stdout",
     "output_type": "stream",
     "text": [
      "[{'Name': 'bob', 'GPA': 3.4, 'Ischool': True}, {'Name': 'sue', 'GPA': 2.8, 'Ischool': True}, {'Name': 'kent', 'GPA': 4.0, 'Ischool': False}]\n"
     ]
    }
   ],
   "source": [
    "# lists of dictionaries... builds a data table\n",
    "students = [ \n",
    " { 'Name':'bob','GPA':3.4, 'Ischool' : True },\n",
    " { 'Name':'sue','GPA':2.8, 'Ischool' : True },\n",
    " { 'Name':'kent','GPA':4.0, 'Ischool' : False }\n",
    "]\n",
    "print(students)"
   ]
  },
  {
   "cell_type": "code",
   "execution_count": 17,
   "metadata": {},
   "outputs": [
    {
     "data": {
      "text/plain": [
       "list"
      ]
     },
     "execution_count": 17,
     "metadata": {},
     "output_type": "execute_result"
    }
   ],
   "source": [
    "type(students) #list"
   ]
  },
  {
   "cell_type": "code",
   "execution_count": 18,
   "metadata": {},
   "outputs": [
    {
     "data": {
      "text/plain": [
       "dict"
      ]
     },
     "execution_count": 18,
     "metadata": {},
     "output_type": "execute_result"
    }
   ],
   "source": [
    "type(students[0]) #dict"
   ]
  },
  {
   "cell_type": "code",
   "execution_count": 19,
   "metadata": {},
   "outputs": [
    {
     "data": {
      "text/plain": [
       "str"
      ]
     },
     "execution_count": 19,
     "metadata": {},
     "output_type": "execute_result"
    }
   ],
   "source": [
    "type(students[0]['Name']) #str"
   ]
  },
  {
   "cell_type": "code",
   "execution_count": 20,
   "metadata": {},
   "outputs": [
    {
     "data": {
      "text/plain": [
       "'bob'"
      ]
     },
     "execution_count": 20,
     "metadata": {},
     "output_type": "execute_result"
    }
   ],
   "source": [
    "students[0]['Name']"
   ]
  },
  {
   "cell_type": "code",
   "execution_count": 21,
   "metadata": {},
   "outputs": [
    {
     "name": "stdout",
     "output_type": "stream",
     "text": [
      " bob, 3.4\n",
      " sue, 2.8\n"
     ]
    }
   ],
   "source": [
    "# print names and GPA's of just ischool students:\n",
    "for student in students:    # list \n",
    "    if student['Ischool']:  # == True is not necessary\n",
    "        print(f\" {student['Name']}, {student['GPA']}\")"
   ]
  },
  {
   "cell_type": "code",
   "execution_count": 30,
   "metadata": {},
   "outputs": [
    {
     "name": "stdout",
     "output_type": "stream",
     "text": [
      "Grades for: bob\n",
      "70,80,80,100,\b\n",
      "Grades for: Tom\n",
      "90,90,100,\b\n",
      "Grades for: Jerry\n",
      "50,30,30,\b\n"
     ]
    }
   ],
   "source": [
    "# a more complicated structure\n",
    "students = [\n",
    "    {\"Name\": \"bob\", \"age\": 18, \"grades\": [70, 80, 80, 100]},\n",
    "    {\"Name\": \"Tom\", \"age\": 20, \"grades\": [90, 90, 100]},\n",
    "    {\"Name\": \"Jerry\", \"age\": 19, \"grades\": [50, 30, 30]}\n",
    "]\n",
    "\n",
    "for student in students:\n",
    "    print(\"Grades for:\",student[\"Name\"])\n",
    "    for grade in student[\"grades\"]:\n",
    "        print(grade, end=\",\")\n",
    "    print(\"\\b\") # backspace... remove last comma"
   ]
  },
  {
   "cell_type": "code",
   "execution_count": 31,
   "metadata": {},
   "outputs": [
    {
     "name": "stdout",
     "output_type": "stream",
     "text": [
      "[\n",
      "    {\n",
      "        \"name\" : \"apple\",\n",
      "        \"price\" : 1.99\n",
      "    },\n",
      "    {\n",
      "        \"name\" : \"orange\",\n",
      "        \"price\" : 2.99\n",
      "    },\n",
      "    {\n",
      "        \"name\" : \"cherry\",\n",
      "        \"price\" : 0.49\n",
      "    }\n",
      "]\n"
     ]
    }
   ],
   "source": [
    "# json and serialization / de serialization\n",
    "\n",
    "with open ('produce.json','r') as f:\n",
    "    fruit = f.read()\n",
    "    \n",
    "print(fruit)"
   ]
  },
  {
   "cell_type": "code",
   "execution_count": 32,
   "metadata": {},
   "outputs": [
    {
     "data": {
      "text/plain": [
       "str"
      ]
     },
     "execution_count": 32,
     "metadata": {},
     "output_type": "execute_result"
    }
   ],
   "source": [
    "# this is only a string. hard to get at the cherry\n",
    "type(fruit)"
   ]
  },
  {
   "cell_type": "code",
   "execution_count": 34,
   "metadata": {},
   "outputs": [
    {
     "data": {
      "text/plain": [
       "[{'name': 'apple', 'price': 1.99},\n",
       " {'name': 'orange', 'price': 2.99},\n",
       " {'name': 'cherry', 'price': 0.49}]"
      ]
     },
     "execution_count": 34,
     "metadata": {},
     "output_type": "execute_result"
    }
   ],
   "source": [
    "# this de-serializes the text into an actual python object list of dict\n",
    "import json \n",
    "\n",
    "with open('produce.json','r') as f:\n",
    "    fruit = json.load(f)\n",
    "    \n",
    "fruit"
   ]
  },
  {
   "cell_type": "code",
   "execution_count": 35,
   "metadata": {},
   "outputs": [
    {
     "data": {
      "text/plain": [
       "0.49"
      ]
     },
     "execution_count": 35,
     "metadata": {},
     "output_type": "execute_result"
    }
   ],
   "source": [
    "# looks similar, but actually this is a list of dict!\n",
    "\n",
    "#get the cherry price\n",
    "fruit[2]['price']"
   ]
  },
  {
   "cell_type": "code",
   "execution_count": 36,
   "metadata": {},
   "outputs": [
    {
     "data": {
      "text/plain": [
       "(list, dict)"
      ]
     },
     "execution_count": 36,
     "metadata": {},
     "output_type": "execute_result"
    }
   ],
   "source": [
    "type(fruit), type(fruit[1])"
   ]
  },
  {
   "cell_type": "code",
   "execution_count": 37,
   "metadata": {},
   "outputs": [
    {
     "name": "stdout",
     "output_type": "stream",
     "text": [
      "[{'name': 'apple', 'price': 1.99}, {'name': 'orange', 'price': 2.99}, {'name': 'cherry', 'price': 0.49}, {'name': 'banana', 'price': 0.99}]\n"
     ]
    }
   ],
   "source": [
    "# we can add another dict, then re-write the file:\n",
    "new_item = { 'name' : 'banana', 'price' :0.99 }\n",
    "fruit.append(new_item)\n",
    "print(fruit)\n"
   ]
  },
  {
   "cell_type": "code",
   "execution_count": 39,
   "metadata": {},
   "outputs": [],
   "source": [
    "# open for writing and serialize the object back into a string\n",
    "with open('produce-new.json','w') as f:\n",
    "    json.dump(fruit,f)\n",
    "\n",
    "# open produce-new.json to see the file."
   ]
  },
  {
   "cell_type": "markdown",
   "metadata": {},
   "source": [
    "# End-To-End Example: European Country Locator\n",
    "\n",
    "In this example, we will load in json data for European countries. We will write a program to prompt to input a country then tell the user which part of Europe the country is located in and what are the neighboring European countries.\n"
   ]
  },
  {
   "cell_type": "code",
   "execution_count": 40,
   "metadata": {},
   "outputs": [],
   "source": [
    "#inputs: country name\n",
    "#output: name, region of europe and bordering nations\n",
    "\n",
    "## algorithm\n",
    "# load europe data into Python\n",
    "# loop\n",
    "#   input a country name\n",
    "#   if country name is quit, exit loop\n",
    "#   for each country in europe\n",
    "#        if input name equals country name\n",
    "#              get info on country (region and neighbors)\n",
    "#              print country info"
   ]
  },
  {
   "cell_type": "code",
   "execution_count": 44,
   "metadata": {},
   "outputs": [
    {
     "name": "stdout",
     "output_type": "stream",
     "text": [
      "EUROPEAN COUNTRY LOCATOR\n",
      "Enter a country name, or type 'quit': France\n",
      "France is in Western Europe.\n",
      "Bordering countries are ['Andorra', 'Belgium', 'Germany', 'Italy', 'Luxembourg', 'Monaco', 'Spain', 'Switzerland'].\n",
      "https://maps.google.com?q=France\n",
      "Enter a country name, or type 'quit': Spain\n",
      "Spain is in Southern Europe.\n",
      "Bordering countries are ['Andorra', 'France', 'Gibraltar', 'Portugal'].\n",
      "https://maps.google.com?q=Spain\n",
      "Enter a country name, or type 'quit': quit\n"
     ]
    }
   ],
   "source": [
    "import json\n",
    "\n",
    "# input: none\n",
    "# output: Python object of data in JSON file\n",
    "def load_europe_data():    \n",
    "    with open('europe.json', encoding='utf8') as f:\n",
    "        data = f.read()\n",
    "        europe = json.loads(data)\n",
    "        return europe\n",
    "\n",
    "# input: country and europe data\n",
    "# output: dictionary of country info (name, region and neighbors)\n",
    "def extract_country_info(country, europe):\n",
    "    info = {}\n",
    "    info['name'] = country['name']\n",
    "    info['subregion'] = country['subregion']\n",
    "    info['borders'] = lookup_bordering_nations(country['borders'], europe)\n",
    "    return info\n",
    "\n",
    "#input: list of country codes,\n",
    "# output: list of country names\n",
    "def lookup_bordering_nations(code_list, europe):\n",
    "    country_name_list = []\n",
    "    for country_code in code_list:\n",
    "        for country in europe:\n",
    "            if country['alpha3Code'] == country_code:\n",
    "                country_name_list.append(country['name'])\n",
    "    return country_name_list\n",
    "\n",
    "# main program \n",
    "europe = load_europe_data()\n",
    "print(\"EUROPEAN COUNTRY LOCATOR\")\n",
    "while True:\n",
    "    name = input(\"Enter a country name, or type 'quit': \").title()\n",
    "    if name == 'Quit':\n",
    "        print(\"Thank you for using!\")\n",
    "        break\n",
    "    for country in europe:\n",
    "        if name == country['name']:\n",
    "            info = extract_country_info(country, europe)\n",
    "            print(f\"{info['name']} is in {info['subregion']}.\")\n",
    "            print(f\"Bordering countries are {info['borders']}.\")\n",
    "            print(f\"https://maps.google.com?q={info['name']}\")\n",
    "        "
   ]
  },
  {
   "cell_type": "code",
   "execution_count": null,
   "metadata": {},
   "outputs": [],
   "source": []
  }
 ],
 "metadata": {
  "kernelspec": {
   "display_name": "Python 3",
   "language": "python",
   "name": "python3"
  },
  "language_info": {
   "codemirror_mode": {
    "name": "ipython",
    "version": 3
   },
   "file_extension": ".py",
   "mimetype": "text/x-python",
   "name": "python",
   "nbconvert_exporter": "python",
   "pygments_lexer": "ipython3",
   "version": "3.7.3"
  }
 },
 "nbformat": 4,
 "nbformat_minor": 2
}
