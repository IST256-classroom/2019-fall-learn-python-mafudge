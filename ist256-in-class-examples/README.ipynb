{
 "cells": [
  {
   "cell_type": "markdown",
   "metadata": {},
   "source": [
    "# IST256 in class examples\n",
    "\n",
    "This git repository is a clone of the IST256 in class examples repository here on github \n",
    "\n",
    "https://github.com/mafudge/ist256-in-class-examples\n",
    "\n",
    "Everytime you start your Jupyter notebook, it clones this repository into your jupyter environment.\n",
    "\n",
    "THIS REPOSITRY IS READ ONLY\n",
    "\n",
    "ANY CHANGES YOU MAKE HERE WILL NOT BE SAVED ONCE YOU RE-SPAWN JUPYTER\n",
    "\n",
    "MAKE CHANGES IN YOUR OWN FOLDER !!!!!"
   ]
  },
  {
   "cell_type": "code",
   "execution_count": null,
   "metadata": {},
   "outputs": [],
   "source": []
  }
 ],
 "metadata": {
  "kernelspec": {
   "display_name": "Python 3",
   "language": "python",
   "name": "python3"
  },
  "language_info": {
   "codemirror_mode": {
    "name": "ipython",
    "version": 3
   },
   "file_extension": ".py",
   "mimetype": "text/x-python",
   "name": "python",
   "nbconvert_exporter": "python",
   "pygments_lexer": "ipython3",
   "version": "3.7.3"
  }
 },
 "nbformat": 4,
 "nbformat_minor": 2
}
