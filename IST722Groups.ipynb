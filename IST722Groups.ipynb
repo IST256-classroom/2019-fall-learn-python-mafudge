{
 "cells": [
  {
   "cell_type": "code",
   "execution_count": 17,
   "metadata": {},
   "outputs": [
    {
     "name": "stdout",
     "output_type": "stream",
     "text": [
      "jean paul, will, abe\n"
     ]
    }
   ],
   "source": [
    "import random\n",
    "a = ['joe','jean paul', 'Hana', 'suzy', 'josh']\n",
    "b = ['sean','jen','will', 'kate', 'arthur']\n",
    "c = ['indra','abe','carlos','winne', 'tessa']\n",
    "print (f\"{random.choice(a)}, {random.choice(b)}, {random.choice(c)}\")"
   ]
  },
  {
   "cell_type": "markdown",
   "metadata": {},
   "source": [
    "Groups \n",
    "\n",
    "1. Suzy, Sean, Carlos\n",
    "2. Hana, Will, Winne\n",
    "3. Jean Paul, Katie, Indra\n",
    "4. Joe, Jen, Abe\n",
    "5. Tessa, Arthur, Josh\n",
    "6. Diego, Jonah, Rashad"
   ]
  },
  {
   "cell_type": "code",
   "execution_count": null,
   "metadata": {},
   "outputs": [],
   "source": []
  }
 ],
 "metadata": {
  "kernelspec": {
   "display_name": "Python 3",
   "language": "python",
   "name": "python3"
  },
  "language_info": {
   "codemirror_mode": {
    "name": "ipython",
    "version": 3
   },
   "file_extension": ".py",
   "mimetype": "text/x-python",
   "name": "python",
   "nbconvert_exporter": "python",
   "pygments_lexer": "ipython3",
   "version": "3.7.3"
  }
 },
 "nbformat": 4,
 "nbformat_minor": 2
}
