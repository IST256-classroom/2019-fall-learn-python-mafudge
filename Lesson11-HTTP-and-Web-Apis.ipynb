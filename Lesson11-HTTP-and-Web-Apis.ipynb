{
 "cells": [
  {
   "cell_type": "code",
   "execution_count": 1,
   "metadata": {},
   "outputs": [],
   "source": [
    "import requests"
   ]
  },
  {
   "cell_type": "code",
   "execution_count": 4,
   "metadata": {},
   "outputs": [],
   "source": [
    "webpageurl = 'https://www.syr.edu'\n",
    "response = requests.get(webpageurl)"
   ]
  },
  {
   "cell_type": "code",
   "execution_count": 5,
   "metadata": {},
   "outputs": [
    {
     "data": {
      "text/plain": [
       "['__attrs__',\n",
       " '__bool__',\n",
       " '__class__',\n",
       " '__delattr__',\n",
       " '__dict__',\n",
       " '__dir__',\n",
       " '__doc__',\n",
       " '__enter__',\n",
       " '__eq__',\n",
       " '__exit__',\n",
       " '__format__',\n",
       " '__ge__',\n",
       " '__getattribute__',\n",
       " '__getstate__',\n",
       " '__gt__',\n",
       " '__hash__',\n",
       " '__init__',\n",
       " '__init_subclass__',\n",
       " '__iter__',\n",
       " '__le__',\n",
       " '__lt__',\n",
       " '__module__',\n",
       " '__ne__',\n",
       " '__new__',\n",
       " '__nonzero__',\n",
       " '__reduce__',\n",
       " '__reduce_ex__',\n",
       " '__repr__',\n",
       " '__setattr__',\n",
       " '__setstate__',\n",
       " '__sizeof__',\n",
       " '__str__',\n",
       " '__subclasshook__',\n",
       " '__weakref__',\n",
       " '_content',\n",
       " '_content_consumed',\n",
       " '_next',\n",
       " 'apparent_encoding',\n",
       " 'close',\n",
       " 'connection',\n",
       " 'content',\n",
       " 'cookies',\n",
       " 'elapsed',\n",
       " 'encoding',\n",
       " 'headers',\n",
       " 'history',\n",
       " 'is_permanent_redirect',\n",
       " 'is_redirect',\n",
       " 'iter_content',\n",
       " 'iter_lines',\n",
       " 'json',\n",
       " 'links',\n",
       " 'next',\n",
       " 'ok',\n",
       " 'raise_for_status',\n",
       " 'raw',\n",
       " 'reason',\n",
       " 'request',\n",
       " 'status_code',\n",
       " 'text',\n",
       " 'url']"
      ]
     },
     "execution_count": 5,
     "metadata": {},
     "output_type": "execute_result"
    }
   ],
   "source": [
    "dir(response)"
   ]
  },
  {
   "cell_type": "code",
   "execution_count": 6,
   "metadata": {},
   "outputs": [
    {
     "data": {
      "text/plain": [
       "200"
      ]
     },
     "execution_count": 6,
     "metadata": {},
     "output_type": "execute_result"
    }
   ],
   "source": [
    "response.status_code"
   ]
  },
  {
   "cell_type": "code",
   "execution_count": 7,
   "metadata": {},
   "outputs": [
    {
     "data": {
      "text/plain": [
       "True"
      ]
     },
     "execution_count": 7,
     "metadata": {},
     "output_type": "execute_result"
    }
   ],
   "source": [
    "response.ok"
   ]
  },
  {
   "cell_type": "code",
   "execution_count": 8,
   "metadata": {
    "collapsed": true
   },
   "outputs": [
    {
     "data": {
      "text/plain": [
       "'<!DOCTYPE html>\\n<html lang=\"en-US\" prefix=\"og: http://ogp.me/ns#\">\\n<head>\\n<meta charset=\"UTF-8\">\\n<title>Syracuse University - Syracuse.edu</title>\\n<meta name=\"viewport\" content=\"width=device-width, initial-scale=1, viewport-fit=cover\">\\n<link rel=\"profile\" href=\"http://gmpg.org/xfn/11\">\\n<meta name=\"apple-mobile-web-app-title\" content=\"Syracuse.edu\">\\n<link rel=\"manifest\" href=\"https://www.syracuse.edu/wp-content/themes/g6-carbon/manifest.json\">\\n<link rel=\"apple-touch-icon\" href=\"https://www.syracuse.edu/wp-content/themes/g6-carbon/img/favicons/apple-touch-icon.png\">\\n<link rel=\"mask-icon\" href=\"https://www.syracuse.edu/wp-content/themes/g6-carbon/img/favicons/favicon-16.svg\" color=\"#d44500\">\\n<link rel=\"icon\" type=\"image/png\" sizes=\"16x16\" href=\"https://www.syracuse.edu/wp-content/themes/g6-carbon/img/favicons/favicon-16.png\">\\n<link rel=\"icon\" type=\"image/png\" sizes=\"32x32\" href=\"https://www.syracuse.edu/wp-content/themes/g6-carbon/img/favicons/favicon-32.png\">\\n<link rel=\"icon\" type=\"image/png\" sizes=\"96x96\" href=\"https://www.syracuse.edu/wp-content/themes/g6-carbon/img/favicons/favicon-96.png\">\\n<link rel=\"icon\" type=\"image/png\" sizes=\"144x144\" href=\"https://www.syracuse.edu/wp-content/themes/g6-carbon/img/favicons/favicon-144.png\">\\n<link rel=\"icon\" type=\"image/png\" sizes=\"192x192\" href=\"https://www.syracuse.edu/wp-content/themes/g6-carbon/img/favicons/favicon-192.png\">\\n\\n    <script type=\"application/ld+json\">\\n    \\t{\\n    \\t\\t\"@context\": \"https://schema.org\",\\n    \\t\\t\"@graph\": [{\\n    \\t\\t\\t\"@type\": \"EducationalOrganization\",\\n    \\t\\t\\t\"name\": \"Syracuse University\",\\n    \\t\\t\\t\"foundingDate\": \"1870\",\\n    \\t\\t\\t\"url\": \"https://www.syracuse.edu/\",\\n    \\t\\t\\t\"logo\": \"https://www.syracuse.edu/wp-content/themes/g6-carbon/img/favicons/og-image.png\",\\n    \\t\\t\\t\"sameAs\": [\\n    \\t\\t\\t\\t\"https://en.wikipedia.org/wiki/Syracuse_University\",\\n    \\t\\t\\t\\t\"https://twitter.com/SyracuseU\",\\n    \\t\\t\\t\\t\"https://www.facebook.com/syracuseuniversity/\",\\n    \\t\\t\\t\\t\"https://www.instagram.com/syracuseu/\",\\n    \\t\\t\\t\\t\"https://www.youtube.com/user/Syracuse\"\\n    \\t\\t\\t],\\n    \\t\\t\\t\"address\": {\\n    \\t\\t\\t\\t\"@type\": \"PostalAddress\",\\n    \\t\\t\\t\\t\"streetAddress\": \"900 South Crouse Ave.\",\\n    \\t\\t\\t\\t\"addressLocality\": \"Syracuse\",\\n    \\t\\t\\t\\t\"addressRegion\": \"NY\",\\n    \\t\\t\\t\\t\"postalCode\": \"13244\",\\n    \\t\\t\\t\\t\"addressCountry\": \"USA\"\\n    \\t\\t\\t},\\n    \\t\\t\\t\"contactPoint\": {\\n    \\t\\t\\t\\t\"@type\": \"ContactPoint\",\\n    \\t\\t\\t\\t\"telephone\": \"+1-315-443-1870\",\\n    \\t\\t\\t\\t\"contactType\": \"customer service\"\\n    \\t\\t\\t}\\n    \\t\\t}, {\\n    \\t\\t\\t\"@type\": \"WebSite\",\\n    \\t\\t\\t\"url\": \"https://www.syracuse.edu/\",\\n    \\t\\t\\t\"name\": \"Syracuse University\",\\n    \\t\\t\\t\"potentialAction\": {\\n    \\t\\t\\t\\t\"@type\": \"SearchAction\",\\n    \\t\\t\\t\\t\"target\": \"https://www.syracuse.edu/search/?q={search_term_string}\",\\n    \\t\\t\\t\\t\"query-input\": \"required name=search_term_string\"\\n    \\t\\t\\t}\\n    \\t\\t}]\\n    \\t}\\n    </script>\\n\\t\\t\\n      <meta name=\"description\" content=\"Syracuse University, founded in 1870 and comprised of thirteen schools and colleges, is a private research university in the heart of New York State.\" />\\n      <meta name=\"twitter:card\" content=\"summary\" />\\n      <meta name=\"twitter:site\" content=\"@syracuseu\" />\\n      <meta property=\"og:url\" content=\"https://www.syracuse.edu/\" />\\n      <meta property=\"og:title\" content=\"Syracuse University\" />\\n      <meta property=\"og:description\" content=\"Syracuse University, founded in 1870 and comprised of thirteen schools and colleges, is a private research university in the heart of New York State.\" />\\n      <meta property=\"og:image\" content=\"https://www.syracuse.edu/wp-content/uploads/Campaign-Launch-photo-for-Hero-1600x1067.jpg\" />\\n      <meta name=\"twitter:image:alt\" content=\"Syracuse University students standing side-by-side\" />\\n    <!-- Google Tag Manager -->\\n<script>(function(w,d,s,l,i){w[l]=w[l]||[];w[l].push({\\'gtm.start\\':\\nnew Date().getTime(),event:\\'gtm.js\\'});var f=d.getElementsByTagName(s)[0],\\nj=d.createElement(s),dl=l!=\\'dataLayer\\'?\\'&l=\\'+l:\\'\\';j.async=true;j.src=\\n\\'https://www.googletagmanager.com/gtm.js?id=\\'+i+dl;f.parentNode.insertBefore(j,f);\\n})(window,document,\\'script\\',\\'dataLayer\\',\\'GTM-5FC97GL\\');</script>\\n<!-- End Google Tag Manager -->\\n<link rel=\\'dns-prefetch\\' href=\\'//www.google.com\\' />\\n<link rel=\\'dns-prefetch\\' href=\\'//ajax.googleapis.com\\' />\\n<link rel=\\'dns-prefetch\\' href=\\'//cse.google.com\\' />\\n<link rel=\\'dns-prefetch\\' href=\\'//s.w.org\\' />\\n\\t\\t<script type=\"text/javascript\">\\n\\t\\t\\twindow._wpemojiSettings = {\"baseUrl\":\"https:\\\\/\\\\/s.w.org\\\\/images\\\\/core\\\\/emoji\\\\/12.0.0-1\\\\/72x72\\\\/\",\"ext\":\".png\",\"svgUrl\":\"https:\\\\/\\\\/s.w.org\\\\/images\\\\/core\\\\/emoji\\\\/12.0.0-1\\\\/svg\\\\/\",\"svgExt\":\".svg\",\"source\":{\"concatemoji\":\"https:\\\\/\\\\/www.syracuse.edu\\\\/wp-includes\\\\/js\\\\/wp-emoji-release.min.js?ver=7a9f0f2958f8ca557ab90c21a9d967e7\"}};\\n\\t\\t\\t!function(a,b,c){function d(a,b){var c=String.fromCharCode;l.clearRect(0,0,k.width,k.height),l.fillText(c.apply(this,a),0,0);var d=k.toDataURL();l.clearRect(0,0,k.width,k.height),l.fillText(c.apply(this,b),0,0);var e=k.toDataURL();return d===e}function e(a){var b;if(!l||!l.fillText)return!1;switch(l.textBaseline=\"top\",l.font=\"600 32px Arial\",a){case\"flag\":return!(b=d([55356,56826,55356,56819],[55356,56826,8203,55356,56819]))&&(b=d([55356,57332,56128,56423,56128,56418,56128,56421,56128,56430,56128,56423,56128,56447],[55356,57332,8203,56128,56423,8203,56128,56418,8203,56128,56421,8203,56128,56430,8203,56128,56423,8203,56128,56447]),!b);case\"emoji\":return b=d([55357,56424,55356,57342,8205,55358,56605,8205,55357,56424,55356,57340],[55357,56424,55356,57342,8203,55358,56605,8203,55357,56424,55356,57340]),!b}return!1}function f(a){var c=b.createElement(\"script\");c.src=a,c.defer=c.type=\"text/javascript\",b.getElementsByTagName(\"head\")[0].appendChild(c)}var g,h,i,j,k=b.createElement(\"canvas\"),l=k.getContext&&k.getContext(\"2d\");for(j=Array(\"flag\",\"emoji\"),c.supports={everything:!0,everythingExceptFlag:!0},i=0;i<j.length;i++)c.supports[j[i]]=e(j[i]),c.supports.everything=c.supports.everything&&c.supports[j[i]],\"flag\"!==j[i]&&(c.supports.everythingExceptFlag=c.supports.everythingExceptFlag&&c.supports[j[i]]);c.supports.everythingExceptFlag=c.supports.everythingExceptFlag&&!c.supports.flag,c.DOMReady=!1,c.readyCallback=function(){c.DOMReady=!0},c.supports.everything||(h=function(){c.readyCallback()},b.addEventListener?(b.addEventListener(\"DOMContentLoaded\",h,!1),a.addEventListener(\"load\",h,!1)):(a.attachEvent(\"onload\",h),b.attachEvent(\"onreadystatechange\",function(){\"complete\"===b.readyState&&c.readyCallback()})),g=c.source||{},g.concatemoji?f(g.concatemoji):g.wpemoji&&g.twemoji&&(f(g.twemoji),f(g.wpemoji)))}(window,document,window._wpemojiSettings);\\n\\t\\t</script>\\n\\t\\t<style type=\"text/css\">\\nimg.wp-smiley,\\nimg.emoji {\\n\\tdisplay: inline !important;\\n\\tborder: none !important;\\n\\tbox-shadow: none !important;\\n\\theight: 1em !important;\\n\\twidth: 1em !important;\\n\\tmargin: 0 .07em !important;\\n\\tvertical-align: -0.1em !important;\\n\\tbackground: none !important;\\n\\tpadding: 0 !important;\\n}\\n</style>\\n\\t<link rel=\\'stylesheet\\' id=\\'wp-block-library-css\\'  href=\\'https://www.syracuse.edu/wp-includes/css/dist/block-library/style.min.css?ver=7a9f0f2958f8ca557ab90c21a9d967e7\\' type=\\'text/css\\' media=\\'all\\' />\\n<link rel=\\'stylesheet\\' id=\\'g6-carbon-style-css-css\\'  href=\\'https://www.syracuse.edu/wp-content/themes/g6-carbon/style.css?ver=6.4.8.1-1573249309535\\' type=\\'text/css\\' media=\\'all\\' />\\n<link rel=\\'stylesheet\\' id=\\'g6-carbon-style-homepage-css\\'  href=\\'https://www.syracuse.edu/wp-content/themes/g6-carbon/css/homepage.css?ver=6.4.8.1-1573249309535\\' type=\\'text/css\\' media=\\'all\\' />\\n<link rel=\\'stylesheet\\' id=\\'g6-carbon-style-special-css\\'  href=\\'https://www.syracuse.edu/wp-content/themes/g6-carbon/css/special.css?ver=6.4.8.1-1573249309535\\' type=\\'text/css\\' media=\\'all\\' />\\n<link rel=\\'stylesheet\\' id=\\'g6-carbon-style-print-css\\'  href=\\'https://www.syracuse.edu/wp-content/themes/g6-carbon/css/print.css?ver=6.4.8.1-1573249309535\\' type=\\'text/css\\' media=\\'print\\' />\\n<link rel=\\'https://api.w.org/\\' href=\\'https://www.syracuse.edu/wp-json/\\' />\\n\\n<link rel=\"alternate\" type=\"application/json+oembed\" href=\"https://www.syracuse.edu/wp-json/oembed/1.0/embed?url=https%3A%2F%2Fwww.syracuse.edu%2Fhome%2Fnovember-11%2F\" />\\n<link rel=\"alternate\" type=\"text/xml+oembed\" href=\"https://www.syracuse.edu/wp-json/oembed/1.0/embed?url=https%3A%2F%2Fwww.syracuse.edu%2Fhome%2Fnovember-11%2F&#038;format=xml\" />\\n<script type=\"text/javascript\">\\n(function(url){\\n\\tif(/(?:Chrome\\\\/26\\\\.0\\\\.1410\\\\.63 Safari\\\\/537\\\\.31|WordfenceTestMonBot)/.test(navigator.userAgent)){ return; }\\n\\tvar addEvent = function(evt, handler) {\\n\\t\\tif (window.addEventListener) {\\n\\t\\t\\tdocument.addEventListener(evt, handler, false);\\n\\t\\t} else if (window.attachEvent) {\\n\\t\\t\\tdocument.attachEvent(\\'on\\' + evt, handler);\\n\\t\\t}\\n\\t};\\n\\tvar removeEvent = function(evt, handler) {\\n\\t\\tif (window.removeEventListener) {\\n\\t\\t\\tdocument.removeEventListener(evt, handler, false);\\n\\t\\t} else if (window.detachEvent) {\\n\\t\\t\\tdocument.detachEvent(\\'on\\' + evt, handler);\\n\\t\\t}\\n\\t};\\n\\tvar evts = \\'contextmenu dblclick drag dragend dragenter dragleave dragover dragstart drop keydown keypress keyup mousedown mousemove mouseout mouseover mouseup mousewheel scroll\\'.split(\\' \\');\\n\\tvar logHuman = function() {\\n\\t\\tif (window.wfLogHumanRan) { return; }\\n\\t\\twindow.wfLogHumanRan = true;\\n\\t\\tvar wfscr = document.createElement(\\'script\\');\\n\\t\\twfscr.type = \\'text/javascript\\';\\n\\t\\twfscr.async = true;\\n\\t\\twfscr.src = url + \\'&r=\\' + Math.random();\\n\\t\\t(document.getElementsByTagName(\\'head\\')[0]||document.getElementsByTagName(\\'body\\')[0]).appendChild(wfscr);\\n\\t\\tfor (var i = 0; i < evts.length; i++) {\\n\\t\\t\\tremoveEvent(evts[i], logHuman);\\n\\t\\t}\\n\\t};\\n\\tfor (var i = 0; i < evts.length; i++) {\\n\\t\\taddEvent(evts[i], logHuman);\\n\\t}\\n})(\\'//www.syracuse.edu/?wordfence_lh=1&hid=EBD21A94E994BC23FE39857B674F480A\\');\\n</script>\\t\\t<style type=\"text/css\">.recentcomments a{display:inline !important;padding:0 !important;margin:0 !important;}</style>\\n\\t\\t\\t\\t<style type=\"text/css\" id=\"wp-custom-css\">\\n\\t\\t\\t.post-type-archive-story .non-featured-posts article,\\n.post-type-archive-story .all-posts article,\\nmain article.carbon-featured-item,\\nmain article.carbon-archive-item {\\n  padding-bottom: 0;\\n}\\n\\n@media screen and (min-width: 55em) {\\n  main.has-sidebar {\\n    display: block;\\n  }\\n}\\n\\n.grecaptcha-badge {\\n\\tdisplay: none;\\n}\\t\\t</style>\\n\\t\\t<link rel=\"canonical\" href=\"https://www.syracuse.edu/\"><style>\\n\\t\\t\\t\\t@media screen and (min-height: 38em) and (min-width: 45em) {\\n\\t\\t\\t\\t\\t#banner-card .sizer {\\n\\t\\t\\t\\t\\t\\tmax-width: 38em;\\n\\t\\t\\t\\t\\t}\\n\\t\\t\\t\\t}\\n\\t\\t\\t\\t@media screen and (min-height: 38em) and (min-width: 73em) {\\n\\t\\t\\t\\t  #banner-card .sizer {\\n\\t\\t\\t\\t    max-width: 38em;\\n\\t\\t\\t\\t  }\\n\\t\\t\\t\\t}\\n\\t\\t\\t\\t.hero #banner {\\n\\t\\t\\t\\t\\tbackground-image: url(\\'https://www.syracuse.edu/wp-content/uploads/Campaign-Launch-photo-for-Hero-800x533.jpg\\');\\n\\t\\t\\t\\t}\\n\\t\\t\\t\\t@media screen and (min-width: 62.5em),\\n\\t\\t\\t\\t\\tscreen and (min-width: 31.25em) and (-webkit-min-device-pixel-ratio: 2),\\n\\t\\t\\t\\t\\tscreen and (min-width: 31.25em) and (min-resolution: 192dpi) {\\n\\t\\t\\t\\t\\t\\t.hero #banner {\\n\\t\\t\\t\\t\\t\\t\\tbackground-image: url(\\'https://www.syracuse.edu/wp-content/uploads/Campaign-Launch-photo-for-Hero-1100x733.jpg\\');\\n\\t\\t\\t\\t\\t}\\n\\t\\t\\t\\t}\\n\\t\\t\\t\\t@media screen and (min-width: 86em),\\n\\t\\t\\t\\t\\tscreen and (min-width: 43em) and (-webkit-min-device-pixel-ratio: 2),\\n\\t\\t\\t\\t\\tscreen and (min-width: 43em) and (min-resolution: 192dpi) {\\n\\t\\t\\t\\t\\t\\t.hero #banner {\\n\\t\\t\\t\\t\\t\\t\\tbackground-image: url(\\'https://www.syracuse.edu/wp-content/uploads/Campaign-Launch-photo-for-Hero-1600x1067.jpg\\');\\n\\t\\t\\t\\t\\t}\\n\\t\\t\\t\\t}\\n\\t\\t\\t\\t@media screen and (min-width: 125em),\\n\\t\\t\\t\\t\\tscreen and (min-width: 62.5em) and (-webkit-min-device-pixel-ratio: 2),\\n\\t\\t\\t\\t\\tscreen and (min-width: 62.5em) and (min-resolution: 192dpi),\\n\\t\\t\\t\\t\\tscreen and (min-width: 86em) and (min-height: 125em),\\n\\t\\t\\t\\t\\tscreen and (min-width: 43em) and (min-height: 62.5em) and (-webkit-min-device-pixel-ratio: 2),\\n\\t\\t\\t\\t\\tscreen and (min-width: 43em) and (min-height: 62.5em) and (min-resolution: 192dpi) {\\n\\t\\t\\t\\t\\t\\t.hero #banner {\\n\\t\\t\\t\\t\\t\\t\\tbackground-image: url(\\'https://www.syracuse.edu/wp-content/uploads/Campaign-Launch-photo-for-Hero-2200x1467.jpg\\');\\n\\t\\t\\t\\t\\t}\\n\\t\\t\\t\\t}\\n\\t\\t\\t</style>\\n</head>\\n<body class=\"home page-template-default page page-id-322 page-homepage\" >\\n\\n<!-- Google Tag Manager (noscript) -->\\n<noscript class=\"gtm-noscript\"><iframe src=\"https://www.googletagmanager.com/ns.html?id=GTM-5FC97GL\"\\nheight=\"0\" width=\"0\" style=\"display:none;visibility:hidden\"></iframe></noscript>\\n<!-- End Google Tag Manager (noscript) -->\\n<div id=\"page\" class=\"site\">\\n\\t<div id=\"orange-alert\" class=\"alert-bar\"></div>\\n\\t<div class=\"alert-bar privacy-notice\">\\n  <div class=\"container\">\\n    <div class=\"cell alert\">\\n      <p>By continuing to use this site, you agree to the use of cookies in accordance with our <a href=\"https://www.syracuse.edu/about/site/privacy-policy/\">privacy policy</a>.</p>\\n    </div>\\n    <div class=\"cell btn\">\\n      <button type=\"button\" class=\"close js-dismiss-privacy-notice\" aria-label=\"Dismiss privacy notice\">Dismiss</button>\\n    </div>\\n  </div>\\n</div>\\t  <div class=\"alert-bar campaign visible\">\\n    <div class=\"container\">\\n      <div class=\"cell alert\">\\n        <p><a href=\"https://giving.syr.edu/?foreverorangebar\">Forever Orange<small>The Campaign for Syracuse University</small></a></p>\\n        <img class=\"argyle\" src=\"https://www.syracuse.edu/wp-content/themes/g6-carbon/img/argyle.png?ver=6.4.8.1\" alt=\"\">\\n      </div>\\n    </div>\\n  </div>\\n\\t<header id=\"header\" role=\"banner\">\\n\\t  <div id=\"header-inner\">\\n\\t    <div id=\"header-row-1\">\\n\\t      <div class=\"header-table-cell\" id=\"header-branding\">\\n\\t      \\t<a id=\"header-skip-header\" href=\"#content\">Skip to Content</a>\\n\\t        <h1><a href=\"/\"><picture><source srcset=\"https://www.syracuse.edu/wp-content/themes/g6-carbon/img/syracuse-university.svg?ver=6.4.8.1\" media=\"(min-width: 370px)\"><img srcset=\"https://www.syracuse.edu/wp-content/themes/g6-carbon/img/syracuse-university-2line.svg?ver=6.4.8.1\" alt=\"Syracuse University Home\"></picture></a></h1>\\n\\t      </div>\\n\\t      <div class=\"header-table-cell\" id=\"header-menu-button\">\\n\\t\\t\\t\\t\\t<button aria-haspopup=\"true\" aria-label=\"Browse all pages\" data-mdown=\"0\">Open menu</button>\\n\\t\\t\\t\\t</div>\\n\\t      <div class=\"header-table-cell\" id=\"header-nav-top\">\\n\\t\\t\\t\\t\\t<div id=\"header-nav-top-container\">\\n\\t\\t        <ul role=\"navigation\" aria-label=\"Syracuse browse categories\">\\n\\t\\t          <li><a href=\"/about/\">About</a></li>\\n\\t\\t          <li><a href=\"/admissions/\">Admissions</a></li>\\n\\t\\t          <li><a href=\"/academics/\">Academics</a></li>\\n\\t\\t          <li><a href=\"/life/\">Life</a></li>\\n\\t\\t\\t\\t\\t\\t\\t<li><a href=\"http://cuse.com/\">Athletics</a></li>\\n\\t\\t\\t\\t\\t\\t\\t<li id=\"header-link-more\"><button aria-haspopup=\"true\" aria-label=\"Browse all pages\" data-mdown=\"0\">More</button></li>\\n\\t\\t        </ul>\\n\\t\\t\\t\\t\\t</div>\\n\\t      </div>\\n\\t      <div class=\"header-table-cell\" id=\"header-search\">\\n\\t\\t\\t\\t\\t<div class=\"aux-border\">\\n\\t\\t\\t\\t\\t\\t<form id=\"header-search-form\" onsubmit=\"return false;\" role=\"search\">\\n\\t\\t\\t\\t\\t\\t\\t<label for=\"header-search-input\" class=\"carbon_hidden_label\">Search the University</label>\\n\\t\\t\\t\\t\\t\\t\\t<input id=\"header-search-input\" class=\"placeholder-shown\" type=\"text\" name=\"q\" autocomplete=\"off\" placeholder=\"Search the University...\">\\n\\t\\t\\t\\t\\t\\t\\t<input type=\"submit\" value=\"Search\" aria-label=\"Submit University site search query\">\\n\\t\\t\\t\\t\\t\\t</form>\\n\\t\\t\\t\\t\\t</div>\\n\\t\\t\\t\\t</div>\\n\\t      <div class=\"header-table-cell\" id=\"header-search-toggle\">\\n\\t\\t\\t\\t\\t<button>Open search</button>\\n\\t\\t\\t\\t</div>\\n\\t\\t\\t\\t<nav id=\"g6-uni-header-search-drop\" class=\"g6-uni-search-open\">\\n\\t\\t\\t\\t  <div id=\"g6-uni-header-search-popular\" class=\"g6-uni-row\" style=\"display: block;\">\\n\\t\\t\\t\\t    <strong>Popular searches</strong>\\n\\t\\t\\t\\t\\t\\t<ol id=\"g6-uni-header-search-queries\" role=\"navigation\" aria-label=\"Popular searches\" style=\"display: block;\"></ol>\\n\\t\\t\\t\\t  </div>\\n\\t\\t\\t\\t\\t<div id=\"header-search-people\">\\n\\t\\t\\t\\t\\t\\t<a href=\"http://directory.syr.edu/\">Search people (directory)</a>\\n\\t\\t\\t\\t\\t\\t<div style=\"position: absolute; left: -10000px\"><button class=\"go-to-quick-nav\">Go to quick nav</button></div>\\t\\t\\t\\t\\t</div>\\n\\t\\t\\t\\t</nav>\\n\\t    </div>\\n\\t  </div>\\n\\t\\t\\t\\t<nav id=\"g6-uni-header-menu\" role=\"navigation\" aria-label=\"Browse all pages menu\">\\n\\t    <div id=\"g6-uni-header-menu-header\">\\n\\t\\t\\t\\t<a href=\"/\"><picture class=\"wordmark\">\\n\\t\\t\\t\\t\\t<source srcset=\"https://www.syracuse.edu/wp-content/themes/g6-carbon/img/syracuse-university-2line.svg\" media=\"(min-width: 720px)\">\\n\\t\\t\\t\\t\\t<source srcset=\"https://www.syracuse.edu/wp-content/themes/g6-carbon/img/syracuse-university.svg\" media=\"(min-width: 370px)\">\\n\\t\\t\\t\\t\\t<img srcset=\"https://www.syracuse.edu/wp-content/themes/g6-carbon/img/syracuse-university-2line.svg\" alt=\"Syracuse University Home\">\\n\\t\\t\\t\\t</picture></a>\\n\\t      <button id=\"g6-uni-header-menu-close\" data-mdown=\"0\">Close menu</button>\\n\\t    </div>\\n      <ol id=\"g6-uni-header-menu-main\">\\n\\t\\t\\t\\t<li id=\"menu-home\" class=\"active\">\\n\\t\\t\\t\\t\\t<a id=\"menu-toggle-home\" class=\"menu-toggle\" data-menu=\"home\" data-mdown=\\'0\\' href=\"javascript:void(0);\" aria-label=\"Home menu\">Home</a>\\n\\t      \\t<ol>\\n\\t\\t        <li>\\n\\t\\t          <a href=\"/about/\" aria-expanded=\"false\" aria-label=\"About section\">About</a>\\n\\t\\t          <button class=\"drawer-button\">Toggle dropdown</button>\\n\\t\\t\\t\\t\\t\\t\\t<ol>\\n\\t\\t\\t\\t\\t\\t\\t\\t<li><a href=\"https://www.syracuse.edu/about/leadership/\">Leadership</a></li><li><a href=\"https://www.syracuse.edu/about/vision-mission/\">Vision & Mission</a></li><li><a href=\"https://www.syracuse.edu/about/consumer-information/\">Consumer Information</a></li><li><a href=\"https://www.syracuse.edu/about/facts-figures-rankings/\">Facts & Figures</a></li><li><a href=\"https://www.syracuse.edu/about/visit/\">Plan Your Visit</a></li><li><a href=\"https://www.syracuse.edu/about/map/\">Campus Map</a></li><li><a href=\"https://www.syracuse.edu/about/campus-shuttle/\">Campus Shuttle</a></li><li><a href=\"https://www.syracuse.edu/about/history/\">History</a></li><li><a href=\"https://www.syracuse.edu/about/news/\">News & Magazine</a></li><li><a href=\"https://www.syracuse.edu/about/partnerships/\">Partnerships</a></li><li><a href=\"https://www.syracuse.edu/about/work-at-syracuse/\">Work at Syracuse</a></li><li><a href=\"https://www.syracuse.edu/about/social-media/\">Social Media</a></li><li><a href=\"https://www.syracuse.edu/about/bookstore/\">\\u200bBookstore</a></li><li><a href=\"https://www.syracuse.edu/about/brand/\">Brand</a></li><li><a href=\"https://www.syracuse.edu/about/contact/\">Help & Contacts</a></li>\\t\\t\\t\\t\\t\\t\\t</ol>\\n\\t\\t        </li>\\n\\t\\t        <li>\\n\\t\\t          <a href=\"/admissions/\" aria-expanded=\"false\" aria-label=\"Admissions section\">Admissions</a>\\n\\t\\t          <button class=\"drawer-button\">Toggle dropdown</button>\\n\\t\\t\\t\\t\\t\\t\\t<ol>\\n\\t\\t\\t\\t\\t\\t\\t\\t<li><a href=\"https://www.syracuse.edu/admissions/undergraduate/\">\\u200bUndergraduate</a></li><li><a href=\"https://www.syracuse.edu/admissions/graduate/\">Graduate</a></li><li><a href=\"https://www.syracuse.edu/admissions/part-time/\">Part-Time</a></li><li><a href=\"https://www.syracuse.edu/admissions/cost-and-aid/\">Cost & Aid</a></li><li><a href=\"https://www.syracuse.edu/admissions/request-information/\">Request Information</a></li><li><a href=\"https://www.syracuse.edu/admissions/visit-tour/\">Visit & Tour</a></li><li><a href=\"https://www.syracuse.edu/admissions/apply/\">Apply</a></li>\\t\\t\\t\\t\\t\\t\\t</ol>\\n\\t\\t        </li>\\n\\t\\t        <li>\\n\\t\\t          <a href=\"/academics/\" aria-expanded=\"false\" aria-label=\"Academics section\">Academics</a>\\n\\t\\t          <button class=\"drawer-button\">Toggle dropdown</button>\\n\\t\\t\\t\\t\\t\\t\\t<ol>\\n\\t\\t\\t\\t\\t\\t\\t\\t<li><a href=\"https://www.syracuse.edu/academics/online-programs/\">Online Programs</a></li><li><a href=\"https://www.syracuse.edu/academics/schools-colleges/\">Schools & Colleges</a></li><li><a href=\"https://www.syracuse.edu/academics/undergraduate-majors-minors/\">Undergraduate Majors & Minors</a></li><li><a href=\"https://www.syracuse.edu/academics/graduate-programs/\">Graduate Degrees</a></li><li><a href=\"https://www.syracuse.edu/academics/study-abroad/\">Study Abroad</a></li><li><a href=\"https://www.syracuse.edu/academics/opportunities/\">Opportunities & Support</a></li><li><a href=\"https://www.syracuse.edu/academics/calendars/\">Calendars</a></li><li><a href=\"https://www.syracuse.edu/academics/departments/\">Departments</a></li><li><a href=\"https://www.syracuse.edu/academics/research/\">Research</a></li><li><a href=\"https://www.syracuse.edu/academics/centers-institutes/\">\\u200bCenters & Institutes</a></li><li><a href=\"https://www.syracuse.edu/academics/libraries-collections-galleries/\">Libraries, Collections & Galleries</a></li><li><a href=\"https://www.syracuse.edu/academics/sport-human-performance/\">Sport & Human Performance</a></li><li><a href=\"https://www.syracuse.edu/academics/administration/\">Academic Administration</a></li>\\t\\t\\t\\t\\t\\t\\t</ol>\\n\\t\\t        </li>\\n\\t\\t        <li>\\n\\t\\t          <a href=\"/life/\" aria-expanded=\"false\" aria-label=\"Life section\">Life</a>\\n\\t\\t          <button class=\"drawer-button\">Toggle dropdown</button>\\n\\t\\t\\t\\t\\t\\t\\t<ol>\\n\\t\\t\\t\\t\\t\\t\\t\\t<li><a href=\"https://www.syracuse.edu/life/accessibility-diversity/\">Accessibility & Diversity</a></li><li><a href=\"https://www.syracuse.edu/life/campus-highlights/\">Campus Highlights</a></li><li><a href=\"https://www.syracuse.edu/life/events-calendar/\">Events Calendar</a></li><li><a href=\"https://www.syracuse.edu/life/services-support/\">Services & Support</a></li><li><a href=\"https://www.syracuse.edu/life/meals-dining/\">Meals & Dining</a></li><li><a href=\"https://www.syracuse.edu/life/housing/\">Housing</a></li><li><a href=\"https://www.syracuse.edu/life/groups-activities/\">Groups & Activities</a></li><li><a href=\"https://www.syracuse.edu/life/recreation/\">Recreation & Facilities</a></li><li><a href=\"https://www.syracuse.edu/life/students/\">For Students</a></li><li><a href=\"https://www.syracuse.edu/life/veterans-military/\">\\u200bFor Veterans & Military</a></li><li><a href=\"https://www.syracuse.edu/life/faculty-staff/\">For Faculty & Staff</a></li><li><a href=\"https://www.syracuse.edu/life/parents/\">For Parents & Families</a></li>\\t\\t\\t\\t\\t\\t\\t</ol>\\n\\t\\t        </li>\\n\\t\\t\\t\\t\\t\\t<li><a href=\"/a-z/\">A-Z Index</a></li>\\n\\t\\t        <li><a href=\"/sitemap/\">Sitemap</a></li>\\n\\t\\t\\t\\t\\t\\t<li><a href=\"/login/\">Login</a></li>\\n\\t\\t\\t\\t\\t</ol>\\n\\t\\t\\t\\t</li>\\n\\t\\t\\t  <li id=\"menu-athletics\">\\n\\t\\t\\t\\t\\t<a id=\"menu-toggle-athletics\" class=\"menu-toggle\" data-menu=\"athletics\" data-mdown=\\'0\\' href=\"javascript:void(0);\" aria-label=\"Athletics menu\">Athletics</a>\\n\\t\\t\\t\\t\\t<ol>\\n\\t\\t        <li>\\n\\t\\t          <a href=\"https://www.syracuse.edu/search/?r=athletics&q=men%E2%80%99s+sports\" aria-expanded=\"false\" aria-label=\"Men’s Sports section\">Men’s Sports</a>\\n\\t\\t          <button class=\"drawer-button\">Toggle dropdown</button>\\n\\t\\t\\t\\t\\t\\t\\t<ol>\\n\\t\\t\\t\\t\\t\\t\\t\\t\\n\\t\\t\\t\\t<li><a href=\"http://cuse.com/index.aspx?path=mbasket\">Basketball</a></li>\\n\\t\\t\\t\\t<li><a href=\"http://cuse.com/index.aspx?path=ccountry\">Cross Country</a></li>\\n\\t\\t\\t\\t<li><a href=\"http://cuse.com/index.aspx?path=football\">Football</a></li>\\n\\t\\t\\t\\t<li><a href=\"http://cuse.com/index.aspx?path=mlacrosse\">Lacrosse</a></li>\\n\\t\\t\\t\\t<li><a href=\"http://cuse.com/index.aspx?path=crew\">Rowing</a></li>\\n\\t\\t\\t\\t<li><a href=\"http://cuse.com/index.aspx?path=msoccer\">Soccer</a></li>\\n\\t\\t\\t\\t<li><a href=\"http://cuse.com/index.aspx?path=trun \">Track and Field</a></li>\\n\\t\\t\\t\\t\\t\\t\\t\\t\\t\\t</ol>\\n\\t\\t        </li>\\n\\t\\t        <li>\\n\\t\\t          <a href=\"https://www.syracuse.edu/search/?r=athletics&q=women%E2%80%99s+sports\" aria-expanded=\"false\" aria-label=\"Women’s Sports section\">Women’s Sports</a>\\n\\t\\t          <button class=\"drawer-button\">Toggle dropdown</button>\\n\\t\\t\\t\\t\\t\\t\\t<ol>\\n\\t\\t\\t\\t\\t\\t\\t\\t\\n\\t\\t\\t\\t<li><a href=\"http://cuse.com/schedule.aspx?path=wbasket\">Basketball</a></li>\\n\\t\\t\\t\\t<li><a href=\"http://cuse.com/index.aspx?path=ccountry\">Cross Country</a></li>\\n\\t\\t\\t\\t<li><a href=\"http://cuse.com/index.aspx?path=fhockey\">Field Hockey</a></li>\\n\\t\\t\\t\\t<li><a href=\"http://cuse.com/index.aspx?path=wice\">Ice Hockey</a></li>\\n\\t\\t\\t\\t<li><a href=\"http://cuse.com/index.aspx?path=wlacrosse\">Lacrosse</a></li>\\n\\t\\t\\t\\t<li><a href=\"http://cuse.com/index.aspx?path=rowing\">Rowing</a></li>\\n\\t\\t\\t\\t<li><a href=\"http://cuse.com/index.aspx?path=wsoccer\">Soccer</a></li>\\n\\t\\t\\t\\t<li><a href=\"http://cuse.com/index.aspx?path=softball\">Softball</a></li>\\n\\t\\t\\t\\t<li><a href=\"http://cuse.com/index.aspx?path=tennis\">Tennis</a></li>\\n\\t\\t\\t\\t<li><a href=\"http://cuse.com/index.aspx?path=trun\">Track and Field</a></li>\\n\\t\\t\\t\\t<li><a href=\"http://cuse.com/index.aspx?path=vball\">Volleyball</a></li>\\n\\t\\t\\t\\t\\t\\t\\t\\t\\t\\t</ol>\\n\\t\\t        </li>\\n\\t\\t        <li>\\n\\t\\t          <a href=\"https://cuse.com/sports/2018/3/9/syracuse-athletics-mission-statement.aspx\" aria-expanded=\"false\" aria-label=\"Athletics Dept. section\">Athletics Dept.</a>\\n\\t\\t          <button class=\"drawer-button\">Toggle dropdown</button>\\n\\t\\t\\t\\t\\t\\t\\t<ol>\\n\\t\\t\\t\\t\\t\\t\\t\\t\\n\\t\\t\\t\\t<li><a href=\"http://cuse.com/facilities/facilities.aspx\">Facilities</a></li>\\n\\t\\t\\t\\t<li><a href=\"http://cuse.com/staff.aspx\">Staff Directory</a></li>\\n\\t\\t\\t\\t<li><a href=\"http://cuse.com/sports/2001/8/7/recognition.aspx\">Academic Honors</a></li>\\n\\t\\t\\t\\t<li><a href=\"http://cuse.com/sports/2006/9/20/communityservicemainpage.aspx\">Community Service</a></li>\\n\\t\\t\\t\\t<li><a href=\"http://cuse.com/sports/2011/5/11/Spirit_Program.aspx\">Spirit Program</a></li>\\n\\t\\t\\t\\t<li><a href=\"http://cuse.com/sports/2015/9/22/varsityclub.aspx\">Varsity Club</a></li>\\n\\t\\t\\t\\t<li><a href=\"http://www.cuse.com/sports/2003/10/11/sportsmedinice.aspx\">Sports Medicine</a></li>\\n\\t\\t\\t\\t<li><a href=\"http://www.cuse.com/sports/2006/12/21/SUNationalChampions.aspx\">Championships</a></li>\\n\\t\\t\\t\\t\\t\\t\\t\\t\\t\\t</ol>\\n\\t\\t        </li>\\n\\t\\t        <li>\\n\\t\\t          <a href=\"https://contests.cuse.com/\" aria-expanded=\"false\" aria-label=\"Fan Zone section\">Fan Zone</a>\\n\\t\\t          <button class=\"drawer-button\">Toggle dropdown</button>\\n\\t\\t\\t\\t\\t\\t\\t<ol>\\n\\t\\t\\t\\t\\t\\t\\t\\t\\n\\t\\t\\t\\t<li><a href=\"http://www.carrierdome.com/calendar.aspx?vwcal=1\">Dome Schedule</a></li>\\n\\t\\t\\t\\t<li><a href=\"http://syracusebasketball.io-media.com/web/index.html \">Seating Information</a></li>\\n\\t\\t\\t\\t<li><a href=\"http://www.cuse.com/watch/?Live=3618\">Orange All Access</a></li>\\n\\t\\t\\t\\t<li><a href=\"http://cuse.com/sports/2016/4/22/ottos-kids-club.aspx\">Otto’s Kids Club</a></li>\\n\\t\\t\\t\\t<li><a href=\"http://cuse.com/galleries/\">Game Photos</a></li>\\n\\t\\t\\t\\t<li><a href=\"http://cuse.com/sports/2009/2/4/GEN_0204093552.aspx\">Promotions</a></li>\\n\\t\\t\\t\\t<li><a href=\"http://cuse.com/sports/2012/9/18/club44.aspx\">Orange Club</a></li>\\n\\t\\t\\t\\t\\t\\t\\t\\t\\t\\t</ol>\\n\\t\\t        </li>\\n\\t\\t\\t\\t\\t\\t<li><a href=\"http://cuse.com/calendar.aspx\">Schedules</a></li>\\n\\t\\t        <li><a href=\"http://cuse.com/archives.aspx\">News</a></li>\\n\\t\\t      </ol>\\n\\t\\t\\t\\t</li>\\n\\t\\t\\t\\t<li id=\"menu-alumni\">\\n\\t\\t\\t\\t\\t<a id=\"menu-toggle-alumni\" class=\"menu-toggle\" data-menu=\"alumni\" data-mdown=\\'0\\' href=\"javascript:void(0);\" aria-label=\"Alumni menu\">Alumni</a>\\n\\t\\t\\t\\t\\t<ol>\\n\\t\\t\\t\\t\\t\\t<li>\\n\\t\\t          <a href=\"http://cusecommunity.syr.edu/s/1632/17/interior.aspx?sid=1632&gid=2&pgid=2220\" aria-expanded=\"false\" aria-label=\"About section\">About</a>\\n\\t\\t          <button class=\"drawer-button\">Toggle dropdown</button>\\n\\t\\t\\t\\t\\t\\t\\t<ol>\\n\\t\\t\\t\\t\\t\\t\\t\\t\\n\\t\\t\\t\\t<li><a href=\"http://cusecommunity.syr.edu/s/1632/17/interior.aspx?sid=1632&gid=2&pgid=2226\">Notable Alumni</a></li>\\n\\t\\t\\t\\t<li><a href=\"http://cusecommunity.syr.edu/s/1632/17/interior.aspx?sid=1632&gid=2&pgid=2214\">Alumni Association</a></li>\\n\\t\\t\\t\\t<li><a href=\"http://cusecommunity.syr.edu/s/1632/17/interior.aspx?sid=1632&gid=2&pgid=2245\">Awards</a></li>\\n\\t\\t\\t\\t<li><a href=\"https://news.syr.edu/topics/alumni/\">News</a></li>\\n\\t\\t\\t\\t\\t\\t\\t\\t\\t\\t</ol>\\n\\t\\t        </li>\\n\\t\\t\\t\\t\\t\\t<li>\\n\\t\\t\\t\\t\\t\\t\\t<a href=\"http://cusecommunity.syr.edu/clubs\" aria-expanded=\"false\" aria-label=\"Events and Clubs section\">Events and Clubs</a>\\n\\t\\t\\t\\t\\t\\t\\t<button class=\"drawer-button\">Toggle dropdown</button>\\n\\t\\t\\t\\t\\t\\t\\t<ol>\\n\\t\\t\\t\\t\\t\\t\\t\\t\\n\\t\\t\\t\\t<li><a href=\"http://orangecentral.syr.edu/\">Orange Central</a></li>\\n\\t\\t\\t\\t<li><a href=\"http://cusecommunity.syr.edu/clubs-northeast\">Northeast</a></li>\\n\\t\\t\\t\\t<li><a href=\"http://cusecommunity.syr.edu/clubs-midwest\">Midwest</a></li>\\n\\t\\t\\t\\t<li><a href=\"http://cusecommunity.syr.edu/clubs-south\">South</a></li>\\n\\t\\t\\t\\t<li><a href=\"http://cusecommunity.syr.edu/clubs-west\">West</a></li>\\n\\t\\t\\t\\t<li><a href=\"http://cusecommunity.syr.edu/clubs-other\">World/Affinity</a></li>\\n\\t\\t\\t\\t\\t\\t\\t\\t\\t\\t</ol>\\n\\t\\t\\t\\t\\t\\t</li>\\n\\t\\t        <li>\\n\\t\\t          <a href=\"http://cusecommunity.syr.edu/s/1632/17/interior.aspx?sid=1632&gid=2&pgid=2227\" aria-expanded=\"false\" aria-label=\"Regions section\">Regions</a>\\n\\t\\t          <button class=\"drawer-button\">Toggle dropdown</button>\\n\\t\\t\\t\\t\\t\\t\\t<ol>\\n\\t\\t\\t\\t\\t\\t\\t\\t\\n\\t\\t\\t\\t<li><a href=\"http://atlanta.syr.edu/\">Atlanta</a></li>\\n\\t\\t\\t\\t<li><a href=\"http://boston.syr.edu/\">Boston</a></li>\\n\\t\\t\\t\\t<li><a href=\"http://chicago.syr.edu/\">Chicago</a></li>\\n\\t\\t\\t\\t<li><a href=\"http://la.syr.edu/\">Los Angeles</a></li>\\n\\t\\t\\t\\t<li><a href=\"http://middleeast.syr.edu/\">Middle East</a></li>\\n\\t\\t\\t\\t<li><a href=\"http://nyc.syr.edu/\">New York</a></li>\\n\\t\\t\\t\\t<li><a href=\"http://sf.syr.edu/\">San Francisco</a></li>\\n\\t\\t\\t\\t<li><a href=\"http://dc.syr.edu/\">Washington, DC</a></li>\\n\\t\\t\\t\\t\\t\\t\\t\\t\\t\\t</ol>\\n\\t\\t        </li>\\n\\t\\t\\t\\t\\t\\t<li>\\n\\t\\t          <a href=\"http://cusecommunity.syr.edu/s/1632/17/interior.aspx?sid=1632&gid=2&pgid=2240\" aria-expanded=\"false\" aria-label=\"Services section\">Services</a>\\n\\t\\t          <button class=\"drawer-button\">Toggle dropdown</button>\\n\\t\\t\\t\\t\\t\\t\\t<ol>\\n\\t\\t\\t\\t\\t\\t\\t\\t\\n\\t\\t\\t\\t<li><a href=\"http://cusecommunity.syr.edu/s/1632/17/interior.aspx?sid=1632&gid=2&pgid=2231\">Career</a></li>\\n\\t\\t\\t\\t<li><a href=\"http://cusecommunity.syr.edu/s/1632/17/interior.aspx?sid=1632&gid=2&pgid=2268\">Network</a></li>\\n\\t\\t\\t\\t<li><a href=\"http://cusecommunity.syr.edu/s/1632/17/interior.aspx?sid=1632&gid=2&pgid=2225\">Generation Orange</a></li>\\n\\t\\t\\t\\t<li><a href=\"http://cusecommunity.syr.edu/?sid=1632&gid=2&pgid=6\">Directory</a></li>\\n\\t\\t\\t\\t<li><a href=\"http://cusecommunity.syr.edu/profile\">Profile</a></li>\\n\\t\\t\\t\\t<li><a href=\"http://cusecommunity.syr.edu/notes\">Class Notes</a></li>\\n\\t\\t\\t\\t\\t\\t\\t\\t\\t\\t</ol>\\n\\t\\t        </li>\\n\\t\\t\\t\\t\\t\\t<li><a href=\"http://giving.syr.edu/\">Giving</a></li>\\n\\t\\t        <li><a href=\"http://cusecommunity.syr.edu/s/1632/17/interior.aspx?sid=1632&gid=2&pgid=2219\">Contact</a></li>\\n\\t\\t\\t\\t\\t</ol>\\n\\t\\t\\t\\t</li>\\n      </ol>\\n\\t\\t\\t<aside id=\"g6-uni-header-menu-utility\">\\n\\t\\t\\t\\t<ol role=\"navigation\" aria-label=\"Connect with Syracuse\">\\n\\t\\t\\t\\t\\t<li><a href=\"/about/contact/\" aria-label=\"Contact the University\">Contact</a></li>\\n\\t\\t\\t\\t\\t<li><a href=\"/about/visit/\" aria-label=\"Schedule a Visit\">Visit</a></li>\\n\\t\\t\\t\\t\\t<li><a href=\"/admissions/apply/\" aria-label=\"Apply Now\">Apply</a></li>\\n\\t\\t\\t\\t\\t<li id=\"g6-uni-last\"><a href=\"http://cusecommunity.syr.edu/s/1632/17/form/landing.aspx?sid=1632&gid=2&pgid=383\" aria-label=\"Make a Gift\">Give</a></li>\\n\\t\\t\\t\\t</ol>\\n\\t\\t\\t\\t<div style=\"position: absolute; left: -10000px\"><button class=\"go-to-close-button\">Go to close menu button</button></div>\\n\\t\\t\\t</aside>\\n\\t\\t</nav>\\n\\t</header>\\n\\t<nav id=\"nav-local\"><span class=\"hoverLeft\"></span><div class=\"scroller scroll-x\">  <ol id=\"nav-local-promo\">\\n    <li><a href=\"https://www.syracuse.edu/150years/\">150 Years</a></li>\\n  </ol>\\n<ol id=\"nav-local-browse\" role=\"navigation\" aria-label=\"Syracuse browse categories\"><li><a href=\"/about/\">About</a></li><li><a href=\"/admissions/\">Admissions</a></li><li><a href=\"/academics/\">Academics</a></li><li><a href=\"/life/\">Life</a></li><li><a href=\"http://cuse.com/\">Athletics</a></li></ol><ol id=\"nav-local-dropdown\" role=\"navigation\" aria-label=\"Audience links\"><li class=\"in-this-section\" data-trigger><a href=\"#\" aria-haspopup=\"true\" aria-expanded=\"false\">Info for</a></li><li class=\"dropdown\"><a href=\"/life/students/\">Students</a></li><li class=\"dropdown\"><a href=\"/life/veterans-military/\">Veterans &amp; Military</a></li><li class=\"dropdown\"><a href=\"/life/faculty-staff/\">Faculty &amp; Staff</a></li><li class=\"dropdown\"><a href=\"/life/parents/\">Parents &amp; Families</a></li><li class=\"dropdown\"><a href=\"http://cusecommunity.syr.edu/\">Alumni</a></li></ol><ol id=\"nav-local-breadcrumbs\" role=\"navigation\" aria-label=\"Quick links\"><li><a href=\"https://news.syr.edu/\">News</a></li><li><a href=\"https://calendar.syracuse.edu/events/\">Events</a></li><li><a href=\"http://giving.syr.edu/\">Giving</a></li><li><a href=\"http://library.syr.edu\">Libraries</a></li><li><a href=\"https://myslice.ps.syr.edu/\">MySlice</a></li><li><a href=\"/a-z/\">A-Z</a></li></ol></div><span class=\"hoverRight\"></span></nav><div id=\"content\" class=\"site-content\">\\t<div id=\"primary\" class=\"content-area\">\\n\\t\\t<main id=\"main\" class=\"site-main\" role=\"main\">\\n\\n\\t\\t\\t<div class=\"hero\"><article id=\"post-18266\">\\n\\t\\t\\t\\t<figure id=\"banner\"></figure>\\n\\t\\t\\t\\t<div id=\"banner-card\" class=\"right  \">\\n\\t\\t\\t\\t\\t<div class=\"sizer\"><h1 class=\"hero-title\">Syracuse University Launches Historic $1.5 Billion Forever Orange Campaign</h1><p>Fueled by undeniable momentum and powered by a fiercely passionate Orange community, the campaign kicks off as the University celebrates its sesquicentennial and reflects on 150 years of impact.</p><a class=\"button orange\" href=\"https://news.syr.edu/blog/2019/11/08/syracuse-university-launches-historic-1-5-billion-forever-orange-campaign/\">Learn more</a></div>\\n\\t\\t\\t\\t</div>\\n\\t\\t\\t</article><aside><div id=\"homepage_cards\"><div class=\"card\"><figure><a href=\"https://news.syr.edu/blog/2019/11/11/kwang-g-tan-g73-donates-5-million-in-support-of-nvrc-center-of-veteran-life-programming-and-research-on-campus/\" tabindex=\"-1\"><img class=\"lazy-load\" srcset=\"https://www.syracuse.edu/wp-content/themes/g6-carbon/img/3x2.gif 3w\" data-srcset=\"https://www.syracuse.edu/wp-content/uploads/kg-tan-1600x1200.jpg 1600w,\\n\\t\\t\\t\\t\\t\\t\\t\\t\\t\\thttps://www.syracuse.edu/wp-content/uploads/kg-tan-1100x825.jpg 1100w,\\n\\t\\t\\t\\t\\t\\t\\t\\t\\t\\thttps://www.syracuse.edu/wp-content/uploads/kg-tan-800x600.jpg 800w\"\\n\\t\\t\\t\\t\\t\\t\\t\\t\\tsizes=\"(min-width: 95em) 25vw, (min-width: 45em) 50vw, 100vw\"\\n\\t\\t\\t\\t\\t\\t\\t\\t\\tsrc=\"https://www.syracuse.edu/wp-content/themes/g6-carbon/img/3x2.gif\" data-src=\"https://www.syracuse.edu/wp-content/uploads/kg-tan-1100x825.jpg\" width=\"1100\" height=\"825\" alt=\"\"><noscript><img srcset=\"https://www.syracuse.edu/wp-content/uploads/kg-tan-1600x1200.jpg 1600w,\\n\\t\\t\\t\\t\\t\\t\\t\\t\\t\\t\\thttps://www.syracuse.edu/wp-content/uploads/kg-tan-1100x825.jpg 1100w,\\n\\t\\t\\t\\t\\t\\t\\t\\t\\t\\t\\thttps://www.syracuse.edu/wp-content/uploads/kg-tan-800x600.jpg 800w\"\\n\\t\\t\\t\\t\\t\\t\\t\\t\\t\\tsizes=\"(min-width: 95em) 25vw, (min-width: 45em) 50vw, 100vw\"\\n\\t\\t\\t\\t\\t\\t\\t\\t\\t\\tsrc=\"https://www.syracuse.edu/wp-content/uploads/kg-tan-1100x825.jpg\" width=\"1100\" height=\"825\" alt=\"\"></noscript></a></figure><div class=\"sizer\"><p class=\"kicker\">FOREVER ORANGE</p><h2><a href=\"https://news.syr.edu/blog/2019/11/11/kwang-g-tan-g73-donates-5-million-in-support-of-nvrc-center-of-veteran-life-programming-and-research-on-campus/\">Kwang G. Tan Donates $5 Million in Support of NVRC</a></h2><p class=\"text\">Tan’s gift is dedicated to academic research, programming and thought leadership that will address the wellness concerns of veterans and their families.</p></div></div><div class=\"card\"><figure><a href=\"https://news.syr.edu/blog/2019/11/08/thank-you-for-boosting-the-cuse-2/\" tabindex=\"-1\"><img class=\"lazy-load\" srcset=\"https://www.syracuse.edu/wp-content/themes/g6-carbon/img/3x2.gif 3w\" data-srcset=\"https://www.syracuse.edu/wp-content/uploads/boost-the-cuse-otto-19-1-1.jpg 1600w,\\n\\t\\t\\t\\t\\t\\t\\t\\t\\t\\thttps://www.syracuse.edu/wp-content/uploads/boost-the-cuse-otto-19-1-1.jpg 1100w,\\n\\t\\t\\t\\t\\t\\t\\t\\t\\t\\thttps://www.syracuse.edu/wp-content/uploads/boost-the-cuse-otto-19-1-1.jpg 800w\"\\n\\t\\t\\t\\t\\t\\t\\t\\t\\tsizes=\"(min-width: 95em) 25vw, (min-width: 45em) 50vw, 100vw\"\\n\\t\\t\\t\\t\\t\\t\\t\\t\\tsrc=\"https://www.syracuse.edu/wp-content/themes/g6-carbon/img/3x2.gif\" data-src=\"https://www.syracuse.edu/wp-content/uploads/boost-the-cuse-otto-19-1-1.jpg\" width=\"778\" height=\"518\" alt=\"Otto holding a sign that reads \"thank you!\"\"><noscript><img srcset=\"https://www.syracuse.edu/wp-content/uploads/boost-the-cuse-otto-19-1-1.jpg 1600w,\\n\\t\\t\\t\\t\\t\\t\\t\\t\\t\\t\\thttps://www.syracuse.edu/wp-content/uploads/boost-the-cuse-otto-19-1-1.jpg 1100w,\\n\\t\\t\\t\\t\\t\\t\\t\\t\\t\\t\\thttps://www.syracuse.edu/wp-content/uploads/boost-the-cuse-otto-19-1-1.jpg 800w\"\\n\\t\\t\\t\\t\\t\\t\\t\\t\\t\\tsizes=\"(min-width: 95em) 25vw, (min-width: 45em) 50vw, 100vw\"\\n\\t\\t\\t\\t\\t\\t\\t\\t\\t\\tsrc=\"https://www.syracuse.edu/wp-content/uploads/boost-the-cuse-otto-19-1-1.jpg\" width=\"778\" height=\"518\" alt=\"Otto holding a sign that reads \"thank you!\"\"></noscript></a></figure><div class=\"sizer\"><p class=\"kicker\">FOREVER ORANGE</p><h2><a href=\"https://news.syr.edu/blog/2019/11/08/thank-you-for-boosting-the-cuse-2/\">Thank You for Boosting the ’Cuse!</a></h2><p class=\"text\">The preliminary Boost the ’Cuse results are in: During 44 legendary hours, 6,210 generous donors gave $2.5 million to enrich the lives of students and support their Orange passions.</p></div></div><div class=\"card\"><figure><a href=\"https://news.syr.edu/blog/2019/11/06/elliot-j-stamler-60-makes-living-legacy-gift-of-5-48-million-to-support-academic-strategic-plan/\" tabindex=\"-1\"><img class=\"lazy-load\" srcset=\"https://www.syracuse.edu/wp-content/themes/g6-carbon/img/3x2.gif 3w\" data-srcset=\"https://www.syracuse.edu/wp-content/uploads/elliot-stamler-bottom-well-e1573142702383-1600x1067.jpg 1600w,\\n\\t\\t\\t\\t\\t\\t\\t\\t\\t\\thttps://www.syracuse.edu/wp-content/uploads/elliot-stamler-bottom-well-e1573142702383-1100x733.jpg 1100w,\\n\\t\\t\\t\\t\\t\\t\\t\\t\\t\\thttps://www.syracuse.edu/wp-content/uploads/elliot-stamler-bottom-well-e1573142702383-800x533.jpg 800w\"\\n\\t\\t\\t\\t\\t\\t\\t\\t\\tsizes=\"(min-width: 95em) 25vw, (min-width: 45em) 50vw, 100vw\"\\n\\t\\t\\t\\t\\t\\t\\t\\t\\tsrc=\"https://www.syracuse.edu/wp-content/themes/g6-carbon/img/3x2.gif\" data-src=\"https://www.syracuse.edu/wp-content/uploads/elliot-stamler-bottom-well-e1573142702383-1100x733.jpg\" width=\"1100\" height=\"733\" alt=\"Elliot Stamler headshot\"><noscript><img srcset=\"https://www.syracuse.edu/wp-content/uploads/elliot-stamler-bottom-well-e1573142702383-1600x1067.jpg 1600w,\\n\\t\\t\\t\\t\\t\\t\\t\\t\\t\\t\\thttps://www.syracuse.edu/wp-content/uploads/elliot-stamler-bottom-well-e1573142702383-1100x733.jpg 1100w,\\n\\t\\t\\t\\t\\t\\t\\t\\t\\t\\t\\thttps://www.syracuse.edu/wp-content/uploads/elliot-stamler-bottom-well-e1573142702383-800x533.jpg 800w\"\\n\\t\\t\\t\\t\\t\\t\\t\\t\\t\\tsizes=\"(min-width: 95em) 25vw, (min-width: 45em) 50vw, 100vw\"\\n\\t\\t\\t\\t\\t\\t\\t\\t\\t\\tsrc=\"https://www.syracuse.edu/wp-content/uploads/elliot-stamler-bottom-well-e1573142702383-1100x733.jpg\" width=\"1100\" height=\"733\" alt=\"Elliot Stamler headshot\"></noscript></a></figure><div class=\"sizer\"><p class=\"kicker\">FOREVER ORANGE</p><h2><a href=\"https://news.syr.edu/blog/2019/11/06/elliot-j-stamler-60-makes-living-legacy-gift-of-5-48-million-to-support-academic-strategic-plan/\">Elliot Stamler Makes Living Legacy Gift of $5.48 Million</a></h2><p class=\"text\">Stamler’s gift will be directed to multiple recipients on campus to support academic and research excellence—positively shaping the experiences of countless students.</p></div></div><div class=\"card\"><figure><a href=\"https://www.syracuse.edu/150years/\" tabindex=\"-1\"><img class=\"lazy-load\" srcset=\"https://www.syracuse.edu/wp-content/themes/g6-carbon/img/3x2.gif 3w\" data-srcset=\"https://www.syracuse.edu/wp-content/uploads/150-new-image-1600x1065.jpg 1600w,\\n\\t\\t\\t\\t\\t\\t\\t\\t\\t\\thttps://www.syracuse.edu/wp-content/uploads/150-new-image-1100x732.jpg 1100w,\\n\\t\\t\\t\\t\\t\\t\\t\\t\\t\\thttps://www.syracuse.edu/wp-content/uploads/150-new-image-800x532.jpg 800w\"\\n\\t\\t\\t\\t\\t\\t\\t\\t\\tsizes=\"(min-width: 95em) 25vw, (min-width: 45em) 50vw, 100vw\"\\n\\t\\t\\t\\t\\t\\t\\t\\t\\tsrc=\"https://www.syracuse.edu/wp-content/themes/g6-carbon/img/3x2.gif\" data-src=\"https://www.syracuse.edu/wp-content/uploads/150-new-image-1100x732.jpg\" width=\"1100\" height=\"732\" alt=\"Image of the Hall of Languages\"><noscript><img srcset=\"https://www.syracuse.edu/wp-content/uploads/150-new-image-1600x1065.jpg 1600w,\\n\\t\\t\\t\\t\\t\\t\\t\\t\\t\\t\\thttps://www.syracuse.edu/wp-content/uploads/150-new-image-1100x732.jpg 1100w,\\n\\t\\t\\t\\t\\t\\t\\t\\t\\t\\t\\thttps://www.syracuse.edu/wp-content/uploads/150-new-image-800x532.jpg 800w\"\\n\\t\\t\\t\\t\\t\\t\\t\\t\\t\\tsizes=\"(min-width: 95em) 25vw, (min-width: 45em) 50vw, 100vw\"\\n\\t\\t\\t\\t\\t\\t\\t\\t\\t\\tsrc=\"https://www.syracuse.edu/wp-content/uploads/150-new-image-1100x732.jpg\" width=\"1100\" height=\"732\" alt=\"Image of the Hall of Languages\"></noscript></a></figure><div class=\"sizer\"><p class=\"kicker\">SESQUICENTENNIAL</p><h2><a href=\"https://www.syracuse.edu/150years/\">Celebrating 150 Years of Firsts at Syracuse University</a></h2><p class=\"text\">As we mark our first century and a half, we look back at our fearless firsts that changed the Syracuse community, our region and the world. Now we stand at the forefront of what\\'s next.</p></div></div></div></aside></div>\\n\\t\\t\\t<div style=\"clear:both;\"></div>\\n\\n\\t\\t</main><!-- #main -->\\n\\t</div><!-- #primary -->\\n\\n\\n\\t</div><!-- #content -->\\n\\n\\t<footer id=\"footer\" role=\"contentinfo\">\\n\\n\\t\\t<div id=\"footer-main\">\\n\\t\\t\\t<div id=\"footer-main-inner\">\\n\\n\\t\\t\\t\\t<div id=\"footer-main-right\">\\n\\t\\t\\t\\t\\t<ol id=\"footer-nav\" role=\"navigation\" aria-label=\"Popular tasks\">\\n\\t\\t\\t\\t\\t\\t<li><a class=\"top-level\" href=\"https://www.syracuse.edu/sitemap/\" aria-expanded=\"false\" aria-label=\"Popular section\">Popular</a><button class=\"drawer-button\">Toggle dropdown</button>\\n\\t\\t\\t\\t\\t\\t\\t<ol>\\n\\t\\t\\t\\t\\t\\t\\t\\t<li><a href=\"https://www.syracuse.edu/academics/calendars/\">Academic Calendar</a></li><li><a href=\"https://www.syracuse.edu/about/map/\">Campus Map</a></li><li><a href=\"https://www.syracuse.edu/about/work-at-syracuse/\">Careers</a></li><li><a href=\"http://library.syr.edu/\">Libraries</a></li><li><a href=\"https://www.syracuse.edu/academics/undergraduate-majors-minors/\">Majors and Minors</a></li><li><a href=\"https://www.syracuse.edu/admissions/visit-tour/\">Visit and Tour</a></li>\\t\\t\\t\\t\\t\\t\\t</ol></li>\\n\\t\\t\\t\\t\\t\\t<li><a class=\"top-level\" href=\"https://www.syracuse.edu/a-z/\" aria-expanded=\"false\" aria-label=\"A-Z section\">A-Z</a><button class=\"drawer-button\">Toggle dropdown</button>\\n\\t\\t\\t\\t\\t\\t\\t<ol>\\n\\t\\t\\t\\t\\t\\t\\t\\t<li><a href=\"http://directory.syr.edu/\">Find People (Directory)</a></li><li><a href=\"https://www.syracuse.edu/academics/departments/\">Academic Departments</a></li><li><a href=\"https://www.syracuse.edu/academics/schools-colleges/\">Schools and Colleges</a></li><li><a href=\"https://www.syracuse.edu/sitemap/\">Sitemap</a></li><li><a href=\"https://www.syracuse.edu/search/\">Search</a></li>\\t\\t\\t\\t\\t\\t\\t</ol></li>\\n\\t\\t\\t\\t\\t\\t<li><a class=\"top-level\" href=\"https://www.syracuse.edu/about/contact/\" aria-expanded=\"false\" aria-label=\"Contact section\">Contact</a><button class=\"drawer-button\">Toggle dropdown</button>\\n\\t\\t\\t\\t\\t\\t\\t<ol>\\n\\t\\t\\t\\t\\t\\t\\t\\t<li><a href=\"https://www.syracuse.edu/admissions/\">Admissions</a></li><li><a href=\"https://www.syracuse.edu/admissions/cost-and-aid/contact/\">Financial Aid</a></li><li><a href=\"https://www.syracuse.edu/about/contact/emergencies/\">Emergency Contacts</a></li><li><a href=\"https://hr.syr.edu\">Human Resources</a></li><li><a href=\"https://www.syracuse.edu/about/site/feedback/\">Website Feedback</a></li><li><a href=\"http://cusecommunity.syr.edu/s/1632/17/form/landing.aspx?sid=1632&gid=2&pgid=383\">Make a Gift</a></li>\\t\\t\\t\\t\\t\\t\\t</ol></li>\\n\\t\\t\\t\\t\\t\\t<li><a class=\"top-level\" href=\"https://www.syracuse.edu/login/\" aria-expanded=\"false\" aria-label=\"Login section\">Login</a><button class=\"drawer-button\">Toggle dropdown</button>\\n\\t\\t\\t\\t\\t\\t\\t<ol>\\n\\t\\t\\t\\t\\t\\t\\t\\t<li><a href=\"https://myslice.ps.syr.edu/\">MySlice</a></li><li><a href=\"https://blackboard.syracuse.edu/\">Blackboard</a></li><li><a href=\"https://sumail.syr.edu/\">Student Email</a></li><li><a href=\"https://exchange.syr.edu/\">Faculty & Staff Email</a></li>\\t\\t\\t\\t\\t\\t\\t</ol></li>\\n\\t\\t\\t\\t\\t</ol>\\n\\t\\t\\t\\t</div>\\n\\n\\t\\t\\t\\t<div id=\"footer-main-left\">\\n\\t\\t\\t\\t\\t<div id=\"footer-seal\">\\n\\t\\t\\t\\t\\t\\t<span>\\n\\t\\t\\t\\t\\t\\t\\t<img src=\"https://www.syracuse.edu/wp-content/themes/g6-carbon/img/syracuse-university-seal-white.svg?ver=6.4.8.1\" width=\"169\" height=\"170\" alt=\"Syracuse University Seal\">\\n\\t\\t\\t\\t\\t\\t</span>\\n\\t\\t\\t\\t\\t</div>\\n\\t\\t\\t\\t\\t<div id=\"footer-address\">\\n\\t\\t\\t\\t\\t\\t<address>Syracuse University <br>900 South Crouse Ave. <br>Syracuse, NY 13244 <br><br>Phone: +1.315.443.1870</address>\\n\\t\\t\\t\\t\\t</div>\\n\\t\\t\\t\\t</div>\\n\\n\\t\\t\\t</div>\\n\\t\\t</div>\\n\\n\\t\\t<div id=\"footer-universal\">\\n\\t\\t\\t<div id=\"footer-universal-inner\">\\n\\n\\t\\t\\t\\t<div id=\"footer-copyright-utility\">\\n\\n\\t\\t\\t\\t\\t<div id=\"footer-social\">\\n\\t\\t\\t\\t\\t\\t<ul role=\"navigation\" aria-label=\"Social media\">\\n\\t\\t\\t\\t\\t\\t\\t<li><a class=\"facebook\" href=\"https://www.facebook.com/syracuseuniversity/\">\\n\\t\\t\\t\\t\\t\\t\\t\\t<svg width=\"14\" height=\"26\" aria-labelledby=\"footer-social-facebook\" role=\"img\" xmlns=\"http://www.w3.org/2000/svg\" viewBox=\"0 0 13 24\" enable-background=\"new 0 0 13 24\"><title id=\"footer-social-facebook\">Like Syracuse on Facebook</title><path d=\"M12 3.8H9.8c-1.7 0-2 .8-2 2v2.6h4.1l-.6 4.2H7.8v10.6H3.5V12.6H0V8.5h3.6v-3C3.6 2 5.8 0 8.9 0c1.5 0 2.8.1 3.2.2L12 3.8z\"/></svg>\\n\\t\\t\\t\\t\\t\\t\\t</a></li>\\n\\t\\t\\t\\t\\t\\t\\t<li><a class=\"twitter\" href=\"https://twitter.com/SyracuseU\">\\n\\t\\t\\t\\t\\t\\t\\t\\t<svg width=\"28\" height=\"21\" aria-labelledby=\"footer-social-twitter\" role=\"img\" xmlns=\"http://www.w3.org/2000/svg\" viewBox=\"0 0 24 20\" enable-background=\"new 0 0 24 20\"><title id=\"footer-social-twitter\">Follow Syracuse on Twitter</title><path d=\"M21.3 5.1c0 .2 0 .4 0 .6 0 6.4-4.9 13.8-13.8 13.8-2.8 0-5.3-.8-7.5-2.2.4 0 .8.1 1.2.1 2.3 0 4.4-.8 6-2.1-2.1 0-3.9-1.4-4.5-3.4.3 0 .6.1.9.1.4 0 .9-.1 1.3-.2C2.7 11.3 1 9.4 1 7c0 0 0 0 0-.1.6.4 1.4.6 2.2.6C1.9 6.6 1 5.1 1 3.4c0-.9.2-1.7.7-2.5 2.4 3 6 4.9 10 5.1-.1-.4-.1-.7-.1-1.1 0-2.7 2.2-4.9 4.9-4.9 1.4 0 2.7.6 3.6 1.5 1.1-.2 2.2-.6 3.1-1.2-.4 1.1-1.1 2.1-2.1 2.7 1-.1 1.9-.4 2.8-.8-.8 1.3-1.6 2.2-2.6 2.9z\"/></svg>\\n\\t\\t\\t\\t\\t\\t\\t</a></li>\\n\\t\\t\\t\\t\\t\\t\\t<li><a class=\"youtube\" href=\"https://www.youtube.com/user/Syracuse\">\\n\\t\\t\\t\\t\\t\\t\\t\\t<svg width=\"28\" height=\"18\" aria-labelledby=\"footer-social-youtube\" role=\"img\" xmlns=\"http://www.w3.org/2000/svg\" viewBox=\"0 0 25 18\" enable-background=\"new 0 0 25 18\"><title id=\"footer-social-youtube\">Subscribe to Syracuse on YouTube</title><path d=\"M24.6 15.1c-.3 1.4-1.4 2.4-2.7 2.5-3 .3-6.2.3-9.3.3s-6.3 0-9.3-.3C2 17.5.9 16.4.6 15.1 0 13.2 0 11 0 9s0-4.2.4-6.1C.7 1.5 1.8.5 3.1.4 6.2 0 9.3 0 12.5 0s6.3 0 9.3.3c1.3.1 2.4 1.2 2.7 2.5.5 2 .5 4.2.5 6.2s0 4.2-.4 6.1zm-7.1-6.9l-6.9-4.5c-.4-.2-.7-.2-1 0-.4.1-.6.5-.6.8v9c0 .3.2.7.5.8.1.1.4.1.5.1.2 0 .4 0 .5-.1l7-4.5c.3-.1.5-.5.5-.8s-.1-.5-.5-.8z\"/></svg>\\n\\t\\t\\t\\t\\t\\t\\t</a></li>\\n\\t\\t\\t\\t\\t\\t\\t<li><a class=\"instagram\" href=\"https://www.instagram.com/syracuseu/\">\\n\\t\\t\\t\\t\\t\\t\\t\\t<svg width=\"22\" height=\"22\" aria-labelledby=\"footer-social-instagram\" role=\"img\" xmlns=\"http://www.w3.org/2000/svg\" viewBox=\"0 0 22 22\" enable-background=\"new 0 0 22 22\"><title id=\"footer-social-instagram\">Follow Syracuse on Instagram</title><path d=\"M11 7c-2.2 0-4 1.8-4 4s1.8 4 4 4 4-1.7 4-4-1.8-4-4-4zM21.9 6.5c-.1-1.8-.5-3.3-1.8-4.6S17.3.2 15.5.1C14 0 12.5 0 11 0S8 0 6.5.1C4.7.2 3.1.6 1.8 1.8.6 3.1.2 4.7.1 6.5 0 8 0 9.5 0 11s0 3 .1 4.5c.1 1.8.5 3.3 1.8 4.6 1.3 1.3 2.8 1.7 4.6 1.8 1.5.1 3 .1 4.5.1s3 0 4.5-.1c1.8-.1 3.3-.5 4.6-1.8 1.3-1.3 1.7-2.8 1.8-4.6.1-1.5.1-3 .1-4.5s0-3-.1-4.5zM11 17c-3.3 0-6-2.7-6-6s2.7-6 6-6 6 2.7 6 6-2.7 6-6 6zm6-10.5c-.8 0-1.5-.7-1.5-1.5s.7-1.5 1.5-1.5 1.5.7 1.5 1.5c0 .9-.7 1.5-1.5 1.5z\"/></svg>\\n\\t\\t\\t\\t\\t\\t\\t</a></li>\\n\\t\\t\\t\\t\\t\\t</ul>\\n\\t\\t\\t\\t\\t</div>\\n\\n\\t\\t\\t\\t\\t<p class=\"copyright\">&copy; <a href=\"/\" aria-label=\"Copyright Syracuse University\">Syracuse University</a>. <em><a class=\"toggle-motto\" href=\"#\" title=\"Toggle English/Latin\">Knowledge crowns those who seek her</a>.</em></p>\\n\\n\\t\\t\\t\\t\\t<ul class=\"utility\" role=\"navigation\" aria-label=\"Utility links\">\\n\\n\\t\\t\\t\\t\\t\\t<li><a href=\"https://www.syracuse.edu/life/accessibility-diversity/accessible-syracuse/\">Accessibility</a></li><li><a href=\"http://middlestates.syr.edu/?_ga=1.122695753.313684714.1479758891\">Accreditation</a></li><li><a href=\"https://www.syracuse.edu/about/contact/emergencies/\">Emergencies</a></li><li><a href=\"https://www.syracuse.edu/about/site/privacy-policy/\">Privacy</a></li>\\n\\t\\t\\t\\t\\t</ul>\\n\\t\\t\\t\\t</div>\\n\\t\\t\\t</div>\\n\\t\\t</div>\\n\\n\\t</footer>\\n\\n</div><!-- #page -->\\n\\n<!-- Matomo -->\\n<script type=\"text/javascript\">\\n  var _paq = window._paq || [];\\n  /* tracker methods like \"setCustomDimension\" should be called before \"trackPageView\" */\\n  _paq.push([\"setDomains\", [\"*.www.syracuse.edu\"]]);\\n  _paq.push([\"enableCrossDomainLinking\"]);\\n  _paq.push([\\'trackPageView\\']);\\n  _paq.push([\\'enableLinkTracking\\']);\\n  (function() {\\n    var u=\"//syr-piwik-prod.syr.edu/\";\\n    _paq.push([\\'setTrackerUrl\\', u+\\'piwik.php\\']);\\n    _paq.push([\\'setSiteId\\', \\'1\\']);\\n    var d=document, g=d.createElement(\\'script\\'), s=d.getElementsByTagName(\\'script\\')[0];\\n    g.type=\\'text/javascript\\'; g.async=true; g.defer=true; g.src=u+\\'piwik.js\\'; s.parentNode.insertBefore(g,s);\\n  })();\\n</script>\\n<!-- End Matomo Code -->\\n<noscript><p><img src=\"//syr-piwik-prod.syr.edu/piwik.php?idsite=1&rec=1\" style=\"border:0;\" alt=\"\" /></p></noscript>\\n<script type=\\'text/javascript\\' src=\\'https://www.google.com/recaptcha/api.js?render=6LdvTo8UAAAAAOTyucdXrHsAks8qdurjoJX4QgRE&#038;ver=3.0\\'></script>\\n<script type=\\'text/javascript\\' src=\\'//ajax.googleapis.com/ajax/libs/jquery/3.3.1/jquery.min.js?ver=3.3.1\\'></script>\\n<script type=\\'text/javascript\\' src=\\'https://cse.google.com/query_renderer.js?ver=7a9f0f2958f8ca557ab90c21a9d967e7\\'></script>\\n<script type=\\'text/javascript\\' src=\\'https://cse.google.com/api/004164346848750669847:ikweksae9yu/popularqueryjs?view=overall&#038;callback=%28new+PopularQueryRenderer%28document.getElementById%28%22g6-uni-header-search-queries%22%29%29%29.render&#038;ver=7a9f0f2958f8ca557ab90c21a9d967e7\\'></script>\\n<script type=\\'text/javascript\\'>\\n/* <![CDATA[ */\\nvar php_vars = {\"isAdmin\":\"\",\"templateUrl\":\"https:\\\\/\\\\/www.syracuse.edu\\\\/wp-content\\\\/themes\\\\/g6-carbon\"};\\n/* ]]> */\\n</script>\\n<script type=\\'text/javascript\\' src=\\'https://www.syracuse.edu/wp-content/themes/g6-carbon/js/carbon-all.js?ver=6.4.8.1-1565727603651\\'></script>\\n<script type=\\'text/javascript\\' src=\\'https://www.syracuse.edu/wp-includes/js/wp-embed.min.js?ver=7a9f0f2958f8ca557ab90c21a9d967e7\\'></script>\\n<script type=\"text/javascript\">\\n( function( grecaptcha, sitekey, actions ) {\\n\\n\\tvar wpcf7recaptcha = {\\n\\n\\t\\texecute: function( action ) {\\n\\t\\t\\tgrecaptcha.execute(\\n\\t\\t\\t\\tsitekey,\\n\\t\\t\\t\\t{ action: action }\\n\\t\\t\\t).then( function( token ) {\\n\\t\\t\\t\\tvar forms = document.getElementsByTagName( \\'form\\' );\\n\\n\\t\\t\\t\\tfor ( var i = 0; i < forms.length; i++ ) {\\n\\t\\t\\t\\t\\tvar fields = forms[ i ].getElementsByTagName( \\'input\\' );\\n\\n\\t\\t\\t\\t\\tfor ( var j = 0; j < fields.length; j++ ) {\\n\\t\\t\\t\\t\\t\\tvar field = fields[ j ];\\n\\n\\t\\t\\t\\t\\t\\tif ( \\'g-recaptcha-response\\' === field.getAttribute( \\'name\\' ) ) {\\n\\t\\t\\t\\t\\t\\t\\tfield.setAttribute( \\'value\\', token );\\n\\t\\t\\t\\t\\t\\t\\tbreak;\\n\\t\\t\\t\\t\\t\\t}\\n\\t\\t\\t\\t\\t}\\n\\t\\t\\t\\t}\\n\\t\\t\\t} );\\n\\t\\t},\\n\\n\\t\\texecuteOnHomepage: function() {\\n\\t\\t\\twpcf7recaptcha.execute( actions[ \\'homepage\\' ] );\\n\\t\\t},\\n\\n\\t\\texecuteOnContactform: function() {\\n\\t\\t\\twpcf7recaptcha.execute( actions[ \\'contactform\\' ] );\\n\\t\\t},\\n\\n\\t};\\n\\n\\tgrecaptcha.ready(\\n\\t\\twpcf7recaptcha.executeOnHomepage\\n\\t);\\n\\n\\tdocument.addEventListener( \\'change\\',\\n\\t\\twpcf7recaptcha.executeOnContactform, false\\n\\t);\\n\\n\\tdocument.addEventListener( \\'wpcf7submit\\',\\n\\t\\twpcf7recaptcha.executeOnHomepage, false\\n\\t);\\n\\n} )(\\n\\tgrecaptcha,\\n\\t\\'6LdvTo8UAAAAAOTyucdXrHsAks8qdurjoJX4QgRE\\',\\n\\t{\"homepage\":\"homepage\",\"contactform\":\"contactform\"}\\n);\\n</script>\\n\\n</body>\\n</html>\\n'"
      ]
     },
     "execution_count": 8,
     "metadata": {},
     "output_type": "execute_result"
    }
   ],
   "source": [
    "response.text"
   ]
  },
  {
   "cell_type": "code",
   "execution_count": 9,
   "metadata": {},
   "outputs": [],
   "source": [
    "resp2 = requests.get(\"https://www.syr.edu/mikeisawesome\")"
   ]
  },
  {
   "cell_type": "code",
   "execution_count": 10,
   "metadata": {},
   "outputs": [
    {
     "data": {
      "text/plain": [
       "False"
      ]
     },
     "execution_count": 10,
     "metadata": {},
     "output_type": "execute_result"
    }
   ],
   "source": [
    "resp2.ok"
   ]
  },
  {
   "cell_type": "code",
   "execution_count": 13,
   "metadata": {},
   "outputs": [
    {
     "data": {
      "text/plain": [
       "410"
      ]
     },
     "execution_count": 13,
     "metadata": {},
     "output_type": "execute_result"
    }
   ],
   "source": [
    "resp2.status_code"
   ]
  },
  {
   "cell_type": "code",
   "execution_count": 14,
   "metadata": {},
   "outputs": [],
   "source": [
    "import requests\n",
    "text = 'Syracuse University'\n",
    "\n",
    "url = 'https://nominatim.openstreetmap.org/search'\n",
    "data= { 'q' : text, 'format' :'json' }\n",
    "resp = requests.get(url, params=data)\n"
   ]
  },
  {
   "cell_type": "code",
   "execution_count": 15,
   "metadata": {},
   "outputs": [
    {
     "data": {
      "text/plain": [
       "True"
      ]
     },
     "execution_count": 15,
     "metadata": {},
     "output_type": "execute_result"
    }
   ],
   "source": [
    "resp.ok"
   ]
  },
  {
   "cell_type": "code",
   "execution_count": 17,
   "metadata": {},
   "outputs": [],
   "source": [
    "geodata = resp.json()\n"
   ]
  },
  {
   "cell_type": "code",
   "execution_count": 18,
   "metadata": {},
   "outputs": [
    {
     "data": {
      "text/plain": [
       "list"
      ]
     },
     "execution_count": 18,
     "metadata": {},
     "output_type": "execute_result"
    }
   ],
   "source": [
    "type(geodata)"
   ]
  },
  {
   "cell_type": "code",
   "execution_count": 22,
   "metadata": {},
   "outputs": [
    {
     "name": "stdout",
     "output_type": "stream",
     "text": [
      "Syracuse University, Farm Acre Road, Skytop, Syracuse, Onondaga County, New York, 13210, United States\n",
      "43.01890185 -76.1191814762468\n"
     ]
    }
   ],
   "source": [
    "print(geodata[0]['display_name'])\n",
    "print(geodata[0]['lat'],geodata[0]['lon'])"
   ]
  },
  {
   "cell_type": "code",
   "execution_count": 24,
   "metadata": {},
   "outputs": [
    {
     "name": "stdout",
     "output_type": "stream",
     "text": [
      "Enter A Place: Mount Rushmore\n",
      "Mount Rushmore, Presidential Trail, Pennington County, South Dakota, 57751, United States\n",
      "43.8787301 -103.4591934\n"
     ]
    }
   ],
   "source": [
    "import requests\n",
    "text = input(\"Enter A Place: \")\n",
    "\n",
    "# Let's call the API\n",
    "url = 'https://nominatim.openstreetmap.org/search'\n",
    "data= { 'q' : text, 'format' :'json' }\n",
    "resp = requests.get(url, params=data)\n",
    "# Let's convert the reponse JSON text to a Python Object\n",
    "geodata = resp.json()\n",
    "# Let's extract what we want from the python object\n",
    "print(geodata[0]['display_name'])\n",
    "print(geodata[0]['lat'],geodata[0]['lon'])"
   ]
  },
  {
   "cell_type": "code",
   "execution_count": 26,
   "metadata": {},
   "outputs": [
    {
     "data": {
      "text/plain": [
       "{'id': '1a72c1be-dc44-4923-a215-413aec89f3ed',\n",
       " 'first_name': 'Deborah L',\n",
       " 'last_name': 'Nosky',\n",
       " 'display_name': 'Deborah L Nosky',\n",
       " 'title': None,\n",
       " 'media_data': {'hash': 'a7d324c672e27f5f53a22be3ff9cf35557bbefe7abba97a36b1893ff',\n",
       "  'filename': 'profileimage.jpg'},\n",
       " 'biography': '<h2>overview</h2><p>Deborah brings an array of skills and experience to the classroom. Her experience in the fields of IT, education, and non-profit organizations combined with her knowledge of technology, facilitation, project/time management and presentation delivery makes her a very valuable team member. </p><p>Deb&rsquo;s undergraduate teaching focuses on the important balance of &ldquo;soft&rdquo; and technical skills students need to not only survive but to thrive in today&rsquo;s world.&nbsp; Her interest in this topic comes from more than 35 years of experience as an IT professional, Professor of Practice, and consultant at non-profit organizations throughout the CNY community. Her IT roles have included that of analyst, Help Desk/Call Center manager, and ERP development manager. Each role helped broaden her perspective of the technical and non-technical IT issues faced by medium-to-large size organizations.&nbsp; Her active consulting practice allows her to use her IT experience to help non-profit organizations deploy and make effective use of information and technology.&nbsp; She is currently serving as the Director of Undergraduate Programs and teaches course in Software Development and Database Management. </p><p>Deborah has a B.S. degree from Oswego State University in computer science with a minor in mathematics. Her graduate degree was earned at Syracuse University in the field of Adult Education. She served as the IT &amp; Race Director for Susan G. Komen of CNY Race for the Cure for 10 years. As Race Director, she was responsible for the overall planning, execution, and evaluation of the largest annual single day fundraiser in Central New York. Revenue from the event reached the 3/4 million dollar mark, attracted over 8,000 participants and utilized the talents of more than 400 volunteers.</p>',\n",
       " 'addresses': [],\n",
       " 'links': [],\n",
       " 'phone_numbers': [{'id': '3d4485fe-391e-4c2d-a2f0-0a938f40d07a',\n",
       "   'profile': '1a72c1be-dc44-4923-a215-413aec89f3ed',\n",
       "   'number': '(315) 443-1864',\n",
       "   'phone_type': 'Campus Phone',\n",
       "   'best_contact_time': None,\n",
       "   'is_primary': True}],\n",
       " 'job_titles': [{'id': 'd0f0403a-36a4-4d17-9ae2-4c9254309a0d',\n",
       "   'slug': 'assistant-professor-of-practice',\n",
       "   'title': 'Assistant Professor of Practice'},\n",
       "  {'id': 'd26f227f-592e-402d-9035-1a9d06aaae94',\n",
       "   'slug': 'director-bachelor-of-science-in-information-management-and-technology',\n",
       "   'title': 'Director, Bachelor of Science in Information Management and Technology'}],\n",
       " 'netid': 'dlnosky',\n",
       " 'education': [],\n",
       " 'email_address': 'dlnosky@syr.edu',\n",
       " 'attributes': [{'id': '647b96aa-b365-4ef6-b3af-b2ee86ed7d73',\n",
       "   'profile': '1a72c1be-dc44-4923-a215-413aec89f3ed',\n",
       "   'title': 'Campus Office',\n",
       "   'value': '230',\n",
       "   'sort_order': 0},\n",
       "  {'id': '2240ee36-c292-467c-b435-0d752f0e31a8',\n",
       "   'profile': '1a72c1be-dc44-4923-a215-413aec89f3ed',\n",
       "   'title': 'Campus Building',\n",
       "   'value': 'Hinds Hall',\n",
       "   'sort_order': 0}],\n",
       " 'affiliations': [{'id': '41408a83-6c07-4b24-ac5b-45553c10808c',\n",
       "   'name': 'Faculty',\n",
       "   'academic_rank': 100,\n",
       "   'associated_ad_group': None,\n",
       "   'slug': 'faculty'}]}"
      ]
     },
     "execution_count": 26,
     "metadata": {},
     "output_type": "execute_result"
    }
   ],
   "source": [
    "# https://ischool.syr.edu/people/directories/view/mafudge/\n",
    "me = 'https://profiles.webservices.ischool.syr.edu/api/v1/ischool-profiles/public/mafudge/?format=json'\n",
    "resp = requests.get(me)\n",
    "me_as_python_object = resp.json()\n",
    "me_as_python_object \n"
   ]
  },
  {
   "cell_type": "code",
   "execution_count": 32,
   "metadata": {},
   "outputs": [],
   "source": [
    "#input lat, lon\n",
    "# output currently\n",
    "weather_url = 'https://api.darksky.net/forecast/3428d875996cccbf7b713a175d3fd7a5/43.0189,-76.1191'\n",
    "resp = requests.get(weather_url)\n",
    "weather_data = resp.json()\n"
   ]
  },
  {
   "cell_type": "code",
   "execution_count": 33,
   "metadata": {},
   "outputs": [
    {
     "data": {
      "text/plain": [
       "{'time': 1573508751,\n",
       " 'summary': 'Flurries',\n",
       " 'icon': 'snow',\n",
       " 'nearestStormDistance': 0,\n",
       " 'precipIntensity': 0.004,\n",
       " 'precipIntensityError': 0,\n",
       " 'precipProbability': 1,\n",
       " 'precipType': 'snow',\n",
       " 'precipAccumulation': 0.0023,\n",
       " 'temperature': 30.65,\n",
       " 'apparentTemperature': 23.39,\n",
       " 'dewPoint': 29.17,\n",
       " 'humidity': 0.94,\n",
       " 'pressure': 1017.7,\n",
       " 'windSpeed': 7.69,\n",
       " 'windGust': 7.69,\n",
       " 'windBearing': 6,\n",
       " 'cloudCover': 1,\n",
       " 'uvIndex': 0,\n",
       " 'visibility': 2.174,\n",
       " 'ozone': 342.4}"
      ]
     },
     "execution_count": 33,
     "metadata": {},
     "output_type": "execute_result"
    }
   ],
   "source": [
    "weather_data['currently']\n"
   ]
  },
  {
   "cell_type": "code",
   "execution_count": 39,
   "metadata": {},
   "outputs": [
    {
     "data": {
      "text/plain": [
       "{'name': 'Syracuse, NY', 'lat': '43.0481221', 'lon': '-76.1474244'}"
      ]
     },
     "execution_count": 39,
     "metadata": {},
     "output_type": "execute_result"
    }
   ],
   "source": [
    "text = 'Syracuse, NY'\n",
    "\n",
    "url = 'https://nominatim.openstreetmap.org/search'\n",
    "data= { 'q' : text, 'format' :'json' }\n",
    "resp = requests.get(url, params=data)\n",
    "location = resp.json()\n",
    "place = { 'name' : text, 'lat': location[0]['lat'], 'lon' : location[0]['lon'] }\n",
    "place"
   ]
  },
  {
   "cell_type": "code",
   "execution_count": 46,
   "metadata": {},
   "outputs": [
    {
     "data": {
      "text/plain": [
       "{'time': 1573510351,\n",
       " 'summary': 'Partly Cloudy',\n",
       " 'icon': 'partly-cloudy-day',\n",
       " 'nearestStormDistance': 13,\n",
       " 'nearestStormBearing': 277,\n",
       " 'precipIntensity': 0,\n",
       " 'precipProbability': 0,\n",
       " 'temperature': 77.05,\n",
       " 'apparentTemperature': 77.8,\n",
       " 'dewPoint': 66.94,\n",
       " 'humidity': 0.71,\n",
       " 'pressure': 1015.5,\n",
       " 'windSpeed': 2.57,\n",
       " 'windGust': 2.57,\n",
       " 'windBearing': 123,\n",
       " 'cloudCover': 0.49,\n",
       " 'uvIndex': 0,\n",
       " 'visibility': 8.634,\n",
       " 'ozone': 277.7}"
      ]
     },
     "execution_count": 46,
     "metadata": {},
     "output_type": "execute_result"
    }
   ],
   "source": [
    "#input lat, lon\n",
    "# output currently\n",
    "def get_weather_using_darksky_api(lat, lon):\n",
    "    endpoint = 'https://api.darksky.net/forecast/'\n",
    "    key = '3428d875996cccbf7b713a175d3fd7a5'\n",
    "    weather_url = endpoint + key + f'/{lat},{lon}'\n",
    "    resp = requests.get(weather_url)\n",
    "    weather_data = resp.json()\n",
    "    return weather_data['currently']\n",
    "\n",
    "\n",
    "get_weather_using_darksky_api(29.9511, -90.0715)"
   ]
  },
  {
   "cell_type": "code",
   "execution_count": 41,
   "metadata": {},
   "outputs": [
    {
     "data": {
      "text/plain": [
       "{'name': 'New Orleans, LA', 'lat': '29.9499323', 'lon': '-90.0701156'}"
      ]
     },
     "execution_count": 41,
     "metadata": {},
     "output_type": "execute_result"
    }
   ],
   "source": [
    "def geocode_with_openstreetmaps(location_text):\n",
    "    url = 'https://nominatim.openstreetmap.org/search'\n",
    "    data= { 'q' : location_text, 'format' :'json' }\n",
    "    resp = requests.get(url, params=data)\n",
    "    location = resp.json()\n",
    "    place = { 'name' : location_text, 'lat': location[0]['lat'], 'lon' : location[0]['lon'] }\n",
    "    return  place\n",
    "\n",
    "geocode_with_openstreetmaps('New Orleans, LA')"
   ]
  },
  {
   "cell_type": "code",
   "execution_count": 45,
   "metadata": {},
   "outputs": [
    {
     "name": "stdout",
     "output_type": "stream",
     "text": [
      "Enter a place and I'll give you the current weather.\n",
      "Type place or quit: Syracuse, NY\n",
      "Currently it is 30.54 in Syracuse, NY and Flurries.\n",
      "Type place or quit: Miami, FL\n",
      "Currently it is 79.4 in Miami, FL and Clear.\n",
      "Type place or quit: New Orleans, LA\n",
      "Currently it is 77.48 in New Orleans, LA and Drizzle.\n",
      "Type place or quit: Mount Rushmore\n",
      "Currently it is 14.7 in Mount Rushmore and Clear.\n",
      "Type place or quit: Destiny USA\n",
      "Currently it is 30.3 in Destiny USA and Flurries.\n",
      "Type place or quit: White House\n",
      "Currently it is 63.2 in White House and Clear.\n",
      "Type place or quit: Washington, DC\n",
      "Currently it is 63.24 in Washington, DC and Clear.\n",
      "Type place or quit: quit\n"
     ]
    }
   ],
   "source": [
    "print(\"Enter a place and I'll give you the current weather.\")\n",
    "while True:\n",
    "    place = input(\"Type place or quit: \")\n",
    "    if place == 'quit':\n",
    "        break\n",
    "    coords = geocode_with_openstreetmaps(place)\n",
    "    weather = get_weather_using_darksky_api(coords['lat'], coords['lon'])\n",
    "    temp = weather['temperature']\n",
    "    summary = weather['summary']\n",
    "    print(f\"Currently it is {temp} in {place} and {summary}.\")"
   ]
  },
  {
   "cell_type": "code",
   "execution_count": null,
   "metadata": {},
   "outputs": [],
   "source": []
  }
 ],
 "metadata": {
  "kernelspec": {
   "display_name": "Python 3",
   "language": "python",
   "name": "python3"
  },
  "language_info": {
   "codemirror_mode": {
    "name": "ipython",
    "version": 3
   },
   "file_extension": ".py",
   "mimetype": "text/x-python",
   "name": "python",
   "nbconvert_exporter": "python",
   "pygments_lexer": "ipython3",
   "version": "3.7.3"
  }
 },
 "nbformat": 4,
 "nbformat_minor": 2
}
