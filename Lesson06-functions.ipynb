{
 "cells": [
  {
   "cell_type": "code",
   "execution_count": 7,
   "metadata": {},
   "outputs": [
    {
     "name": "stdout",
     "output_type": "stream",
     "text": [
      "Enter your name:mike\n"
     ]
    }
   ],
   "source": [
    "import random\n",
    "x = input(\"Enter your name:\")\n",
    "y = random.randint(1,10)\n",
    "z = int(\"55\")"
   ]
  },
  {
   "cell_type": "code",
   "execution_count": 8,
   "metadata": {},
   "outputs": [
    {
     "name": "stdout",
     "output_type": "stream",
     "text": [
      "mike 6 55\n"
     ]
    }
   ],
   "source": [
    "print(x,y,z)"
   ]
  },
  {
   "cell_type": "code",
   "execution_count": 9,
   "metadata": {},
   "outputs": [
    {
     "name": "stdout",
     "output_type": "stream",
     "text": [
      "Enter your password: mike\n",
      "invalid password\n"
     ]
    }
   ],
   "source": [
    "pw = input(\"Enter your password: \")\n",
    "if pw =='rhubarb':\n",
    "    print(\"password accepted\")\n",
    "else:\n",
    "    print(\"invalid password\")"
   ]
  },
  {
   "cell_type": "code",
   "execution_count": 10,
   "metadata": {},
   "outputs": [],
   "source": [
    "import getpass"
   ]
  },
  {
   "cell_type": "code",
   "execution_count": 11,
   "metadata": {},
   "outputs": [
    {
     "data": {
      "text/plain": [
       "['In',\n",
       " 'Out',\n",
       " '_',\n",
       " '_1',\n",
       " '_2',\n",
       " '_3',\n",
       " '_4',\n",
       " '__',\n",
       " '___',\n",
       " '__builtin__',\n",
       " '__builtins__',\n",
       " '__doc__',\n",
       " '__loader__',\n",
       " '__name__',\n",
       " '__package__',\n",
       " '__spec__',\n",
       " '_dh',\n",
       " '_i',\n",
       " '_i1',\n",
       " '_i10',\n",
       " '_i11',\n",
       " '_i2',\n",
       " '_i3',\n",
       " '_i4',\n",
       " '_i5',\n",
       " '_i6',\n",
       " '_i7',\n",
       " '_i8',\n",
       " '_i9',\n",
       " '_ih',\n",
       " '_ii',\n",
       " '_iii',\n",
       " '_oh',\n",
       " 'card',\n",
       " 'exit',\n",
       " 'get_ipython',\n",
       " 'getpass',\n",
       " 'name',\n",
       " 'pw',\n",
       " 'quit',\n",
       " 'random',\n",
       " 'x',\n",
       " 'y',\n",
       " 'z']"
      ]
     },
     "execution_count": 11,
     "metadata": {},
     "output_type": "execute_result"
    }
   ],
   "source": [
    "dir()"
   ]
  },
  {
   "cell_type": "code",
   "execution_count": 13,
   "metadata": {},
   "outputs": [
    {
     "ename": "TypeError",
     "evalue": "'module' object is not callable",
     "output_type": "error",
     "traceback": [
      "\u001b[0;31m---------------------------------------------------------------------------\u001b[0m",
      "\u001b[0;31mTypeError\u001b[0m                                 Traceback (most recent call last)",
      "\u001b[0;32m<ipython-input-13-95b6e9edb302>\u001b[0m in \u001b[0;36m<module>\u001b[0;34m\u001b[0m\n\u001b[0;32m----> 1\u001b[0;31m \u001b[0mgetpass\u001b[0m\u001b[0;34m(\u001b[0m\u001b[0;34m\"Enter Password: \"\u001b[0m\u001b[0;34m)\u001b[0m\u001b[0;34m\u001b[0m\u001b[0;34m\u001b[0m\u001b[0m\n\u001b[0m",
      "\u001b[0;31mTypeError\u001b[0m: 'module' object is not callable"
     ]
    }
   ],
   "source": [
    "getpass(\"Enter Password: \")"
   ]
  },
  {
   "cell_type": "code",
   "execution_count": 14,
   "metadata": {},
   "outputs": [
    {
     "data": {
      "text/plain": [
       "['GetPassWarning',\n",
       " '__all__',\n",
       " '__builtins__',\n",
       " '__cached__',\n",
       " '__doc__',\n",
       " '__file__',\n",
       " '__loader__',\n",
       " '__name__',\n",
       " '__package__',\n",
       " '__spec__',\n",
       " '_raw_input',\n",
       " 'contextlib',\n",
       " 'fallback_getpass',\n",
       " 'getpass',\n",
       " 'getuser',\n",
       " 'io',\n",
       " 'os',\n",
       " 'sys',\n",
       " 'termios',\n",
       " 'unix_getpass',\n",
       " 'warnings',\n",
       " 'win_getpass']"
      ]
     },
     "execution_count": 14,
     "metadata": {},
     "output_type": "execute_result"
    }
   ],
   "source": [
    "dir(getpass)"
   ]
  },
  {
   "cell_type": "code",
   "execution_count": 15,
   "metadata": {},
   "outputs": [
    {
     "name": "stdout",
     "output_type": "stream",
     "text": [
      "Help on method getpass in module ipykernel.kernelbase:\n",
      "\n",
      "getpass(prompt='', stream=None) method of ipykernel.ipkernel.IPythonKernel instance\n",
      "    Forward getpass to frontends\n",
      "    \n",
      "    Raises\n",
      "    ------\n",
      "    StdinNotImplentedError if active frontend doesn't support stdin.\n",
      "\n"
     ]
    }
   ],
   "source": [
    "help(getpass.getpass)"
   ]
  },
  {
   "cell_type": "code",
   "execution_count": 16,
   "metadata": {},
   "outputs": [
    {
     "name": "stdout",
     "output_type": "stream",
     "text": [
      "········\n"
     ]
    },
    {
     "data": {
      "text/plain": [
       "'mike45699st!'"
      ]
     },
     "execution_count": 16,
     "metadata": {},
     "output_type": "execute_result"
    }
   ],
   "source": [
    "getpass.getpass()"
   ]
  },
  {
   "cell_type": "code",
   "execution_count": 17,
   "metadata": {},
   "outputs": [
    {
     "name": "stdout",
     "output_type": "stream",
     "text": [
      "Enter your Pin: ········\n"
     ]
    },
    {
     "data": {
      "text/plain": [
       "'99340'"
      ]
     },
     "execution_count": 17,
     "metadata": {},
     "output_type": "execute_result"
    }
   ],
   "source": [
    "getpass.getpass(\"Enter your Pin: \")"
   ]
  },
  {
   "cell_type": "code",
   "execution_count": 18,
   "metadata": {},
   "outputs": [
    {
     "name": "stdout",
     "output_type": "stream",
     "text": [
      "Enter your password: ········\n",
      "invalid password\n"
     ]
    }
   ],
   "source": [
    "import getpass\n",
    "pw = getpass.getpass(\"Enter your password: \")\n",
    "if pw =='rhubarb':\n",
    "    print(\"password accepted\")\n",
    "else:\n",
    "    print(\"invalid password\")"
   ]
  },
  {
   "cell_type": "code",
   "execution_count": 19,
   "metadata": {},
   "outputs": [
    {
     "name": "stdout",
     "output_type": "stream",
     "text": [
      "Enter your Pin: ········\n",
      "4545\n"
     ]
    }
   ],
   "source": [
    "import getpass as gp\n",
    "pin = gp.getpass(\"Enter your Pin: \")\n",
    "print(pin)"
   ]
  },
  {
   "cell_type": "markdown",
   "metadata": {},
   "source": [
    "python package index https://pypi.org\n"
   ]
  },
  {
   "cell_type": "code",
   "execution_count": 20,
   "metadata": {},
   "outputs": [
    {
     "name": "stdout",
     "output_type": "stream",
     "text": [
      "Requirement already satisfied: colorama in /opt/conda/lib/python3.7/site-packages (0.4.1)\r\n"
     ]
    }
   ],
   "source": [
    "!pip install colorama"
   ]
  },
  {
   "cell_type": "code",
   "execution_count": 22,
   "metadata": {},
   "outputs": [],
   "source": [
    "import colorama"
   ]
  },
  {
   "cell_type": "code",
   "execution_count": 23,
   "metadata": {},
   "outputs": [
    {
     "data": {
      "text/plain": [
       "['In',\n",
       " 'Out',\n",
       " '_',\n",
       " '_1',\n",
       " '_11',\n",
       " '_14',\n",
       " '_16',\n",
       " '_17',\n",
       " '_2',\n",
       " '_21',\n",
       " '_3',\n",
       " '_4',\n",
       " '__',\n",
       " '___',\n",
       " '__builtin__',\n",
       " '__builtins__',\n",
       " '__doc__',\n",
       " '__loader__',\n",
       " '__name__',\n",
       " '__package__',\n",
       " '__spec__',\n",
       " '_dh',\n",
       " '_exit_code',\n",
       " '_i',\n",
       " '_i1',\n",
       " '_i10',\n",
       " '_i11',\n",
       " '_i12',\n",
       " '_i13',\n",
       " '_i14',\n",
       " '_i15',\n",
       " '_i16',\n",
       " '_i17',\n",
       " '_i18',\n",
       " '_i19',\n",
       " '_i2',\n",
       " '_i20',\n",
       " '_i21',\n",
       " '_i22',\n",
       " '_i23',\n",
       " '_i3',\n",
       " '_i4',\n",
       " '_i5',\n",
       " '_i6',\n",
       " '_i7',\n",
       " '_i8',\n",
       " '_i9',\n",
       " '_ih',\n",
       " '_ii',\n",
       " '_iii',\n",
       " '_oh',\n",
       " 'card',\n",
       " 'colorama',\n",
       " 'exit',\n",
       " 'get_ipython',\n",
       " 'getpass',\n",
       " 'gp',\n",
       " 'name',\n",
       " 'pin',\n",
       " 'pw',\n",
       " 'quit',\n",
       " 'random',\n",
       " 'x',\n",
       " 'y',\n",
       " 'z']"
      ]
     },
     "execution_count": 23,
     "metadata": {},
     "output_type": "execute_result"
    }
   ],
   "source": [
    "dir()"
   ]
  },
  {
   "cell_type": "code",
   "execution_count": 26,
   "metadata": {},
   "outputs": [
    {
     "name": "stdout",
     "output_type": "stream",
     "text": [
      "Help on AnsiFore in module colorama.ansi object:\n",
      "\n",
      "class AnsiFore(AnsiCodes)\n",
      " |  Method resolution order:\n",
      " |      AnsiFore\n",
      " |      AnsiCodes\n",
      " |      builtins.object\n",
      " |  \n",
      " |  Data and other attributes defined here:\n",
      " |  \n",
      " |  BLACK = 30\n",
      " |  \n",
      " |  BLUE = 34\n",
      " |  \n",
      " |  CYAN = 36\n",
      " |  \n",
      " |  GREEN = 32\n",
      " |  \n",
      " |  LIGHTBLACK_EX = 90\n",
      " |  \n",
      " |  LIGHTBLUE_EX = 94\n",
      " |  \n",
      " |  LIGHTCYAN_EX = 96\n",
      " |  \n",
      " |  LIGHTGREEN_EX = 92\n",
      " |  \n",
      " |  LIGHTMAGENTA_EX = 95\n",
      " |  \n",
      " |  LIGHTRED_EX = 91\n",
      " |  \n",
      " |  LIGHTWHITE_EX = 97\n",
      " |  \n",
      " |  LIGHTYELLOW_EX = 93\n",
      " |  \n",
      " |  MAGENTA = 35\n",
      " |  \n",
      " |  RED = 31\n",
      " |  \n",
      " |  RESET = 39\n",
      " |  \n",
      " |  WHITE = 37\n",
      " |  \n",
      " |  YELLOW = 33\n",
      " |  \n",
      " |  ----------------------------------------------------------------------\n",
      " |  Methods inherited from AnsiCodes:\n",
      " |  \n",
      " |  __init__(self)\n",
      " |      Initialize self.  See help(type(self)) for accurate signature.\n",
      " |  \n",
      " |  ----------------------------------------------------------------------\n",
      " |  Data descriptors inherited from AnsiCodes:\n",
      " |  \n",
      " |  __dict__\n",
      " |      dictionary for instance variables (if defined)\n",
      " |  \n",
      " |  __weakref__\n",
      " |      list of weak references to the object (if defined)\n",
      "\n"
     ]
    }
   ],
   "source": [
    "help(colorama.Fore)"
   ]
  },
  {
   "cell_type": "code",
   "execution_count": 29,
   "metadata": {},
   "outputs": [
    {
     "name": "stdout",
     "output_type": "stream",
     "text": [
      "\u001b[31msdjkafghasjkldhfjk\n"
     ]
    }
   ],
   "source": [
    "print(colorama.Fore.RED + \"sdjkafghasjkldhfjk\")"
   ]
  },
  {
   "cell_type": "code",
   "execution_count": 30,
   "metadata": {},
   "outputs": [
    {
     "name": "stdout",
     "output_type": "stream",
     "text": [
      "\u001b[37m\u001b[40mSDfashdfgj\n"
     ]
    }
   ],
   "source": [
    "print(colorama.Fore.WHITE + colorama.Back.BLACK + \"SDfashdfgj\")"
   ]
  },
  {
   "cell_type": "code",
   "execution_count": 31,
   "metadata": {},
   "outputs": [
    {
     "name": "stdout",
     "output_type": "stream",
     "text": [
      "\u001b[34m\u001b[43mGo Michgan\n"
     ]
    }
   ],
   "source": [
    "from colorama import Fore,Back\n",
    "print(Fore.BLUE+Back.YELLOW + \"Go Michgan\")"
   ]
  },
  {
   "cell_type": "code",
   "execution_count": 32,
   "metadata": {},
   "outputs": [],
   "source": [
    "def area_of_circle(radius):\n",
    "    area = 3.14159265*radius*radius\n",
    "    return area\n",
    "\n"
   ]
  },
  {
   "cell_type": "code",
   "execution_count": 35,
   "metadata": {},
   "outputs": [
    {
     "name": "stdout",
     "output_type": "stream",
     "text": [
      "Enter Radius: 2\n",
      "12.5663706\n"
     ]
    }
   ],
   "source": [
    "r = float(input(\"Enter Radius: \"))\n",
    "a = area_of_circle(r)\n",
    "print(a)"
   ]
  },
  {
   "cell_type": "code",
   "execution_count": 38,
   "metadata": {},
   "outputs": [
    {
     "name": "stdout",
     "output_type": "stream",
     "text": [
      "Enter a number: sghdaf\n",
      "\u001b[31mI said number you fool!\n"
     ]
    }
   ],
   "source": [
    "def print_error(text):\n",
    "    print(Fore.RED + text)\n",
    "    \n",
    "try:\n",
    "    num = int(input(\"Enter a number: \"))\n",
    "    print(num)\n",
    "except ValueError:\n",
    "    print_error(\"I said number you fool!\")\n",
    "    \n",
    "    "
   ]
  },
  {
   "cell_type": "code",
   "execution_count": 42,
   "metadata": {},
   "outputs": [
    {
     "name": "stdout",
     "output_type": "stream",
     "text": [
      "Enter a number, or quit to exit program: 4\n",
      "1 x 4 = 4\n",
      "2 x 4 = 8\n",
      "3 x 4 = 12\n",
      "4 x 4 = 16\n",
      "5 x 4 = 20\n",
      "6 x 4 = 24\n",
      "7 x 4 = 28\n",
      "8 x 4 = 32\n",
      "9 x 4 = 36\n",
      "10 x 4 = 40\n",
      "Enter a number, or quit to exit program: 12\n",
      "1 x 12 = 12\n",
      "2 x 12 = 24\n",
      "3 x 12 = 36\n",
      "4 x 12 = 48\n",
      "5 x 12 = 60\n",
      "6 x 12 = 72\n",
      "7 x 12 = 84\n",
      "8 x 12 = 96\n",
      "9 x 12 = 108\n",
      "10 x 12 = 120\n",
      "Enter a number, or quit to exit program: quit\n"
     ]
    }
   ],
   "source": [
    "def print_mult_table(num):\n",
    "    for i in range(1,11):\n",
    "        print(f\"{i} x {num} = {i*num}\")\n",
    "        \n",
    "\n",
    "while True:\n",
    "    text = input(\"Enter a number, or quit to exit program: \")\n",
    "    if text == 'quit': \n",
    "        break\n",
    "    num = int(text)\n",
    "    print_mult_table( num )\n"
   ]
  },
  {
   "cell_type": "code",
   "execution_count": 43,
   "metadata": {},
   "outputs": [
    {
     "name": "stdout",
     "output_type": "stream",
     "text": [
      "Requirement already satisfied: gtts in /opt/conda/lib/python3.7/site-packages (2.0.4)\n",
      "Requirement already satisfied: click in /opt/conda/lib/python3.7/site-packages (from gtts) (7.0)\n",
      "Requirement already satisfied: gtts-token>=1.1.3 in /opt/conda/lib/python3.7/site-packages (from gtts) (1.1.3)\n",
      "Requirement already satisfied: requests in /opt/conda/lib/python3.7/site-packages (from gtts) (2.22.0)\n",
      "Requirement already satisfied: six in /opt/conda/lib/python3.7/site-packages (from gtts) (1.12.0)\n",
      "Requirement already satisfied: beautifulsoup4 in /opt/conda/lib/python3.7/site-packages (from gtts) (4.8.1)\n",
      "Requirement already satisfied: idna<2.9,>=2.5 in /opt/conda/lib/python3.7/site-packages (from requests->gtts) (2.8)\n",
      "Requirement already satisfied: urllib3!=1.25.0,!=1.25.1,<1.26,>=1.21.1 in /opt/conda/lib/python3.7/site-packages (from requests->gtts) (1.24.2)\n",
      "Requirement already satisfied: certifi>=2017.4.17 in /opt/conda/lib/python3.7/site-packages (from requests->gtts) (2019.6.16)\n",
      "Requirement already satisfied: chardet<3.1.0,>=3.0.2 in /opt/conda/lib/python3.7/site-packages (from requests->gtts) (3.0.4)\n",
      "Requirement already satisfied: soupsieve>=1.2 in /opt/conda/lib/python3.7/site-packages (from beautifulsoup4->gtts) (1.9.4)\n"
     ]
    }
   ],
   "source": [
    "!pip install gtts"
   ]
  },
  {
   "cell_type": "code",
   "execution_count": 1,
   "metadata": {},
   "outputs": [
    {
     "name": "stdout",
     "output_type": "stream",
     "text": [
      "Enter something for me to say: mike\n"
     ]
    },
    {
     "data": {
      "text/html": [
       "\n",
       "                <audio  controls=\"controls\" autoplay=\"autoplay\">\n",
       "                    <source src=\"data:audio/mpeg;base64,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\" type=\"audio/mpeg\" />\n",
       "                    Your browser does not support the audio element.\n",
       "                </audio>\n",
       "              "
      ],
      "text/plain": [
       "<IPython.lib.display.Audio object>"
      ]
     },
     "execution_count": 1,
     "metadata": {},
     "output_type": "execute_result"
    }
   ],
   "source": [
    "from gtts import gTTS\n",
    "import IPython.display as ipd\n",
    "\n",
    "text = input(\"Enter something for me to say: \")\n",
    "speech = gTTS(text, 'fr')\n",
    "speech.save(\"speech.mp3\")\n",
    "ipd.Audio(\"speech.mp3\", autoplay=True)"
   ]
  },
  {
   "cell_type": "code",
   "execution_count": 27,
   "metadata": {},
   "outputs": [],
   "source": [
    "def speakIt(text):\n",
    "    '''\n",
    "    This will take text and speak it back you to in a british accent.\n",
    "    '''\n",
    "    print(text)\n",
    "    filename=\"speech.mp3\"\n",
    "    speech = gTTS(text,'en')\n",
    "    speech.save(filename)\n",
    "    ipd.display(ipd.Audio(filename,autoplay=True))"
   ]
  },
  {
   "cell_type": "code",
   "execution_count": 3,
   "metadata": {},
   "outputs": [
    {
     "name": "stdout",
     "output_type": "stream",
     "text": [
      "Help on function speakIt in module __main__:\n",
      "\n",
      "speakIt(text)\n",
      "    This will take text and speak it back you to in a british accent.\n",
      "\n"
     ]
    }
   ],
   "source": [
    "help(speakIt)"
   ]
  },
  {
   "cell_type": "code",
   "execution_count": 20,
   "metadata": {},
   "outputs": [
    {
     "data": {
      "text/html": [
       "\n",
       "                <audio  controls=\"controls\" autoplay=\"autoplay\">\n",
       "                    <source src=\"data:audio/mpeg;base64,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\" type=\"audio/mpeg\" />\n",
       "                    Your browser does not support the audio element.\n",
       "                </audio>\n",
       "              "
      ],
      "text/plain": [
       "<IPython.lib.display.Audio object>"
      ]
     },
     "metadata": {},
     "output_type": "display_data"
    },
    {
     "name": "stdout",
     "output_type": "stream",
     "text": [
      "billy-bob\n"
     ]
    },
    {
     "data": {
      "text/html": [
       "\n",
       "                <audio  controls=\"controls\" autoplay=\"autoplay\">\n",
       "                    <source src=\"data:audio/mpeg;base64,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\" type=\"audio/mpeg\" />\n",
       "                    Your browser does not support the audio element.\n",
       "                </audio>\n",
       "              "
      ],
      "text/plain": [
       "<IPython.lib.display.Audio object>"
      ]
     },
     "metadata": {},
     "output_type": "display_data"
    },
    {
     "data": {
      "text/html": [
       "\n",
       "                <audio  controls=\"controls\" autoplay=\"autoplay\">\n",
       "                    <source src=\"data:audio/mpeg;base64,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\" type=\"audio/mpeg\" />\n",
       "                    Your browser does not support the audio element.\n",
       "                </audio>\n",
       "              "
      ],
      "text/plain": [
       "<IPython.lib.display.Audio object>"
      ]
     },
     "metadata": {},
     "output_type": "display_data"
    }
   ],
   "source": [
    "speakIt(\"Enter your name\")\n",
    "name = input()\n",
    "speakIt(f\"Hello there, {name}, you good lookin dude\")\n",
    "time.sleep(2)\n",
    "speakIt(f\"Lovely weather\")\n"
   ]
  },
  {
   "cell_type": "code",
   "execution_count": 14,
   "metadata": {},
   "outputs": [
    {
     "name": "stdout",
     "output_type": "stream",
     "text": [
      "123\n",
      "456\n"
     ]
    }
   ],
   "source": [
    "import time\n",
    "print(\"123\")\n",
    "time.sleep(5)\n",
    "print(\"456\")\n"
   ]
  },
  {
   "cell_type": "code",
   "execution_count": null,
   "metadata": {},
   "outputs": [],
   "source": [
    "inputs: temperature, unit\n",
    "output temperature other unit\n",
    "example 100 C => 212 F\n",
    "32 F => 0 C\n",
    "\n",
    "input temp\n",
    "input units\n",
    "if units = 'F'\n",
    "   convert to C\n",
    "   print new temp\n",
    "else\n",
    "   convert to F\n",
    "   print new temp\n",
    "   \n",
    "  "
   ]
  },
  {
   "cell_type": "code",
   "execution_count": 28,
   "metadata": {},
   "outputs": [
    {
     "name": "stdout",
     "output_type": "stream",
     "text": [
      "Enter temperature: \n"
     ]
    },
    {
     "data": {
      "text/html": [
       "\n",
       "                <audio  controls=\"controls\" autoplay=\"autoplay\">\n",
       "                    <source src=\"data:audio/mpeg;base64,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\" type=\"audio/mpeg\" />\n",
       "                    Your browser does not support the audio element.\n",
       "                </audio>\n",
       "              "
      ],
      "text/plain": [
       "<IPython.lib.display.Audio object>"
      ]
     },
     "metadata": {},
     "output_type": "display_data"
    },
    {
     "name": "stdout",
     "output_type": "stream",
     "text": [
      "56\n",
      "What Units? Celcius or Fahrenheit C/F\n"
     ]
    },
    {
     "data": {
      "text/html": [
       "\n",
       "                <audio  controls=\"controls\" autoplay=\"autoplay\">\n",
       "                    <source src=\"data:audio/mpeg;base64,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\" type=\"audio/mpeg\" />\n",
       "                    Your browser does not support the audio element.\n",
       "                </audio>\n",
       "              "
      ],
      "text/plain": [
       "<IPython.lib.display.Audio object>"
      ]
     },
     "metadata": {},
     "output_type": "display_data"
    },
    {
     "name": "stdout",
     "output_type": "stream",
     "text": [
      "c\n",
      "This is 132.8 Fahrenheit\n"
     ]
    },
    {
     "data": {
      "text/html": [
       "\n",
       "                <audio  controls=\"controls\" autoplay=\"autoplay\">\n",
       "                    <source src=\"data:audio/mpeg;base64,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\" type=\"audio/mpeg\" />\n",
       "                    Your browser does not support the audio element.\n",
       "                </audio>\n",
       "              "
      ],
      "text/plain": [
       "<IPython.lib.display.Audio object>"
      ]
     },
     "metadata": {},
     "output_type": "display_data"
    }
   ],
   "source": [
    "def convert_to_c(temp):\n",
    "    new_temp = (temp-32) * (5/9)\n",
    "    return new_temp\n",
    "\n",
    "def convert_to_f(temp):\n",
    "    new_temp = (9/5) * temp + 32\n",
    "    return new_temp\n",
    "\n",
    "\n",
    "speakIt(\"Enter temperature: \")\n",
    "temp = float(input())\n",
    "speakIt(\"What Units? Celcius or Fahrenheit C/F\")\n",
    "unit = input()\n",
    "if unit == 'f':\n",
    "    new_temp = convert_to_c(temp)\n",
    "    speakIt(f\"That is {new_temp} Celcius\")\n",
    "else:\n",
    "    new_temp = convert_to_f(temp)\n",
    "    speakIt(f\"This is {new_temp} Fahrenheit\")"
   ]
  },
  {
   "cell_type": "code",
   "execution_count": 30,
   "metadata": {},
   "outputs": [
    {
     "name": "stdout",
     "output_type": "stream",
     "text": [
      "Help on class gTTS in module gtts.tts:\n",
      "\n",
      "class gTTS(builtins.object)\n",
      " |  gTTS(text, lang='en', slow=False, lang_check=True, pre_processor_funcs=[<function tone_marks at 0x7f26b9e1a378>, <function end_of_line at 0x7f26b8586d90>, <function abbreviations at 0x7f26b8586e18>, <function word_sub at 0x7f26b8586ea0>], tokenizer_func=<bound method Tokenizer.run of re.compile('(?<=\\\\?).|(?<=!).|(?<=？).|(?<=！).|(?<!\\\\.[a-z])\\\\. |(?<!\\\\.[a-z]), |(?<!\\\\d):|،|¿|：|\\\\[|‥|\\\\\\n|，|\\\\]|\\\\)|\\\\(|—|、|…|。|¡|;', re.IGNORECASE) from: [<function tone_marks at 0x7f26b8586f28>, <function period_comma at 0x7f26b852a048>, <function colon at 0x7f26b852a0d0>, <function other_punctuation at 0x7f26b852a158>]>)\n",
      " |  \n",
      " |  gTTS -- Google Text-to-Speech.\n",
      " |  \n",
      " |  An interface to Google Translate's Text-to-Speech API.\n",
      " |  \n",
      " |  Args:\n",
      " |      text (string): The text to be read.\n",
      " |      lang (string, optional): The language (IETF language tag) to\n",
      " |          read the text in. Defaults to 'en'.\n",
      " |      slow (bool, optional): Reads text more slowly. Defaults to ``False``.\n",
      " |      lang_check (bool, optional): Strictly enforce an existing ``lang``,\n",
      " |          to catch a language error early. If set to ``True``,\n",
      " |          a ``ValueError`` is raised if ``lang`` doesn't exist.\n",
      " |          Default is ``True``.\n",
      " |      pre_processor_funcs (list): A list of zero or more functions that are\n",
      " |          called to transform (pre-process) text before tokenizing. Those\n",
      " |          functions must take a string and return a string. Defaults to::\n",
      " |  \n",
      " |              [\n",
      " |                  pre_processors.tone_marks,\n",
      " |                  pre_processors.end_of_line,\n",
      " |                  pre_processors.abbreviations,\n",
      " |                  pre_processors.word_sub\n",
      " |              ]\n",
      " |  \n",
      " |      tokenizer_func (callable): A function that takes in a string and\n",
      " |          returns a list of string (tokens). Defaults to::\n",
      " |  \n",
      " |              Tokenizer([\n",
      " |                  tokenizer_cases.tone_marks,\n",
      " |                  tokenizer_cases.period_comma,\n",
      " |                  tokenizer_cases.colon,\n",
      " |                  tokenizer_cases.other_punctuation\n",
      " |              ]).run\n",
      " |  \n",
      " |  See Also:\n",
      " |      :doc:`Pre-processing and tokenizing <tokenizer>`\n",
      " |  \n",
      " |  Raises:\n",
      " |      AssertionError: When ``text`` is ``None`` or empty; when there's nothing\n",
      " |          left to speak after pre-precessing, tokenizing and cleaning.\n",
      " |      ValueError: When ``lang_check`` is ``True`` and ``lang`` is not supported.\n",
      " |      RuntimeError: When ``lang_check`` is ``True`` but there's an error loading\n",
      " |          the languages dictionnary.\n",
      " |  \n",
      " |  Methods defined here:\n",
      " |  \n",
      " |  __init__(self, text, lang='en', slow=False, lang_check=True, pre_processor_funcs=[<function tone_marks at 0x7f26b9e1a378>, <function end_of_line at 0x7f26b8586d90>, <function abbreviations at 0x7f26b8586e18>, <function word_sub at 0x7f26b8586ea0>], tokenizer_func=<bound method Tokenizer.run of re.compile('(?<=\\\\?).|(?<=!).|(?<=？).|(?<=！).|(?<!\\\\.[a-z])\\\\. |(?<!\\\\.[a-z]), |(?<!\\\\d):|،|¿|：|\\\\[|‥|\\\\\\n|，|\\\\]|\\\\)|\\\\(|—|、|…|。|¡|;', re.IGNORECASE) from: [<function tone_marks at 0x7f26b8586f28>, <function period_comma at 0x7f26b852a048>, <function colon at 0x7f26b852a0d0>, <function other_punctuation at 0x7f26b852a158>]>)\n",
      " |      Initialize self.  See help(type(self)) for accurate signature.\n",
      " |  \n",
      " |  save(self, savefile)\n",
      " |      Do the TTS API request and write result to file.\n",
      " |      \n",
      " |      Args:\n",
      " |          savefile (string): The path and file name to save the ``mp3`` to.\n",
      " |      \n",
      " |      Raises:\n",
      " |          :class:`gTTSError`: When there's an error with the API request.\n",
      " |  \n",
      " |  write_to_fp(self, fp)\n",
      " |      Do the TTS API request and write bytes to a file-like object.\n",
      " |      \n",
      " |      Args:\n",
      " |          fp (file object): Any file-like object to write the ``mp3`` to.\n",
      " |      \n",
      " |      Raises:\n",
      " |          :class:`gTTSError`: When there's an error with the API request.\n",
      " |          TypeError: When ``fp`` is not a file-like object that takes bytes.\n",
      " |  \n",
      " |  ----------------------------------------------------------------------\n",
      " |  Data descriptors defined here:\n",
      " |  \n",
      " |  __dict__\n",
      " |      dictionary for instance variables (if defined)\n",
      " |  \n",
      " |  __weakref__\n",
      " |      list of weak references to the object (if defined)\n",
      " |  \n",
      " |  ----------------------------------------------------------------------\n",
      " |  Data and other attributes defined here:\n",
      " |  \n",
      " |  GOOGLE_TTS_HEADERS = {'Referer': 'http://translate.google.com/', 'User...\n",
      " |  \n",
      " |  GOOGLE_TTS_MAX_CHARS = 100\n",
      " |  \n",
      " |  GOOGLE_TTS_URL = 'https://translate.google.com/translate_tts'\n",
      "\n"
     ]
    }
   ],
   "source": [
    "help(gTTS)"
   ]
  },
  {
   "cell_type": "code",
   "execution_count": null,
   "metadata": {},
   "outputs": [],
   "source": []
  }
 ],
 "metadata": {
  "kernelspec": {
   "display_name": "Python 3",
   "language": "python",
   "name": "python3"
  },
  "language_info": {
   "codemirror_mode": {
    "name": "ipython",
    "version": 3
   },
   "file_extension": ".py",
   "mimetype": "text/x-python",
   "name": "python",
   "nbconvert_exporter": "python",
   "pygments_lexer": "ipython3",
   "version": "3.7.3"
  }
 },
 "nbformat": 4,
 "nbformat_minor": 2
}
