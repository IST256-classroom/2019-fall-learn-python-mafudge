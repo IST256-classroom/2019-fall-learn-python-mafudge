{
 "cells": [
  {
   "cell_type": "code",
   "execution_count": 15,
   "metadata": {},
   "outputs": [
    {
     "name": "stdout",
     "output_type": "stream",
     "text": [
      "When pct('0.15') ==> 0.15 ACTUAL:  0.15\n",
      "When pct('15')   ==> 0.15 ACTUAL:  0.15\n",
      "When pct('15 %') ==> 0.15 ACTUAL:  0.15\n",
      "When money('$100') ==> 100.0 ACTUAL:  100.0\n"
     ]
    }
   ],
   "source": [
    "def pct(text):\n",
    "    '''\n",
    "    converts text to a percentage\n",
    "    \n",
    "    examples:\n",
    "      pct('15%') ==> 0.15\n",
    "      pct('15') ==> 0.15\n",
    "      pct('.15') ==> 0.15\n",
    "    '''\n",
    "    text = text.replace(\"%\",\"\")\n",
    "    number = float(text)\n",
    "    if number<1:\n",
    "        return number\n",
    "    else:\n",
    "        return number/100\n",
    "\n",
    "def money(text):\n",
    "    text = text.replace(\"$\",\"\")\n",
    "    return float(text)\n",
    "\n",
    "if __name__=='__main__':\n",
    "    print(\"When pct('0.15') ==> 0.15 ACTUAL: \", pct('0.15'))\n",
    "    print(\"When pct('15')   ==> 0.15 ACTUAL: \", pct('15'))\n",
    "    print(\"When pct('15 %') ==> 0.15 ACTUAL: \", pct('15 %'))\n",
    "    print(\"When money('$100') ==> 100.0 ACTUAL: \", money('$100'))"
   ]
  },
  {
   "cell_type": "code",
   "execution_count": null,
   "metadata": {},
   "outputs": [],
   "source": []
  }
 ],
 "metadata": {
  "kernelspec": {
   "display_name": "Python 3",
   "language": "python",
   "name": "python3"
  },
  "language_info": {
   "codemirror_mode": {
    "name": "ipython",
    "version": 3
   },
   "file_extension": ".py",
   "mimetype": "text/x-python",
   "name": "python",
   "nbconvert_exporter": "python",
   "pygments_lexer": "ipython3",
   "version": "3.7.3"
  }
 },
 "nbformat": 4,
 "nbformat_minor": 2
}
