{
 "cells": [
  {
   "cell_type": "code",
   "execution_count": 19,
   "metadata": {},
   "outputs": [
    {
     "data": {
      "text/plain": [
       "'{\"data\":{\"platformInfo\":{\"platformSlug\":\"origin\",\"platformUserId\":\"MLGSN1PE360KUSH\",\"platformUserHandle\":\"MLGSN1PE360KUSH\",\"platformUserIdentifier\":\"MLGSN1PE360KUSH\",\"avatarUrl\":\"https://secure.download.dm.origin.com/production/avatar/prod/userAvatar/21083972/208x208.JPEG\",\"additionalParameters\":null},\"userInfo\":{\"isPremium\":false,\"isVerified\":false,\"isInfluencer\":false,\"countryCode\":null,\"customAvatarUrl\":null,\"socialAccounts\":[]},\"metadata\":{\"currentSeason\":2,\"activeLegend\":\"legend_6\",\"activeLegendName\":\"Gibraltar\"},\"segments\":[{\"type\":\"overview\",\"attributes\":{},\"metadata\":{\"name\":\"Lifetime\"},\"expiryDate\":\"2019-12-05T20:31:58.590111Z\",\"stats\":{\"level\":{\"rank\":null,\"percentile\":59.0,\"displayName\":\"Level\",\"displayCategory\":\"Combat\",\"category\":null,\"metadata\":{},\"value\":59.0,\"displayValue\":\"59\",\"displayType\":\"Unspecified\"},\"seasonWins\":{\"rank\":null,\"percentile\":80.0,\"displayName\":\"Season 1 Wins\",\"displayCategory\":\"Game\",\"category\":null,\"metadata\":{},\"value\":1.0,\"displayValue\":\"1\",\"displayType\":\"Unspecified\"},\"seasonDamage\":{\"rank\":null,\"percentile\":86.0,\"displayName\":\"Season 1 Damage\",\"displayCategory\":\"Game\",\"category\":null,\"metadata\":{},\"value\":4889.0,\"displayValue\":\"4,889\",\"displayType\":\"Unspecified\"},\"rankScore\":{\"rank\":null,\"percentile\":null,\"displayName\":\"Rank Score\",\"displayCategory\":\"Game\",\"category\":null,\"metadata\":{\"iconUrl\":\"https://trackercdn.com/cdn/apex.tracker.gg/ranks/bronze4.png\"},\"value\":0.0,\"displayValue\":\"0\",\"displayType\":\"Unspecified\"}}},{\"type\":\"legend\",\"attributes\":{\"id\":\"legend_6\"},\"metadata\":{\"name\":\"Gibraltar\",\"imageUrl\":\"https://trackercdn.com/cdn/apex.tracker.gg/legends/gibraltar-tile.png\",\"tallImageUrl\":\"https://trackercdn.com/cdn/apex.tracker.gg/legends/gibraltar-tall.png\",\"bgImageUrl\":\"https://trackercdn.com/cdn/apex.tracker.gg/legends/gibraltar-concept-bg-small.jpg\",\"isActive\":true},\"expiryDate\":\"2019-12-05T20:31:58.590111Z\",\"stats\":{\"bombardmentKills\":{\"rank\":null,\"percentile\":96.7,\"displayName\":\"Bombardment: Kills\",\"displayCategory\":\"Game\",\"category\":null,\"metadata\":{},\"value\":2.0,\"displayValue\":\"2\",\"displayType\":\"Unspecified\"},\"seasonWins\":{\"rank\":null,\"percentile\":88.0,\"displayName\":\"Season 1 Wins\",\"displayCategory\":\"Game\",\"category\":null,\"metadata\":{},\"value\":1.0,\"displayValue\":\"1\",\"displayType\":\"Unspecified\"},\"seasonDamage\":{\"rank\":null,\"percentile\":91.0,\"displayName\":\"Season 1 Damage\",\"displayCategory\":\"Game\",\"category\":null,\"metadata\":{},\"value\":4889.0,\"displayValue\":\"4,889\",\"displayType\":\"Unspecified\"}}}],\"availableSegments\":[{\"type\":\"legend\",\"attributes\":{}}],\"expiryDate\":\"2019-12-05T20:31:58.590111Z\"}}'"
      ]
     },
     "execution_count": 19,
     "metadata": {},
     "output_type": "execute_result"
    }
   ],
   "source": [
    "import requests\n",
    "API_key = 'b805814a-9d2f-431d-8b0d-c0196fb3c845'\n",
    "\n",
    "header = {'TRN-Api-Key' : API_key }\n",
    "url = 'https://public-api.tracker.gg/v2/apex/standard/profile/origin/MLGSN1PE360KUSH'\n",
    "response = requests.get(url , headers = header)\n",
    "response\n",
    "response.text"
   ]
  },
  {
   "cell_type": "code",
   "execution_count": null,
   "metadata": {},
   "outputs": [],
   "source": []
  }
 ],
 "metadata": {
  "kernelspec": {
   "display_name": "Python 3",
   "language": "python",
   "name": "python3"
  },
  "language_info": {
   "codemirror_mode": {
    "name": "ipython",
    "version": 3
   },
   "file_extension": ".py",
   "mimetype": "text/x-python",
   "name": "python",
   "nbconvert_exporter": "python",
   "pygments_lexer": "ipython3",
   "version": "3.7.3"
  }
 },
 "nbformat": 4,
 "nbformat_minor": 2
}
