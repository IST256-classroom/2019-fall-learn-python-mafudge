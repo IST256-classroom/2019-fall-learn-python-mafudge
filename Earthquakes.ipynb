{
 "cells": [
  {
   "cell_type": "code",
   "execution_count": 4,
   "metadata": {},
   "outputs": [
    {
     "name": "stdout",
     "output_type": "stream",
     "text": [
      "24km NNW of Searles Valley, CA magnitude 1.03\n",
      "7km E of Pahala, Hawaii magnitude 2.61\n",
      "12km SW of Searles Valley, CA magnitude 1.1\n",
      "30km WNW of Anchor Point, Alaska magnitude 1.8\n",
      "44km SSE of Redoubt Volcano, Alaska magnitude 2.3\n",
      "20km S of Trona, CA magnitude 1.52\n",
      "7km E of Pahala, Hawaii magnitude 2.5\n",
      "12km ENE of Pahala, Hawaii magnitude 2.39\n",
      "41km S of Palaiochora, Greece magnitude 4.2\n",
      "22km ESE of Little Lake, CA magnitude 1.1\n"
     ]
    }
   ],
   "source": [
    "import requests\n",
    "quake_url = 'https://earthquake.usgs.gov/earthquakes/feed/v1.0/summary/1.0_week.geojson'\n",
    "response = requests.get(quake_url)\n",
    "quakes = response.json()\n",
    "for quake in quakes['features'][:10]:\n",
    "    location = quake['properties']['place']\n",
    "    mag = quake['properties']['mag']\n",
    "    print(f\"{location} magnitude {mag}\")"
   ]
  },
  {
   "cell_type": "code",
   "execution_count": null,
   "metadata": {},
   "outputs": [],
   "source": []
  }
 ],
 "metadata": {
  "kernelspec": {
   "display_name": "Python 3",
   "language": "python",
   "name": "python3"
  },
  "language_info": {
   "codemirror_mode": {
    "name": "ipython",
    "version": 3
   },
   "file_extension": ".py",
   "mimetype": "text/x-python",
   "name": "python",
   "nbconvert_exporter": "python",
   "pygments_lexer": "ipython3",
   "version": "3.7.3"
  }
 },
 "nbformat": 4,
 "nbformat_minor": 2
}
