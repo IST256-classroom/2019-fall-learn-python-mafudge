{
 "cells": [
  {
   "cell_type": "code",
   "execution_count": 9,
   "metadata": {},
   "outputs": [
    {
     "name": "stdout",
     "output_type": "stream",
     "text": [
      "{'https': 'http://gw.bigdata.syr.edu:3128', 'no': 'localhost,127.0.0.1,10.43.0.0/16,10.30.24.0/24', 'http': 'http://gw.bigdata.syr.edu:3128'}\n",
      "\n",
      "Proxy test to https... 200\n",
      "\n",
      "Same request without explicit proxy... 200\n",
      "\n",
      "Pandas read_html test...\n",
      "            Dates                     Topic  \\\n",
      "12  11/17 - 11/23  Lesson 12: Data Analysis   \n",
      "\n",
      "                                Details / What’s Due?  \n",
      "12  P1: Project Proposals DueFri Nov 22 (In Blackb...  \n",
      "\n",
      "Pandas read_csv test...\n",
      "   1978                          Superman  DC  7.3  95    84    7465343  2.34  \\\n",
      "5  1987  Superman IV: The Quest for Peace  DC  3.6  10  23.0  5683122.0  3.91   \n",
      "\n",
      "   3190317.521  222584545  \n",
      "5  1453483.887  242288918  \n"
     ]
    }
   ],
   "source": [
    "import pandas as pd\n",
    "import requests\n",
    "import urllib\n",
    "\n",
    "myproxies = urllib.request.getproxies()\n",
    "print(myproxies)\n",
    "\n",
    "url = 'https://httpbin.org/status/200'\n",
    "response = requests.get(url, proxies = myproxies)\n",
    "print (\"\\nProxy test to https...\", response.status_code)\n",
    "\n",
    "url = 'https://httpbin.org/status/200'\n",
    "response = requests.get(url)\n",
    "print (\"\\nSame request without explicit proxy...\", response.status_code)\n",
    "\n",
    "data = pd.read_html('https://ist256.github.io')\n",
    "item = data[0].sample()\n",
    "print(\"\\nPandas read_html test...\")\n",
    "print(item)\n",
    "\n",
    "data = pd.read_csv(\"https://raw.githubusercontent.com/mafudge/datasets/master/superhero/superhero-movie-dataset-1978-2012.csv\")\n",
    "item = data.sample()\n",
    "print(\"\\nPandas read_csv test...\")\n",
    "print(item)"
   ]
  },
  {
   "cell_type": "code",
   "execution_count": 10,
   "metadata": {},
   "outputs": [
    {
     "name": "stdout",
     "output_type": "stream",
     "text": [
      "Requirement already satisfied: pandas in /opt/conda/lib/python3.7/site-packages (0.25.1)\r\n",
      "Requirement already satisfied: numpy>=1.13.3 in /opt/conda/lib/python3.7/site-packages (from pandas) (1.17.1)\r\n",
      "Requirement already satisfied: pytz>=2017.2 in /opt/conda/lib/python3.7/site-packages (from pandas) (2019.2)\r\n",
      "Requirement already satisfied: python-dateutil>=2.6.1 in /opt/conda/lib/python3.7/site-packages (from pandas) (2.8.0)\r\n",
      "Requirement already satisfied: six>=1.5 in /opt/conda/lib/python3.7/site-packages (from python-dateutil>=2.6.1->pandas) (1.12.0)\r\n"
     ]
    }
   ],
   "source": [
    "!pip install pandas"
   ]
  },
  {
   "cell_type": "code",
   "execution_count": 11,
   "metadata": {},
   "outputs": [
    {
     "name": "stdout",
     "output_type": "stream",
     "text": [
      "--2019-09-02 16:20:36--  https://ist256.github.io/\n",
      "Resolving gw.bigdata.syr.edu (gw.bigdata.syr.edu)... 128.230.247.144\n",
      "Connecting to gw.bigdata.syr.edu (gw.bigdata.syr.edu)|128.230.247.144|:3128... connected.\n",
      "Proxy request sent, awaiting response... 200 OK\n",
      "Length: 10004 (9.8K) [text/html]\n",
      "Saving to: ‘index.html’\n",
      "\n",
      "index.html          100%[===================>]   9.77K  --.-KB/s    in 0.001s  \n",
      "\n",
      "2019-09-02 16:20:36 (13.4 MB/s) - ‘index.html’ saved [10004/10004]\n",
      "\n"
     ]
    }
   ],
   "source": [
    "!wget https://ist256.github.io"
   ]
  },
  {
   "cell_type": "code",
   "execution_count": null,
   "metadata": {},
   "outputs": [],
   "source": []
  }
 ],
 "metadata": {
  "kernelspec": {
   "display_name": "Python 3",
   "language": "python",
   "name": "python3"
  },
  "language_info": {
   "codemirror_mode": {
    "name": "ipython",
    "version": 3
   },
   "file_extension": ".py",
   "mimetype": "text/x-python",
   "name": "python",
   "nbconvert_exporter": "python",
   "pygments_lexer": "ipython3",
   "version": "3.7.3"
  }
 },
 "nbformat": 4,
 "nbformat_minor": 2
}
