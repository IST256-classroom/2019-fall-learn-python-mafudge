{
 "cells": [
  {
   "cell_type": "code",
   "execution_count": 1,
   "metadata": {},
   "outputs": [],
   "source": [
    "%defaultDatasource jdbc:sqlserver://ist-cs-dw1.ad.syr.edu;user=jadeuser;password=SU2orange!;database=jade"
   ]
  },
  {
   "cell_type": "code",
   "execution_count": 2,
   "metadata": {},
   "outputs": [],
   "source": [
    "%datasources jade=jdbc:sqlserver://ist-cs-dw1.ad.syr.edu;user=jadeuser;password=SU2orange!;database=jade "
   ]
  },
  {
   "cell_type": "code",
   "execution_count": 3,
   "metadata": {},
   "outputs": [],
   "source": [
    "%datasources mem=jdbc:h2:mem:db"
   ]
  },
  {
   "cell_type": "code",
   "execution_count": 5,
   "metadata": {},
   "outputs": [
    {
     "data": {
      "application/vnd.jupyter.widget-view+json": {
       "model_id": "bc5ca137-2edc-43e7-9f73-4a4e87446400",
       "version_major": 2,
       "version_minor": 0
      },
      "method": "display_data"
     },
     "metadata": {},
     "output_type": "display_data"
    }
   ],
   "source": [
    "SELECT * from INFORMATION_SCHEMA.TABLES;"
   ]
  },
  {
   "cell_type": "code",
   "execution_count": 6,
   "metadata": {},
   "outputs": [
    {
     "name": "stdout",
     "output_type": "stream",
     "text": [
      "yoyo\n"
     ]
    }
   ],
   "source": [
    "%%python\n",
    "print(\"yoyo\")\n"
   ]
  },
  {
   "cell_type": "code",
   "execution_count": 16,
   "metadata": {},
   "outputs": [
    {
     "name": "stdout",
     "output_type": "stream",
     "text": [
      "Available magic commands:\n",
      "%%javascript \n",
      "%%js \n",
      "%%html \n",
      "%%HTML \n",
      "%%bash \n",
      "%lsmagic \n",
      "%classpath add jar <jar path>\n",
      "%classpath add mvn <group name version>\n",
      "%%classpath add mvn <group name version>\n",
      "%classpath add dynamic \n",
      "%classpath config resolver <repoName repoUrl>\n",
      "%classpath reset \n",
      "%classpath \n",
      "%import static <classpath>\n",
      "%import <classpath>\n",
      "%unimport <classpath>\n",
      "%time \n",
      "%%time \n",
      "%timeit \n",
      "%%timeit \n",
      "%load_magic \n",
      "%%kernel \n",
      "%%python \n",
      "%%clojure \n",
      "%%groovy \n",
      "%%java \n",
      "%%kotlin \n",
      "%%scala \n",
      "%%sql \n",
      "%%async \n",
      "%datasources <jdbc:[dbEngine]:[subsubprotocol:][databaseName]>\n",
      "%defaultDatasource <sourceName=jdbc:[dbEngine]:[subsubprotocol:][databaseName]>\n"
     ]
    }
   ],
   "source": [
    "%lsmagic"
   ]
  },
  {
   "cell_type": "code",
   "execution_count": null,
   "metadata": {},
   "outputs": [],
   "source": []
  }
 ],
 "metadata": {
  "kernelspec": {
   "display_name": "SQL",
   "language": "SQL",
   "name": "sql"
  },
  "language_info": {
   "codemirror_mode": "sql",
   "file_extension": ".sql",
   "mimetype": "",
   "name": "SQL",
   "nbconverter_exporter": "",
   "version": ""
  },
  "toc": {
   "base_numbering": 1,
   "nav_menu": {
    "height": "50px",
    "width": "252px"
   },
   "number_sections": false,
   "sideBar": false,
   "skip_h1_title": false,
   "title_cell": "Table of Contents",
   "title_sidebar": "Contents",
   "toc_cell": false,
   "toc_position": {},
   "toc_section_display": false,
   "toc_window_display": false
  }
 },
 "nbformat": 4,
 "nbformat_minor": 4
}
